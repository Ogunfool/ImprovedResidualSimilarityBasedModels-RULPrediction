{
  "nbformat": 4,
  "nbformat_minor": 0,
  "metadata": {
    "colab": {
      "provenance": [],
      "collapsed_sections": [
        "p3TMLfmy3ccX"
      ],
      "authorship_tag": "ABX9TyPTtjNJIY5Sgnvn7CIjLHyo",
      "include_colab_link": true
    },
    "kernelspec": {
      "name": "python3",
      "display_name": "Python 3"
    },
    "language_info": {
      "name": "python"
    }
  },
  "cells": [
    {
      "cell_type": "markdown",
      "metadata": {
        "id": "view-in-github",
        "colab_type": "text"
      },
      "source": [
        "<a href=\"https://colab.research.google.com/github/Ogunfool/Prognostics-Strategies-An-Aero-engine-Use-case/blob/main/Unsupervised_Learning_Health_Index_Construction_Models.ipynb\" target=\"_parent\"><img src=\"https://colab.research.google.com/assets/colab-badge.svg\" alt=\"Open In Colab\"/></a>"
      ]
    },
    {
      "cell_type": "markdown",
      "source": [
        "This notebook contains different unsupervised learning models used for HI construction. It includes, PCA, Autoencoder and Convolutional autoencoder.\n",
        "This work is still in progress, more sophisticated unsupervised HI construction models will are currently being worked upon."
      ],
      "metadata": {
        "id": "O10PQBFMG3bN"
      }
    },
    {
      "cell_type": "markdown",
      "source": [
        "Import Libraries"
      ],
      "metadata": {
        "id": "EAL2YwgEwbjd"
      }
    },
    {
      "cell_type": "code",
      "source": [
        "import numpy as np\n",
        "import pandas as pd\n",
        "import matplotlib.pyplot as plt\n",
        "import scipy\n",
        "import math\n",
        "from sklearn.cluster import KMeans\n",
        "from sklearn.model_selection import train_test_split \n",
        "from sklearn.metrics import mean_absolute_error, mean_squared_error, mean_absolute_percentage_error, r2_score\n",
        "from sklearn.decomposition import PCA\n",
        "import seaborn as sns"
      ],
      "metadata": {
        "id": "L51gDtlPowvB"
      },
      "execution_count": null,
      "outputs": []
    },
    {
      "cell_type": "code",
      "execution_count": null,
      "metadata": {
        "id": "vmW7SgcfzLO8"
      },
      "outputs": [],
      "source": [
        "import tensorflow as tf\n",
        "from tensorflow import keras\n",
        "from keras.models import Model, Sequential\n",
        "from keras import losses, optimizers, layers, activations, regularizers\n",
        "from keras.layers import Dense, Conv1D, LSTM, GRU, Input, Concatenate, MaxPool1D, Flatten, GlobalMaxPool1D\n",
        "from keras.losses import SparseCategoricalCrossentropy, categorical_crossentropy"
      ]
    },
    {
      "cell_type": "code",
      "source": [
        "from tensorflow.keras.optimizers import Adam, RMSprop, Adagrad, SGD\n",
        "from keras.callbacks import ModelCheckpoint, EarlyStopping"
      ],
      "metadata": {
        "id": "tZfcDDB12DDs"
      },
      "execution_count": null,
      "outputs": []
    },
    {
      "cell_type": "code",
      "execution_count": null,
      "metadata": {
        "id": "qjThQcYqA6zN"
      },
      "outputs": [],
      "source": [
        "# !pip install -q -U keras-tuner\n",
        "import keras_tuner as kt"
      ]
    },
    {
      "cell_type": "code",
      "source": [
        "!pip install git+https://github.com/tensorflow/docs"
      ],
      "metadata": {
        "id": "kMRjc0UJo_iI"
      },
      "execution_count": null,
      "outputs": []
    },
    {
      "cell_type": "code",
      "source": [
        "import tensorflow_docs as tfdocs\n",
        "import tensorflow_docs.modeling\n",
        "import tensorflow_docs.plots"
      ],
      "metadata": {
        "id": "OshwNxI8pGLE"
      },
      "execution_count": null,
      "outputs": []
    },
    {
      "cell_type": "code",
      "source": [
        "# Next, we'll confirm that we can connect to the GPU with tensorflow:\n",
        "device_name = tf.test.gpu_device_name()\n",
        "if device_name != '/device:GPU:0':\n",
        "  raise SystemError('GPU device not found')\n",
        "print('Found GPU at: {}'.format(device_name))"
      ],
      "metadata": {
        "colab": {
          "base_uri": "https://localhost:8080/"
        },
        "id": "2GTXIN1z12VY",
        "outputId": "8a1c6d8c-7bbe-4143-c01e-9b120de62bed"
      },
      "execution_count": null,
      "outputs": [
        {
          "output_type": "stream",
          "name": "stdout",
          "text": [
            "Found GPU at: /device:GPU:0\n"
          ]
        }
      ]
    },
    {
      "cell_type": "markdown",
      "source": [
        "Helper Functions"
      ],
      "metadata": {
        "id": "WQuNt9Km8Bbj"
      }
    },
    {
      "cell_type": "code",
      "source": [
        "np.set_printoptions(suppress=True, linewidth=100, precision=2)"
      ],
      "metadata": {
        "id": "MnQh6z29olxC"
      },
      "execution_count": null,
      "outputs": []
    },
    {
      "cell_type": "code",
      "source": [
        "# Checkpoints - List and npy files\n",
        "# np.save() - Saves a single array in a binary numpy format\n",
        "def checkpoints(filename, checkpoint_data):\n",
        "  np.save(filename, checkpoint_data)\n",
        "  checkpoint_variable = np.load(filename + '.npy') #Load so that we always have an on-hand version of the checkpoint\n",
        "  return(checkpoint_variable)\n",
        "\n",
        "# List Checkpoint\n",
        "def list_checkpoints(filename, checkpoint_data):\n",
        "  np.save(filename, checkpoint_data, allow_pickle=True)\n",
        "  checkpoint_variable = np.load(filename + '.npy', allow_pickle=True) #Load so that we always have an on-hand version of the checkpoint\n",
        "  return(checkpoint_variable)"
      ],
      "metadata": {
        "id": "n7i_27BpmXIF"
      },
      "execution_count": null,
      "outputs": []
    },
    {
      "cell_type": "markdown",
      "source": [
        "Load Data"
      ],
      "metadata": {
        "id": "00T-W-RfwfiX"
      }
    },
    {
      "cell_type": "code",
      "source": [
        "from google.colab import files\n",
        "uploaded = files.upload()"
      ],
      "metadata": {
        "id": "HW-VrJguBvYJ"
      },
      "execution_count": null,
      "outputs": []
    },
    {
      "cell_type": "markdown",
      "source": [
        "Selected Feature Matrix (x_train and x_val) and Original health indices (y_train and y_val)."
      ],
      "metadata": {
        "id": "lENLBbdXJstx"
      }
    },
    {
      "cell_type": "code",
      "source": [
        "x_train = np.load('/content/x-train.npy')\n",
        "y_train = np.load('/content/y-train.npy')\n",
        "x_val = np.load('/content/x-val.npy')\n",
        "y_val = np.load('/content/y-val.npy')"
      ],
      "metadata": {
        "id": "2H9qv7wv8Ji6"
      },
      "execution_count": null,
      "outputs": []
    },
    {
      "cell_type": "markdown",
      "source": [
        "3D Data conversion of the selected feature matrix - \"See HI prediction models\" for how data is prepared. "
      ],
      "metadata": {
        "id": "dOEBgtmGKD6D"
      }
    },
    {
      "cell_type": "code",
      "source": [
        "NTD_x_train = np.load('/content/NTD-X-train.npy')\n",
        "NTD_x_val = np.load('/content/NTD-X-val.npy')"
      ],
      "metadata": {
        "id": "fFwHYAstweLs"
      },
      "execution_count": null,
      "outputs": []
    },
    {
      "cell_type": "markdown",
      "source": [
        "Master dataframe that contains all HI's from different models up till now. "
      ],
      "metadata": {
        "id": "mS6QfiSvKyEA"
      }
    },
    {
      "cell_type": "code",
      "source": [
        "# Load HItrain and HIval back in\n",
        "HItrain_df = pd.read_csv('/content/HItrain-df (1)')\n",
        "HIval_df = pd.read_csv('/content/HIval-df (1)')"
      ],
      "metadata": {
        "id": "QmAMCJFoIs_E"
      },
      "execution_count": null,
      "outputs": []
    },
    {
      "cell_type": "code",
      "source": [
        "HItrain_df.head()"
      ],
      "metadata": {
        "id": "sasGa2bzrbLo"
      },
      "execution_count": null,
      "outputs": []
    },
    {
      "cell_type": "code",
      "source": [
        "# Take median of the maxcycle of nearest residuals or neighbours\n",
        "# Instances maxcycle_df\n",
        "max_cycle_df = HItrain_df.groupby('Unit_id').max()['Time'].reset_index().rename(columns={'Time':'max_cycle'})\n",
        "max_cycle_df.head()"
      ],
      "metadata": {
        "id": "blbVWO5yWl_z"
      },
      "execution_count": null,
      "outputs": []
    },
    {
      "cell_type": "code",
      "source": [
        "max_cycle_df.set_index('Unit_id',inplace=True)\n",
        "max_cycle_df.head()"
      ],
      "metadata": {
        "colab": {
          "base_uri": "https://localhost:8080/",
          "height": 237
        },
        "id": "p6yWKgvvgI4x",
        "outputId": "b6adcef5-774b-434a-ad05-f3962a355f92"
      },
      "execution_count": null,
      "outputs": [
        {
          "output_type": "execute_result",
          "data": {
            "text/plain": [
              "         max_cycle\n",
              "Unit_id           \n",
              "1              149\n",
              "2              269\n",
              "3              206\n",
              "4              235\n",
              "5              154"
            ],
            "text/html": [
              "\n",
              "  <div id=\"df-04e16453-8a46-4cd3-989c-9894ce3a7f26\">\n",
              "    <div class=\"colab-df-container\">\n",
              "      <div>\n",
              "<style scoped>\n",
              "    .dataframe tbody tr th:only-of-type {\n",
              "        vertical-align: middle;\n",
              "    }\n",
              "\n",
              "    .dataframe tbody tr th {\n",
              "        vertical-align: top;\n",
              "    }\n",
              "\n",
              "    .dataframe thead th {\n",
              "        text-align: right;\n",
              "    }\n",
              "</style>\n",
              "<table border=\"1\" class=\"dataframe\">\n",
              "  <thead>\n",
              "    <tr style=\"text-align: right;\">\n",
              "      <th></th>\n",
              "      <th>max_cycle</th>\n",
              "    </tr>\n",
              "    <tr>\n",
              "      <th>Unit_id</th>\n",
              "      <th></th>\n",
              "    </tr>\n",
              "  </thead>\n",
              "  <tbody>\n",
              "    <tr>\n",
              "      <th>1</th>\n",
              "      <td>149</td>\n",
              "    </tr>\n",
              "    <tr>\n",
              "      <th>2</th>\n",
              "      <td>269</td>\n",
              "    </tr>\n",
              "    <tr>\n",
              "      <th>3</th>\n",
              "      <td>206</td>\n",
              "    </tr>\n",
              "    <tr>\n",
              "      <th>4</th>\n",
              "      <td>235</td>\n",
              "    </tr>\n",
              "    <tr>\n",
              "      <th>5</th>\n",
              "      <td>154</td>\n",
              "    </tr>\n",
              "  </tbody>\n",
              "</table>\n",
              "</div>\n",
              "      <button class=\"colab-df-convert\" onclick=\"convertToInteractive('df-04e16453-8a46-4cd3-989c-9894ce3a7f26')\"\n",
              "              title=\"Convert this dataframe to an interactive table.\"\n",
              "              style=\"display:none;\">\n",
              "        \n",
              "  <svg xmlns=\"http://www.w3.org/2000/svg\" height=\"24px\"viewBox=\"0 0 24 24\"\n",
              "       width=\"24px\">\n",
              "    <path d=\"M0 0h24v24H0V0z\" fill=\"none\"/>\n",
              "    <path d=\"M18.56 5.44l.94 2.06.94-2.06 2.06-.94-2.06-.94-.94-2.06-.94 2.06-2.06.94zm-11 1L8.5 8.5l.94-2.06 2.06-.94-2.06-.94L8.5 2.5l-.94 2.06-2.06.94zm10 10l.94 2.06.94-2.06 2.06-.94-2.06-.94-.94-2.06-.94 2.06-2.06.94z\"/><path d=\"M17.41 7.96l-1.37-1.37c-.4-.4-.92-.59-1.43-.59-.52 0-1.04.2-1.43.59L10.3 9.45l-7.72 7.72c-.78.78-.78 2.05 0 2.83L4 21.41c.39.39.9.59 1.41.59.51 0 1.02-.2 1.41-.59l7.78-7.78 2.81-2.81c.8-.78.8-2.07 0-2.86zM5.41 20L4 18.59l7.72-7.72 1.47 1.35L5.41 20z\"/>\n",
              "  </svg>\n",
              "      </button>\n",
              "      \n",
              "  <style>\n",
              "    .colab-df-container {\n",
              "      display:flex;\n",
              "      flex-wrap:wrap;\n",
              "      gap: 12px;\n",
              "    }\n",
              "\n",
              "    .colab-df-convert {\n",
              "      background-color: #E8F0FE;\n",
              "      border: none;\n",
              "      border-radius: 50%;\n",
              "      cursor: pointer;\n",
              "      display: none;\n",
              "      fill: #1967D2;\n",
              "      height: 32px;\n",
              "      padding: 0 0 0 0;\n",
              "      width: 32px;\n",
              "    }\n",
              "\n",
              "    .colab-df-convert:hover {\n",
              "      background-color: #E2EBFA;\n",
              "      box-shadow: 0px 1px 2px rgba(60, 64, 67, 0.3), 0px 1px 3px 1px rgba(60, 64, 67, 0.15);\n",
              "      fill: #174EA6;\n",
              "    }\n",
              "\n",
              "    [theme=dark] .colab-df-convert {\n",
              "      background-color: #3B4455;\n",
              "      fill: #D2E3FC;\n",
              "    }\n",
              "\n",
              "    [theme=dark] .colab-df-convert:hover {\n",
              "      background-color: #434B5C;\n",
              "      box-shadow: 0px 1px 3px 1px rgba(0, 0, 0, 0.15);\n",
              "      filter: drop-shadow(0px 1px 2px rgba(0, 0, 0, 0.3));\n",
              "      fill: #FFFFFF;\n",
              "    }\n",
              "  </style>\n",
              "\n",
              "      <script>\n",
              "        const buttonEl =\n",
              "          document.querySelector('#df-04e16453-8a46-4cd3-989c-9894ce3a7f26 button.colab-df-convert');\n",
              "        buttonEl.style.display =\n",
              "          google.colab.kernel.accessAllowed ? 'block' : 'none';\n",
              "\n",
              "        async function convertToInteractive(key) {\n",
              "          const element = document.querySelector('#df-04e16453-8a46-4cd3-989c-9894ce3a7f26');\n",
              "          const dataTable =\n",
              "            await google.colab.kernel.invokeFunction('convertToInteractive',\n",
              "                                                     [key], {});\n",
              "          if (!dataTable) return;\n",
              "\n",
              "          const docLinkHtml = 'Like what you see? Visit the ' +\n",
              "            '<a target=\"_blank\" href=https://colab.research.google.com/notebooks/data_table.ipynb>data table notebook</a>'\n",
              "            + ' to learn more about interactive tables.';\n",
              "          element.innerHTML = '';\n",
              "          dataTable['output_type'] = 'display_data';\n",
              "          await google.colab.output.renderOutput(dataTable, element);\n",
              "          const docLink = document.createElement('div');\n",
              "          docLink.innerHTML = docLinkHtml;\n",
              "          element.appendChild(docLink);\n",
              "        }\n",
              "      </script>\n",
              "    </div>\n",
              "  </div>\n",
              "  "
            ]
          },
          "metadata": {},
          "execution_count": 46
        }
      ]
    },
    {
      "cell_type": "markdown",
      "source": [
        "# Health index constructor with PCA."
      ],
      "metadata": {
        "id": "p3TMLfmy3ccX"
      }
    },
    {
      "cell_type": "markdown",
      "source": [
        "Retain about 80% variance."
      ],
      "metadata": {
        "id": "0T6sM8jbHppV"
      }
    },
    {
      "cell_type": "code",
      "source": [
        "from scipy.linalg import norm\n",
        "# Reconstruction error\n",
        "def reconsruction_error(original, reconstructed):\n",
        "  return norm((original-reconstructed))"
      ],
      "metadata": {
        "id": "06fPYPFOvsLc"
      },
      "execution_count": null,
      "outputs": []
    },
    {
      "cell_type": "code",
      "source": [
        "# Sklearn PCA automatically does mean normalization but not standardization (i.e doesn't divide by std - determine if this is required for your dataset yourself)\n",
        "pca = PCA()\n",
        "pca.fit(x_train)\n",
        "orig_transform = pca.transform(x_train)\n",
        "orig_reconstruction = pca.inverse_transform(orig_transform)  # Transform back to original shape \n",
        "error_1 = reconsruction_error(original=x_train, reconstructed=orig_reconstruction)"
      ],
      "metadata": {
        "id": "TGHyB1_FHnSr"
      },
      "execution_count": null,
      "outputs": []
    },
    {
      "cell_type": "code",
      "source": [
        "orig_transform.shape"
      ],
      "metadata": {
        "colab": {
          "base_uri": "https://localhost:8080/"
        },
        "outputId": "d3b130d1-94fd-4e3a-cd54-e1dadbfaa649",
        "id": "vWn-1vPnHnSr"
      },
      "execution_count": null,
      "outputs": [
        {
          "output_type": "execute_result",
          "data": {
            "text/plain": [
              "(41456, 8)"
            ]
          },
          "metadata": {},
          "execution_count": 15
        }
      ]
    },
    {
      "cell_type": "code",
      "source": [
        "error_1"
      ],
      "metadata": {
        "colab": {
          "base_uri": "https://localhost:8080/"
        },
        "outputId": "991c12fa-14bd-4717-90cb-7d917bf4d6e8",
        "id": "K0R8kTv7HnSr"
      },
      "execution_count": null,
      "outputs": [
        {
          "output_type": "execute_result",
          "data": {
            "text/plain": [
              "4.397569313483957e-13"
            ]
          },
          "metadata": {},
          "execution_count": 16
        }
      ]
    },
    {
      "cell_type": "code",
      "source": [
        "out_data_transform = pca.transform(x_val) # Use the n_components to transform validation data\n",
        "out_data_reconstruction = pca.inverse_transform(out_data_transform)  # Transform back to original shape \n",
        "error_2 = reconsruction_error(original=x_val, reconstructed=out_data_reconstruction)"
      ],
      "metadata": {
        "id": "tgRxzt7CHnSs"
      },
      "execution_count": null,
      "outputs": []
    },
    {
      "cell_type": "code",
      "source": [
        "out_data_transform.shape"
      ],
      "metadata": {
        "colab": {
          "base_uri": "https://localhost:8080/"
        },
        "outputId": "45a98556-8d32-401e-e71c-ddec98f78a94",
        "id": "fcN7aLzpHnSs"
      },
      "execution_count": null,
      "outputs": [
        {
          "output_type": "execute_result",
          "data": {
            "text/plain": [
              "(12303, 8)"
            ]
          },
          "metadata": {},
          "execution_count": 18
        }
      ]
    },
    {
      "cell_type": "code",
      "source": [
        "error_2"
      ],
      "metadata": {
        "colab": {
          "base_uri": "https://localhost:8080/"
        },
        "outputId": "ee76a4b3-bb62-4718-c9f4-68a19be2b3f4",
        "id": "u8csYHylHnSs"
      },
      "execution_count": null,
      "outputs": [
        {
          "output_type": "execute_result",
          "data": {
            "text/plain": [
              "2.4550701580408806e-13"
            ]
          },
          "metadata": {},
          "execution_count": 19
        }
      ]
    },
    {
      "cell_type": "code",
      "source": [
        "# K components was chosen such that 99% of the variance was retained\n",
        "print(pca.explained_variance_ratio_.round(2),pca.explained_variance_.round(2))"
      ],
      "metadata": {
        "colab": {
          "base_uri": "https://localhost:8080/"
        },
        "outputId": "aa06d71f-3d0f-45f4-d43e-53a65f74c428",
        "id": "YubfEJYLHnSs"
      },
      "execution_count": null,
      "outputs": [
        {
          "output_type": "stream",
          "name": "stdout",
          "text": [
            "[0.55 0.22 0.06 0.06 0.05 0.03 0.03 0.01] [4.4  1.76 0.48 0.46 0.38 0.27 0.2  0.05]\n"
          ]
        }
      ]
    },
    {
      "cell_type": "code",
      "source": [
        "# Eigen Values\n",
        "contr = pca.explained_variance_ratio_.round(2)"
      ],
      "metadata": {
        "id": "HI8dbkE_edki"
      },
      "execution_count": null,
      "outputs": []
    },
    {
      "cell_type": "markdown",
      "source": [
        "Let's create multi-dimensional PCA dataframes"
      ],
      "metadata": {
        "id": "2ShN2Na5PN_b"
      }
    },
    {
      "cell_type": "code",
      "source": [
        "PCA_HItrain_df = HItrain_df[['Unit_id','Time','ori_HI','Maxcycle','RUL']]\n",
        "PCA_HItrain_df.head()"
      ],
      "metadata": {
        "id": "sCC2ygvoPNeS"
      },
      "execution_count": null,
      "outputs": []
    },
    {
      "cell_type": "code",
      "source": [
        "PCA_HIval_df = HIval_df[['Unit_id','Time','ori_HI','Maxcycle','RUL']]\n",
        "PCA_HIval_df.head()"
      ],
      "metadata": {
        "id": "AAEkFHX_QJDU"
      },
      "execution_count": null,
      "outputs": []
    },
    {
      "cell_type": "code",
      "source": [
        "PCA_HItrain_df.loc[:,('HI_PCA1','HI_PCA2','HI_PCA3')] = orig_transform[:,:3]\n",
        "PCA_HItrain_df.head()"
      ],
      "metadata": {
        "id": "3CxTc4zAQXBK"
      },
      "execution_count": null,
      "outputs": []
    },
    {
      "cell_type": "code",
      "source": [
        "PCA_HIval_df.loc[:,('HI_PCA1','HI_PCA2','HI_PCA3')] = out_data_transform[:,:3]\n",
        "PCA_HIval_df.head()"
      ],
      "metadata": {
        "colab": {
          "base_uri": "https://localhost:8080/",
          "height": 206
        },
        "id": "XCFhmRSWSGCW",
        "outputId": "e0a6ef6e-a539-444d-b659-254b36c8a658"
      },
      "execution_count": null,
      "outputs": [
        {
          "output_type": "execute_result",
          "data": {
            "text/plain": [
              "   Unit_id  Time    ori_HI  Maxcycle  RUL   HI_PCA1   HI_PCA2   HI_PCA3\n",
              "0      201     1  1.000000       191  190 -3.938672  0.349602  0.160232\n",
              "1      201     2  0.994737       191  189 -2.332807 -0.573674 -0.667446\n",
              "2      201     3  0.989474       191  188 -2.512478 -0.037324 -0.308155\n",
              "3      201     4  0.984211       191  187 -2.180602 -0.386085  0.215751\n",
              "4      201     5  0.978947       191  186 -3.277371  0.223124 -0.253054"
            ],
            "text/html": [
              "\n",
              "  <div id=\"df-0f5bd883-451f-4471-8ae6-0266ac096868\">\n",
              "    <div class=\"colab-df-container\">\n",
              "      <div>\n",
              "<style scoped>\n",
              "    .dataframe tbody tr th:only-of-type {\n",
              "        vertical-align: middle;\n",
              "    }\n",
              "\n",
              "    .dataframe tbody tr th {\n",
              "        vertical-align: top;\n",
              "    }\n",
              "\n",
              "    .dataframe thead th {\n",
              "        text-align: right;\n",
              "    }\n",
              "</style>\n",
              "<table border=\"1\" class=\"dataframe\">\n",
              "  <thead>\n",
              "    <tr style=\"text-align: right;\">\n",
              "      <th></th>\n",
              "      <th>Unit_id</th>\n",
              "      <th>Time</th>\n",
              "      <th>ori_HI</th>\n",
              "      <th>Maxcycle</th>\n",
              "      <th>RUL</th>\n",
              "      <th>HI_PCA1</th>\n",
              "      <th>HI_PCA2</th>\n",
              "      <th>HI_PCA3</th>\n",
              "    </tr>\n",
              "  </thead>\n",
              "  <tbody>\n",
              "    <tr>\n",
              "      <th>0</th>\n",
              "      <td>201</td>\n",
              "      <td>1</td>\n",
              "      <td>1.000000</td>\n",
              "      <td>191</td>\n",
              "      <td>190</td>\n",
              "      <td>-3.938672</td>\n",
              "      <td>0.349602</td>\n",
              "      <td>0.160232</td>\n",
              "    </tr>\n",
              "    <tr>\n",
              "      <th>1</th>\n",
              "      <td>201</td>\n",
              "      <td>2</td>\n",
              "      <td>0.994737</td>\n",
              "      <td>191</td>\n",
              "      <td>189</td>\n",
              "      <td>-2.332807</td>\n",
              "      <td>-0.573674</td>\n",
              "      <td>-0.667446</td>\n",
              "    </tr>\n",
              "    <tr>\n",
              "      <th>2</th>\n",
              "      <td>201</td>\n",
              "      <td>3</td>\n",
              "      <td>0.989474</td>\n",
              "      <td>191</td>\n",
              "      <td>188</td>\n",
              "      <td>-2.512478</td>\n",
              "      <td>-0.037324</td>\n",
              "      <td>-0.308155</td>\n",
              "    </tr>\n",
              "    <tr>\n",
              "      <th>3</th>\n",
              "      <td>201</td>\n",
              "      <td>4</td>\n",
              "      <td>0.984211</td>\n",
              "      <td>191</td>\n",
              "      <td>187</td>\n",
              "      <td>-2.180602</td>\n",
              "      <td>-0.386085</td>\n",
              "      <td>0.215751</td>\n",
              "    </tr>\n",
              "    <tr>\n",
              "      <th>4</th>\n",
              "      <td>201</td>\n",
              "      <td>5</td>\n",
              "      <td>0.978947</td>\n",
              "      <td>191</td>\n",
              "      <td>186</td>\n",
              "      <td>-3.277371</td>\n",
              "      <td>0.223124</td>\n",
              "      <td>-0.253054</td>\n",
              "    </tr>\n",
              "  </tbody>\n",
              "</table>\n",
              "</div>\n",
              "      <button class=\"colab-df-convert\" onclick=\"convertToInteractive('df-0f5bd883-451f-4471-8ae6-0266ac096868')\"\n",
              "              title=\"Convert this dataframe to an interactive table.\"\n",
              "              style=\"display:none;\">\n",
              "        \n",
              "  <svg xmlns=\"http://www.w3.org/2000/svg\" height=\"24px\"viewBox=\"0 0 24 24\"\n",
              "       width=\"24px\">\n",
              "    <path d=\"M0 0h24v24H0V0z\" fill=\"none\"/>\n",
              "    <path d=\"M18.56 5.44l.94 2.06.94-2.06 2.06-.94-2.06-.94-.94-2.06-.94 2.06-2.06.94zm-11 1L8.5 8.5l.94-2.06 2.06-.94-2.06-.94L8.5 2.5l-.94 2.06-2.06.94zm10 10l.94 2.06.94-2.06 2.06-.94-2.06-.94-.94-2.06-.94 2.06-2.06.94z\"/><path d=\"M17.41 7.96l-1.37-1.37c-.4-.4-.92-.59-1.43-.59-.52 0-1.04.2-1.43.59L10.3 9.45l-7.72 7.72c-.78.78-.78 2.05 0 2.83L4 21.41c.39.39.9.59 1.41.59.51 0 1.02-.2 1.41-.59l7.78-7.78 2.81-2.81c.8-.78.8-2.07 0-2.86zM5.41 20L4 18.59l7.72-7.72 1.47 1.35L5.41 20z\"/>\n",
              "  </svg>\n",
              "      </button>\n",
              "      \n",
              "  <style>\n",
              "    .colab-df-container {\n",
              "      display:flex;\n",
              "      flex-wrap:wrap;\n",
              "      gap: 12px;\n",
              "    }\n",
              "\n",
              "    .colab-df-convert {\n",
              "      background-color: #E8F0FE;\n",
              "      border: none;\n",
              "      border-radius: 50%;\n",
              "      cursor: pointer;\n",
              "      display: none;\n",
              "      fill: #1967D2;\n",
              "      height: 32px;\n",
              "      padding: 0 0 0 0;\n",
              "      width: 32px;\n",
              "    }\n",
              "\n",
              "    .colab-df-convert:hover {\n",
              "      background-color: #E2EBFA;\n",
              "      box-shadow: 0px 1px 2px rgba(60, 64, 67, 0.3), 0px 1px 3px 1px rgba(60, 64, 67, 0.15);\n",
              "      fill: #174EA6;\n",
              "    }\n",
              "\n",
              "    [theme=dark] .colab-df-convert {\n",
              "      background-color: #3B4455;\n",
              "      fill: #D2E3FC;\n",
              "    }\n",
              "\n",
              "    [theme=dark] .colab-df-convert:hover {\n",
              "      background-color: #434B5C;\n",
              "      box-shadow: 0px 1px 3px 1px rgba(0, 0, 0, 0.15);\n",
              "      filter: drop-shadow(0px 1px 2px rgba(0, 0, 0, 0.3));\n",
              "      fill: #FFFFFF;\n",
              "    }\n",
              "  </style>\n",
              "\n",
              "      <script>\n",
              "        const buttonEl =\n",
              "          document.querySelector('#df-0f5bd883-451f-4471-8ae6-0266ac096868 button.colab-df-convert');\n",
              "        buttonEl.style.display =\n",
              "          google.colab.kernel.accessAllowed ? 'block' : 'none';\n",
              "\n",
              "        async function convertToInteractive(key) {\n",
              "          const element = document.querySelector('#df-0f5bd883-451f-4471-8ae6-0266ac096868');\n",
              "          const dataTable =\n",
              "            await google.colab.kernel.invokeFunction('convertToInteractive',\n",
              "                                                     [key], {});\n",
              "          if (!dataTable) return;\n",
              "\n",
              "          const docLinkHtml = 'Like what you see? Visit the ' +\n",
              "            '<a target=\"_blank\" href=https://colab.research.google.com/notebooks/data_table.ipynb>data table notebook</a>'\n",
              "            + ' to learn more about interactive tables.';\n",
              "          element.innerHTML = '';\n",
              "          dataTable['output_type'] = 'display_data';\n",
              "          await google.colab.output.renderOutput(dataTable, element);\n",
              "          const docLink = document.createElement('div');\n",
              "          docLink.innerHTML = docLinkHtml;\n",
              "          element.appendChild(docLink);\n",
              "        }\n",
              "      </script>\n",
              "    </div>\n",
              "  </div>\n",
              "  "
            ]
          },
          "metadata": {},
          "execution_count": 30
        }
      ]
    },
    {
      "cell_type": "markdown",
      "source": [
        "PCA Fusion: Linear combination weighted by the percentage of contribution of the chosen principal components - Simply, dot product of the PCA elements (matrix) and the contribution (vector)."
      ],
      "metadata": {
        "id": "04eUc3vmbY66"
      }
    },
    {
      "cell_type": "code",
      "source": [
        "# from 8 dim to 3 dim\n",
        "HI_PCA_B = np.dot(orig_transform[:,:2], contr[:2])\n",
        "HI_PCA_B.shape"
      ],
      "metadata": {
        "colab": {
          "base_uri": "https://localhost:8080/"
        },
        "id": "dKEKbLz0ceg9",
        "outputId": "a43cf544-e7d7-4262-d0d1-8576badf4d6a"
      },
      "execution_count": null,
      "outputs": [
        {
          "output_type": "execute_result",
          "data": {
            "text/plain": [
              "(41456,)"
            ]
          },
          "metadata": {},
          "execution_count": 132
        }
      ]
    },
    {
      "cell_type": "code",
      "source": [
        "plt.plot(HI_PCA_B[:500]);"
      ],
      "metadata": {
        "id": "ZHLmRTPGfKi7"
      },
      "execution_count": null,
      "outputs": []
    },
    {
      "cell_type": "markdown",
      "source": [
        "Feature scaling: Scale the HI to range [0-1] - z = x-min/max-min"
      ],
      "metadata": {
        "id": "x76uwapEfgyo"
      }
    },
    {
      "cell_type": "code",
      "source": [
        "min_x = min(HI_PCA_B)\n",
        "max_x = max(HI_PCA_B)\n",
        "range = max_x - min_x\n",
        "HI_z = (HI_PCA_B - min_x)/(range)"
      ],
      "metadata": {
        "id": "CNNXx5WMfX1_"
      },
      "execution_count": null,
      "outputs": []
    },
    {
      "cell_type": "code",
      "source": [
        "HI_PCA_B"
      ],
      "metadata": {
        "colab": {
          "base_uri": "https://localhost:8080/"
        },
        "id": "eePYZXkbgyug",
        "outputId": "eaf18a90-8531-4c80-b1e6-e0b44180b60b"
      },
      "execution_count": null,
      "outputs": [
        {
          "output_type": "execute_result",
          "data": {
            "text/plain": [
              "array([-0.84, -0.71, -0.51, ...,  2.77,  3.61,  3.59])"
            ]
          },
          "metadata": {},
          "execution_count": 134
        }
      ]
    },
    {
      "cell_type": "code",
      "source": [
        "HI_z"
      ],
      "metadata": {
        "colab": {
          "base_uri": "https://localhost:8080/"
        },
        "id": "fovA9jl1g16f",
        "outputId": "2753748f-55be-4cb5-f1ca-39072b30d743"
      },
      "execution_count": null,
      "outputs": [
        {
          "output_type": "execute_result",
          "data": {
            "text/plain": [
              "(41456,)"
            ]
          },
          "metadata": {},
          "execution_count": 64
        }
      ]
    },
    {
      "cell_type": "code",
      "source": [
        "arr_z = np.array([HI_PCA_B,HI_z]).T\n",
        "arr_z.shape"
      ],
      "metadata": {
        "colab": {
          "base_uri": "https://localhost:8080/"
        },
        "id": "gqxFNa3BiyPC",
        "outputId": "9e117dbe-9490-4187-8d17-953dc45bbd9d"
      },
      "execution_count": null,
      "outputs": [
        {
          "output_type": "execute_result",
          "data": {
            "text/plain": [
              "(41456, 2)"
            ]
          },
          "metadata": {},
          "execution_count": 135
        }
      ]
    },
    {
      "cell_type": "code",
      "source": [
        "HItrain_df.loc[:,['HI_PCA_L','HI_PCA_Lz']] = arr_z\n",
        "PCA_HItrain_df.loc[:,['HI_PCA_L','HI_PCA_Lz']] = arr_z\n",
        "PCA_HItrain_df.head()"
      ],
      "metadata": {
        "id": "57TTFq4GhDAN"
      },
      "execution_count": null,
      "outputs": []
    },
    {
      "cell_type": "markdown",
      "source": [
        "Validation data feature fusion."
      ],
      "metadata": {
        "id": "0BH0wKTLjaxk"
      }
    },
    {
      "cell_type": "code",
      "source": [
        "# from 8 dim to 3 dim\n",
        "HI_PCA_B = np.dot(out_data_transform[:,:2], contr[:2])\n",
        "HI_PCA_B.shape"
      ],
      "metadata": {
        "colab": {
          "base_uri": "https://localhost:8080/"
        },
        "outputId": "124cbfcf-8944-4e81-c2cc-31542df142ec",
        "id": "hflAFxpTjogJ"
      },
      "execution_count": null,
      "outputs": [
        {
          "output_type": "execute_result",
          "data": {
            "text/plain": [
              "(12303,)"
            ]
          },
          "metadata": {},
          "execution_count": 137
        }
      ]
    },
    {
      "cell_type": "code",
      "source": [
        "plt.plot(HI_PCA_B[:500]);"
      ],
      "metadata": {
        "id": "NIz1ZAyMjogK"
      },
      "execution_count": null,
      "outputs": []
    },
    {
      "cell_type": "markdown",
      "source": [
        "Feature scaling: Scale the HI to range [0-1] - z = x-min/max-min"
      ],
      "metadata": {
        "id": "th5uS_HKjogK"
      }
    },
    {
      "cell_type": "code",
      "source": [
        "min_x = min(HI_PCA_B)\n",
        "max_x = max(HI_PCA_B)\n",
        "range = max_x - min_x\n",
        "HI_z = (HI_PCA_B - min_x)/(range)"
      ],
      "metadata": {
        "id": "U3M4Gix-jogK"
      },
      "execution_count": null,
      "outputs": []
    },
    {
      "cell_type": "code",
      "source": [
        "arr_z = np.array([HI_PCA_B,HI_z]).T\n",
        "arr_z.shape"
      ],
      "metadata": {
        "colab": {
          "base_uri": "https://localhost:8080/"
        },
        "outputId": "1bda7b26-87ba-4647-9ded-134a60afd7be",
        "id": "Klq71aBijogK"
      },
      "execution_count": null,
      "outputs": [
        {
          "output_type": "execute_result",
          "data": {
            "text/plain": [
              "(12303, 2)"
            ]
          },
          "metadata": {},
          "execution_count": 140
        }
      ]
    },
    {
      "cell_type": "code",
      "source": [
        "HIval_df.loc[:,['HI_PCA_L','HI_PCA_Lz']] = arr_z\n",
        "PCA_HIval_df.loc[:,['HI_PCA_L','HI_PCA_Lz']] = arr_z\n",
        "PCA_HIval_df.head()"
      ],
      "metadata": {
        "colab": {
          "base_uri": "https://localhost:8080/",
          "height": 206
        },
        "id": "oMXl_D4njogL",
        "outputId": "392ddcbe-d5da-4a5f-8fc3-6937c5a904cb"
      },
      "execution_count": null,
      "outputs": [
        {
          "output_type": "execute_result",
          "data": {
            "text/plain": [
              "   Unit_id  Time    ori_HI  Maxcycle  RUL   HI_PCA1   HI_PCA2   HI_PCA3  \\\n",
              "0      201     1  1.000000       191  190 -3.938672  0.349602  0.160232   \n",
              "1      201     2  0.994737       191  189 -2.332807 -0.573674 -0.667446   \n",
              "2      201     3  0.989474       191  188 -2.512478 -0.037324 -0.308155   \n",
              "3      201     4  0.984211       191  187 -2.180602 -0.386085  0.215751   \n",
              "4      201     5  0.978947       191  186 -3.277371  0.223124 -0.253054   \n",
              "\n",
              "   HI_PCA_L  HI_PCA_Lz  \n",
              "0 -2.089357   0.013486  \n",
              "1 -1.409252   0.090581  \n",
              "2 -1.390074   0.092755  \n",
              "3 -1.284270   0.104748  \n",
              "4 -1.753467   0.051562  "
            ],
            "text/html": [
              "\n",
              "  <div id=\"df-591c7051-49ad-4a48-b40c-d6f5b7c493a5\">\n",
              "    <div class=\"colab-df-container\">\n",
              "      <div>\n",
              "<style scoped>\n",
              "    .dataframe tbody tr th:only-of-type {\n",
              "        vertical-align: middle;\n",
              "    }\n",
              "\n",
              "    .dataframe tbody tr th {\n",
              "        vertical-align: top;\n",
              "    }\n",
              "\n",
              "    .dataframe thead th {\n",
              "        text-align: right;\n",
              "    }\n",
              "</style>\n",
              "<table border=\"1\" class=\"dataframe\">\n",
              "  <thead>\n",
              "    <tr style=\"text-align: right;\">\n",
              "      <th></th>\n",
              "      <th>Unit_id</th>\n",
              "      <th>Time</th>\n",
              "      <th>ori_HI</th>\n",
              "      <th>Maxcycle</th>\n",
              "      <th>RUL</th>\n",
              "      <th>HI_PCA1</th>\n",
              "      <th>HI_PCA2</th>\n",
              "      <th>HI_PCA3</th>\n",
              "      <th>HI_PCA_L</th>\n",
              "      <th>HI_PCA_Lz</th>\n",
              "    </tr>\n",
              "  </thead>\n",
              "  <tbody>\n",
              "    <tr>\n",
              "      <th>0</th>\n",
              "      <td>201</td>\n",
              "      <td>1</td>\n",
              "      <td>1.000000</td>\n",
              "      <td>191</td>\n",
              "      <td>190</td>\n",
              "      <td>-3.938672</td>\n",
              "      <td>0.349602</td>\n",
              "      <td>0.160232</td>\n",
              "      <td>-2.089357</td>\n",
              "      <td>0.013486</td>\n",
              "    </tr>\n",
              "    <tr>\n",
              "      <th>1</th>\n",
              "      <td>201</td>\n",
              "      <td>2</td>\n",
              "      <td>0.994737</td>\n",
              "      <td>191</td>\n",
              "      <td>189</td>\n",
              "      <td>-2.332807</td>\n",
              "      <td>-0.573674</td>\n",
              "      <td>-0.667446</td>\n",
              "      <td>-1.409252</td>\n",
              "      <td>0.090581</td>\n",
              "    </tr>\n",
              "    <tr>\n",
              "      <th>2</th>\n",
              "      <td>201</td>\n",
              "      <td>3</td>\n",
              "      <td>0.989474</td>\n",
              "      <td>191</td>\n",
              "      <td>188</td>\n",
              "      <td>-2.512478</td>\n",
              "      <td>-0.037324</td>\n",
              "      <td>-0.308155</td>\n",
              "      <td>-1.390074</td>\n",
              "      <td>0.092755</td>\n",
              "    </tr>\n",
              "    <tr>\n",
              "      <th>3</th>\n",
              "      <td>201</td>\n",
              "      <td>4</td>\n",
              "      <td>0.984211</td>\n",
              "      <td>191</td>\n",
              "      <td>187</td>\n",
              "      <td>-2.180602</td>\n",
              "      <td>-0.386085</td>\n",
              "      <td>0.215751</td>\n",
              "      <td>-1.284270</td>\n",
              "      <td>0.104748</td>\n",
              "    </tr>\n",
              "    <tr>\n",
              "      <th>4</th>\n",
              "      <td>201</td>\n",
              "      <td>5</td>\n",
              "      <td>0.978947</td>\n",
              "      <td>191</td>\n",
              "      <td>186</td>\n",
              "      <td>-3.277371</td>\n",
              "      <td>0.223124</td>\n",
              "      <td>-0.253054</td>\n",
              "      <td>-1.753467</td>\n",
              "      <td>0.051562</td>\n",
              "    </tr>\n",
              "  </tbody>\n",
              "</table>\n",
              "</div>\n",
              "      <button class=\"colab-df-convert\" onclick=\"convertToInteractive('df-591c7051-49ad-4a48-b40c-d6f5b7c493a5')\"\n",
              "              title=\"Convert this dataframe to an interactive table.\"\n",
              "              style=\"display:none;\">\n",
              "        \n",
              "  <svg xmlns=\"http://www.w3.org/2000/svg\" height=\"24px\"viewBox=\"0 0 24 24\"\n",
              "       width=\"24px\">\n",
              "    <path d=\"M0 0h24v24H0V0z\" fill=\"none\"/>\n",
              "    <path d=\"M18.56 5.44l.94 2.06.94-2.06 2.06-.94-2.06-.94-.94-2.06-.94 2.06-2.06.94zm-11 1L8.5 8.5l.94-2.06 2.06-.94-2.06-.94L8.5 2.5l-.94 2.06-2.06.94zm10 10l.94 2.06.94-2.06 2.06-.94-2.06-.94-.94-2.06-.94 2.06-2.06.94z\"/><path d=\"M17.41 7.96l-1.37-1.37c-.4-.4-.92-.59-1.43-.59-.52 0-1.04.2-1.43.59L10.3 9.45l-7.72 7.72c-.78.78-.78 2.05 0 2.83L4 21.41c.39.39.9.59 1.41.59.51 0 1.02-.2 1.41-.59l7.78-7.78 2.81-2.81c.8-.78.8-2.07 0-2.86zM5.41 20L4 18.59l7.72-7.72 1.47 1.35L5.41 20z\"/>\n",
              "  </svg>\n",
              "      </button>\n",
              "      \n",
              "  <style>\n",
              "    .colab-df-container {\n",
              "      display:flex;\n",
              "      flex-wrap:wrap;\n",
              "      gap: 12px;\n",
              "    }\n",
              "\n",
              "    .colab-df-convert {\n",
              "      background-color: #E8F0FE;\n",
              "      border: none;\n",
              "      border-radius: 50%;\n",
              "      cursor: pointer;\n",
              "      display: none;\n",
              "      fill: #1967D2;\n",
              "      height: 32px;\n",
              "      padding: 0 0 0 0;\n",
              "      width: 32px;\n",
              "    }\n",
              "\n",
              "    .colab-df-convert:hover {\n",
              "      background-color: #E2EBFA;\n",
              "      box-shadow: 0px 1px 2px rgba(60, 64, 67, 0.3), 0px 1px 3px 1px rgba(60, 64, 67, 0.15);\n",
              "      fill: #174EA6;\n",
              "    }\n",
              "\n",
              "    [theme=dark] .colab-df-convert {\n",
              "      background-color: #3B4455;\n",
              "      fill: #D2E3FC;\n",
              "    }\n",
              "\n",
              "    [theme=dark] .colab-df-convert:hover {\n",
              "      background-color: #434B5C;\n",
              "      box-shadow: 0px 1px 3px 1px rgba(0, 0, 0, 0.15);\n",
              "      filter: drop-shadow(0px 1px 2px rgba(0, 0, 0, 0.3));\n",
              "      fill: #FFFFFF;\n",
              "    }\n",
              "  </style>\n",
              "\n",
              "      <script>\n",
              "        const buttonEl =\n",
              "          document.querySelector('#df-591c7051-49ad-4a48-b40c-d6f5b7c493a5 button.colab-df-convert');\n",
              "        buttonEl.style.display =\n",
              "          google.colab.kernel.accessAllowed ? 'block' : 'none';\n",
              "\n",
              "        async function convertToInteractive(key) {\n",
              "          const element = document.querySelector('#df-591c7051-49ad-4a48-b40c-d6f5b7c493a5');\n",
              "          const dataTable =\n",
              "            await google.colab.kernel.invokeFunction('convertToInteractive',\n",
              "                                                     [key], {});\n",
              "          if (!dataTable) return;\n",
              "\n",
              "          const docLinkHtml = 'Like what you see? Visit the ' +\n",
              "            '<a target=\"_blank\" href=https://colab.research.google.com/notebooks/data_table.ipynb>data table notebook</a>'\n",
              "            + ' to learn more about interactive tables.';\n",
              "          element.innerHTML = '';\n",
              "          dataTable['output_type'] = 'display_data';\n",
              "          await google.colab.output.renderOutput(dataTable, element);\n",
              "          const docLink = document.createElement('div');\n",
              "          docLink.innerHTML = docLinkHtml;\n",
              "          element.appendChild(docLink);\n",
              "        }\n",
              "      </script>\n",
              "    </div>\n",
              "  </div>\n",
              "  "
            ]
          },
          "metadata": {},
          "execution_count": 141
        }
      ]
    },
    {
      "cell_type": "markdown",
      "source": [
        "NOTE: After the HI construction for any model, the health indices are saved to a general dataframe (for train and validation data) named comp_df. This comp_df (meaning compiled HI dataframe) is used during testing with actual test set to choose the best model. "
      ],
      "metadata": {
        "id": "MR0WfQa-EueI"
      }
    },
    {
      "cell_type": "markdown",
      "source": [
        "# Health Index Construction with Autoencoders."
      ],
      "metadata": {
        "id": "QfZciV_oFvF3"
      }
    },
    {
      "cell_type": "markdown",
      "source": [
        "Train-val loss plot helper function."
      ],
      "metadata": {
        "id": "dJc5tkZYvX_d"
      }
    },
    {
      "cell_type": "code",
      "source": [
        "# Helper function that plots, saves and shows plots\n",
        "def plot_loss_accuracy(filename):\n",
        "  loss = history.history['loss']\n",
        "  val_loss = history.history['val_loss']\n",
        "\n",
        "  epochs = range(len(loss))\n",
        "\n",
        "  plt.plot(epochs, loss, 'r', label='Training loss')\n",
        "  plt.plot(epochs, val_loss, 'b', label='Validation loss')\n",
        "  plt.title('Training and validation accuracy')\n",
        "  plt.legend(loc=0)\n",
        "  plt.figure()\n",
        "\n",
        "  plt.savefig(filename + '.png')\n",
        "  plt.show()"
      ],
      "metadata": {
        "id": "8NAScmNHg70e"
      },
      "execution_count": null,
      "outputs": []
    },
    {
      "cell_type": "markdown",
      "source": [
        "Basic Autoencoder Training - Using Subclass Method.\n",
        "\n",
        "\n",
        "*   This is the simplest autoencoder, you can simply think of it as PCA. We transform the input data (D=8) to latent space (D=3) then reconstruct it back to D=8.\n"
      ],
      "metadata": {
        "id": "LW7SUfkTUXMq"
      }
    },
    {
      "cell_type": "code",
      "source": [
        "latent_dim = 3\n",
        "K = 8\n",
        "\n",
        "class Autoencoder(Model):\n",
        "  def __init__(self, latent_dim):\n",
        "    super(Autoencoder, self).__init__()\n",
        "    self.latent_dim = latent_dim   \n",
        "    self.encoder = tf.keras.Sequential([\n",
        "      layers.Dense(5, activation='relu'),\n",
        "      layers.Dense(3, activation='relu'),\n",
        "    ])\n",
        "    self.decoder = tf.keras.Sequential([\n",
        "      layers.Dense(5, activation='relu'),\n",
        "      layers.Dense(K),  # I am not sure of the activation function thing\n",
        "    ])\n",
        "\n",
        "  def call(self, x):\n",
        "    encoded = self.encoder(x)\n",
        "    decoded = self.decoder(encoded)\n",
        "    return decoded\n",
        "\n",
        "autoencoder = Autoencoder(latent_dim)"
      ],
      "metadata": {
        "id": "_YwfHjsF4cyF"
      },
      "execution_count": null,
      "outputs": []
    },
    {
      "cell_type": "code",
      "source": [
        "autoencoder.compile(optimizer='adam', loss=losses.MeanSquaredError())"
      ],
      "metadata": {
        "id": "irHgOYO3acVw"
      },
      "execution_count": null,
      "outputs": []
    },
    {
      "cell_type": "code",
      "source": [
        "tf.keras.backend.clear_session()\n",
        "\n",
        "early_stopping = EarlyStopping(monitor='val_loss', patience=10)\n",
        "\n",
        "history = autoencoder.fit(x_train, x_train,\n",
        "                epochs=60,\n",
        "                shuffle=False,\n",
        "                callbacks=[early_stopping],\n",
        "                validation_data=(x_val, x_val))"
      ],
      "metadata": {
        "id": "bI-cd7mpfFXF"
      },
      "execution_count": null,
      "outputs": []
    },
    {
      "cell_type": "code",
      "source": [
        "# Latent representation and reconstructed validation data\n",
        "x_val_latent = autoencoder.encoder(x_val).numpy()\n",
        "x_val_reconstructed = autoencoder.decoder(x_val_latent).numpy()\n",
        "\n",
        "# Latent representation and reconstructed train data\n",
        "x_train_latent = autoencoder.encoder(x_train).numpy()\n",
        "x_train_reconstructed = autoencoder.decoder(x_train_latent).numpy()"
      ],
      "metadata": {
        "id": "5v5-GcDPiHNL"
      },
      "execution_count": null,
      "outputs": []
    },
    {
      "cell_type": "code",
      "source": [
        "x_val_latent.shape"
      ],
      "metadata": {
        "colab": {
          "base_uri": "https://localhost:8080/"
        },
        "id": "1RbKDSaR7apX",
        "outputId": "ccb30ad2-0f68-43dc-ab0b-c3d6ae1df3e2"
      },
      "execution_count": null,
      "outputs": [
        {
          "output_type": "execute_result",
          "data": {
            "text/plain": [
              "(12303, 3)"
            ]
          },
          "metadata": {},
          "execution_count": 121
        }
      ]
    },
    {
      "cell_type": "code",
      "source": [
        "from scipy.linalg import norm\n",
        "# Reconstruction error - MSE\n",
        "def reconstruction_error(original, reconstructed):\n",
        "  return norm((original-reconstructed))"
      ],
      "metadata": {
        "id": "c8ZE_gJQmUF_"
      },
      "execution_count": null,
      "outputs": []
    },
    {
      "cell_type": "code",
      "source": [
        "# Reconstruction error\n",
        "rec_error_train = reconstruction_error(x_train, x_train_reconstructed)\n",
        "rec_error_val = reconstruction_error(x_val, x_val_reconstructed)"
      ],
      "metadata": {
        "id": "2ByBaoiqizGQ"
      },
      "execution_count": null,
      "outputs": []
    },
    {
      "cell_type": "code",
      "source": [
        "rec_error_train"
      ],
      "metadata": {
        "colab": {
          "base_uri": "https://localhost:8080/"
        },
        "id": "JfXaT3sVl5mT",
        "outputId": "b21a2e78-e919-43fc-e741-1c81e117d353"
      },
      "execution_count": null,
      "outputs": [
        {
          "output_type": "execute_result",
          "data": {
            "text/plain": [
              "236.37072233379027"
            ]
          },
          "metadata": {},
          "execution_count": 130
        }
      ]
    },
    {
      "cell_type": "code",
      "source": [
        "r2_score(x_train, x_train_reconstructed)"
      ],
      "metadata": {
        "colab": {
          "base_uri": "https://localhost:8080/"
        },
        "id": "ne7DThtDuNZ_",
        "outputId": "e3105554-bffd-4474-fd47-e03680c8062e"
      },
      "execution_count": null,
      "outputs": [
        {
          "output_type": "execute_result",
          "data": {
            "text/plain": [
              "0.8315348852500315"
            ]
          },
          "metadata": {},
          "execution_count": 128
        }
      ]
    },
    {
      "cell_type": "code",
      "source": [
        "plot_loss_accuracy(filename='Autoencoder')"
      ],
      "metadata": {
        "colab": {
          "base_uri": "https://localhost:8080/",
          "height": 470
        },
        "id": "WqywIKQYnlXx",
        "outputId": "9a25116a-2384-4003-c068-670bfc32e435"
      },
      "execution_count": null,
      "outputs": [
        {
          "output_type": "display_data",
          "data": {
            "text/plain": [
              "<Figure size 640x480 with 1 Axes>"
            ],
            "image/png": "[encoded data removed]"
          },
          "metadata": {}
        },
        {
          "output_type": "display_data",
          "data": {
            "text/plain": [
              "<Figure size 640x480 with 0 Axes>"
            ]
          },
          "metadata": {}
        }
      ]
    },
    {
      "cell_type": "markdown",
      "source": [
        "Model Evaluation: We should be focused on the the reconstruction error on the validation set to really have an idea of how well the model is behaving.In this example, the train and val losses are tight so we don't have the issue of overfitting. To quatify how much info is retained, we use the r2-score."
      ],
      "metadata": {
        "id": "x3UH-NhegPq0"
      }
    },
    {
      "cell_type": "markdown",
      "source": [
        "Let's create multi-dimensional AE dataframes."
      ],
      "metadata": {
        "id": "2Ka7WApeIs_F"
      }
    },
    {
      "cell_type": "code",
      "source": [
        "AE_HItrain_df = HItrain_df[['Unit_id','Time','ori_HI','Maxcycle','RUL']]\n",
        "AE_HItrain_df.head()"
      ],
      "metadata": {
        "id": "27zk_sL6Is_F"
      },
      "execution_count": null,
      "outputs": []
    },
    {
      "cell_type": "code",
      "source": [
        "AE_HIval_df = HIval_df[['Unit_id','Time','ori_HI','Maxcycle','RUL']]\n",
        "AE_HIval_df.head()"
      ],
      "metadata": {
        "id": "31hIYhjdIs_F"
      },
      "execution_count": null,
      "outputs": []
    },
    {
      "cell_type": "code",
      "source": [
        "AE_HItrain_df.loc[:,('HI_AE1','HI_AE2','HI_AE3')] = x_train_latent\n",
        "AE_HItrain_df.head()"
      ],
      "metadata": {
        "id": "3t3qQnuTIs_F"
      },
      "execution_count": null,
      "outputs": []
    },
    {
      "cell_type": "code",
      "source": [
        "AE_HIval_df.loc[:,('HI_AE1','HI_AE2','HI_AE3')] = x_val_latent\n",
        "AE_HIval_df.head()"
      ],
      "metadata": {
        "id": "fhG6KccIIs_F"
      },
      "execution_count": null,
      "outputs": []
    },
    {
      "cell_type": "code",
      "source": [],
      "metadata": {
        "id": "8kgvxFloHjSH"
      },
      "execution_count": null,
      "outputs": []
    },
    {
      "cell_type": "markdown",
      "source": [
        "# Evaluation of above methods on validation set"
      ],
      "metadata": {
        "id": "vMv87IM2m_b5"
      }
    },
    {
      "cell_type": "code",
      "source": [
        "# This is the residual function we are using because the lent can be larger than some instance's maxcycles.....\n",
        "def residual_func(train_df, test_df, lent, name):\n",
        "  no_instances = train_df['Unit_id'].unique().shape[0]\n",
        "  res_mat = np.zeros((lent, no_instances))\n",
        "  cur_val = test_df[name][:lent]\n",
        "  for id in train_df['Unit_id'].unique():\n",
        "    # If it is already dead, then maybe you shouldn't be part of the computation OR add zeros below it\n",
        "    temp_df = train_df[train_df['Unit_id']==id]\n",
        "    if temp_df.shape[0] < lent:\n",
        "      diff_arr = np.zeros(lent- temp_df.shape[0])\n",
        "      cur_train = temp_df[name][:lent]\n",
        "      cur_train = np.concatenate((cur_train, diff_arr), axis=0)\n",
        "      res_mat[:,id-1] = cur_train\n",
        "    else:\n",
        "      temp_df = train_df[train_df['Unit_id']==id]\n",
        "      cur_train = temp_df[name][:lent]\n",
        "      res_mat[:,id-1] = cur_train\n",
        "\n",
        "  l = res_mat - cur_val.to_numpy().reshape((-1,1))\n",
        "  residual = np.sqrt(np.mean(l**2, axis=0))\n",
        "  return residual"
      ],
      "metadata": {
        "id": "fITNcQzjne76"
      },
      "execution_count": null,
      "outputs": []
    },
    {
      "cell_type": "code",
      "source": [
        "def lenght(test_df, pct):\n",
        " lent = math.ceil(test_df.shape[0]*pct)\n",
        " return lent\n",
        "\n",
        "def neighbors(residual,nearest):\n",
        "  n_neighbors = np.argsort(residual)[:nearest]\n",
        "  return n_neighbors"
      ],
      "metadata": {
        "id": "jI8Ppmmlne76"
      },
      "execution_count": null,
      "outputs": []
    },
    {
      "cell_type": "code",
      "execution_count": null,
      "metadata": {
        "id": "eW3ublyTne76"
      },
      "outputs": [],
      "source": [
        "#  The function for new data will be a little different from that of val data\n",
        "def RUL_estimator(train_df, test_df, max_cycle_df, pct, nearest, name):\n",
        "  # Call Lenght Function\n",
        "  lent = lenght(test_df,pct)\n",
        "\n",
        "  # Call Residual Function\n",
        "  residual = residual_func(train_df, test_df, lent, name)\n",
        "\n",
        "  # Nearest neighbours function - where you can change the size of nearest neighbours\n",
        "  n_neighbors = neighbors(residual,nearest)\n",
        "\n",
        "  # RUL Estimation\n",
        "  # We want the closest 50 that are not yet dead\n",
        "  ens_RULs = max_cycle_df.loc[n_neighbors+1] - lent\n",
        "\n",
        "  true_RUL = test_df.shape[0] - lent\n",
        "\n",
        "  m = ens_RULs[ens_RULs>-10]\n",
        "  m[m.isna()] = 0\n",
        "\n",
        "  est_RUL = m['max_cycle'].median()\n",
        "\n",
        "  return (est_RUL, true_RUL, (ens_RULs))\n",
        "  # return lent, residual, n_neighbors"
      ]
    },
    {
      "cell_type": "code",
      "source": [
        "def RUL_Estimator_coll(train_df, test_df, max_cycle_df, nearest, name):\n",
        "  # Instantiate pct list:\n",
        "  pct_list = [0.5,0.7,0.9]\n",
        "  # Val_data unique ID\n",
        "  inst_id = test_df['Unit_id'].unique()\n",
        "\n",
        "  # Create a results dictionary:\n",
        "  val_inst = {}\n",
        "  for i in inst_id:\n",
        "    val_inst[i] = {}\n",
        "    for j in [0.5, 0.7, 0.9]:\n",
        "      val_inst[i][j] = (0,0,())\n",
        "\n",
        "  # Loop through all val_instances\n",
        "  for k in inst_id:\n",
        "    # Working with a single test set:\n",
        "    for pct in [0.5, 0.7, 0.9]: \n",
        "      cur_val_df = test_df[test_df['Unit_id'] == k]\n",
        "      val_inst[k][pct] = RUL_estimator(train_df=train_df, test_df=cur_val_df, max_cycle_df=max_cycle_df, pct=pct, nearest=nearest, name=name)\n",
        "\n",
        "  return val_inst\n"
      ],
      "metadata": {
        "id": "myMmzUvSne77"
      },
      "execution_count": null,
      "outputs": []
    },
    {
      "cell_type": "code",
      "source": [
        "def result_analysis(val_inst):\n",
        "  fif = []\n",
        "  sev = []\n",
        "  nine = []\n",
        "  EST_RUL_5 = []\n",
        "  TRUE_RUL_5 = []\n",
        "  ENS_RUL_5 = []\n",
        "  EST_RUL_7 = []\n",
        "  TRUE_RUL_7 = []\n",
        "  ENS_RUL_7 = []\n",
        "  EST_RUL_9 = []\n",
        "  TRUE_RUL_9 = []\n",
        "  ENS_RUL_9 = []\n",
        "  id_list = []\n",
        "  # loop through all instances:\n",
        "  for id,info in val_inst.items():\n",
        "    id_list.append(id)\n",
        "\n",
        "    EST_RUL_5.append(info[0.5][0])\n",
        "    TRUE_RUL_5.append(info[0.5][1])\n",
        "    ENS_RUL_5.append(info[0.5][2])\n",
        "\n",
        "    EST_RUL_7.append(info[0.7][0])\n",
        "    TRUE_RUL_7.append(info[0.7][1])\n",
        "    ENS_RUL_7.append(info[0.5][2])\n",
        "\n",
        "    EST_RUL_9.append(info[0.9][0])\n",
        "    TRUE_RUL_9.append(info[0.9][1])\n",
        "    ENS_RUL_9.append(info[0.5][2])\n",
        "\n",
        "  fif = [EST_RUL_5, TRUE_RUL_5, ENS_RUL_5]\n",
        "  sev = [EST_RUL_7, TRUE_RUL_7, ENS_RUL_7]\n",
        "  nine = [EST_RUL_9, TRUE_RUL_9, ENS_RUL_9]\n",
        "  \n",
        "  return fif, sev, nine\n",
        "  # Calculate RMSE\n",
        "\n"
      ],
      "metadata": {
        "id": "ZvozRBJZne77"
      },
      "execution_count": null,
      "outputs": []
    },
    {
      "cell_type": "code",
      "source": [
        "def score(errors):\n",
        "  a1=10\n",
        "  a2=13\n",
        "  s1=0\n",
        "  s2=0\n",
        "  for err in errors:\n",
        "    if err < 0:\n",
        "      s1 += (np.exp(-1*(err/a1))) - 1\n",
        "    if ((err > 0) or (err == 0)):\n",
        "      s2 += (np.exp(err/a2)) - 1\n",
        "  return [s1 , s2]"
      ],
      "metadata": {
        "id": "b9uafycane77"
      },
      "execution_count": null,
      "outputs": []
    },
    {
      "cell_type": "code",
      "source": [
        "def RUL_metrics(a,b,c):\n",
        "  res_list = []\n",
        "  RMSE = []\n",
        "  MAE = []\n",
        "  SCORE = []\n",
        "\n",
        "  # Make an array for easy computation\n",
        "  for res in [a,b,c]:\n",
        "    res_list.append(np.array(res[:2]).T)\n",
        "  res_array = np.array(res_list)\n",
        "\n",
        "  for r in res_array:\n",
        "    errors = r[0]-r[1]\n",
        "    RMSE.append(mean_squared_error(r[0], r[1], squared=False))\n",
        "    MAE.append(mean_absolute_error(r[0],r[1]))\n",
        "    SCORE.append(score(errors))\n",
        "\n",
        "  return RMSE, MAE, SCORE\n"
      ],
      "metadata": {
        "id": "F5ksC0D9ne77"
      },
      "execution_count": null,
      "outputs": []
    },
    {
      "cell_type": "code",
      "source": [
        "HItrain_df.head()"
      ],
      "metadata": {
        "colab": {
          "base_uri": "https://localhost:8080/",
          "height": 206
        },
        "id": "RR2iJRzjoCHf",
        "outputId": "bd64d429-7584-4008-c00a-f9c24987045a"
      },
      "execution_count": null,
      "outputs": [
        {
          "output_type": "execute_result",
          "data": {
            "text/plain": [
              "   Unit_id  Time    ori_HI  Maxcycle  RUL    new_HI  apprx_HI    HI_PCA  \\\n",
              "0        1     1  1.000000       149  148  0.582822  0.546977 -0.859024   \n",
              "1        1     2  0.993243       149  147  0.582912  0.581504 -0.628524   \n",
              "2        1     3  0.986486       149  146  0.582965  0.601732 -0.404679   \n",
              "3        1     4  0.979730       149  145  0.583290  0.726264 -1.859147   \n",
              "4        1     5  0.972973       149  144  0.582879  0.568990 -0.310075   \n",
              "\n",
              "   new_HI_PCA  HI_PCA_L  HI_PCA_Lz  \n",
              "0   -1.192820 -0.794293   0.187668  \n",
              "1   -1.197747 -0.701790   0.197499  \n",
              "2   -1.202504 -0.405560   0.228983  \n",
              "3   -1.171129 -1.376195   0.125823  \n",
              "4   -1.204507 -0.534039   0.215328  "
            ],
            "text/html": [
              "\n",
              "  <div id=\"df-06668608-c0e6-420b-92ca-6f8e34b29d60\">\n",
              "    <div class=\"colab-df-container\">\n",
              "      <div>\n",
              "<style scoped>\n",
              "    .dataframe tbody tr th:only-of-type {\n",
              "        vertical-align: middle;\n",
              "    }\n",
              "\n",
              "    .dataframe tbody tr th {\n",
              "        vertical-align: top;\n",
              "    }\n",
              "\n",
              "    .dataframe thead th {\n",
              "        text-align: right;\n",
              "    }\n",
              "</style>\n",
              "<table border=\"1\" class=\"dataframe\">\n",
              "  <thead>\n",
              "    <tr style=\"text-align: right;\">\n",
              "      <th></th>\n",
              "      <th>Unit_id</th>\n",
              "      <th>Time</th>\n",
              "      <th>ori_HI</th>\n",
              "      <th>Maxcycle</th>\n",
              "      <th>RUL</th>\n",
              "      <th>new_HI</th>\n",
              "      <th>apprx_HI</th>\n",
              "      <th>HI_PCA</th>\n",
              "      <th>new_HI_PCA</th>\n",
              "      <th>HI_PCA_L</th>\n",
              "      <th>HI_PCA_Lz</th>\n",
              "    </tr>\n",
              "  </thead>\n",
              "  <tbody>\n",
              "    <tr>\n",
              "      <th>0</th>\n",
              "      <td>1</td>\n",
              "      <td>1</td>\n",
              "      <td>1.000000</td>\n",
              "      <td>149</td>\n",
              "      <td>148</td>\n",
              "      <td>0.582822</td>\n",
              "      <td>0.546977</td>\n",
              "      <td>-0.859024</td>\n",
              "      <td>-1.192820</td>\n",
              "      <td>-0.794293</td>\n",
              "      <td>0.187668</td>\n",
              "    </tr>\n",
              "    <tr>\n",
              "      <th>1</th>\n",
              "      <td>1</td>\n",
              "      <td>2</td>\n",
              "      <td>0.993243</td>\n",
              "      <td>149</td>\n",
              "      <td>147</td>\n",
              "      <td>0.582912</td>\n",
              "      <td>0.581504</td>\n",
              "      <td>-0.628524</td>\n",
              "      <td>-1.197747</td>\n",
              "      <td>-0.701790</td>\n",
              "      <td>0.197499</td>\n",
              "    </tr>\n",
              "    <tr>\n",
              "      <th>2</th>\n",
              "      <td>1</td>\n",
              "      <td>3</td>\n",
              "      <td>0.986486</td>\n",
              "      <td>149</td>\n",
              "      <td>146</td>\n",
              "      <td>0.582965</td>\n",
              "      <td>0.601732</td>\n",
              "      <td>-0.404679</td>\n",
              "      <td>-1.202504</td>\n",
              "      <td>-0.405560</td>\n",
              "      <td>0.228983</td>\n",
              "    </tr>\n",
              "    <tr>\n",
              "      <th>3</th>\n",
              "      <td>1</td>\n",
              "      <td>4</td>\n",
              "      <td>0.979730</td>\n",
              "      <td>149</td>\n",
              "      <td>145</td>\n",
              "      <td>0.583290</td>\n",
              "      <td>0.726264</td>\n",
              "      <td>-1.859147</td>\n",
              "      <td>-1.171129</td>\n",
              "      <td>-1.376195</td>\n",
              "      <td>0.125823</td>\n",
              "    </tr>\n",
              "    <tr>\n",
              "      <th>4</th>\n",
              "      <td>1</td>\n",
              "      <td>5</td>\n",
              "      <td>0.972973</td>\n",
              "      <td>149</td>\n",
              "      <td>144</td>\n",
              "      <td>0.582879</td>\n",
              "      <td>0.568990</td>\n",
              "      <td>-0.310075</td>\n",
              "      <td>-1.204507</td>\n",
              "      <td>-0.534039</td>\n",
              "      <td>0.215328</td>\n",
              "    </tr>\n",
              "  </tbody>\n",
              "</table>\n",
              "</div>\n",
              "      <button class=\"colab-df-convert\" onclick=\"convertToInteractive('df-06668608-c0e6-420b-92ca-6f8e34b29d60')\"\n",
              "              title=\"Convert this dataframe to an interactive table.\"\n",
              "              style=\"display:none;\">\n",
              "        \n",
              "  <svg xmlns=\"http://www.w3.org/2000/svg\" height=\"24px\"viewBox=\"0 0 24 24\"\n",
              "       width=\"24px\">\n",
              "    <path d=\"M0 0h24v24H0V0z\" fill=\"none\"/>\n",
              "    <path d=\"M18.56 5.44l.94 2.06.94-2.06 2.06-.94-2.06-.94-.94-2.06-.94 2.06-2.06.94zm-11 1L8.5 8.5l.94-2.06 2.06-.94-2.06-.94L8.5 2.5l-.94 2.06-2.06.94zm10 10l.94 2.06.94-2.06 2.06-.94-2.06-.94-.94-2.06-.94 2.06-2.06.94z\"/><path d=\"M17.41 7.96l-1.37-1.37c-.4-.4-.92-.59-1.43-.59-.52 0-1.04.2-1.43.59L10.3 9.45l-7.72 7.72c-.78.78-.78 2.05 0 2.83L4 21.41c.39.39.9.59 1.41.59.51 0 1.02-.2 1.41-.59l7.78-7.78 2.81-2.81c.8-.78.8-2.07 0-2.86zM5.41 20L4 18.59l7.72-7.72 1.47 1.35L5.41 20z\"/>\n",
              "  </svg>\n",
              "      </button>\n",
              "      \n",
              "  <style>\n",
              "    .colab-df-container {\n",
              "      display:flex;\n",
              "      flex-wrap:wrap;\n",
              "      gap: 12px;\n",
              "    }\n",
              "\n",
              "    .colab-df-convert {\n",
              "      background-color: #E8F0FE;\n",
              "      border: none;\n",
              "      border-radius: 50%;\n",
              "      cursor: pointer;\n",
              "      display: none;\n",
              "      fill: #1967D2;\n",
              "      height: 32px;\n",
              "      padding: 0 0 0 0;\n",
              "      width: 32px;\n",
              "    }\n",
              "\n",
              "    .colab-df-convert:hover {\n",
              "      background-color: #E2EBFA;\n",
              "      box-shadow: 0px 1px 2px rgba(60, 64, 67, 0.3), 0px 1px 3px 1px rgba(60, 64, 67, 0.15);\n",
              "      fill: #174EA6;\n",
              "    }\n",
              "\n",
              "    [theme=dark] .colab-df-convert {\n",
              "      background-color: #3B4455;\n",
              "      fill: #D2E3FC;\n",
              "    }\n",
              "\n",
              "    [theme=dark] .colab-df-convert:hover {\n",
              "      background-color: #434B5C;\n",
              "      box-shadow: 0px 1px 3px 1px rgba(0, 0, 0, 0.15);\n",
              "      filter: drop-shadow(0px 1px 2px rgba(0, 0, 0, 0.3));\n",
              "      fill: #FFFFFF;\n",
              "    }\n",
              "  </style>\n",
              "\n",
              "      <script>\n",
              "        const buttonEl =\n",
              "          document.querySelector('#df-06668608-c0e6-420b-92ca-6f8e34b29d60 button.colab-df-convert');\n",
              "        buttonEl.style.display =\n",
              "          google.colab.kernel.accessAllowed ? 'block' : 'none';\n",
              "\n",
              "        async function convertToInteractive(key) {\n",
              "          const element = document.querySelector('#df-06668608-c0e6-420b-92ca-6f8e34b29d60');\n",
              "          const dataTable =\n",
              "            await google.colab.kernel.invokeFunction('convertToInteractive',\n",
              "                                                     [key], {});\n",
              "          if (!dataTable) return;\n",
              "\n",
              "          const docLinkHtml = 'Like what you see? Visit the ' +\n",
              "            '<a target=\"_blank\" href=https://colab.research.google.com/notebooks/data_table.ipynb>data table notebook</a>'\n",
              "            + ' to learn more about interactive tables.';\n",
              "          element.innerHTML = '';\n",
              "          dataTable['output_type'] = 'display_data';\n",
              "          await google.colab.output.renderOutput(dataTable, element);\n",
              "          const docLink = document.createElement('div');\n",
              "          docLink.innerHTML = docLinkHtml;\n",
              "          element.appendChild(docLink);\n",
              "        }\n",
              "      </script>\n",
              "    </div>\n",
              "  </div>\n",
              "  "
            ]
          },
          "metadata": {},
          "execution_count": 99
        }
      ]
    },
    {
      "cell_type": "code",
      "source": [
        "# L is Full\n",
        "val_inst = RUL_Estimator_coll(train_df=HItrain_df, test_df=HIval_df, max_cycle_df=max_cycle_df, nearest=50, name='ori_HI')\n",
        "a,b,c = result_analysis(val_inst)\n",
        "RMSE, MAE, SCORE = RUL_metrics(a,b,c)"
      ],
      "metadata": {
        "id": "wxlkuqoHnuLM"
      },
      "execution_count": null,
      "outputs": []
    },
    {
      "cell_type": "code",
      "source": [
        "print(RMSE,MAE,SCORE)"
      ],
      "metadata": {
        "colab": {
          "base_uri": "https://localhost:8080/"
        },
        "id": "Y7U5ZiXlorUK",
        "outputId": "fd2ab59d-d1e7-43d9-ecac-cad4322379f8"
      },
      "execution_count": null,
      "outputs": [
        {
          "output_type": "stream",
          "name": "stdout",
          "text": [
            "[3.2596012026013246, 2.2638462845343543, 0.3535533905932738] [3.25, 2.25, 0.25] [[0.7689263561692603, 0], [0.5054281748479112, 0], [0.05127109637602412, 0.0]]\n"
          ]
        }
      ]
    },
    {
      "cell_type": "code",
      "source": [
        "# L is Full\n",
        "val_inst = RUL_Estimator_coll(train_df=HItrain_df, test_df=HIval_df, max_cycle_df=max_cycle_df, nearest=50, name='apprx_HI')\n",
        "a,b,c = result_analysis(val_inst)\n",
        "RMSE, MAE, SCORE = RUL_metrics(a,b,c)"
      ],
      "metadata": {
        "id": "L6ZkviDCn0dw"
      },
      "execution_count": null,
      "outputs": []
    },
    {
      "cell_type": "code",
      "source": [
        "print(RMSE,MAE,SCORE)"
      ],
      "metadata": {
        "colab": {
          "base_uri": "https://localhost:8080/"
        },
        "outputId": "6d81e2fb-925a-42dc-af1f-634520f4452e",
        "id": "vcEtT0gro077"
      },
      "execution_count": null,
      "outputs": [
        {
          "output_type": "stream",
          "name": "stdout",
          "text": [
            "[12.55487952948972, 15.972632844963288, 11.667261889578034] [10.25, 12.25, 8.25] [[0.3498588075760032, 2.8426177733663716], [0.22140275816016985, 4.644994542233771], [0, 2.5581144982364594]]\n"
          ]
        }
      ]
    },
    {
      "cell_type": "code",
      "source": [
        "# L is Full\n",
        "val_inst = RUL_Estimator_coll(train_df=HItrain_df, test_df=HIval_df, max_cycle_df=max_cycle_df, nearest=50, name='HI_PCA')\n",
        "a,b,c = result_analysis(val_inst)\n",
        "RMSE, MAE, SCORE = RUL_metrics(a,b,c)"
      ],
      "metadata": {
        "id": "hEyILV20n9tP"
      },
      "execution_count": null,
      "outputs": []
    },
    {
      "cell_type": "code",
      "source": [
        "print(RMSE,MAE,SCORE)"
      ],
      "metadata": {
        "colab": {
          "base_uri": "https://localhost:8080/"
        },
        "outputId": "1114c8fa-7bd4-470d-fa66-6e3cca44c272",
        "id": "yJ0RJvf2o5j6"
      },
      "execution_count": null,
      "outputs": [
        {
          "output_type": "stream",
          "name": "stdout",
          "text": [
            "[18.85802216564611, 14.564511663629508, 10.253048327204938] [14.75, 11.25, 7.25] [[0.3498588075760032, 6.678786589066299], [0.22140275816016985, 3.840040444150536], [0, 2.0507413156095278]]\n"
          ]
        }
      ]
    },
    {
      "cell_type": "code",
      "source": [
        "# L is Full, k_components = 3\n",
        "val_inst = RUL_Estimator_coll(train_df=HItrain_df, test_df=HIval_df, max_cycle_df=max_cycle_df, nearest=50, name='HI_PCA_L')\n",
        "a,b,c = result_analysis(val_inst)\n",
        "RMSE, MAE, SCORE = RUL_metrics(a,b,c)"
      ],
      "metadata": {
        "id": "IZdcU1NRoWEp"
      },
      "execution_count": null,
      "outputs": []
    },
    {
      "cell_type": "code",
      "source": [
        "print(RMSE,MAE,SCORE)"
      ],
      "metadata": {
        "colab": {
          "base_uri": "https://localhost:8080/"
        },
        "outputId": "730e0deb-163f-4d03-a07a-8727b874c70c",
        "id": "TJfMO_Fmo7_W"
      },
      "execution_count": null,
      "outputs": [
        {
          "output_type": "stream",
          "name": "stdout",
          "text": [
            "[20.967236346261757, 12.103718436910205, 3.5355339059327378] [16.25, 9.5, 2.5] [[0.3498588075760032, 8.671957984132842], [0.22140275816016985, 2.6976308645666607], [0, 0.46904919384901667]]\n"
          ]
        }
      ]
    },
    {
      "cell_type": "code",
      "source": [
        "# L is Full, k_components = 8\n",
        "val_inst = RUL_Estimator_coll(train_df=HItrain_df, test_df=HIval_df, max_cycle_df=max_cycle_df, nearest=50, name='HI_PCA_L')\n",
        "a,b,c = result_analysis(val_inst)\n",
        "RMSE, MAE, SCORE = RUL_metrics(a,b,c)"
      ],
      "metadata": {
        "id": "2VJaE-OSswtL"
      },
      "execution_count": null,
      "outputs": []
    },
    {
      "cell_type": "code",
      "source": [
        "print(RMSE,MAE,SCORE)"
      ],
      "metadata": {
        "colab": {
          "base_uri": "https://localhost:8080/"
        },
        "outputId": "29bf930e-1862-47ae-946c-d81ffe099160",
        "id": "H1tInZm4swtL"
      },
      "execution_count": null,
      "outputs": [
        {
          "output_type": "stream",
          "name": "stdout",
          "text": [
            "[20.967236346261757, 14.212670403551895, 3.5355339059327378] [16.25, 11.0, 2.5] [[0.3498588075760032, 8.671957984132842], [0.22140275816016985, 3.657419495658906], [0, 0.46904919384901667]]\n"
          ]
        }
      ]
    },
    {
      "cell_type": "code",
      "source": [
        "# L is Full, k_components = 5\n",
        "val_inst = RUL_Estimator_coll(train_df=HItrain_df, test_df=HIval_df, max_cycle_df=max_cycle_df, nearest=50, name='HI_PCA_L')\n",
        "a,b,c = result_analysis(val_inst)\n",
        "RMSE, MAE, SCORE = RUL_metrics(a,b,c)"
      ],
      "metadata": {
        "id": "ubUSe0QHtEIO"
      },
      "execution_count": null,
      "outputs": []
    },
    {
      "cell_type": "code",
      "source": [
        "print(RMSE,MAE,SCORE)"
      ],
      "metadata": {
        "colab": {
          "base_uri": "https://localhost:8080/"
        },
        "outputId": "4a148564-be11-47e4-9c75-a7103211f928",
        "id": "O9SDMz-FtEIO"
      },
      "execution_count": null,
      "outputs": [
        {
          "output_type": "stream",
          "name": "stdout",
          "text": [
            "[20.967236346261757, 14.212670403551895, 3.5355339059327378] [16.25, 11.0, 2.5] [[0.3498588075760032, 8.671957984132842], [0.22140275816016985, 3.657419495658906], [0, 0.46904919384901667]]\n"
          ]
        }
      ]
    },
    {
      "cell_type": "code",
      "source": [
        "# L is Full, k_components = 2\n",
        "val_inst = RUL_Estimator_coll(train_df=HItrain_df, test_df=HIval_df, max_cycle_df=max_cycle_df, nearest=50, name='HI_PCA_L')\n",
        "a,b,c = result_analysis(val_inst)\n",
        "RMSE, MAE, SCORE = RUL_metrics(a,b,c)"
      ],
      "metadata": {
        "id": "Yp95avdlt8Za"
      },
      "execution_count": null,
      "outputs": []
    },
    {
      "cell_type": "code",
      "source": [
        "print(RMSE,MAE,SCORE)"
      ],
      "metadata": {
        "colab": {
          "base_uri": "https://localhost:8080/"
        },
        "outputId": "d1eb6f91-7b90-4788-93d9-851850c70b99",
        "id": "2vWZucA0t8Zb"
      },
      "execution_count": null,
      "outputs": [
        {
          "output_type": "stream",
          "name": "stdout",
          "text": [
            "[20.967236346261757, 14.212670403551895, 3.8890872965260113] [16.25, 11.0, 2.75] [[0.3498588075760032, 8.671957984132842], [0.22140275816016985, 3.657419495658906], [0, 0.5266517261980206]]\n"
          ]
        }
      ]
    },
    {
      "cell_type": "code",
      "source": [
        "# L is Full\n",
        "val_inst = RUL_Estimator_coll(train_df=HItrain_df, test_df=HIval_df, max_cycle_df=max_cycle_df, nearest=50, name='HI_PCA_Lz')\n",
        "a,b,c = result_analysis(val_inst)\n",
        "RMSE, MAE, SCORE = RUL_metrics(a,b,c)"
      ],
      "metadata": {
        "id": "KD04YyeJoWru"
      },
      "execution_count": null,
      "outputs": []
    },
    {
      "cell_type": "code",
      "source": [
        "print(RMSE,MAE,SCORE)"
      ],
      "metadata": {
        "colab": {
          "base_uri": "https://localhost:8080/"
        },
        "outputId": "1d87cb32-bc7a-452d-87d0-936996d79272",
        "id": "oxNyoJaqo_oE"
      },
      "execution_count": null,
      "outputs": [
        {
          "output_type": "stream",
          "name": "stdout",
          "text": [
            "[23.430749027719962, 19.144189719076646, 9.192388155425117] [18.0, 14.5, 6.5] [[0.3498588075760032, 11.660178782560491], [0.22140275816016985, 6.979877631319886], [0, 1.718281828459045]]\n"
          ]
        }
      ]
    },
    {
      "cell_type": "markdown",
      "source": [
        "Comments: We did a quick experiment with the no of k-components and realised that the best kcomponents is 3."
      ],
      "metadata": {
        "id": "U-b_cBTHEMHF"
      }
    },
    {
      "cell_type": "markdown",
      "source": [
        "Validation Error Scores on Autoencoder.\n",
        "\n",
        "*   Note: The Latent Space of the autoencoder contains 3 feature vectors; we simply took the sum of squares (i.e weights =1) for all features.\n",
        "*   Other methods to be tried includes: Using a latent space of size 1 or choosing the latent feature vectors that give best results or doing a weighted sum depending on the degree of relevance which can be chosen by how much weights each feature vector carries.\n",
        "\n",
        "*   The residual_func had to be refined a bit to accomodate this change.\n",
        "\n",
        "\n",
        "\n",
        "\n"
      ],
      "metadata": {
        "id": "a55EJc23NC1f"
      }
    },
    {
      "cell_type": "markdown",
      "source": [
        "Residual Function for multi-dimensional data."
      ],
      "metadata": {
        "id": "D_08UpRxKclw"
      }
    },
    {
      "cell_type": "code",
      "source": [
        "# Recall, in residual function, we are working with a single test set and all train set\n",
        "# Function will take a names list, D\n",
        "# name will be a list\n",
        "# res_mat is now 3D - NxLxD\n",
        "# cur_val is a matrix - pass list of names LxD\n",
        "# diff_arr is now a matrix LxD\n",
        "# cur_train is a matrix LxD\n",
        "# train_df and test_df are new PCA dataframe"
      ],
      "metadata": {
        "id": "Y_W9yQuOKcEa"
      },
      "execution_count": null,
      "outputs": []
    },
    {
      "cell_type": "code",
      "source": [
        "# Test\n",
        "D = 3\n",
        "lent = 191\n",
        "train_df = AE_HItrain_df\n",
        "test_df = AE_HIval_df[AE_HIval_df['Unit_id']==201]\n",
        "name = ['HI_AE1','HI_AE2','HI_AE3']"
      ],
      "metadata": {
        "id": "bRLcrxKJTD4a"
      },
      "execution_count": null,
      "outputs": []
    },
    {
      "cell_type": "code",
      "source": [
        "def residual_func(train_df, test_df, lent, name):\n",
        "  no_instances = train_df['Unit_id'].unique().shape[0]\n",
        "  res_mat = np.zeros((no_instances,lent,D))\n",
        "  cur_val = test_df[name][:lent]\n",
        "  for id in train_df['Unit_id'].unique():\n",
        "    # If it is already dead, then maybe you shouldn't be part of the computation OR add zeros below it\n",
        "    temp_df = train_df[train_df['Unit_id']==id]\n",
        "    if temp_df.shape[0] < lent:\n",
        "      diff_arr = np.zeros((lent- temp_df.shape[0],D))\n",
        "      cur_train = temp_df[name][:lent]\n",
        "      cur_train = np.concatenate((cur_train, diff_arr), axis=0)\n",
        "      res_mat[id-1,:,:] = cur_train\n",
        "    else:\n",
        "      temp_df = train_df[train_df['Unit_id']==id]\n",
        "      cur_train = temp_df[name][:lent]\n",
        "      res_mat[id-1,:,:] = cur_train\n",
        "\n",
        "  err = ((res_mat - cur_val.to_numpy())**2).sum(axis=2)\n",
        "  residual = np.sqrt(np.mean(err, axis=1))\n",
        "\n",
        "  return residual"
      ],
      "metadata": {
        "id": "b-l78s-FSgnq"
      },
      "execution_count": null,
      "outputs": []
    },
    {
      "cell_type": "code",
      "source": [
        "# L is Full\n",
        "val_inst = RUL_Estimator_coll(train_df=AE_HItrain_df, test_df=AE_HIval_df, max_cycle_df=max_cycle_df, nearest=50, name=['HI_AE1','HI_AE2','HI_AE3'])\n",
        "a,b,c = result_analysis(val_inst)\n",
        "RMSE, MAE, SCORE = RUL_metrics(a,b,c)"
      ],
      "metadata": {
        "id": "AEfSleGTNB75"
      },
      "execution_count": null,
      "outputs": []
    },
    {
      "cell_type": "code",
      "source": [
        "print(RMSE,MAE,SCORE)"
      ],
      "metadata": {
        "colab": {
          "base_uri": "https://localhost:8080/"
        },
        "id": "o--s6V2b4MvA",
        "outputId": "b12ca50a-e17c-4099-fdce-f78d815f460f"
      },
      "execution_count": null,
      "outputs": [
        {
          "output_type": "stream",
          "name": "stdout",
          "text": [
            "[20.615528128088304, 16.32482771731451, 0.7071067811865476] [16.0, 12.5, 0.5] [[0.3498588075760032, 8.307022574766952], [0.22140275816016985, 4.866339056828965], [0, 0.07995899942818663]]\n"
          ]
        }
      ]
    }
  ]
}