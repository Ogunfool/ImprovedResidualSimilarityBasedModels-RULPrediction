{
  "nbformat": 4,
  "nbformat_minor": 0,
  "metadata": {
    "colab": {
      "provenance": [],
      "authorship_tag": "ABX9TyP+aeq8+wcxqeKNGD4OXHvc",
      "include_colab_link": true
    },
    "kernelspec": {
      "name": "python3",
      "display_name": "Python 3"
    },
    "language_info": {
      "name": "python"
    }
  },
  "cells": [
    {
      "cell_type": "markdown",
      "metadata": {
        "id": "view-in-github",
        "colab_type": "text"
      },
      "source": [
        "<a href=\"https://colab.research.google.com/github/Ogunfool/Prognostics-Strategies-An-Aero-engine-Use-case/blob/main/Experimentations_To_Choose_Some_Residual_Similarity_Based_Model_Hyperparameters.ipynb\" target=\"_parent\"><img src=\"https://colab.research.google.com/assets/colab-badge.svg\" alt=\"Open In Colab\"/></a>"
      ]
    },
    {
      "cell_type": "markdown",
      "source": [
        "\n",
        " CONTENTS OF THIS NOTEBOOK.\n",
        "\n",
        "*   This notebook contains 3-Metric Functions For RUL Prediction Error Evaluation for all validation set at 50,70 and 90% of the lifetime. The metrics used are:\n",
        "\n",
        "\n",
        "1.   Root Mean Square Error (RMSE)\n",
        "2.   MEA - Mean Absolute Error\n",
        "1.   SCORE - The score metric for the PHM08 competition\n",
        "\n",
        "\n",
        "*   It also contains LOCs to tune residual-similarity based model specific \n",
        "hyperparameters.\n",
        "The Hyperparametrs tuned are:\n",
        "1.   Choosing the best metric to measure similarity or degree of similarity between the validation data and train dataset. The MSE/RMSE, Cosine similarity, A combination of both and RMSE/cosine similarity degrees/rate (1/similarity value) are considered.\n",
        "2.   Different nearest neighbor size (nearest) and L past timesteps considered i.e which training instances have the most similar degradation profiles to the test data in the past L steps?\n",
        "\n",
        "1.   RUL Estimation based on nearest neighbours estimation method: Median of the RULs of the instances with most similar degradation profiles, Weighted average (weights = Ed=similarity degree = 1/similarity measure).\n",
        "\n",
        "\n",
        "\n",
        "\n"
      ],
      "metadata": {
        "id": "OVB-7fxIVtKM"
      }
    },
    {
      "cell_type": "markdown",
      "source": [
        "Import Libraries"
      ],
      "metadata": {
        "id": "EAL2YwgEwbjd"
      }
    },
    {
      "cell_type": "code",
      "source": [
        "import numpy as np\n",
        "import pandas as pd\n",
        "import matplotlib.pyplot as plt\n",
        "import scipy\n",
        "import math\n",
        "from sklearn.cluster import KMeans\n",
        "from sklearn.model_selection import train_test_split \n",
        "from sklearn.metrics import mean_absolute_error, mean_squared_error, mean_absolute_percentage_error\n",
        "from sklearn.decomposition import PCA"
      ],
      "metadata": {
        "id": "L51gDtlPowvB"
      },
      "execution_count": null,
      "outputs": []
    },
    {
      "cell_type": "code",
      "source": [
        "# Visualize the histogram of the error for each breakpoint together with its probability distribution.\n",
        "import seaborn as sns"
      ],
      "metadata": {
        "id": "wq5nsauP0_wv"
      },
      "execution_count": null,
      "outputs": []
    },
    {
      "cell_type": "markdown",
      "source": [
        "Helper Functions"
      ],
      "metadata": {
        "id": "WQuNt9Km8Bbj"
      }
    },
    {
      "cell_type": "code",
      "source": [
        "np.set_printoptions(suppress=True, linewidth=100, precision=2)"
      ],
      "metadata": {
        "id": "MnQh6z29olxC"
      },
      "execution_count": null,
      "outputs": []
    },
    {
      "cell_type": "code",
      "source": [
        "# Checkpoints - List and npy files\n",
        "# np.save() - Saves a single array in a binary numpy format\n",
        "def checkpoints(filename, checkpoint_data):\n",
        "  np.save(filename, checkpoint_data)\n",
        "  checkpoint_variable = np.load(filename + '.npy') #Load so that we always have an on-hand version of the checkpoint\n",
        "  return(checkpoint_variable)\n",
        "\n",
        "# List Checkpoint\n",
        "def list_checkpoints(filename, checkpoint_data):\n",
        "  np.save(filename, checkpoint_data, allow_pickle=True)\n",
        "  checkpoint_variable = np.load(filename + '.npy', allow_pickle=True) #Load so that we always have an on-hand version of the checkpoint\n",
        "  return(checkpoint_variable)"
      ],
      "metadata": {
        "id": "n7i_27BpmXIF"
      },
      "execution_count": null,
      "outputs": []
    },
    {
      "cell_type": "markdown",
      "source": [
        "Load Data"
      ],
      "metadata": {
        "id": "00T-W-RfwfiX"
      }
    },
    {
      "cell_type": "code",
      "source": [
        "from google.colab import files\n",
        "uploaded = files.upload()"
      ],
      "metadata": {
        "id": "HW-VrJguBvYJ",
        "colab": {
          "base_uri": "https://localhost:8080/",
          "height": 108
        },
        "outputId": "02b25605-7768-4e26-bdcf-75141aeb2bf8"
      },
      "execution_count": null,
      "outputs": [
        {
          "output_type": "display_data",
          "data": {
            "text/plain": [
              "<IPython.core.display.HTML object>"
            ],
            "text/html": [
              "\n",
              "     <input type=\"file\" id=\"files-ceba7a02-78ce-4a9e-83cb-ecf5255fb693\" name=\"files[]\" multiple disabled\n",
              "        style=\"border:none\" />\n",
              "     <output id=\"result-ceba7a02-78ce-4a9e-83cb-ecf5255fb693\">\n",
              "      Upload widget is only available when the cell has been executed in the\n",
              "      current browser session. Please rerun this cell to enable.\n",
              "      </output>\n",
              "      <script>// Copyright 2017 Google LLC\n",
              "//\n",
              "// Licensed under the Apache License, Version 2.0 (the \"License\");\n",
              "// you may not use this file except in compliance with the License.\n",
              "// You may obtain a copy of the License at\n",
              "//\n",
              "//      http://www.apache.org/licenses/LICENSE-2.0\n",
              "//\n",
              "// Unless required by applicable law or agreed to in writing, software\n",
              "// distributed under the License is distributed on an \"AS IS\" BASIS,\n",
              "// WITHOUT WARRANTIES OR CONDITIONS OF ANY KIND, either express or implied.\n",
              "// See the License for the specific language governing permissions and\n",
              "// limitations under the License.\n",
              "\n",
              "/**\n",
              " * @fileoverview Helpers for google.colab Python module.\n",
              " */\n",
              "(function(scope) {\n",
              "function span(text, styleAttributes = {}) {\n",
              "  const element = document.createElement('span');\n",
              "  element.textContent = text;\n",
              "  for (const key of Object.keys(styleAttributes)) {\n",
              "    element.style[key] = styleAttributes[key];\n",
              "  }\n",
              "  return element;\n",
              "}\n",
              "\n",
              "// Max number of bytes which will be uploaded at a time.\n",
              "const MAX_PAYLOAD_SIZE = 100 * 1024;\n",
              "\n",
              "function _uploadFiles(inputId, outputId) {\n",
              "  const steps = uploadFilesStep(inputId, outputId);\n",
              "  const outputElement = document.getElementById(outputId);\n",
              "  // Cache steps on the outputElement to make it available for the next call\n",
              "  // to uploadFilesContinue from Python.\n",
              "  outputElement.steps = steps;\n",
              "\n",
              "  return _uploadFilesContinue(outputId);\n",
              "}\n",
              "\n",
              "// This is roughly an async generator (not supported in the browser yet),\n",
              "// where there are multiple asynchronous steps and the Python side is going\n",
              "// to poll for completion of each step.\n",
              "// This uses a Promise to block the python side on completion of each step,\n",
              "// then passes the result of the previous step as the input to the next step.\n",
              "function _uploadFilesContinue(outputId) {\n",
              "  const outputElement = document.getElementById(outputId);\n",
              "  const steps = outputElement.steps;\n",
              "\n",
              "  const next = steps.next(outputElement.lastPromiseValue);\n",
              "  return Promise.resolve(next.value.promise).then((value) => {\n",
              "    // Cache the last promise value to make it available to the next\n",
              "    // step of the generator.\n",
              "    outputElement.lastPromiseValue = value;\n",
              "    return next.value.response;\n",
              "  });\n",
              "}\n",
              "\n",
              "/**\n",
              " * Generator function which is called between each async step of the upload\n",
              " * process.\n",
              " * @param {string} inputId Element ID of the input file picker element.\n",
              " * @param {string} outputId Element ID of the output display.\n",
              " * @return {!Iterable<!Object>} Iterable of next steps.\n",
              " */\n",
              "function* uploadFilesStep(inputId, outputId) {\n",
              "  const inputElement = document.getElementById(inputId);\n",
              "  inputElement.disabled = false;\n",
              "\n",
              "  const outputElement = document.getElementById(outputId);\n",
              "  outputElement.innerHTML = '';\n",
              "\n",
              "  const pickedPromise = new Promise((resolve) => {\n",
              "    inputElement.addEventListener('change', (e) => {\n",
              "      resolve(e.target.files);\n",
              "    });\n",
              "  });\n",
              "\n",
              "  const cancel = document.createElement('button');\n",
              "  inputElement.parentElement.appendChild(cancel);\n",
              "  cancel.textContent = 'Cancel upload';\n",
              "  const cancelPromise = new Promise((resolve) => {\n",
              "    cancel.onclick = () => {\n",
              "      resolve(null);\n",
              "    };\n",
              "  });\n",
              "\n",
              "  // Wait for the user to pick the files.\n",
              "  const files = yield {\n",
              "    promise: Promise.race([pickedPromise, cancelPromise]),\n",
              "    response: {\n",
              "      action: 'starting',\n",
              "    }\n",
              "  };\n",
              "\n",
              "  cancel.remove();\n",
              "\n",
              "  // Disable the input element since further picks are not allowed.\n",
              "  inputElement.disabled = true;\n",
              "\n",
              "  if (!files) {\n",
              "    return {\n",
              "      response: {\n",
              "        action: 'complete',\n",
              "      }\n",
              "    };\n",
              "  }\n",
              "\n",
              "  for (const file of files) {\n",
              "    const li = document.createElement('li');\n",
              "    li.append(span(file.name, {fontWeight: 'bold'}));\n",
              "    li.append(span(\n",
              "        `(${file.type || 'n/a'}) - ${file.size} bytes, ` +\n",
              "        `last modified: ${\n",
              "            file.lastModifiedDate ? file.lastModifiedDate.toLocaleDateString() :\n",
              "                                    'n/a'} - `));\n",
              "    const percent = span('0% done');\n",
              "    li.appendChild(percent);\n",
              "\n",
              "    outputElement.appendChild(li);\n",
              "\n",
              "    const fileDataPromise = new Promise((resolve) => {\n",
              "      const reader = new FileReader();\n",
              "      reader.onload = (e) => {\n",
              "        resolve(e.target.result);\n",
              "      };\n",
              "      reader.readAsArrayBuffer(file);\n",
              "    });\n",
              "    // Wait for the data to be ready.\n",
              "    let fileData = yield {\n",
              "      promise: fileDataPromise,\n",
              "      response: {\n",
              "        action: 'continue',\n",
              "      }\n",
              "    };\n",
              "\n",
              "    // Use a chunked sending to avoid message size limits. See b/62115660.\n",
              "    let position = 0;\n",
              "    do {\n",
              "      const length = Math.min(fileData.byteLength - position, MAX_PAYLOAD_SIZE);\n",
              "      const chunk = new Uint8Array(fileData, position, length);\n",
              "      position += length;\n",
              "\n",
              "      const base64 = btoa(String.fromCharCode.apply(null, chunk));\n",
              "      yield {\n",
              "        response: {\n",
              "          action: 'append',\n",
              "          file: file.name,\n",
              "          data: base64,\n",
              "        },\n",
              "      };\n",
              "\n",
              "      let percentDone = fileData.byteLength === 0 ?\n",
              "          100 :\n",
              "          Math.round((position / fileData.byteLength) * 100);\n",
              "      percent.textContent = `${percentDone}% done`;\n",
              "\n",
              "    } while (position < fileData.byteLength);\n",
              "  }\n",
              "\n",
              "  // All done.\n",
              "  yield {\n",
              "    response: {\n",
              "      action: 'complete',\n",
              "    }\n",
              "  };\n",
              "}\n",
              "\n",
              "scope.google = scope.google || {};\n",
              "scope.google.colab = scope.google.colab || {};\n",
              "scope.google.colab._files = {\n",
              "  _uploadFiles,\n",
              "  _uploadFilesContinue,\n",
              "};\n",
              "})(self);\n",
              "</script> "
            ]
          },
          "metadata": {}
        },
        {
          "output_type": "stream",
          "name": "stdout",
          "text": [
            "Saving x-train.npy to x-train.npy\n",
            "Saving x-val.npy to x-val.npy\n"
          ]
        }
      ]
    },
    {
      "cell_type": "code",
      "source": [
        "# Load HItrain and HIval back in\n",
        "HItrain_df = pd.read_csv('/content/HItrain-df')\n",
        "HIval_df = pd.read_csv('/content/HIval-df')"
      ],
      "metadata": {
        "id": "V4HmocGq6tlQ"
      },
      "execution_count": null,
      "outputs": []
    },
    {
      "cell_type": "code",
      "source": [
        "# Load HItrain and HIval back in\n",
        "temp_HItrain_df = pd.read_csv('/content/HItrain-df (3)')\n",
        "temp_HIval_df = pd.read_csv('/content/HIval-df (3)')"
      ],
      "metadata": {
        "id": "4qZzL9ymwzTu"
      },
      "execution_count": null,
      "outputs": []
    },
    {
      "cell_type": "markdown",
      "source": [
        "Note: The dataframes HItrain and HIval dataframes have been updated with HI's from different models that have been constructed at the time of this experimentation (linear regression and Feedforward NN)."
      ],
      "metadata": {
        "id": "HHP_QNDweDMK"
      }
    },
    {
      "cell_type": "code",
      "source": [
        "apprx_HI_ANN = np.load('/content/HItrain_ANN.npy')\n",
        "apprx_HI_ANN.shape"
      ],
      "metadata": {
        "colab": {
          "base_uri": "https://localhost:8080/"
        },
        "id": "K1tUXyFb4hB0",
        "outputId": "7abe274f-c2f8-41e8-f36d-52d811181c8c"
      },
      "execution_count": null,
      "outputs": [
        {
          "output_type": "execute_result",
          "data": {
            "text/plain": [
              "(12303,)"
            ]
          },
          "metadata": {},
          "execution_count": 12
        }
      ]
    },
    {
      "cell_type": "code",
      "source": [
        "HIval_df['apprx_HI_ANN'] = apprx_HI_ANN\n",
        "HIval_df.head()"
      ],
      "metadata": {
        "colab": {
          "base_uri": "https://localhost:8080/",
          "height": 206
        },
        "id": "4uNp4bPn5QtW",
        "outputId": "18dd1713-8720-4bce-e136-7b04d7339e37"
      },
      "execution_count": null,
      "outputs": [
        {
          "output_type": "execute_result",
          "data": {
            "text/plain": [
              "   Unit_id  Time    ori_HI  Maxcycle  RUL  apprx_HI  apprx_HI_ANN\n",
              "0      201     1  1.000000       191  190  0.933014      0.898250\n",
              "1      201     2  0.994737       191  189  0.763932      0.781614\n",
              "2      201     3  0.989474       191  188  0.797754      0.796511\n",
              "3      201     4  0.984211       191  187  0.739501      0.775219\n",
              "4      201     5  0.978947       191  186  0.817956      0.820120"
            ],
            "text/html": [
              "\n",
              "  <div id=\"df-f662d665-8a5a-4799-8fd0-7d781cd23573\">\n",
              "    <div class=\"colab-df-container\">\n",
              "      <div>\n",
              "<style scoped>\n",
              "    .dataframe tbody tr th:only-of-type {\n",
              "        vertical-align: middle;\n",
              "    }\n",
              "\n",
              "    .dataframe tbody tr th {\n",
              "        vertical-align: top;\n",
              "    }\n",
              "\n",
              "    .dataframe thead th {\n",
              "        text-align: right;\n",
              "    }\n",
              "</style>\n",
              "<table border=\"1\" class=\"dataframe\">\n",
              "  <thead>\n",
              "    <tr style=\"text-align: right;\">\n",
              "      <th></th>\n",
              "      <th>Unit_id</th>\n",
              "      <th>Time</th>\n",
              "      <th>ori_HI</th>\n",
              "      <th>Maxcycle</th>\n",
              "      <th>RUL</th>\n",
              "      <th>apprx_HI</th>\n",
              "      <th>apprx_HI_ANN</th>\n",
              "    </tr>\n",
              "  </thead>\n",
              "  <tbody>\n",
              "    <tr>\n",
              "      <th>0</th>\n",
              "      <td>201</td>\n",
              "      <td>1</td>\n",
              "      <td>1.000000</td>\n",
              "      <td>191</td>\n",
              "      <td>190</td>\n",
              "      <td>0.933014</td>\n",
              "      <td>0.898250</td>\n",
              "    </tr>\n",
              "    <tr>\n",
              "      <th>1</th>\n",
              "      <td>201</td>\n",
              "      <td>2</td>\n",
              "      <td>0.994737</td>\n",
              "      <td>191</td>\n",
              "      <td>189</td>\n",
              "      <td>0.763932</td>\n",
              "      <td>0.781614</td>\n",
              "    </tr>\n",
              "    <tr>\n",
              "      <th>2</th>\n",
              "      <td>201</td>\n",
              "      <td>3</td>\n",
              "      <td>0.989474</td>\n",
              "      <td>191</td>\n",
              "      <td>188</td>\n",
              "      <td>0.797754</td>\n",
              "      <td>0.796511</td>\n",
              "    </tr>\n",
              "    <tr>\n",
              "      <th>3</th>\n",
              "      <td>201</td>\n",
              "      <td>4</td>\n",
              "      <td>0.984211</td>\n",
              "      <td>191</td>\n",
              "      <td>187</td>\n",
              "      <td>0.739501</td>\n",
              "      <td>0.775219</td>\n",
              "    </tr>\n",
              "    <tr>\n",
              "      <th>4</th>\n",
              "      <td>201</td>\n",
              "      <td>5</td>\n",
              "      <td>0.978947</td>\n",
              "      <td>191</td>\n",
              "      <td>186</td>\n",
              "      <td>0.817956</td>\n",
              "      <td>0.820120</td>\n",
              "    </tr>\n",
              "  </tbody>\n",
              "</table>\n",
              "</div>\n",
              "      <button class=\"colab-df-convert\" onclick=\"convertToInteractive('df-f662d665-8a5a-4799-8fd0-7d781cd23573')\"\n",
              "              title=\"Convert this dataframe to an interactive table.\"\n",
              "              style=\"display:none;\">\n",
              "        \n",
              "  <svg xmlns=\"http://www.w3.org/2000/svg\" height=\"24px\"viewBox=\"0 0 24 24\"\n",
              "       width=\"24px\">\n",
              "    <path d=\"M0 0h24v24H0V0z\" fill=\"none\"/>\n",
              "    <path d=\"M18.56 5.44l.94 2.06.94-2.06 2.06-.94-2.06-.94-.94-2.06-.94 2.06-2.06.94zm-11 1L8.5 8.5l.94-2.06 2.06-.94-2.06-.94L8.5 2.5l-.94 2.06-2.06.94zm10 10l.94 2.06.94-2.06 2.06-.94-2.06-.94-.94-2.06-.94 2.06-2.06.94z\"/><path d=\"M17.41 7.96l-1.37-1.37c-.4-.4-.92-.59-1.43-.59-.52 0-1.04.2-1.43.59L10.3 9.45l-7.72 7.72c-.78.78-.78 2.05 0 2.83L4 21.41c.39.39.9.59 1.41.59.51 0 1.02-.2 1.41-.59l7.78-7.78 2.81-2.81c.8-.78.8-2.07 0-2.86zM5.41 20L4 18.59l7.72-7.72 1.47 1.35L5.41 20z\"/>\n",
              "  </svg>\n",
              "      </button>\n",
              "      \n",
              "  <style>\n",
              "    .colab-df-container {\n",
              "      display:flex;\n",
              "      flex-wrap:wrap;\n",
              "      gap: 12px;\n",
              "    }\n",
              "\n",
              "    .colab-df-convert {\n",
              "      background-color: #E8F0FE;\n",
              "      border: none;\n",
              "      border-radius: 50%;\n",
              "      cursor: pointer;\n",
              "      display: none;\n",
              "      fill: #1967D2;\n",
              "      height: 32px;\n",
              "      padding: 0 0 0 0;\n",
              "      width: 32px;\n",
              "    }\n",
              "\n",
              "    .colab-df-convert:hover {\n",
              "      background-color: #E2EBFA;\n",
              "      box-shadow: 0px 1px 2px rgba(60, 64, 67, 0.3), 0px 1px 3px 1px rgba(60, 64, 67, 0.15);\n",
              "      fill: #174EA6;\n",
              "    }\n",
              "\n",
              "    [theme=dark] .colab-df-convert {\n",
              "      background-color: #3B4455;\n",
              "      fill: #D2E3FC;\n",
              "    }\n",
              "\n",
              "    [theme=dark] .colab-df-convert:hover {\n",
              "      background-color: #434B5C;\n",
              "      box-shadow: 0px 1px 3px 1px rgba(0, 0, 0, 0.15);\n",
              "      filter: drop-shadow(0px 1px 2px rgba(0, 0, 0, 0.3));\n",
              "      fill: #FFFFFF;\n",
              "    }\n",
              "  </style>\n",
              "\n",
              "      <script>\n",
              "        const buttonEl =\n",
              "          document.querySelector('#df-f662d665-8a5a-4799-8fd0-7d781cd23573 button.colab-df-convert');\n",
              "        buttonEl.style.display =\n",
              "          google.colab.kernel.accessAllowed ? 'block' : 'none';\n",
              "\n",
              "        async function convertToInteractive(key) {\n",
              "          const element = document.querySelector('#df-f662d665-8a5a-4799-8fd0-7d781cd23573');\n",
              "          const dataTable =\n",
              "            await google.colab.kernel.invokeFunction('convertToInteractive',\n",
              "                                                     [key], {});\n",
              "          if (!dataTable) return;\n",
              "\n",
              "          const docLinkHtml = 'Like what you see? Visit the ' +\n",
              "            '<a target=\"_blank\" href=https://colab.research.google.com/notebooks/data_table.ipynb>data table notebook</a>'\n",
              "            + ' to learn more about interactive tables.';\n",
              "          element.innerHTML = '';\n",
              "          dataTable['output_type'] = 'display_data';\n",
              "          await google.colab.output.renderOutput(dataTable, element);\n",
              "          const docLink = document.createElement('div');\n",
              "          docLink.innerHTML = docLinkHtml;\n",
              "          element.appendChild(docLink);\n",
              "        }\n",
              "      </script>\n",
              "    </div>\n",
              "  </div>\n",
              "  "
            ]
          },
          "metadata": {},
          "execution_count": 13
        }
      ]
    },
    {
      "cell_type": "code",
      "source": [
        "apprx_HI_ANN = np.load('/content/HIval_ANN.npy')\n",
        "apprx_HI_ANN.shape"
      ],
      "metadata": {
        "colab": {
          "base_uri": "https://localhost:8080/"
        },
        "id": "W7PlbK4E5EMK",
        "outputId": "e0971bb8-8b7f-4a85-eca2-3636e3669c1b"
      },
      "execution_count": null,
      "outputs": [
        {
          "output_type": "execute_result",
          "data": {
            "text/plain": [
              "(41456,)"
            ]
          },
          "metadata": {},
          "execution_count": 14
        }
      ]
    },
    {
      "cell_type": "code",
      "source": [
        "HItrain_df['apprx_HI_ANN'] = apprx_HI_ANN\n",
        "HItrain_df.head()"
      ],
      "metadata": {
        "colab": {
          "base_uri": "https://localhost:8080/",
          "height": 206
        },
        "id": "wPBoZxLS5m4y",
        "outputId": "43dcef60-5d68-4245-c4fd-678a9f4ed73b"
      },
      "execution_count": null,
      "outputs": [
        {
          "output_type": "execute_result",
          "data": {
            "text/plain": [
              "   Unit_id  Time    ori_HI  Maxcycle  RUL    new_HI  apprx_HI  apprx_HI_ANN\n",
              "0        1     1  1.000000       149  148  0.582822  0.546977      0.631525\n",
              "1        1     2  0.993243       149  147  0.582912  0.581504      0.724908\n",
              "2        1     3  0.986486       149  146  0.582965  0.601732      0.767940\n",
              "3        1     4  0.979730       149  145  0.583290  0.726264      0.847148\n",
              "4        1     5  0.972973       149  144  0.582879  0.568990      0.711482"
            ],
            "text/html": [
              "\n",
              "  <div id=\"df-4a88aaa6-5606-4fea-a4e4-8f62eccc5571\">\n",
              "    <div class=\"colab-df-container\">\n",
              "      <div>\n",
              "<style scoped>\n",
              "    .dataframe tbody tr th:only-of-type {\n",
              "        vertical-align: middle;\n",
              "    }\n",
              "\n",
              "    .dataframe tbody tr th {\n",
              "        vertical-align: top;\n",
              "    }\n",
              "\n",
              "    .dataframe thead th {\n",
              "        text-align: right;\n",
              "    }\n",
              "</style>\n",
              "<table border=\"1\" class=\"dataframe\">\n",
              "  <thead>\n",
              "    <tr style=\"text-align: right;\">\n",
              "      <th></th>\n",
              "      <th>Unit_id</th>\n",
              "      <th>Time</th>\n",
              "      <th>ori_HI</th>\n",
              "      <th>Maxcycle</th>\n",
              "      <th>RUL</th>\n",
              "      <th>new_HI</th>\n",
              "      <th>apprx_HI</th>\n",
              "      <th>apprx_HI_ANN</th>\n",
              "    </tr>\n",
              "  </thead>\n",
              "  <tbody>\n",
              "    <tr>\n",
              "      <th>0</th>\n",
              "      <td>1</td>\n",
              "      <td>1</td>\n",
              "      <td>1.000000</td>\n",
              "      <td>149</td>\n",
              "      <td>148</td>\n",
              "      <td>0.582822</td>\n",
              "      <td>0.546977</td>\n",
              "      <td>0.631525</td>\n",
              "    </tr>\n",
              "    <tr>\n",
              "      <th>1</th>\n",
              "      <td>1</td>\n",
              "      <td>2</td>\n",
              "      <td>0.993243</td>\n",
              "      <td>149</td>\n",
              "      <td>147</td>\n",
              "      <td>0.582912</td>\n",
              "      <td>0.581504</td>\n",
              "      <td>0.724908</td>\n",
              "    </tr>\n",
              "    <tr>\n",
              "      <th>2</th>\n",
              "      <td>1</td>\n",
              "      <td>3</td>\n",
              "      <td>0.986486</td>\n",
              "      <td>149</td>\n",
              "      <td>146</td>\n",
              "      <td>0.582965</td>\n",
              "      <td>0.601732</td>\n",
              "      <td>0.767940</td>\n",
              "    </tr>\n",
              "    <tr>\n",
              "      <th>3</th>\n",
              "      <td>1</td>\n",
              "      <td>4</td>\n",
              "      <td>0.979730</td>\n",
              "      <td>149</td>\n",
              "      <td>145</td>\n",
              "      <td>0.583290</td>\n",
              "      <td>0.726264</td>\n",
              "      <td>0.847148</td>\n",
              "    </tr>\n",
              "    <tr>\n",
              "      <th>4</th>\n",
              "      <td>1</td>\n",
              "      <td>5</td>\n",
              "      <td>0.972973</td>\n",
              "      <td>149</td>\n",
              "      <td>144</td>\n",
              "      <td>0.582879</td>\n",
              "      <td>0.568990</td>\n",
              "      <td>0.711482</td>\n",
              "    </tr>\n",
              "  </tbody>\n",
              "</table>\n",
              "</div>\n",
              "      <button class=\"colab-df-convert\" onclick=\"convertToInteractive('df-4a88aaa6-5606-4fea-a4e4-8f62eccc5571')\"\n",
              "              title=\"Convert this dataframe to an interactive table.\"\n",
              "              style=\"display:none;\">\n",
              "        \n",
              "  <svg xmlns=\"http://www.w3.org/2000/svg\" height=\"24px\"viewBox=\"0 0 24 24\"\n",
              "       width=\"24px\">\n",
              "    <path d=\"M0 0h24v24H0V0z\" fill=\"none\"/>\n",
              "    <path d=\"M18.56 5.44l.94 2.06.94-2.06 2.06-.94-2.06-.94-.94-2.06-.94 2.06-2.06.94zm-11 1L8.5 8.5l.94-2.06 2.06-.94-2.06-.94L8.5 2.5l-.94 2.06-2.06.94zm10 10l.94 2.06.94-2.06 2.06-.94-2.06-.94-.94-2.06-.94 2.06-2.06.94z\"/><path d=\"M17.41 7.96l-1.37-1.37c-.4-.4-.92-.59-1.43-.59-.52 0-1.04.2-1.43.59L10.3 9.45l-7.72 7.72c-.78.78-.78 2.05 0 2.83L4 21.41c.39.39.9.59 1.41.59.51 0 1.02-.2 1.41-.59l7.78-7.78 2.81-2.81c.8-.78.8-2.07 0-2.86zM5.41 20L4 18.59l7.72-7.72 1.47 1.35L5.41 20z\"/>\n",
              "  </svg>\n",
              "      </button>\n",
              "      \n",
              "  <style>\n",
              "    .colab-df-container {\n",
              "      display:flex;\n",
              "      flex-wrap:wrap;\n",
              "      gap: 12px;\n",
              "    }\n",
              "\n",
              "    .colab-df-convert {\n",
              "      background-color: #E8F0FE;\n",
              "      border: none;\n",
              "      border-radius: 50%;\n",
              "      cursor: pointer;\n",
              "      display: none;\n",
              "      fill: #1967D2;\n",
              "      height: 32px;\n",
              "      padding: 0 0 0 0;\n",
              "      width: 32px;\n",
              "    }\n",
              "\n",
              "    .colab-df-convert:hover {\n",
              "      background-color: #E2EBFA;\n",
              "      box-shadow: 0px 1px 2px rgba(60, 64, 67, 0.3), 0px 1px 3px 1px rgba(60, 64, 67, 0.15);\n",
              "      fill: #174EA6;\n",
              "    }\n",
              "\n",
              "    [theme=dark] .colab-df-convert {\n",
              "      background-color: #3B4455;\n",
              "      fill: #D2E3FC;\n",
              "    }\n",
              "\n",
              "    [theme=dark] .colab-df-convert:hover {\n",
              "      background-color: #434B5C;\n",
              "      box-shadow: 0px 1px 3px 1px rgba(0, 0, 0, 0.15);\n",
              "      filter: drop-shadow(0px 1px 2px rgba(0, 0, 0, 0.3));\n",
              "      fill: #FFFFFF;\n",
              "    }\n",
              "  </style>\n",
              "\n",
              "      <script>\n",
              "        const buttonEl =\n",
              "          document.querySelector('#df-4a88aaa6-5606-4fea-a4e4-8f62eccc5571 button.colab-df-convert');\n",
              "        buttonEl.style.display =\n",
              "          google.colab.kernel.accessAllowed ? 'block' : 'none';\n",
              "\n",
              "        async function convertToInteractive(key) {\n",
              "          const element = document.querySelector('#df-4a88aaa6-5606-4fea-a4e4-8f62eccc5571');\n",
              "          const dataTable =\n",
              "            await google.colab.kernel.invokeFunction('convertToInteractive',\n",
              "                                                     [key], {});\n",
              "          if (!dataTable) return;\n",
              "\n",
              "          const docLinkHtml = 'Like what you see? Visit the ' +\n",
              "            '<a target=\"_blank\" href=https://colab.research.google.com/notebooks/data_table.ipynb>data table notebook</a>'\n",
              "            + ' to learn more about interactive tables.';\n",
              "          element.innerHTML = '';\n",
              "          dataTable['output_type'] = 'display_data';\n",
              "          await google.colab.output.renderOutput(dataTable, element);\n",
              "          const docLink = document.createElement('div');\n",
              "          docLink.innerHTML = docLinkHtml;\n",
              "          element.appendChild(docLink);\n",
              "        }\n",
              "      </script>\n",
              "    </div>\n",
              "  </div>\n",
              "  "
            ]
          },
          "metadata": {},
          "execution_count": 15
        }
      ]
    },
    {
      "cell_type": "code",
      "source": [
        "# Take median of the maxcycle of nearest residuals or neighbours\n",
        "# Instances maxcycle_df\n",
        "max_cycle_df = HItrain_df.groupby('Unit_id').max()['Time'].reset_index().rename(columns={'Time':'max_cycle'})\n",
        "max_cycle_df.head()"
      ],
      "metadata": {
        "colab": {
          "base_uri": "https://localhost:8080/",
          "height": 206
        },
        "id": "blbVWO5yWl_z",
        "outputId": "6bbf1ec9-4a15-4c09-e81e-e43eb1f17d05"
      },
      "execution_count": null,
      "outputs": [
        {
          "output_type": "execute_result",
          "data": {
            "text/plain": [
              "   Unit_id  max_cycle\n",
              "0        1        149\n",
              "1        2        269\n",
              "2        3        206\n",
              "3        4        235\n",
              "4        5        154"
            ],
            "text/html": [
              "\n",
              "  <div id=\"df-36334841-edf2-4f96-b7f5-3c7998b8357b\">\n",
              "    <div class=\"colab-df-container\">\n",
              "      <div>\n",
              "<style scoped>\n",
              "    .dataframe tbody tr th:only-of-type {\n",
              "        vertical-align: middle;\n",
              "    }\n",
              "\n",
              "    .dataframe tbody tr th {\n",
              "        vertical-align: top;\n",
              "    }\n",
              "\n",
              "    .dataframe thead th {\n",
              "        text-align: right;\n",
              "    }\n",
              "</style>\n",
              "<table border=\"1\" class=\"dataframe\">\n",
              "  <thead>\n",
              "    <tr style=\"text-align: right;\">\n",
              "      <th></th>\n",
              "      <th>Unit_id</th>\n",
              "      <th>max_cycle</th>\n",
              "    </tr>\n",
              "  </thead>\n",
              "  <tbody>\n",
              "    <tr>\n",
              "      <th>0</th>\n",
              "      <td>1</td>\n",
              "      <td>149</td>\n",
              "    </tr>\n",
              "    <tr>\n",
              "      <th>1</th>\n",
              "      <td>2</td>\n",
              "      <td>269</td>\n",
              "    </tr>\n",
              "    <tr>\n",
              "      <th>2</th>\n",
              "      <td>3</td>\n",
              "      <td>206</td>\n",
              "    </tr>\n",
              "    <tr>\n",
              "      <th>3</th>\n",
              "      <td>4</td>\n",
              "      <td>235</td>\n",
              "    </tr>\n",
              "    <tr>\n",
              "      <th>4</th>\n",
              "      <td>5</td>\n",
              "      <td>154</td>\n",
              "    </tr>\n",
              "  </tbody>\n",
              "</table>\n",
              "</div>\n",
              "      <button class=\"colab-df-convert\" onclick=\"convertToInteractive('df-36334841-edf2-4f96-b7f5-3c7998b8357b')\"\n",
              "              title=\"Convert this dataframe to an interactive table.\"\n",
              "              style=\"display:none;\">\n",
              "        \n",
              "  <svg xmlns=\"http://www.w3.org/2000/svg\" height=\"24px\"viewBox=\"0 0 24 24\"\n",
              "       width=\"24px\">\n",
              "    <path d=\"M0 0h24v24H0V0z\" fill=\"none\"/>\n",
              "    <path d=\"M18.56 5.44l.94 2.06.94-2.06 2.06-.94-2.06-.94-.94-2.06-.94 2.06-2.06.94zm-11 1L8.5 8.5l.94-2.06 2.06-.94-2.06-.94L8.5 2.5l-.94 2.06-2.06.94zm10 10l.94 2.06.94-2.06 2.06-.94-2.06-.94-.94-2.06-.94 2.06-2.06.94z\"/><path d=\"M17.41 7.96l-1.37-1.37c-.4-.4-.92-.59-1.43-.59-.52 0-1.04.2-1.43.59L10.3 9.45l-7.72 7.72c-.78.78-.78 2.05 0 2.83L4 21.41c.39.39.9.59 1.41.59.51 0 1.02-.2 1.41-.59l7.78-7.78 2.81-2.81c.8-.78.8-2.07 0-2.86zM5.41 20L4 18.59l7.72-7.72 1.47 1.35L5.41 20z\"/>\n",
              "  </svg>\n",
              "      </button>\n",
              "      \n",
              "  <style>\n",
              "    .colab-df-container {\n",
              "      display:flex;\n",
              "      flex-wrap:wrap;\n",
              "      gap: 12px;\n",
              "    }\n",
              "\n",
              "    .colab-df-convert {\n",
              "      background-color: #E8F0FE;\n",
              "      border: none;\n",
              "      border-radius: 50%;\n",
              "      cursor: pointer;\n",
              "      display: none;\n",
              "      fill: #1967D2;\n",
              "      height: 32px;\n",
              "      padding: 0 0 0 0;\n",
              "      width: 32px;\n",
              "    }\n",
              "\n",
              "    .colab-df-convert:hover {\n",
              "      background-color: #E2EBFA;\n",
              "      box-shadow: 0px 1px 2px rgba(60, 64, 67, 0.3), 0px 1px 3px 1px rgba(60, 64, 67, 0.15);\n",
              "      fill: #174EA6;\n",
              "    }\n",
              "\n",
              "    [theme=dark] .colab-df-convert {\n",
              "      background-color: #3B4455;\n",
              "      fill: #D2E3FC;\n",
              "    }\n",
              "\n",
              "    [theme=dark] .colab-df-convert:hover {\n",
              "      background-color: #434B5C;\n",
              "      box-shadow: 0px 1px 3px 1px rgba(0, 0, 0, 0.15);\n",
              "      filter: drop-shadow(0px 1px 2px rgba(0, 0, 0, 0.3));\n",
              "      fill: #FFFFFF;\n",
              "    }\n",
              "  </style>\n",
              "\n",
              "      <script>\n",
              "        const buttonEl =\n",
              "          document.querySelector('#df-36334841-edf2-4f96-b7f5-3c7998b8357b button.colab-df-convert');\n",
              "        buttonEl.style.display =\n",
              "          google.colab.kernel.accessAllowed ? 'block' : 'none';\n",
              "\n",
              "        async function convertToInteractive(key) {\n",
              "          const element = document.querySelector('#df-36334841-edf2-4f96-b7f5-3c7998b8357b');\n",
              "          const dataTable =\n",
              "            await google.colab.kernel.invokeFunction('convertToInteractive',\n",
              "                                                     [key], {});\n",
              "          if (!dataTable) return;\n",
              "\n",
              "          const docLinkHtml = 'Like what you see? Visit the ' +\n",
              "            '<a target=\"_blank\" href=https://colab.research.google.com/notebooks/data_table.ipynb>data table notebook</a>'\n",
              "            + ' to learn more about interactive tables.';\n",
              "          element.innerHTML = '';\n",
              "          dataTable['output_type'] = 'display_data';\n",
              "          await google.colab.output.renderOutput(dataTable, element);\n",
              "          const docLink = document.createElement('div');\n",
              "          docLink.innerHTML = docLinkHtml;\n",
              "          element.appendChild(docLink);\n",
              "        }\n",
              "      </script>\n",
              "    </div>\n",
              "  </div>\n",
              "  "
            ]
          },
          "metadata": {},
          "execution_count": 11
        }
      ]
    },
    {
      "cell_type": "code",
      "source": [
        "max_cycle_df.set_index('Unit_id',inplace=True)\n",
        "max_cycle_df.head()"
      ],
      "metadata": {
        "colab": {
          "base_uri": "https://localhost:8080/",
          "height": 237
        },
        "id": "p6yWKgvvgI4x",
        "outputId": "b8c0cc33-7b3c-472e-a155-572395743d16"
      },
      "execution_count": null,
      "outputs": [
        {
          "output_type": "execute_result",
          "data": {
            "text/plain": [
              "         max_cycle\n",
              "Unit_id           \n",
              "1              149\n",
              "2              269\n",
              "3              206\n",
              "4              235\n",
              "5              154"
            ],
            "text/html": [
              "\n",
              "  <div id=\"df-7e396a84-4188-4a0f-8e9e-fb4e5104663c\">\n",
              "    <div class=\"colab-df-container\">\n",
              "      <div>\n",
              "<style scoped>\n",
              "    .dataframe tbody tr th:only-of-type {\n",
              "        vertical-align: middle;\n",
              "    }\n",
              "\n",
              "    .dataframe tbody tr th {\n",
              "        vertical-align: top;\n",
              "    }\n",
              "\n",
              "    .dataframe thead th {\n",
              "        text-align: right;\n",
              "    }\n",
              "</style>\n",
              "<table border=\"1\" class=\"dataframe\">\n",
              "  <thead>\n",
              "    <tr style=\"text-align: right;\">\n",
              "      <th></th>\n",
              "      <th>max_cycle</th>\n",
              "    </tr>\n",
              "    <tr>\n",
              "      <th>Unit_id</th>\n",
              "      <th></th>\n",
              "    </tr>\n",
              "  </thead>\n",
              "  <tbody>\n",
              "    <tr>\n",
              "      <th>1</th>\n",
              "      <td>149</td>\n",
              "    </tr>\n",
              "    <tr>\n",
              "      <th>2</th>\n",
              "      <td>269</td>\n",
              "    </tr>\n",
              "    <tr>\n",
              "      <th>3</th>\n",
              "      <td>206</td>\n",
              "    </tr>\n",
              "    <tr>\n",
              "      <th>4</th>\n",
              "      <td>235</td>\n",
              "    </tr>\n",
              "    <tr>\n",
              "      <th>5</th>\n",
              "      <td>154</td>\n",
              "    </tr>\n",
              "  </tbody>\n",
              "</table>\n",
              "</div>\n",
              "      <button class=\"colab-df-convert\" onclick=\"convertToInteractive('df-7e396a84-4188-4a0f-8e9e-fb4e5104663c')\"\n",
              "              title=\"Convert this dataframe to an interactive table.\"\n",
              "              style=\"display:none;\">\n",
              "        \n",
              "  <svg xmlns=\"http://www.w3.org/2000/svg\" height=\"24px\"viewBox=\"0 0 24 24\"\n",
              "       width=\"24px\">\n",
              "    <path d=\"M0 0h24v24H0V0z\" fill=\"none\"/>\n",
              "    <path d=\"M18.56 5.44l.94 2.06.94-2.06 2.06-.94-2.06-.94-.94-2.06-.94 2.06-2.06.94zm-11 1L8.5 8.5l.94-2.06 2.06-.94-2.06-.94L8.5 2.5l-.94 2.06-2.06.94zm10 10l.94 2.06.94-2.06 2.06-.94-2.06-.94-.94-2.06-.94 2.06-2.06.94z\"/><path d=\"M17.41 7.96l-1.37-1.37c-.4-.4-.92-.59-1.43-.59-.52 0-1.04.2-1.43.59L10.3 9.45l-7.72 7.72c-.78.78-.78 2.05 0 2.83L4 21.41c.39.39.9.59 1.41.59.51 0 1.02-.2 1.41-.59l7.78-7.78 2.81-2.81c.8-.78.8-2.07 0-2.86zM5.41 20L4 18.59l7.72-7.72 1.47 1.35L5.41 20z\"/>\n",
              "  </svg>\n",
              "      </button>\n",
              "      \n",
              "  <style>\n",
              "    .colab-df-container {\n",
              "      display:flex;\n",
              "      flex-wrap:wrap;\n",
              "      gap: 12px;\n",
              "    }\n",
              "\n",
              "    .colab-df-convert {\n",
              "      background-color: #E8F0FE;\n",
              "      border: none;\n",
              "      border-radius: 50%;\n",
              "      cursor: pointer;\n",
              "      display: none;\n",
              "      fill: #1967D2;\n",
              "      height: 32px;\n",
              "      padding: 0 0 0 0;\n",
              "      width: 32px;\n",
              "    }\n",
              "\n",
              "    .colab-df-convert:hover {\n",
              "      background-color: #E2EBFA;\n",
              "      box-shadow: 0px 1px 2px rgba(60, 64, 67, 0.3), 0px 1px 3px 1px rgba(60, 64, 67, 0.15);\n",
              "      fill: #174EA6;\n",
              "    }\n",
              "\n",
              "    [theme=dark] .colab-df-convert {\n",
              "      background-color: #3B4455;\n",
              "      fill: #D2E3FC;\n",
              "    }\n",
              "\n",
              "    [theme=dark] .colab-df-convert:hover {\n",
              "      background-color: #434B5C;\n",
              "      box-shadow: 0px 1px 3px 1px rgba(0, 0, 0, 0.15);\n",
              "      filter: drop-shadow(0px 1px 2px rgba(0, 0, 0, 0.3));\n",
              "      fill: #FFFFFF;\n",
              "    }\n",
              "  </style>\n",
              "\n",
              "      <script>\n",
              "        const buttonEl =\n",
              "          document.querySelector('#df-7e396a84-4188-4a0f-8e9e-fb4e5104663c button.colab-df-convert');\n",
              "        buttonEl.style.display =\n",
              "          google.colab.kernel.accessAllowed ? 'block' : 'none';\n",
              "\n",
              "        async function convertToInteractive(key) {\n",
              "          const element = document.querySelector('#df-7e396a84-4188-4a0f-8e9e-fb4e5104663c');\n",
              "          const dataTable =\n",
              "            await google.colab.kernel.invokeFunction('convertToInteractive',\n",
              "                                                     [key], {});\n",
              "          if (!dataTable) return;\n",
              "\n",
              "          const docLinkHtml = 'Like what you see? Visit the ' +\n",
              "            '<a target=\"_blank\" href=https://colab.research.google.com/notebooks/data_table.ipynb>data table notebook</a>'\n",
              "            + ' to learn more about interactive tables.';\n",
              "          element.innerHTML = '';\n",
              "          dataTable['output_type'] = 'display_data';\n",
              "          await google.colab.output.renderOutput(dataTable, element);\n",
              "          const docLink = document.createElement('div');\n",
              "          docLink.innerHTML = docLinkHtml;\n",
              "          element.appendChild(docLink);\n",
              "        }\n",
              "      </script>\n",
              "    </div>\n",
              "  </div>\n",
              "  "
            ]
          },
          "metadata": {},
          "execution_count": 12
        }
      ]
    },
    {
      "cell_type": "markdown",
      "source": [
        "# 3-Metric Functions for validation set at different percent lifetime."
      ],
      "metadata": {
        "id": "AhgRwExVan_g"
      }
    },
    {
      "cell_type": "markdown",
      "source": [
        "Single Metric: This is a metric over all validation/Test set/UUt for LRP(Lifetime Record percentage) of 50,70 and 90%. In this work, UUts or N for validation set = 60."
      ],
      "metadata": {
        "id": "X8CqMpxTQ6ZK"
      }
    },
    {
      "cell_type": "code",
      "source": [
        "# Score Function\n",
        "def score(errors):\n",
        "  a1=10\n",
        "  a2=13\n",
        "  s1=0\n",
        "  s2=0\n",
        "  for err in errors:\n",
        "    if err < 0:\n",
        "      s1 += (np.exp(-1*(err/a1))) - 1\n",
        "    if ((err > 0) or (err == 0)):\n",
        "      s2 += (np.exp(err/a2)) - 1\n",
        "  return [s1 , s2]"
      ],
      "metadata": {
        "id": "1DxQ4UsuXbO4"
      },
      "execution_count": null,
      "outputs": []
    },
    {
      "cell_type": "code",
      "source": [
        "def RUL_metrics(a,b,c):\n",
        "  res_list = []\n",
        "  RMSE = []\n",
        "  MAE = []\n",
        "  SCORE = []\n",
        "\n",
        "  # Make an array for easy computation\n",
        "  for res in [a,b,c]:\n",
        "    res_list.append(np.array(res[:2]).T)\n",
        "  res_array = np.array(res_list)\n",
        "\n",
        "  for r in res_array:\n",
        "    errors = r[0]-r[1]\n",
        "    RMSE.append(mean_squared_error(r[0], r[1], squared=False))\n",
        "    MAE.append(mean_absolute_error(r[0],r[1]))\n",
        "    SCORE.append(score(errors))\n",
        "\n",
        "  return RMSE, MAE, SCORE\n"
      ],
      "metadata": {
        "id": "KgJmJW8DWgas"
      },
      "execution_count": null,
      "outputs": []
    },
    {
      "cell_type": "code",
      "source": [
        "RMSE, MAE, SCORE = RUL_metrics(a,b,c)"
      ],
      "metadata": {
        "id": "8Z8Jk9KaXtsx"
      },
      "execution_count": null,
      "outputs": []
    },
    {
      "cell_type": "markdown",
      "source": [
        "# Experiment 1: Experimenting the effect of changing L on different pct(s) and different HI approximation technique."
      ],
      "metadata": {
        "id": "97mOWTCuw8Lz"
      }
    },
    {
      "cell_type": "markdown",
      "source": [
        "Experiment 1: Which instances have the most similar degradation profiles as the current validation data with LRP (50,70 or 90%) in the past L timesteps.\n",
        "\n",
        "*   Try different L timesteps.\n",
        "*   Note: Residual computed using RMSE.\n",
        "*   Implementation detail: [Lt/5,Lt/5,Lt/3,Lt/2,Lt/1].\n",
        "I refined the lenght function such that for different LRPs, there can be different lenghts (len).\n",
        "\n",
        "\n",
        "\n"
      ],
      "metadata": {
        "id": "aWvU2XxdZCRM"
      }
    },
    {
      "cell_type": "markdown",
      "source": [
        "Note: this code has been modified to accomodate changing L."
      ],
      "metadata": {
        "id": "a0fMVeWrzDUb"
      }
    },
    {
      "cell_type": "code",
      "source": [
        "# This is the residual function we are using because the lent can be larger than some instance's maxcycles.....\n",
        "def residual_func(train_df, test_df, lent, name):\n",
        "  lenf = math.ceil((test_df.shape[0]*0.5) / 5)\n",
        "  no_instances = train_df['Unit_id'].unique().shape[0]\n",
        "  res_mat = np.zeros((lent-lenf, no_instances))\n",
        "  cur_val = test_df[name][lenf:lent]\n",
        "  for id in train_df['Unit_id'].unique():\n",
        "    # If it is already dead, then maybe you shouldn't be part of the computation OR add zeros below it\n",
        "    temp_df = train_df[train_df['Unit_id']==id]\n",
        "    if temp_df.shape[0] < lent:\n",
        "      diff_arr = np.zeros((lent-lenf) - temp_df.shape[0])\n",
        "      cur_train = temp_df[name][lenf:lent]\n",
        "      cur_train = np.concatenate((cur_train, diff_arr), axis=0)\n",
        "      res_mat[:,id-1] = cur_train\n",
        "    else:\n",
        "      temp_df = train_df[train_df['Unit_id']==id]\n",
        "      cur_train = temp_df[name][lenf:lent]\n",
        "      res_mat[:,id-1] = cur_train\n",
        "\n",
        "  l = res_mat - cur_val.to_numpy().reshape((-1,1))\n",
        "  residual = np.sqrt(np.mean(l**2, axis=0))\n",
        "  return residual, res_mat, cur_val"
      ],
      "metadata": {
        "id": "N75QNYMSYhF-"
      },
      "execution_count": null,
      "outputs": []
    },
    {
      "cell_type": "code",
      "source": [
        "def neighbors(residual,nearest):\n",
        "  n_neighbors = np.argsort(residual)[:nearest]\n",
        "  return n_neighbors"
      ],
      "metadata": {
        "id": "OeUrzm2kpssV"
      },
      "execution_count": null,
      "outputs": []
    },
    {
      "cell_type": "markdown",
      "source": [
        "Experiment 1a: HIs: Original HI, LR approximated HI and NN approximated HI - L = 5."
      ],
      "metadata": {
        "id": "GJMd-AweyOWy"
      }
    },
    {
      "cell_type": "code",
      "source": [
        "ans, res_mat, cur_val = residual_func(train_df=HItrain_df, test_df=HIval_df[HIval_df['Unit_id'] == 201], lent=95, name='ori_HI')\n",
        "neighbors(residual=ans,nearest=20)"
      ],
      "metadata": {
        "colab": {
          "base_uri": "https://localhost:8080/"
        },
        "outputId": "ee87b69d-afa1-4bd8-9ca5-8fd6ec3ecb70",
        "id": "1yonhdziymsv"
      },
      "execution_count": null,
      "outputs": [
        {
          "output_type": "execute_result",
          "data": {
            "text/plain": [
              "array([ 23,  21, 194,  85, 173,  39, 153,  13,  20,  92,  58,  70, 138, 161, 185,  91,  89,  88,\n",
              "        32,  25])"
            ]
          },
          "metadata": {},
          "execution_count": 156
        }
      ]
    },
    {
      "cell_type": "code",
      "source": [
        "ans, res_mat, cur_val = residual_func(train_df=HItrain_df, test_df=HIval_df[HIval_df['Unit_id'] == 201], lent=95, name='apprx_HI')\n",
        "neighbors(residual=ans,nearest=20)"
      ],
      "metadata": {
        "colab": {
          "base_uri": "https://localhost:8080/"
        },
        "id": "u-TVBC_GzBMN",
        "outputId": "ac750f99-ab4c-4ea9-c665-3cb1349f84a5"
      },
      "execution_count": null,
      "outputs": [
        {
          "output_type": "execute_result",
          "data": {
            "text/plain": [
              "array([127,  49,  73, 133, 122, 146,  75,  14,  16,  98,  20,  43,  45,  11, 130, 113, 190,  60,\n",
              "       174, 149])"
            ]
          },
          "metadata": {},
          "execution_count": 157
        }
      ]
    },
    {
      "cell_type": "code",
      "source": [
        "ans, res_mat, cur_val = residual_func(train_df=HItrain_df, test_df=HIval_df[HIval_df['Unit_id'] == 201], lent=95, name='apprx_HI_ANN')\n",
        "neighbors(residual=ans,nearest=20)"
      ],
      "metadata": {
        "colab": {
          "base_uri": "https://localhost:8080/"
        },
        "id": "RlAgFR91zVQK",
        "outputId": "0d35bb62-751c-4052-c2c2-632dbc209513"
      },
      "execution_count": null,
      "outputs": [
        {
          "output_type": "execute_result",
          "data": {
            "text/plain": [
              "array([ 14, 127,  73,  98,  49,  66, 146,  16,  47,  32,  75,  11, 170, 130,  12,  10,  63,  21,\n",
              "       153, 172])"
            ]
          },
          "metadata": {},
          "execution_count": 158
        }
      ]
    },
    {
      "cell_type": "markdown",
      "source": [
        "Experiment 1a: Changing Hi's: Original HI, LR approximated HI and NN approximated HI - L = 4"
      ],
      "metadata": {
        "id": "9UNC3tbF1TGl"
      }
    },
    {
      "cell_type": "code",
      "source": [
        "ans, res_mat, cur_val = residual_func(train_df=HItrain_df, test_df=HIval_df[HIval_df['Unit_id'] == 201], lent=95, name='ori_HI')\n",
        "neighbors(residual=ans,nearest=20)"
      ],
      "metadata": {
        "colab": {
          "base_uri": "https://localhost:8080/"
        },
        "outputId": "181d167d-dd4f-4e00-8702-3b5a30745437",
        "id": "be9JcsG81TGl"
      },
      "execution_count": null,
      "outputs": [
        {
          "output_type": "execute_result",
          "data": {
            "text/plain": [
              "array([ 23,  21, 194,  85, 173,  39, 153,  13,  20,  92,  58,  70, 138, 161, 185,  91,  89,  88,\n",
              "        32,  25])"
            ]
          },
          "metadata": {},
          "execution_count": 161
        }
      ]
    },
    {
      "cell_type": "code",
      "source": [
        "ans, res_mat, cur_val = residual_func(train_df=HItrain_df, test_df=HIval_df[HIval_df['Unit_id'] == 201], lent=95, name='apprx_HI')\n",
        "neighbors(residual=ans,nearest=20)"
      ],
      "metadata": {
        "colab": {
          "base_uri": "https://localhost:8080/"
        },
        "outputId": "f9a21ad6-16e3-457a-ac0c-adfeb640506c",
        "id": "DSZLSJnj1TGl"
      },
      "execution_count": null,
      "outputs": [
        {
          "output_type": "execute_result",
          "data": {
            "text/plain": [
              "array([127,  49, 130,  98, 122,  75,  73, 133,  43,  16,  14,  45,  11,  20, 146, 149,  22, 113,\n",
              "       190, 123])"
            ]
          },
          "metadata": {},
          "execution_count": 162
        }
      ]
    },
    {
      "cell_type": "code",
      "source": [
        "ans, res_mat, cur_val = residual_func(train_df=HItrain_df, test_df=HIval_df[HIval_df['Unit_id'] == 201], lent=95, name='apprx_HI_ANN')\n",
        "neighbors(residual=ans,nearest=20)"
      ],
      "metadata": {
        "colab": {
          "base_uri": "https://localhost:8080/"
        },
        "outputId": "d4bd7737-93f3-48bc-b412-19946582571a",
        "id": "gBK8PZvr1TGl"
      },
      "execution_count": null,
      "outputs": [
        {
          "output_type": "execute_result",
          "data": {
            "text/plain": [
              "array([127,  98,  14,  73,  49, 130,  16,  75,  66,  47,  32,  11, 146,  63,  12, 170,  22,  10,\n",
              "        44,  36])"
            ]
          },
          "metadata": {},
          "execution_count": 163
        }
      ]
    },
    {
      "cell_type": "markdown",
      "source": [
        "Experiment 1a: Changing Hi's: Original HI, LR approximated HI and NN approximated HI - L = 1.5"
      ],
      "metadata": {
        "id": "dTbYuOD124s0"
      }
    },
    {
      "cell_type": "code",
      "source": [
        "ans, res_mat, cur_val = residual_func(train_df=HItrain_df, test_df=HIval_df[HIval_df['Unit_id'] == 201], lent=95, name='ori_HI')\n",
        "neighbors(residual=ans,nearest=20)"
      ],
      "metadata": {
        "colab": {
          "base_uri": "https://localhost:8080/"
        },
        "outputId": "b1ed6cc9-9c83-4728-8339-600ec4e2467c",
        "id": "DTMUofCR24s0"
      },
      "execution_count": null,
      "outputs": [
        {
          "output_type": "execute_result",
          "data": {
            "text/plain": [
              "array([ 23,  21, 194,  85, 173,  39, 153,  13,  20,  92,  58,  70, 138, 161, 185,  91,  89,  88,\n",
              "        32,  25])"
            ]
          },
          "metadata": {},
          "execution_count": 165
        }
      ]
    },
    {
      "cell_type": "code",
      "source": [
        "ans, res_mat, cur_val = residual_func(train_df=HItrain_df, test_df=HIval_df[HIval_df['Unit_id'] == 201], lent=95, name='apprx_HI')\n",
        "neighbors(residual=ans,nearest=20)"
      ],
      "metadata": {
        "colab": {
          "base_uri": "https://localhost:8080/"
        },
        "outputId": "3f8d0d56-afa0-45ff-e62f-6c66acfd102d",
        "id": "QpS3QgCv24s0"
      },
      "execution_count": null,
      "outputs": [
        {
          "output_type": "execute_result",
          "data": {
            "text/plain": [
              "array([149,  49, 122,  98, 117, 133, 128, 113,  94,  38,  75, 127,  11, 130,  32,  12, 123,  36,\n",
              "       156,  21])"
            ]
          },
          "metadata": {},
          "execution_count": 166
        }
      ]
    },
    {
      "cell_type": "code",
      "source": [
        "ans, res_mat, cur_val = residual_func(train_df=HItrain_df, test_df=HIval_df[HIval_df['Unit_id'] == 201], lent=95, name='apprx_HI_ANN')\n",
        "neighbors(residual=ans,nearest=20)"
      ],
      "metadata": {
        "colab": {
          "base_uri": "https://localhost:8080/"
        },
        "outputId": "7b8aa773-5ac5-4d52-c8d1-786bd7f2ba98",
        "id": "AJ3mMqB_24s0"
      },
      "execution_count": null,
      "outputs": [
        {
          "output_type": "execute_result",
          "data": {
            "text/plain": [
              "array([ 66,  98,  49,  75,  11,  21,  38,  47, 156,  12,  73,  36, 153, 170, 127,  32,  63,  13,\n",
              "       133,  44])"
            ]
          },
          "metadata": {},
          "execution_count": 167
        }
      ]
    },
    {
      "cell_type": "markdown",
      "source": [
        "COMMENT: Observe the changes nearest neighbors chosen with chnages in L. It shows that the L hyperparameter needs to be tuned. Use error metrics to tune below."
      ],
      "metadata": {
        "id": "PoNso5u9kyg8"
      }
    },
    {
      "cell_type": "code",
      "source": [
        "def lenght(test_df, pct):\n",
        " lent = math.ceil(test_df.shape[0]*pct)\n",
        " return lent\n",
        "\n",
        "def neighbors(residual,nearest):\n",
        "  n_neighbors = np.argsort(residual)[:nearest]\n",
        "  return n_neighbors"
      ],
      "metadata": {
        "id": "UU4AdCu-YhGB"
      },
      "execution_count": null,
      "outputs": []
    },
    {
      "cell_type": "code",
      "execution_count": null,
      "metadata": {
        "id": "iJtCwfEzYhGB"
      },
      "outputs": [],
      "source": [
        "#  The function for new data will be a little different from that of val data\n",
        "def RUL_estimator(train_df, test_df, max_cycle_df, pct, nearest, name):\n",
        "  # Call Lenght Function\n",
        "  lent = lenght(test_df,pct)\n",
        "\n",
        "  # Call Residual Function\n",
        "  residual = residual_func(train_df, test_df, lent, name)\n",
        "\n",
        "  # Nearest neighbours function - where you can change the size of nearest neighbours\n",
        "  n_neighbors = neighbors(residual,nearest)\n",
        "\n",
        "  # RUL Estimation\n",
        "  # We want the closest 50 that are not yet dead\n",
        "  ens_RULs = max_cycle_df.loc[n_neighbors+1] - lent\n",
        "\n",
        "  true_RUL = test_df.shape[0] - lent\n",
        "\n",
        "  m = ens_RULs[ens_RULs>-10]\n",
        "  m[m.isna()] = 0\n",
        "\n",
        "  est_RUL = m['max_cycle'].median()\n",
        "\n",
        "  return (est_RUL, true_RUL, (ens_RULs))\n",
        "  # return lent, residual, n_neighbors"
      ]
    },
    {
      "cell_type": "code",
      "source": [
        "# pct = 50%, lenf% = 1.5 \n",
        "ans_1 = RUL_estimator(train_df=HItrain_df, test_df=HIval_df[HIval_df['Unit_id'] == 201], max_cycle_df=max_cycle_df, pct=0.5, nearest=50, name='ori_HI')"
      ],
      "metadata": {
        "id": "C0w-owWhg7o7"
      },
      "execution_count": null,
      "outputs": []
    },
    {
      "cell_type": "code",
      "source": [
        "# pct = 50%, lenf% = 2 \n",
        "ans_2 = RUL_estimator(train_df=HItrain_df, test_df=HIval_df[HIval_df['Unit_id'] == 201], max_cycle_df=max_cycle_df, pct=0.5, nearest=50, name='ori_HI')"
      ],
      "metadata": {
        "id": "O3mMCghZlKjI"
      },
      "execution_count": null,
      "outputs": []
    },
    {
      "cell_type": "code",
      "source": [
        "# pct = 50%, lenf% = 3 \n",
        "ans_3 = RUL_estimator(train_df=HItrain_df, test_df=HIval_df[HIval_df['Unit_id'] == 201], max_cycle_df=max_cycle_df, pct=0.5, nearest=50, name='ori_HI')"
      ],
      "metadata": {
        "id": "CepgS21blMx5"
      },
      "execution_count": null,
      "outputs": []
    },
    {
      "cell_type": "markdown",
      "source": [
        "Put all your functions in one place."
      ],
      "metadata": {
        "id": "cG1B-ohu5xCf"
      }
    },
    {
      "cell_type": "code",
      "source": [
        "# This is the residual function we are using because the lent can be larger than some instance's maxcycles.....\n",
        "def residual_func(train_df, test_df, lent, pct, name):\n",
        "  lenf = math.ceil((test_df.shape[0]*pct) / 5)\n",
        "  no_instances = train_df['Unit_id'].unique().shape[0]\n",
        "  res_mat = np.zeros((lent-lenf, no_instances))\n",
        "  cur_val = test_df[name][lenf:lent]\n",
        "  for id in train_df['Unit_id'].unique():\n",
        "    # If it is already dead, then maybe you shouldn't be part of the computation OR add zeros below it\n",
        "    temp_df = train_df[train_df['Unit_id']==id]\n",
        "    if temp_df.shape[0] < res_mat.shape[0]:\n",
        "      diff_arr = np.zeros((lent-lenf) - temp_df.shape[0])\n",
        "      cur_train = temp_df[name][lenf:]\n",
        "      cur_train = np.concatenate((cur_train, diff_arr), axis=0)\n",
        "      if cur_train.shape[0] < res_mat.shape[0]:\n",
        "        tem = np.zeros((res_mat.shape[0]-cur_train.shape[0]))\n",
        "        tem_arr = np.concatenate((cur_train, tem), axis=0)\n",
        "        res_mat[:,id-1] = tem_arr\n",
        "      else:\n",
        "        res_mat[:,id-1] = cur_train\n",
        "    else:\n",
        "      temp_df = train_df[train_df['Unit_id']==id]\n",
        "      cur_train = temp_df[name][lenf:lent]\n",
        "      if cur_train.shape[0] < res_mat.shape[0]:\n",
        "        tem = np.zeros((res_mat.shape[0]-cur_train.shape[0]))\n",
        "        tem_arr = np.concatenate((cur_train, tem), axis=0)\n",
        "        res_mat[:,id-1] = tem_arr\n",
        "      else:\n",
        "        res_mat[:,id-1] = cur_train\n",
        "\n",
        "  l = res_mat - cur_val.to_numpy().reshape((-1,1))\n",
        "  residual = np.sqrt(np.mean(l**2, axis=0))\n",
        "  return residual"
      ],
      "metadata": {
        "id": "Tl6fU_cz5whF"
      },
      "execution_count": null,
      "outputs": []
    },
    {
      "cell_type": "code",
      "source": [
        "def lenght(test_df, pct):\n",
        " lent = math.ceil(test_df.shape[0]*pct)\n",
        " return lent\n",
        "\n",
        "def neighbors(residual,nearest):\n",
        "  n_neighbors = np.argsort(residual)[:nearest]\n",
        "  return n_neighbors"
      ],
      "metadata": {
        "id": "5lEEAYkD546r"
      },
      "execution_count": null,
      "outputs": []
    },
    {
      "cell_type": "code",
      "execution_count": null,
      "metadata": {
        "id": "9itVFZsX546s"
      },
      "outputs": [],
      "source": [
        "#  The function for new data will be a little different from that of val data\n",
        "def RUL_estimator(train_df, test_df, max_cycle_df, pct, nearest, name):\n",
        "  # Call Lenght Function\n",
        "  lent = lenght(test_df,pct)\n",
        "\n",
        "  # Call Residual Function\n",
        "  residual = residual_func(train_df, test_df, lent, pct, name)\n",
        "\n",
        "  # Nearest neighbours function - where you can change the size of nearest neighbours\n",
        "  n_neighbors = neighbors(residual,nearest)\n",
        "\n",
        "  # RUL Estimation\n",
        "  # We want the closest 50 that are not yet dead\n",
        "  ens_RULs = max_cycle_df.loc[n_neighbors+1] - lent\n",
        "\n",
        "  true_RUL = test_df.shape[0] - lent\n",
        "\n",
        "  m = ens_RULs[ens_RULs>-10]\n",
        "  m[m.isna()] = 0\n",
        "\n",
        "  est_RUL = m['max_cycle'].median()\n",
        "\n",
        "  return (est_RUL, true_RUL, (ens_RULs))\n",
        "  # return lent, residual, n_neighbors"
      ]
    },
    {
      "cell_type": "code",
      "source": [
        "def RUL_Estimator_coll(train_df, test_df, max_cycle_df, nearest, name):\n",
        "  # Instantiate pct list:\n",
        "  pct_list = [0.5,0.7,0.9]\n",
        "  # Val_data unique ID\n",
        "  inst_id = test_df['Unit_id'].unique()\n",
        "\n",
        "  # Create a results dictionary:\n",
        "  val_inst = {}\n",
        "  for i in inst_id:\n",
        "    val_inst[i] = {}\n",
        "    for j in [0.5, 0.7, 0.9]:\n",
        "      val_inst[i][j] = (0,0,())\n",
        "\n",
        "  # Loop through all val_instances\n",
        "  for k in inst_id:\n",
        "    # Working with a single test set:\n",
        "    for pct in [0.5, 0.7, 0.9]: \n",
        "      cur_val_df = test_df[test_df['Unit_id'] == k]\n",
        "      val_inst[k][pct] = RUL_estimator(train_df=train_df, test_df=cur_val_df, max_cycle_df=max_cycle_df, pct=pct, nearest=nearest, name=name)\n",
        "\n",
        "  return val_inst"
      ],
      "metadata": {
        "id": "EBu0boBzYhGC"
      },
      "execution_count": null,
      "outputs": []
    },
    {
      "cell_type": "code",
      "source": [
        "def result_analysis(val_inst):\n",
        "  fif = []\n",
        "  sev = []\n",
        "  nine = []\n",
        "  EST_RUL_5 = []\n",
        "  TRUE_RUL_5 = []\n",
        "  ENS_RUL_5 = []\n",
        "  EST_RUL_7 = []\n",
        "  TRUE_RUL_7 = []\n",
        "  ENS_RUL_7 = []\n",
        "  EST_RUL_9 = []\n",
        "  TRUE_RUL_9 = []\n",
        "  ENS_RUL_9 = []\n",
        "  id_list = []\n",
        "  # loop through all instances:\n",
        "  for id,info in val_inst.items():\n",
        "    id_list.append(id)\n",
        "\n",
        "    EST_RUL_5.append(info[0.5][0])\n",
        "    TRUE_RUL_5.append(info[0.5][1])\n",
        "    ENS_RUL_5.append(info[0.5][2])\n",
        "\n",
        "    EST_RUL_7.append(info[0.7][0])\n",
        "    TRUE_RUL_7.append(info[0.7][1])\n",
        "    ENS_RUL_7.append(info[0.5][2])\n",
        "\n",
        "    EST_RUL_9.append(info[0.9][0])\n",
        "    TRUE_RUL_9.append(info[0.9][1])\n",
        "    ENS_RUL_9.append(info[0.5][2])\n",
        "\n",
        "  fif = [EST_RUL_5, TRUE_RUL_5, ENS_RUL_5]\n",
        "  sev = [EST_RUL_7, TRUE_RUL_7, ENS_RUL_7]\n",
        "  nine = [EST_RUL_9, TRUE_RUL_9, ENS_RUL_9]\n",
        "  \n",
        "  return fif, sev, nine\n",
        "  # Calculate RMSE"
      ],
      "metadata": {
        "id": "aAmqCvvBYhGC"
      },
      "execution_count": null,
      "outputs": []
    },
    {
      "cell_type": "code",
      "source": [
        "def score(errors):\n",
        "  a1=10\n",
        "  a2=13\n",
        "  s1=0\n",
        "  s2=0\n",
        "  for err in errors:\n",
        "    if err < 0:\n",
        "      s1 += (np.exp(-1*(err/a1))) - 1\n",
        "    if ((err > 0) or (err == 0)):\n",
        "      s2 += (np.exp(err/a2)) - 1\n",
        "  return [s1 , s2]"
      ],
      "metadata": {
        "id": "D5wpxEKuYWFF"
      },
      "execution_count": null,
      "outputs": []
    },
    {
      "cell_type": "code",
      "source": [
        "def RUL_metrics(a,b,c):\n",
        "  res_list = []\n",
        "  RMSE = []\n",
        "  MAE = []\n",
        "  SCORE = []\n",
        "\n",
        "  # Make an array for easy computation\n",
        "  for res in [a,b,c]:\n",
        "    res_list.append(np.array(res[:2]).T)\n",
        "  res_array = np.array(res_list)\n",
        "\n",
        "  for r in res_array:\n",
        "    errors = r[0]-r[1]\n",
        "    RMSE.append(mean_squared_error(r[0], r[1], squared=False))\n",
        "    MAE.append(mean_absolute_error(r[0],r[1]))\n",
        "    SCORE.append(score(errors))\n",
        "\n",
        "  return RMSE, MAE, SCORE\n"
      ],
      "metadata": {
        "id": "k887IZ35YWFF"
      },
      "execution_count": null,
      "outputs": []
    },
    {
      "cell_type": "markdown",
      "source": [
        "Experiment 1c: Find the L that gives the lowest metrics for pct (50,70 and 90). Call all above functions and changing L at each call."
      ],
      "metadata": {
        "id": "sYJQAkD0Yjga"
      }
    },
    {
      "cell_type": "code",
      "source": [
        "# L = 1.5\n",
        "val_inst = RUL_Estimator_coll(train_df=HItrain_df, test_df=HIval_df, max_cycle_df=max_cycle_df, nearest=50, name='ori_HI')\n",
        "a,b,c = result_analysis(val_inst)\n",
        "RMSE, MAE, SCORE = RUL_metrics(a,b,c)"
      ],
      "metadata": {
        "id": "yba1GFWrc7Hd"
      },
      "execution_count": null,
      "outputs": []
    },
    {
      "cell_type": "code",
      "source": [
        "RMSE"
      ],
      "metadata": {
        "colab": {
          "base_uri": "https://localhost:8080/"
        },
        "outputId": "7ab48411-7a3c-4ec8-f788-02e553a568f8",
        "id": "8kHrH03ndBK7"
      },
      "execution_count": null,
      "outputs": [
        {
          "output_type": "execute_result",
          "data": {
            "text/plain": [
              "[3.2596012026013246, 2.2638462845343543, 0.3535533905932738]"
            ]
          },
          "metadata": {},
          "execution_count": 244
        }
      ]
    },
    {
      "cell_type": "code",
      "source": [
        "MAE"
      ],
      "metadata": {
        "colab": {
          "base_uri": "https://localhost:8080/"
        },
        "outputId": "089b50c2-91d2-41ca-8d13-ce51f3a9c67d",
        "id": "uhhvP852dBK8"
      },
      "execution_count": null,
      "outputs": [
        {
          "output_type": "execute_result",
          "data": {
            "text/plain": [
              "[3.25, 2.25, 0.25]"
            ]
          },
          "metadata": {},
          "execution_count": 245
        }
      ]
    },
    {
      "cell_type": "code",
      "source": [
        "SCORE"
      ],
      "metadata": {
        "colab": {
          "base_uri": "https://localhost:8080/"
        },
        "outputId": "62f3530b-92f2-4220-bf50-17206a6daa15",
        "id": "CEUyuzUBdBK8"
      },
      "execution_count": null,
      "outputs": [
        {
          "output_type": "execute_result",
          "data": {
            "text/plain": [
              "[[0.7689263561692603, 0], [0.5054281748479112, 0], [0.05127109637602412, 0.0]]"
            ]
          },
          "metadata": {},
          "execution_count": 246
        }
      ]
    },
    {
      "cell_type": "code",
      "source": [
        "# L = 1.5\n",
        "val_inst = RUL_Estimator_coll(train_df=HItrain_df, test_df=HIval_df, max_cycle_df=max_cycle_df, nearest=50, name='apprx_HI_ANN')\n",
        "a,b,c = result_analysis(val_inst)\n",
        "RMSE, MAE, SCORE = RUL_metrics(a,b,c)"
      ],
      "metadata": {
        "id": "aqUDvsQsYhGC"
      },
      "execution_count": null,
      "outputs": []
    },
    {
      "cell_type": "code",
      "source": [
        "RMSE"
      ],
      "metadata": {
        "colab": {
          "base_uri": "https://localhost:8080/"
        },
        "id": "LOVSYTBbcrpD",
        "outputId": "e2221961-0d5c-4ce8-f789-51a8e579e9f5"
      },
      "execution_count": null,
      "outputs": [
        {
          "output_type": "execute_result",
          "data": {
            "text/plain": [
              "[21.319005605327842, 14.212670403551895, 4.596194077712559]"
            ]
          },
          "metadata": {},
          "execution_count": 240
        }
      ]
    },
    {
      "cell_type": "code",
      "source": [
        "MAE"
      ],
      "metadata": {
        "colab": {
          "base_uri": "https://localhost:8080/"
        },
        "id": "Vu-MaiPTculI",
        "outputId": "9d38fae8-65c7-4884-b7cc-e264848baf29"
      },
      "execution_count": null,
      "outputs": [
        {
          "output_type": "execute_result",
          "data": {
            "text/plain": [
              "[16.5, 11.0, 3.25]"
            ]
          },
          "metadata": {},
          "execution_count": 241
        }
      ]
    },
    {
      "cell_type": "code",
      "source": [
        "SCORE"
      ],
      "metadata": {
        "colab": {
          "base_uri": "https://localhost:8080/"
        },
        "id": "_NQxsZkCcxmm",
        "outputId": "f1894e67-8434-4930-d577-8b2b05fba2ba"
      },
      "execution_count": null,
      "outputs": [
        {
          "output_type": "execute_result",
          "data": {
            "text/plain": [
              "[[0.3498588075760032, 9.05120278750086],\n",
              " [0.22140275816016985, 3.657419495658906],\n",
              " [0, 0.6487212707001282]]"
            ]
          },
          "metadata": {},
          "execution_count": 242
        }
      ]
    },
    {
      "cell_type": "code",
      "source": [
        "# L = 2\n",
        "val_inst = RUL_Estimator_coll(train_df=HItrain_df, test_df=HIval_df, max_cycle_df=max_cycle_df, nearest=50, name='apprx_HI_ANN')\n",
        "a,b,c = result_analysis(val_inst)\n",
        "RMSE, MAE, SCORE = RUL_metrics(a,b,c)"
      ],
      "metadata": {
        "id": "7mj_R87FYhGC"
      },
      "execution_count": null,
      "outputs": []
    },
    {
      "cell_type": "code",
      "source": [
        "RMSE"
      ],
      "metadata": {
        "colab": {
          "base_uri": "https://localhost:8080/"
        },
        "outputId": "f7495df2-2433-4f56-d631-437fbb787dcd",
        "id": "Ke-y8Pi7g46w"
      },
      "execution_count": null,
      "outputs": [
        {
          "output_type": "execute_result",
          "data": {
            "text/plain": [
              "[21.319005605327842, 12.806248474865697, 7.424621202458749]"
            ]
          },
          "metadata": {},
          "execution_count": 249
        }
      ]
    },
    {
      "cell_type": "code",
      "source": [
        "MAE"
      ],
      "metadata": {
        "colab": {
          "base_uri": "https://localhost:8080/"
        },
        "outputId": "91f6ee1a-99ea-4091-9bdc-eb0634143fde",
        "id": "e9JhVPQvg46x"
      },
      "execution_count": null,
      "outputs": [
        {
          "output_type": "execute_result",
          "data": {
            "text/plain": [
              "[16.5, 10.0, 5.25]"
            ]
          },
          "metadata": {},
          "execution_count": 250
        }
      ]
    },
    {
      "cell_type": "code",
      "source": [
        "SCORE"
      ],
      "metadata": {
        "colab": {
          "base_uri": "https://localhost:8080/"
        },
        "outputId": "76e6ed76-9a9f-45bf-cb43-920af1b965a2",
        "id": "k_te4H-Fg46x"
      },
      "execution_count": null,
      "outputs": [
        {
          "output_type": "execute_result",
          "data": {
            "text/plain": [
              "[[0.3498588075760032, 9.05120278750086],\n",
              " [0.22140275816016985, 2.993289728752191],\n",
              " [0, 1.2427264876594117]]"
            ]
          },
          "metadata": {},
          "execution_count": 251
        }
      ]
    },
    {
      "cell_type": "code",
      "source": [
        "# L = 3\n",
        "val_inst = RUL_Estimator_coll(train_df=HItrain_df, test_df=HIval_df, max_cycle_df=max_cycle_df, nearest=50, name='apprx_HI_ANN')\n",
        "a,b,c = result_analysis(val_inst)\n",
        "RMSE, MAE, SCORE = RUL_metrics(a,b,c)"
      ],
      "metadata": {
        "id": "DCT9IEEx6Ird"
      },
      "execution_count": null,
      "outputs": []
    },
    {
      "cell_type": "code",
      "source": [
        "RMSE"
      ],
      "metadata": {
        "colab": {
          "base_uri": "https://localhost:8080/"
        },
        "id": "OWAvGlxkhQmx",
        "outputId": "48723495-3c08-4150-9c2d-1b8302c12724"
      },
      "execution_count": null,
      "outputs": [
        {
          "output_type": "execute_result",
          "data": {
            "text/plain": [
              "[17.804493814764857, 12.103718436910205, 6.363961030678928]"
            ]
          },
          "metadata": {},
          "execution_count": 254
        }
      ]
    },
    {
      "cell_type": "code",
      "source": [
        "MAE"
      ],
      "metadata": {
        "colab": {
          "base_uri": "https://localhost:8080/"
        },
        "id": "2VWuGxY0hQmx",
        "outputId": "ef25e95a-20f3-4dfb-880a-dfc3b316a935"
      },
      "execution_count": null,
      "outputs": [
        {
          "output_type": "execute_result",
          "data": {
            "text/plain": [
              "[14.0, 9.5, 4.5]"
            ]
          },
          "metadata": {},
          "execution_count": 255
        }
      ]
    },
    {
      "cell_type": "code",
      "source": [
        "SCORE"
      ],
      "metadata": {
        "colab": {
          "base_uri": "https://localhost:8080/"
        },
        "id": "Gj0Jkq5WhQmx",
        "outputId": "a3e215e0-3237-4e3b-e317-2d528c708059"
      },
      "execution_count": null,
      "outputs": [
        {
          "output_type": "execute_result",
          "data": {
            "text/plain": [
              "[[0.3498588075760032, 5.841978355514408],\n",
              " [0.22140275816016985, 2.6976308645666607],\n",
              " [0, 0.9983217280388539]]"
            ]
          },
          "metadata": {},
          "execution_count": 256
        }
      ]
    },
    {
      "cell_type": "code",
      "source": [
        "# L = 4\n",
        "val_inst = RUL_Estimator_coll(train_df=HItrain_df, test_df=HIval_df, max_cycle_df=max_cycle_df, nearest=50, name='apprx_HI_ANN')\n",
        "a,b,c = result_analysis(val_inst)\n",
        "RMSE, MAE, SCORE = RUL_metrics(a,b,c)"
      ],
      "metadata": {
        "id": "edEbpQzl6c6T"
      },
      "execution_count": null,
      "outputs": []
    },
    {
      "cell_type": "code",
      "source": [
        "RMSE"
      ],
      "metadata": {
        "colab": {
          "base_uri": "https://localhost:8080/"
        },
        "id": "VpJLH9e1hSPQ",
        "outputId": "0731a002-95d1-4014-8948-f58e13efa952"
      },
      "execution_count": null,
      "outputs": [
        {
          "output_type": "execute_result",
          "data": {
            "text/plain": [
              "[20.615528128088304, 12.103718436910205, 6.7175144212722016]"
            ]
          },
          "metadata": {},
          "execution_count": 259
        }
      ]
    },
    {
      "cell_type": "code",
      "source": [
        "MAE"
      ],
      "metadata": {
        "colab": {
          "base_uri": "https://localhost:8080/"
        },
        "id": "azuWd1ONhSPR",
        "outputId": "0bef8c82-c989-4b5d-ab3a-fa851c4bf81d"
      },
      "execution_count": null,
      "outputs": [
        {
          "output_type": "execute_result",
          "data": {
            "text/plain": [
              "[16.0, 9.5, 4.75]"
            ]
          },
          "metadata": {},
          "execution_count": 260
        }
      ]
    },
    {
      "cell_type": "code",
      "source": [
        "SCORE"
      ],
      "metadata": {
        "colab": {
          "base_uri": "https://localhost:8080/"
        },
        "id": "BcVSgl_zhSPR",
        "outputId": "0cbfab0c-d8c5-4253-b36a-7d13e0a531ae"
      },
      "execution_count": null,
      "outputs": [
        {
          "output_type": "execute_result",
          "data": {
            "text/plain": [
              "[[0.3498588075760032, 8.307022574766952],\n",
              " [0.22140275816016985, 2.6976308645666607],\n",
              " [0, 1.0766774376128017]]"
            ]
          },
          "metadata": {},
          "execution_count": 261
        }
      ]
    },
    {
      "cell_type": "code",
      "source": [
        "# L = 5\n",
        "val_inst = RUL_Estimator_coll(train_df=HItrain_df, test_df=HIval_df, max_cycle_df=max_cycle_df, nearest=50, name='apprx_HI_ANN')\n",
        "a,b,c = result_analysis(val_inst)\n",
        "RMSE, MAE, SCORE = RUL_metrics(a,b,c)"
      ],
      "metadata": {
        "id": "mDodvpN86dOH"
      },
      "execution_count": null,
      "outputs": []
    },
    {
      "cell_type": "code",
      "source": [
        "RMSE"
      ],
      "metadata": {
        "colab": {
          "base_uri": "https://localhost:8080/"
        },
        "id": "PGeeOIlwhTeB",
        "outputId": "4dc67711-5675-407f-910b-0641e9b234dc"
      },
      "execution_count": null,
      "outputs": [
        {
          "output_type": "execute_result",
          "data": {
            "text/plain": [
              "[20.615528128088304, 10.350120772242226, 6.010407640085654]"
            ]
          },
          "metadata": {},
          "execution_count": 264
        }
      ]
    },
    {
      "cell_type": "code",
      "source": [
        "MAE"
      ],
      "metadata": {
        "colab": {
          "base_uri": "https://localhost:8080/"
        },
        "id": "j4qigiJPhTeB",
        "outputId": "f9d6de7c-49ba-4d8b-b821-3cdb49bc5f1b"
      },
      "execution_count": null,
      "outputs": [
        {
          "output_type": "execute_result",
          "data": {
            "text/plain": [
              "[16.0, 8.25, 4.25]"
            ]
          },
          "metadata": {},
          "execution_count": 265
        }
      ]
    },
    {
      "cell_type": "code",
      "source": [
        "SCORE"
      ],
      "metadata": {
        "colab": {
          "base_uri": "https://localhost:8080/"
        },
        "id": "KTyZWUZAhTeB",
        "outputId": "d7a986b6-974f-4286-f1c8-73956f7add7e"
      },
      "execution_count": null,
      "outputs": [
        {
          "output_type": "execute_result",
          "data": {
            "text/plain": [
              "[[0.3498588075760032, 8.307022574766952],\n",
              " [0.22140275816016985, 2.0507413156095278],\n",
              " [0, 0.9229224801241105]]"
            ]
          },
          "metadata": {},
          "execution_count": 266
        }
      ]
    },
    {
      "cell_type": "code",
      "source": [
        "# L is Full\n",
        "val_inst = RUL_Estimator_coll(train_df=HItrain_df, test_df=HIval_df, max_cycle_df=max_cycle_df, nearest=50, name='apprx_HI_ANN')\n",
        "a,b,c = result_analysis(val_inst)\n",
        "RMSE, MAE, SCORE = RUL_metrics(a,b,c)"
      ],
      "metadata": {
        "id": "z38sVPOsm9r2"
      },
      "execution_count": null,
      "outputs": []
    },
    {
      "cell_type": "code",
      "source": [
        "RMSE"
      ],
      "metadata": {
        "colab": {
          "base_uri": "https://localhost:8080/"
        },
        "outputId": "f4d34671-c256-45d7-88c8-16bee321689b",
        "id": "2uSqqyYInDh3"
      },
      "execution_count": null,
      "outputs": [
        {
          "output_type": "execute_result",
          "data": {
            "text/plain": [
              "[17.804493814764857, 7.211102550927978, 4.242640687119285]"
            ]
          },
          "metadata": {},
          "execution_count": 277
        }
      ]
    },
    {
      "cell_type": "code",
      "source": [
        "MAE"
      ],
      "metadata": {
        "colab": {
          "base_uri": "https://localhost:8080/"
        },
        "outputId": "6df7f1e8-03a0-4e27-d84e-ff22711c21a2",
        "id": "mwZbM8CPnDh4"
      },
      "execution_count": null,
      "outputs": [
        {
          "output_type": "execute_result",
          "data": {
            "text/plain": [
              "[14.0, 6.0, 3.0]"
            ]
          },
          "metadata": {},
          "execution_count": 278
        }
      ]
    },
    {
      "cell_type": "code",
      "source": [
        "SCORE"
      ],
      "metadata": {
        "colab": {
          "base_uri": "https://localhost:8080/"
        },
        "outputId": "995f00b7-7163-47cd-adfa-3c091409247b",
        "id": "EoeNeRFrnDh4"
      },
      "execution_count": null,
      "outputs": [
        {
          "output_type": "execute_result",
          "data": {
            "text/plain": [
              "[[0.3498588075760032, 5.841978355514408],\n",
              " [0.22140275816016985, 1.1581055339484458],\n",
              " [0, 0.5865128974999683]]"
            ]
          },
          "metadata": {},
          "execution_count": 279
        }
      ]
    },
    {
      "cell_type": "markdown",
      "source": [
        "Comments.\n",
        "\n",
        "\n",
        "1.   First, recall that we said using the original health index (manually formulated for this problem) gives the best result; which shows the impact or effect of HI estimation method when using a similarity-based method.\n",
        "It also tells us that to use this HI estimation method, we need a very high r-score value.\n",
        "From this experiment, we could see that with changing L and using the original_HI, the effect is close to nothing or very minimal while the effect is more obvious when we use approximate HI's. So if we decide to use approx_HI or PCA method, this is a parameter that should be tuned.\n",
        "2.   Since the approximate values are most affected by change in L, the experiment was carried out with the apprx_HI_ANN and from this experiment, the best L is 3 for 50%, 5 for 70% and 90%. However, using the full lenght is the best so far with MAE of [14,6,3].\n",
        "\n"
      ],
      "metadata": {
        "id": "UV_79FzBxXOY"
      }
    },
    {
      "cell_type": "code",
      "source": [],
      "metadata": {
        "id": "J0YoV4PTqG_m"
      },
      "execution_count": null,
      "outputs": []
    },
    {
      "cell_type": "markdown",
      "source": [
        "Load Data - Add PCA results to dataframe"
      ],
      "metadata": {
        "id": "jzYuJ2W-4uW4"
      }
    },
    {
      "cell_type": "code",
      "source": [
        "temp_HItrain_df.head()"
      ],
      "metadata": {
        "colab": {
          "base_uri": "https://localhost:8080/",
          "height": 206
        },
        "id": "K5sOB7lJ4wTV",
        "outputId": "8dc4e941-a75d-453f-908f-0fbd6dd059cc"
      },
      "execution_count": null,
      "outputs": [
        {
          "output_type": "execute_result",
          "data": {
            "text/plain": [
              "   Unit_id  Time    ori_HI  Maxcycle  RUL    new_HI  apprx_HI    HI_PCA  \\\n",
              "0        1     1  1.000000       149  148  0.582822  0.546977 -0.859024   \n",
              "1        1     2  0.993243       149  147  0.582912  0.581504 -0.628524   \n",
              "2        1     3  0.986486       149  146  0.582965  0.601732 -0.404679   \n",
              "3        1     4  0.979730       149  145  0.583290  0.726264 -1.859147   \n",
              "4        1     5  0.972973       149  144  0.582879  0.568990 -0.310075   \n",
              "\n",
              "   new_HI_PCA  \n",
              "0   -1.192820  \n",
              "1   -1.197747  \n",
              "2   -1.202504  \n",
              "3   -1.171129  \n",
              "4   -1.204507  "
            ],
            "text/html": [
              "\n",
              "  <div id=\"df-1fbfd920-1e25-415c-9ed8-3bda802bdb9c\">\n",
              "    <div class=\"colab-df-container\">\n",
              "      <div>\n",
              "<style scoped>\n",
              "    .dataframe tbody tr th:only-of-type {\n",
              "        vertical-align: middle;\n",
              "    }\n",
              "\n",
              "    .dataframe tbody tr th {\n",
              "        vertical-align: top;\n",
              "    }\n",
              "\n",
              "    .dataframe thead th {\n",
              "        text-align: right;\n",
              "    }\n",
              "</style>\n",
              "<table border=\"1\" class=\"dataframe\">\n",
              "  <thead>\n",
              "    <tr style=\"text-align: right;\">\n",
              "      <th></th>\n",
              "      <th>Unit_id</th>\n",
              "      <th>Time</th>\n",
              "      <th>ori_HI</th>\n",
              "      <th>Maxcycle</th>\n",
              "      <th>RUL</th>\n",
              "      <th>new_HI</th>\n",
              "      <th>apprx_HI</th>\n",
              "      <th>HI_PCA</th>\n",
              "      <th>new_HI_PCA</th>\n",
              "    </tr>\n",
              "  </thead>\n",
              "  <tbody>\n",
              "    <tr>\n",
              "      <th>0</th>\n",
              "      <td>1</td>\n",
              "      <td>1</td>\n",
              "      <td>1.000000</td>\n",
              "      <td>149</td>\n",
              "      <td>148</td>\n",
              "      <td>0.582822</td>\n",
              "      <td>0.546977</td>\n",
              "      <td>-0.859024</td>\n",
              "      <td>-1.192820</td>\n",
              "    </tr>\n",
              "    <tr>\n",
              "      <th>1</th>\n",
              "      <td>1</td>\n",
              "      <td>2</td>\n",
              "      <td>0.993243</td>\n",
              "      <td>149</td>\n",
              "      <td>147</td>\n",
              "      <td>0.582912</td>\n",
              "      <td>0.581504</td>\n",
              "      <td>-0.628524</td>\n",
              "      <td>-1.197747</td>\n",
              "    </tr>\n",
              "    <tr>\n",
              "      <th>2</th>\n",
              "      <td>1</td>\n",
              "      <td>3</td>\n",
              "      <td>0.986486</td>\n",
              "      <td>149</td>\n",
              "      <td>146</td>\n",
              "      <td>0.582965</td>\n",
              "      <td>0.601732</td>\n",
              "      <td>-0.404679</td>\n",
              "      <td>-1.202504</td>\n",
              "    </tr>\n",
              "    <tr>\n",
              "      <th>3</th>\n",
              "      <td>1</td>\n",
              "      <td>4</td>\n",
              "      <td>0.979730</td>\n",
              "      <td>149</td>\n",
              "      <td>145</td>\n",
              "      <td>0.583290</td>\n",
              "      <td>0.726264</td>\n",
              "      <td>-1.859147</td>\n",
              "      <td>-1.171129</td>\n",
              "    </tr>\n",
              "    <tr>\n",
              "      <th>4</th>\n",
              "      <td>1</td>\n",
              "      <td>5</td>\n",
              "      <td>0.972973</td>\n",
              "      <td>149</td>\n",
              "      <td>144</td>\n",
              "      <td>0.582879</td>\n",
              "      <td>0.568990</td>\n",
              "      <td>-0.310075</td>\n",
              "      <td>-1.204507</td>\n",
              "    </tr>\n",
              "  </tbody>\n",
              "</table>\n",
              "</div>\n",
              "      <button class=\"colab-df-convert\" onclick=\"convertToInteractive('df-1fbfd920-1e25-415c-9ed8-3bda802bdb9c')\"\n",
              "              title=\"Convert this dataframe to an interactive table.\"\n",
              "              style=\"display:none;\">\n",
              "        \n",
              "  <svg xmlns=\"http://www.w3.org/2000/svg\" height=\"24px\"viewBox=\"0 0 24 24\"\n",
              "       width=\"24px\">\n",
              "    <path d=\"M0 0h24v24H0V0z\" fill=\"none\"/>\n",
              "    <path d=\"M18.56 5.44l.94 2.06.94-2.06 2.06-.94-2.06-.94-.94-2.06-.94 2.06-2.06.94zm-11 1L8.5 8.5l.94-2.06 2.06-.94-2.06-.94L8.5 2.5l-.94 2.06-2.06.94zm10 10l.94 2.06.94-2.06 2.06-.94-2.06-.94-.94-2.06-.94 2.06-2.06.94z\"/><path d=\"M17.41 7.96l-1.37-1.37c-.4-.4-.92-.59-1.43-.59-.52 0-1.04.2-1.43.59L10.3 9.45l-7.72 7.72c-.78.78-.78 2.05 0 2.83L4 21.41c.39.39.9.59 1.41.59.51 0 1.02-.2 1.41-.59l7.78-7.78 2.81-2.81c.8-.78.8-2.07 0-2.86zM5.41 20L4 18.59l7.72-7.72 1.47 1.35L5.41 20z\"/>\n",
              "  </svg>\n",
              "      </button>\n",
              "      \n",
              "  <style>\n",
              "    .colab-df-container {\n",
              "      display:flex;\n",
              "      flex-wrap:wrap;\n",
              "      gap: 12px;\n",
              "    }\n",
              "\n",
              "    .colab-df-convert {\n",
              "      background-color: #E8F0FE;\n",
              "      border: none;\n",
              "      border-radius: 50%;\n",
              "      cursor: pointer;\n",
              "      display: none;\n",
              "      fill: #1967D2;\n",
              "      height: 32px;\n",
              "      padding: 0 0 0 0;\n",
              "      width: 32px;\n",
              "    }\n",
              "\n",
              "    .colab-df-convert:hover {\n",
              "      background-color: #E2EBFA;\n",
              "      box-shadow: 0px 1px 2px rgba(60, 64, 67, 0.3), 0px 1px 3px 1px rgba(60, 64, 67, 0.15);\n",
              "      fill: #174EA6;\n",
              "    }\n",
              "\n",
              "    [theme=dark] .colab-df-convert {\n",
              "      background-color: #3B4455;\n",
              "      fill: #D2E3FC;\n",
              "    }\n",
              "\n",
              "    [theme=dark] .colab-df-convert:hover {\n",
              "      background-color: #434B5C;\n",
              "      box-shadow: 0px 1px 3px 1px rgba(0, 0, 0, 0.15);\n",
              "      filter: drop-shadow(0px 1px 2px rgba(0, 0, 0, 0.3));\n",
              "      fill: #FFFFFF;\n",
              "    }\n",
              "  </style>\n",
              "\n",
              "      <script>\n",
              "        const buttonEl =\n",
              "          document.querySelector('#df-1fbfd920-1e25-415c-9ed8-3bda802bdb9c button.colab-df-convert');\n",
              "        buttonEl.style.display =\n",
              "          google.colab.kernel.accessAllowed ? 'block' : 'none';\n",
              "\n",
              "        async function convertToInteractive(key) {\n",
              "          const element = document.querySelector('#df-1fbfd920-1e25-415c-9ed8-3bda802bdb9c');\n",
              "          const dataTable =\n",
              "            await google.colab.kernel.invokeFunction('convertToInteractive',\n",
              "                                                     [key], {});\n",
              "          if (!dataTable) return;\n",
              "\n",
              "          const docLinkHtml = 'Like what you see? Visit the ' +\n",
              "            '<a target=\"_blank\" href=https://colab.research.google.com/notebooks/data_table.ipynb>data table notebook</a>'\n",
              "            + ' to learn more about interactive tables.';\n",
              "          element.innerHTML = '';\n",
              "          dataTable['output_type'] = 'display_data';\n",
              "          await google.colab.output.renderOutput(dataTable, element);\n",
              "          const docLink = document.createElement('div');\n",
              "          docLink.innerHTML = docLinkHtml;\n",
              "          element.appendChild(docLink);\n",
              "        }\n",
              "      </script>\n",
              "    </div>\n",
              "  </div>\n",
              "  "
            ]
          },
          "metadata": {},
          "execution_count": 349
        }
      ]
    },
    {
      "cell_type": "code",
      "source": [
        "HItrain_df[['HI_PCA','new_HI_PCA']] = temp_HItrain_df[['HI_PCA','new_HI_PCA']]\n",
        "HItrain_df.head()"
      ],
      "metadata": {
        "colab": {
          "base_uri": "https://localhost:8080/",
          "height": 206
        },
        "id": "C4oG8sVb7ME9",
        "outputId": "6fcd94b6-86e8-4c5e-f5f6-d92b42eef31e"
      },
      "execution_count": null,
      "outputs": [
        {
          "output_type": "execute_result",
          "data": {
            "text/plain": [
              "   Unit_id  Time    ori_HI  Maxcycle  RUL    new_HI  apprx_HI  apprx_HI_ANN  \\\n",
              "0        1     1  1.000000       149  148  0.582822  0.546977      0.631525   \n",
              "1        1     2  0.993243       149  147  0.582912  0.581504      0.724908   \n",
              "2        1     3  0.986486       149  146  0.582965  0.601732      0.767940   \n",
              "3        1     4  0.979730       149  145  0.583290  0.726264      0.847148   \n",
              "4        1     5  0.972973       149  144  0.582879  0.568990      0.711482   \n",
              "\n",
              "     HI_PCA  new_HI_PCA  \n",
              "0 -0.859024   -1.192820  \n",
              "1 -0.628524   -1.197747  \n",
              "2 -0.404679   -1.202504  \n",
              "3 -1.859147   -1.171129  \n",
              "4 -0.310075   -1.204507  "
            ],
            "text/html": [
              "\n",
              "  <div id=\"df-93bd02ec-5a95-4e65-91ad-36935579ab91\">\n",
              "    <div class=\"colab-df-container\">\n",
              "      <div>\n",
              "<style scoped>\n",
              "    .dataframe tbody tr th:only-of-type {\n",
              "        vertical-align: middle;\n",
              "    }\n",
              "\n",
              "    .dataframe tbody tr th {\n",
              "        vertical-align: top;\n",
              "    }\n",
              "\n",
              "    .dataframe thead th {\n",
              "        text-align: right;\n",
              "    }\n",
              "</style>\n",
              "<table border=\"1\" class=\"dataframe\">\n",
              "  <thead>\n",
              "    <tr style=\"text-align: right;\">\n",
              "      <th></th>\n",
              "      <th>Unit_id</th>\n",
              "      <th>Time</th>\n",
              "      <th>ori_HI</th>\n",
              "      <th>Maxcycle</th>\n",
              "      <th>RUL</th>\n",
              "      <th>new_HI</th>\n",
              "      <th>apprx_HI</th>\n",
              "      <th>apprx_HI_ANN</th>\n",
              "      <th>HI_PCA</th>\n",
              "      <th>new_HI_PCA</th>\n",
              "    </tr>\n",
              "  </thead>\n",
              "  <tbody>\n",
              "    <tr>\n",
              "      <th>0</th>\n",
              "      <td>1</td>\n",
              "      <td>1</td>\n",
              "      <td>1.000000</td>\n",
              "      <td>149</td>\n",
              "      <td>148</td>\n",
              "      <td>0.582822</td>\n",
              "      <td>0.546977</td>\n",
              "      <td>0.631525</td>\n",
              "      <td>-0.859024</td>\n",
              "      <td>-1.192820</td>\n",
              "    </tr>\n",
              "    <tr>\n",
              "      <th>1</th>\n",
              "      <td>1</td>\n",
              "      <td>2</td>\n",
              "      <td>0.993243</td>\n",
              "      <td>149</td>\n",
              "      <td>147</td>\n",
              "      <td>0.582912</td>\n",
              "      <td>0.581504</td>\n",
              "      <td>0.724908</td>\n",
              "      <td>-0.628524</td>\n",
              "      <td>-1.197747</td>\n",
              "    </tr>\n",
              "    <tr>\n",
              "      <th>2</th>\n",
              "      <td>1</td>\n",
              "      <td>3</td>\n",
              "      <td>0.986486</td>\n",
              "      <td>149</td>\n",
              "      <td>146</td>\n",
              "      <td>0.582965</td>\n",
              "      <td>0.601732</td>\n",
              "      <td>0.767940</td>\n",
              "      <td>-0.404679</td>\n",
              "      <td>-1.202504</td>\n",
              "    </tr>\n",
              "    <tr>\n",
              "      <th>3</th>\n",
              "      <td>1</td>\n",
              "      <td>4</td>\n",
              "      <td>0.979730</td>\n",
              "      <td>149</td>\n",
              "      <td>145</td>\n",
              "      <td>0.583290</td>\n",
              "      <td>0.726264</td>\n",
              "      <td>0.847148</td>\n",
              "      <td>-1.859147</td>\n",
              "      <td>-1.171129</td>\n",
              "    </tr>\n",
              "    <tr>\n",
              "      <th>4</th>\n",
              "      <td>1</td>\n",
              "      <td>5</td>\n",
              "      <td>0.972973</td>\n",
              "      <td>149</td>\n",
              "      <td>144</td>\n",
              "      <td>0.582879</td>\n",
              "      <td>0.568990</td>\n",
              "      <td>0.711482</td>\n",
              "      <td>-0.310075</td>\n",
              "      <td>-1.204507</td>\n",
              "    </tr>\n",
              "  </tbody>\n",
              "</table>\n",
              "</div>\n",
              "      <button class=\"colab-df-convert\" onclick=\"convertToInteractive('df-93bd02ec-5a95-4e65-91ad-36935579ab91')\"\n",
              "              title=\"Convert this dataframe to an interactive table.\"\n",
              "              style=\"display:none;\">\n",
              "        \n",
              "  <svg xmlns=\"http://www.w3.org/2000/svg\" height=\"24px\"viewBox=\"0 0 24 24\"\n",
              "       width=\"24px\">\n",
              "    <path d=\"M0 0h24v24H0V0z\" fill=\"none\"/>\n",
              "    <path d=\"M18.56 5.44l.94 2.06.94-2.06 2.06-.94-2.06-.94-.94-2.06-.94 2.06-2.06.94zm-11 1L8.5 8.5l.94-2.06 2.06-.94-2.06-.94L8.5 2.5l-.94 2.06-2.06.94zm10 10l.94 2.06.94-2.06 2.06-.94-2.06-.94-.94-2.06-.94 2.06-2.06.94z\"/><path d=\"M17.41 7.96l-1.37-1.37c-.4-.4-.92-.59-1.43-.59-.52 0-1.04.2-1.43.59L10.3 9.45l-7.72 7.72c-.78.78-.78 2.05 0 2.83L4 21.41c.39.39.9.59 1.41.59.51 0 1.02-.2 1.41-.59l7.78-7.78 2.81-2.81c.8-.78.8-2.07 0-2.86zM5.41 20L4 18.59l7.72-7.72 1.47 1.35L5.41 20z\"/>\n",
              "  </svg>\n",
              "      </button>\n",
              "      \n",
              "  <style>\n",
              "    .colab-df-container {\n",
              "      display:flex;\n",
              "      flex-wrap:wrap;\n",
              "      gap: 12px;\n",
              "    }\n",
              "\n",
              "    .colab-df-convert {\n",
              "      background-color: #E8F0FE;\n",
              "      border: none;\n",
              "      border-radius: 50%;\n",
              "      cursor: pointer;\n",
              "      display: none;\n",
              "      fill: #1967D2;\n",
              "      height: 32px;\n",
              "      padding: 0 0 0 0;\n",
              "      width: 32px;\n",
              "    }\n",
              "\n",
              "    .colab-df-convert:hover {\n",
              "      background-color: #E2EBFA;\n",
              "      box-shadow: 0px 1px 2px rgba(60, 64, 67, 0.3), 0px 1px 3px 1px rgba(60, 64, 67, 0.15);\n",
              "      fill: #174EA6;\n",
              "    }\n",
              "\n",
              "    [theme=dark] .colab-df-convert {\n",
              "      background-color: #3B4455;\n",
              "      fill: #D2E3FC;\n",
              "    }\n",
              "\n",
              "    [theme=dark] .colab-df-convert:hover {\n",
              "      background-color: #434B5C;\n",
              "      box-shadow: 0px 1px 3px 1px rgba(0, 0, 0, 0.15);\n",
              "      filter: drop-shadow(0px 1px 2px rgba(0, 0, 0, 0.3));\n",
              "      fill: #FFFFFF;\n",
              "    }\n",
              "  </style>\n",
              "\n",
              "      <script>\n",
              "        const buttonEl =\n",
              "          document.querySelector('#df-93bd02ec-5a95-4e65-91ad-36935579ab91 button.colab-df-convert');\n",
              "        buttonEl.style.display =\n",
              "          google.colab.kernel.accessAllowed ? 'block' : 'none';\n",
              "\n",
              "        async function convertToInteractive(key) {\n",
              "          const element = document.querySelector('#df-93bd02ec-5a95-4e65-91ad-36935579ab91');\n",
              "          const dataTable =\n",
              "            await google.colab.kernel.invokeFunction('convertToInteractive',\n",
              "                                                     [key], {});\n",
              "          if (!dataTable) return;\n",
              "\n",
              "          const docLinkHtml = 'Like what you see? Visit the ' +\n",
              "            '<a target=\"_blank\" href=https://colab.research.google.com/notebooks/data_table.ipynb>data table notebook</a>'\n",
              "            + ' to learn more about interactive tables.';\n",
              "          element.innerHTML = '';\n",
              "          dataTable['output_type'] = 'display_data';\n",
              "          await google.colab.output.renderOutput(dataTable, element);\n",
              "          const docLink = document.createElement('div');\n",
              "          docLink.innerHTML = docLinkHtml;\n",
              "          element.appendChild(docLink);\n",
              "        }\n",
              "      </script>\n",
              "    </div>\n",
              "  </div>\n",
              "  "
            ]
          },
          "metadata": {},
          "execution_count": 350
        }
      ]
    },
    {
      "cell_type": "code",
      "source": [
        "HIval_df[['HI_PCA','new_HI_PCA']] = temp_HIval_df[['HI_PCA','new_HI_PCA']]\n",
        "HIval_df.head()"
      ],
      "metadata": {
        "colab": {
          "base_uri": "https://localhost:8080/",
          "height": 206
        },
        "id": "Y0BL46VI7gEo",
        "outputId": "872af23f-c59c-47a1-9afb-7799fe4aeeda"
      },
      "execution_count": null,
      "outputs": [
        {
          "output_type": "execute_result",
          "data": {
            "text/plain": [
              "   Unit_id  Time    ori_HI  Maxcycle  RUL  apprx_HI  apprx_HI_ANN    HI_PCA  \\\n",
              "0      201     1  1.000000       191  190  0.933014      0.898250 -3.938672   \n",
              "1      201     2  0.994737       191  189  0.763932      0.781614 -2.332807   \n",
              "2      201     3  0.989474       191  188  0.797754      0.796511 -2.512478   \n",
              "3      201     4  0.984211       191  187  0.739501      0.775219 -2.180602   \n",
              "4      201     5  0.978947       191  186  0.817956      0.820120 -3.277371   \n",
              "\n",
              "   new_HI_PCA  \n",
              "0   -1.124376  \n",
              "1   -1.160676  \n",
              "2   -1.156681  \n",
              "3   -1.164047  \n",
              "4   -1.139486  "
            ],
            "text/html": [
              "\n",
              "  <div id=\"df-478daf71-b5b3-4463-bf41-a2c77255c3ab\">\n",
              "    <div class=\"colab-df-container\">\n",
              "      <div>\n",
              "<style scoped>\n",
              "    .dataframe tbody tr th:only-of-type {\n",
              "        vertical-align: middle;\n",
              "    }\n",
              "\n",
              "    .dataframe tbody tr th {\n",
              "        vertical-align: top;\n",
              "    }\n",
              "\n",
              "    .dataframe thead th {\n",
              "        text-align: right;\n",
              "    }\n",
              "</style>\n",
              "<table border=\"1\" class=\"dataframe\">\n",
              "  <thead>\n",
              "    <tr style=\"text-align: right;\">\n",
              "      <th></th>\n",
              "      <th>Unit_id</th>\n",
              "      <th>Time</th>\n",
              "      <th>ori_HI</th>\n",
              "      <th>Maxcycle</th>\n",
              "      <th>RUL</th>\n",
              "      <th>apprx_HI</th>\n",
              "      <th>apprx_HI_ANN</th>\n",
              "      <th>HI_PCA</th>\n",
              "      <th>new_HI_PCA</th>\n",
              "    </tr>\n",
              "  </thead>\n",
              "  <tbody>\n",
              "    <tr>\n",
              "      <th>0</th>\n",
              "      <td>201</td>\n",
              "      <td>1</td>\n",
              "      <td>1.000000</td>\n",
              "      <td>191</td>\n",
              "      <td>190</td>\n",
              "      <td>0.933014</td>\n",
              "      <td>0.898250</td>\n",
              "      <td>-3.938672</td>\n",
              "      <td>-1.124376</td>\n",
              "    </tr>\n",
              "    <tr>\n",
              "      <th>1</th>\n",
              "      <td>201</td>\n",
              "      <td>2</td>\n",
              "      <td>0.994737</td>\n",
              "      <td>191</td>\n",
              "      <td>189</td>\n",
              "      <td>0.763932</td>\n",
              "      <td>0.781614</td>\n",
              "      <td>-2.332807</td>\n",
              "      <td>-1.160676</td>\n",
              "    </tr>\n",
              "    <tr>\n",
              "      <th>2</th>\n",
              "      <td>201</td>\n",
              "      <td>3</td>\n",
              "      <td>0.989474</td>\n",
              "      <td>191</td>\n",
              "      <td>188</td>\n",
              "      <td>0.797754</td>\n",
              "      <td>0.796511</td>\n",
              "      <td>-2.512478</td>\n",
              "      <td>-1.156681</td>\n",
              "    </tr>\n",
              "    <tr>\n",
              "      <th>3</th>\n",
              "      <td>201</td>\n",
              "      <td>4</td>\n",
              "      <td>0.984211</td>\n",
              "      <td>191</td>\n",
              "      <td>187</td>\n",
              "      <td>0.739501</td>\n",
              "      <td>0.775219</td>\n",
              "      <td>-2.180602</td>\n",
              "      <td>-1.164047</td>\n",
              "    </tr>\n",
              "    <tr>\n",
              "      <th>4</th>\n",
              "      <td>201</td>\n",
              "      <td>5</td>\n",
              "      <td>0.978947</td>\n",
              "      <td>191</td>\n",
              "      <td>186</td>\n",
              "      <td>0.817956</td>\n",
              "      <td>0.820120</td>\n",
              "      <td>-3.277371</td>\n",
              "      <td>-1.139486</td>\n",
              "    </tr>\n",
              "  </tbody>\n",
              "</table>\n",
              "</div>\n",
              "      <button class=\"colab-df-convert\" onclick=\"convertToInteractive('df-478daf71-b5b3-4463-bf41-a2c77255c3ab')\"\n",
              "              title=\"Convert this dataframe to an interactive table.\"\n",
              "              style=\"display:none;\">\n",
              "        \n",
              "  <svg xmlns=\"http://www.w3.org/2000/svg\" height=\"24px\"viewBox=\"0 0 24 24\"\n",
              "       width=\"24px\">\n",
              "    <path d=\"M0 0h24v24H0V0z\" fill=\"none\"/>\n",
              "    <path d=\"M18.56 5.44l.94 2.06.94-2.06 2.06-.94-2.06-.94-.94-2.06-.94 2.06-2.06.94zm-11 1L8.5 8.5l.94-2.06 2.06-.94-2.06-.94L8.5 2.5l-.94 2.06-2.06.94zm10 10l.94 2.06.94-2.06 2.06-.94-2.06-.94-.94-2.06-.94 2.06-2.06.94z\"/><path d=\"M17.41 7.96l-1.37-1.37c-.4-.4-.92-.59-1.43-.59-.52 0-1.04.2-1.43.59L10.3 9.45l-7.72 7.72c-.78.78-.78 2.05 0 2.83L4 21.41c.39.39.9.59 1.41.59.51 0 1.02-.2 1.41-.59l7.78-7.78 2.81-2.81c.8-.78.8-2.07 0-2.86zM5.41 20L4 18.59l7.72-7.72 1.47 1.35L5.41 20z\"/>\n",
              "  </svg>\n",
              "      </button>\n",
              "      \n",
              "  <style>\n",
              "    .colab-df-container {\n",
              "      display:flex;\n",
              "      flex-wrap:wrap;\n",
              "      gap: 12px;\n",
              "    }\n",
              "\n",
              "    .colab-df-convert {\n",
              "      background-color: #E8F0FE;\n",
              "      border: none;\n",
              "      border-radius: 50%;\n",
              "      cursor: pointer;\n",
              "      display: none;\n",
              "      fill: #1967D2;\n",
              "      height: 32px;\n",
              "      padding: 0 0 0 0;\n",
              "      width: 32px;\n",
              "    }\n",
              "\n",
              "    .colab-df-convert:hover {\n",
              "      background-color: #E2EBFA;\n",
              "      box-shadow: 0px 1px 2px rgba(60, 64, 67, 0.3), 0px 1px 3px 1px rgba(60, 64, 67, 0.15);\n",
              "      fill: #174EA6;\n",
              "    }\n",
              "\n",
              "    [theme=dark] .colab-df-convert {\n",
              "      background-color: #3B4455;\n",
              "      fill: #D2E3FC;\n",
              "    }\n",
              "\n",
              "    [theme=dark] .colab-df-convert:hover {\n",
              "      background-color: #434B5C;\n",
              "      box-shadow: 0px 1px 3px 1px rgba(0, 0, 0, 0.15);\n",
              "      filter: drop-shadow(0px 1px 2px rgba(0, 0, 0, 0.3));\n",
              "      fill: #FFFFFF;\n",
              "    }\n",
              "  </style>\n",
              "\n",
              "      <script>\n",
              "        const buttonEl =\n",
              "          document.querySelector('#df-478daf71-b5b3-4463-bf41-a2c77255c3ab button.colab-df-convert');\n",
              "        buttonEl.style.display =\n",
              "          google.colab.kernel.accessAllowed ? 'block' : 'none';\n",
              "\n",
              "        async function convertToInteractive(key) {\n",
              "          const element = document.querySelector('#df-478daf71-b5b3-4463-bf41-a2c77255c3ab');\n",
              "          const dataTable =\n",
              "            await google.colab.kernel.invokeFunction('convertToInteractive',\n",
              "                                                     [key], {});\n",
              "          if (!dataTable) return;\n",
              "\n",
              "          const docLinkHtml = 'Like what you see? Visit the ' +\n",
              "            '<a target=\"_blank\" href=https://colab.research.google.com/notebooks/data_table.ipynb>data table notebook</a>'\n",
              "            + ' to learn more about interactive tables.';\n",
              "          element.innerHTML = '';\n",
              "          dataTable['output_type'] = 'display_data';\n",
              "          await google.colab.output.renderOutput(dataTable, element);\n",
              "          const docLink = document.createElement('div');\n",
              "          docLink.innerHTML = docLinkHtml;\n",
              "          element.appendChild(docLink);\n",
              "        }\n",
              "      </script>\n",
              "    </div>\n",
              "  </div>\n",
              "  "
            ]
          },
          "metadata": {},
          "execution_count": 351
        }
      ]
    },
    {
      "cell_type": "markdown",
      "source": [
        "Do experiment 1c with PCA and compare results to that of apprx_HI_ANN."
      ],
      "metadata": {
        "id": "NLv_eKiS3o1P"
      }
    },
    {
      "cell_type": "code",
      "source": [
        "# L = 1.5\n",
        "val_inst = RUL_Estimator_coll(train_df=HItrain_df, test_df=HIval_df, max_cycle_df=max_cycle_df, nearest=50, name='HI_PCA')\n",
        "a,b,c = result_analysis(val_inst)\n",
        "RMSE, MAE, SCORE = RUL_metrics(a,b,c)"
      ],
      "metadata": {
        "id": "rP8m8J8A4UiL"
      },
      "execution_count": null,
      "outputs": []
    },
    {
      "cell_type": "code",
      "source": [
        "RMSE"
      ],
      "metadata": {
        "colab": {
          "base_uri": "https://localhost:8080/"
        },
        "outputId": "2499902a-a17c-441b-ad66-1941006ed362",
        "id": "VDUWbl534UiL"
      },
      "execution_count": null,
      "outputs": [
        {
          "output_type": "execute_result",
          "data": {
            "text/plain": [
              "[21.670832932769336, 19.49679460834524, 10.253048327204938]"
            ]
          },
          "metadata": {},
          "execution_count": 362
        }
      ]
    },
    {
      "cell_type": "code",
      "source": [
        "MAE"
      ],
      "metadata": {
        "colab": {
          "base_uri": "https://localhost:8080/"
        },
        "outputId": "7293888d-6017-4c78-90cc-ea1ca8fc9a1f",
        "id": "OPkPjExl4UiL"
      },
      "execution_count": null,
      "outputs": [
        {
          "output_type": "execute_result",
          "data": {
            "text/plain": [
              "[16.75, 14.75, 7.25]"
            ]
          },
          "metadata": {},
          "execution_count": 363
        }
      ]
    },
    {
      "cell_type": "code",
      "source": [
        "SCORE"
      ],
      "metadata": {
        "colab": {
          "base_uri": "https://localhost:8080/"
        },
        "outputId": "937f203f-3b7b-44e1-cbd5-6b5114791bca",
        "id": "iGu_F-Sc4UiL"
      },
      "execution_count": null,
      "outputs": [
        {
          "output_type": "execute_result",
          "data": {
            "text/plain": [
              "[[0.3498588075760032, 9.445318067055567],\n",
              " [0.22140275816016985, 7.29277468155062],\n",
              " [0, 2.0507413156095278]]"
            ]
          },
          "metadata": {},
          "execution_count": 364
        }
      ]
    },
    {
      "cell_type": "code",
      "source": [
        "# L = 2\n",
        "val_inst = RUL_Estimator_coll(train_df=HItrain_df, test_df=HIval_df, max_cycle_df=max_cycle_df, nearest=50, name='HI_PCA')\n",
        "a,b,c = result_analysis(val_inst)\n",
        "RMSE, MAE, SCORE = RUL_metrics(a,b,c)"
      ],
      "metadata": {
        "id": "A_ELKEDV4UiL"
      },
      "execution_count": null,
      "outputs": []
    },
    {
      "cell_type": "code",
      "source": [
        "RMSE"
      ],
      "metadata": {
        "colab": {
          "base_uri": "https://localhost:8080/"
        },
        "outputId": "b4aa148d-111e-4a6c-fc81-1238c9020014",
        "id": "XAVtYlLy4UiL"
      },
      "execution_count": null,
      "outputs": [
        {
          "output_type": "execute_result",
          "data": {
            "text/plain": [
              "[19.560802642018555, 19.49679460834524, 9.192388155425117]"
            ]
          },
          "metadata": {},
          "execution_count": 367
        }
      ]
    },
    {
      "cell_type": "code",
      "source": [
        "MAE"
      ],
      "metadata": {
        "colab": {
          "base_uri": "https://localhost:8080/"
        },
        "outputId": "67ca7056-31de-4fd3-a64e-e14911d6baac",
        "id": "ztPVQdFh4UiM"
      },
      "execution_count": null,
      "outputs": [
        {
          "output_type": "execute_result",
          "data": {
            "text/plain": [
              "[15.25, 14.75, 6.5]"
            ]
          },
          "metadata": {},
          "execution_count": 368
        }
      ]
    },
    {
      "cell_type": "code",
      "source": [
        "SCORE"
      ],
      "metadata": {
        "colab": {
          "base_uri": "https://localhost:8080/"
        },
        "outputId": "cafa1dd9-d56e-4072-bd01-7265a3d69501",
        "id": "HIqN9xqc4UiM"
      },
      "execution_count": null,
      "outputs": [
        {
          "output_type": "execute_result",
          "data": {
            "text/plain": [
              "[[0.3498588075760032, 7.29277468155062],\n",
              " [0.22140275816016985, 7.29277468155062],\n",
              " [0, 1.718281828459045]]"
            ]
          },
          "metadata": {},
          "execution_count": 369
        }
      ]
    },
    {
      "cell_type": "code",
      "source": [
        "# L = 3\n",
        "val_inst = RUL_Estimator_coll(train_df=HItrain_df, test_df=HIval_df, max_cycle_df=max_cycle_df, nearest=50, name='HI_PCA')\n",
        "a,b,c = result_analysis(val_inst)\n",
        "RMSE, MAE, SCORE = RUL_metrics(a,b,c)"
      ],
      "metadata": {
        "id": "Z_QJxSoT4UiM"
      },
      "execution_count": null,
      "outputs": []
    },
    {
      "cell_type": "code",
      "source": [
        "RMSE"
      ],
      "metadata": {
        "colab": {
          "base_uri": "https://localhost:8080/"
        },
        "outputId": "e0e06b5b-6699-45ef-82d1-268a644f1e6f",
        "id": "SYguevFq4UiM"
      },
      "execution_count": null,
      "outputs": [
        {
          "output_type": "execute_result",
          "data": {
            "text/plain": [
              "[23.07866980568854, 19.849433241279208, 8.838834764831844]"
            ]
          },
          "metadata": {},
          "execution_count": 372
        }
      ]
    },
    {
      "cell_type": "code",
      "source": [
        "MAE"
      ],
      "metadata": {
        "colab": {
          "base_uri": "https://localhost:8080/"
        },
        "outputId": "87f015a7-2ebb-4024-e3ce-e91beb54a690",
        "id": "M_9lyVkb4UiM"
      },
      "execution_count": null,
      "outputs": [
        {
          "output_type": "execute_result",
          "data": {
            "text/plain": [
              "[17.75, 15.0, 6.25]"
            ]
          },
          "metadata": {},
          "execution_count": 373
        }
      ]
    },
    {
      "cell_type": "code",
      "source": [
        "SCORE"
      ],
      "metadata": {
        "colab": {
          "base_uri": "https://localhost:8080/"
        },
        "outputId": "820c0f8c-e477-46d3-8ede-ef59d2b9dace",
        "id": "cKq3Urjg4UiM"
      },
      "execution_count": null,
      "outputs": [
        {
          "output_type": "execute_result",
          "data": {
            "text/plain": [
              "[[0.3498588075760032, 11.182493960703473],\n",
              " [0.22140275816016985, 7.61794066227959],\n",
              " [0, 1.6157175603482896]]"
            ]
          },
          "metadata": {},
          "execution_count": 374
        }
      ]
    },
    {
      "cell_type": "code",
      "source": [
        "# L = 4\n",
        "val_inst = RUL_Estimator_coll(train_df=HItrain_df, test_df=HIval_df, max_cycle_df=max_cycle_df, nearest=50, name='HI_PCA')\n",
        "a,b,c = result_analysis(val_inst)\n",
        "RMSE, MAE, SCORE = RUL_metrics(a,b,c)"
      ],
      "metadata": {
        "id": "mklKTa0u4UiM"
      },
      "execution_count": null,
      "outputs": []
    },
    {
      "cell_type": "code",
      "source": [
        "RMSE"
      ],
      "metadata": {
        "colab": {
          "base_uri": "https://localhost:8080/"
        },
        "outputId": "fc20d053-a165-4fdd-8c3e-77d3459301db",
        "id": "SVwKBFo_4UiM"
      },
      "execution_count": null,
      "outputs": [
        {
          "output_type": "execute_result",
          "data": {
            "text/plain": [
              "[22.02271554554524, 16.32482771731451, 8.838834764831844]"
            ]
          },
          "metadata": {},
          "execution_count": 377
        }
      ]
    },
    {
      "cell_type": "code",
      "source": [
        "MAE"
      ],
      "metadata": {
        "colab": {
          "base_uri": "https://localhost:8080/"
        },
        "outputId": "a79e444f-7a27-4e43-b980-5177e2b79681",
        "id": "U5C3JIW_4UiM"
      },
      "execution_count": null,
      "outputs": [
        {
          "output_type": "execute_result",
          "data": {
            "text/plain": [
              "[17.0, 12.5, 6.25]"
            ]
          },
          "metadata": {},
          "execution_count": 378
        }
      ]
    },
    {
      "cell_type": "code",
      "source": [
        "SCORE"
      ],
      "metadata": {
        "colab": {
          "base_uri": "https://localhost:8080/"
        },
        "outputId": "edd6b6b2-a59d-4da5-c2e7-2329841d6520",
        "id": "SXx1lrqS4UiM"
      },
      "execution_count": null,
      "outputs": [
        {
          "output_type": "execute_result",
          "data": {
            "text/plain": [
              "[[0.3498588075760032, 9.854886905439232],\n",
              " [0.22140275816016985, 4.866339056828965],\n",
              " [0, 1.6157175603482896]]"
            ]
          },
          "metadata": {},
          "execution_count": 379
        }
      ]
    },
    {
      "cell_type": "code",
      "source": [
        "# L = 5\n",
        "val_inst = RUL_Estimator_coll(train_df=HItrain_df, test_df=HIval_df, max_cycle_df=max_cycle_df, nearest=50, name='HI_PCA')\n",
        "a,b,c = result_analysis(val_inst)\n",
        "RMSE, MAE, SCORE = RUL_metrics(a,b,c)"
      ],
      "metadata": {
        "id": "0us0ZRIg4UiM"
      },
      "execution_count": null,
      "outputs": []
    },
    {
      "cell_type": "code",
      "source": [
        "RMSE"
      ],
      "metadata": {
        "colab": {
          "base_uri": "https://localhost:8080/"
        },
        "outputId": "7f06d792-d646-4dc9-924e-6ee786652275",
        "id": "kXf3tdMz4UiM"
      },
      "execution_count": null,
      "outputs": [
        {
          "output_type": "execute_result",
          "data": {
            "text/plain": [
              "[22.02271554554524, 15.620499351813308, 9.192388155425117]"
            ]
          },
          "metadata": {},
          "execution_count": 382
        }
      ]
    },
    {
      "cell_type": "code",
      "source": [
        "MAE"
      ],
      "metadata": {
        "colab": {
          "base_uri": "https://localhost:8080/"
        },
        "outputId": "fb9c26c6-9c81-4c64-af3c-f6cc5f121415",
        "id": "6y30TC4W4UiM"
      },
      "execution_count": null,
      "outputs": [
        {
          "output_type": "execute_result",
          "data": {
            "text/plain": [
              "[17.0, 12.0, 6.5]"
            ]
          },
          "metadata": {},
          "execution_count": 383
        }
      ]
    },
    {
      "cell_type": "code",
      "source": [
        "SCORE"
      ],
      "metadata": {
        "colab": {
          "base_uri": "https://localhost:8080/"
        },
        "outputId": "433b4e93-e3d3-4269-f5fd-2ec21e870c20",
        "id": "Ia8Qk0cJ4UiM"
      },
      "execution_count": null,
      "outputs": [
        {
          "output_type": "execute_result",
          "data": {
            "text/plain": [
              "[[0.3498588075760032, 9.854886905439232],\n",
              " [0.22140275816016985, 4.432001640742895],\n",
              " [0, 1.718281828459045]]"
            ]
          },
          "metadata": {},
          "execution_count": 384
        }
      ]
    },
    {
      "cell_type": "code",
      "source": [
        "# L is Full\n",
        "val_inst = RUL_Estimator_coll(train_df=HItrain_df, test_df=HIval_df, max_cycle_df=max_cycle_df, nearest=50, name='HI_PCA')\n",
        "a,b,c = result_analysis(val_inst)\n",
        "RMSE, MAE, SCORE = RUL_metrics(a,b,c)"
      ],
      "metadata": {
        "id": "yC_XjpzA4UiM"
      },
      "execution_count": null,
      "outputs": []
    },
    {
      "cell_type": "code",
      "source": [
        "RMSE"
      ],
      "metadata": {
        "colab": {
          "base_uri": "https://localhost:8080/"
        },
        "outputId": "3d1848b6-a339-4333-ea2a-369036ee124d",
        "id": "nww485AL4UiM"
      },
      "execution_count": null,
      "outputs": [
        {
          "output_type": "execute_result",
          "data": {
            "text/plain": [
              "[18.85802216564611, 14.564511663629508, 10.253048327204938]"
            ]
          },
          "metadata": {},
          "execution_count": 393
        }
      ]
    },
    {
      "cell_type": "code",
      "source": [
        "MAE"
      ],
      "metadata": {
        "colab": {
          "base_uri": "https://localhost:8080/"
        },
        "outputId": "10523338-6e39-481c-c5b7-edc1e9ac3160",
        "id": "g61bUJA44UiN"
      },
      "execution_count": null,
      "outputs": [
        {
          "output_type": "execute_result",
          "data": {
            "text/plain": [
              "[14.75, 11.25, 7.25]"
            ]
          },
          "metadata": {},
          "execution_count": 394
        }
      ]
    },
    {
      "cell_type": "code",
      "source": [
        "SCORE"
      ],
      "metadata": {
        "colab": {
          "base_uri": "https://localhost:8080/"
        },
        "outputId": "31dc1344-40dc-481c-d90e-96e29ccfbb0e",
        "id": "39SDeWgf4UiN"
      },
      "execution_count": null,
      "outputs": [
        {
          "output_type": "execute_result",
          "data": {
            "text/plain": [
              "[[0.3498588075760032, 6.678786589066299],\n",
              " [0.22140275816016985, 3.840040444150536],\n",
              " [0, 2.0507413156095278]]"
            ]
          },
          "metadata": {},
          "execution_count": 395
        }
      ]
    },
    {
      "cell_type": "markdown",
      "source": [
        "Comments.\n",
        "1.   Just incase you decide to use PCA, L = 1.5 gave better results for 50%, L = 5 gave better result for 70%, L = 4 for 90%. L = 4 could be a good point for all pcts.\n",
        "\n",
        "1.   This shows that the L is a hyperparameter that should be tuned for any HI construction model you decide to use. Once we are able to get a HI approximation model that estimates the HI the best from the sensor values, we will tune the L again.\n",
        "\n",
        " \n",
        "\n",
        "\n",
        "\n",
        "\n"
      ],
      "metadata": {
        "id": "F9nQhcvU4UiN"
      }
    },
    {
      "cell_type": "markdown",
      "source": [
        "# Experiment 2: Choosing the similarity metric."
      ],
      "metadata": {
        "id": "obqjTz7RohOy"
      }
    },
    {
      "cell_type": "markdown",
      "source": [
        "Similarity Metric: The metric we use to select the train examples that have the closest degradation profile to the test data. \n",
        "\n",
        "*   The tested metrics are RMSE, MSE, Cosine similarity, degrees of similarity (1/similarity measure).\n",
        "\n",
        "*   And method in this paper: Liu, Yingchao, Xiaofeng Hu, and Wenjuan Zhang. \"Remaining useful life prediction based on health index similarity.\" Reliability Engineering & System Safety 185 (2019): 502-510.\n",
        "\n"
      ],
      "metadata": {
        "id": "Drr0eKkYpjBd"
      }
    },
    {
      "cell_type": "code",
      "source": [
        "def lenght(test_df, pct):\n",
        " lent = math.ceil(test_df.shape[0]*pct)\n",
        " return lent\n",
        "\n",
        "# when using similarity degree, use argsort(- residual)\n",
        "def neighbors(residual,nearest):\n",
        "  n_neighbors = np.argsort(-residual)[:nearest]\n",
        "  return n_neighbors"
      ],
      "metadata": {
        "id": "I7c-DNPvs6DT"
      },
      "execution_count": null,
      "outputs": []
    },
    {
      "cell_type": "code",
      "execution_count": null,
      "metadata": {
        "id": "QyT-QmfVs6DT"
      },
      "outputs": [],
      "source": [
        "#  The function for new data will be a little different from that of val data\n",
        "def RUL_estimator(train_df, test_df, max_cycle_df, pct, nearest, name):\n",
        "  # Call Lenght Function\n",
        "  lent = lenght(test_df,pct)\n",
        "\n",
        "  # Call Residual Function\n",
        "  residual = residual_func(train_df, test_df, lent, name)\n",
        "\n",
        "  # Nearest neighbours function - where you can change the size of nearest neighbours\n",
        "  n_neighbors = neighbors(residual,nearest)\n",
        "\n",
        "  # RUL Estimation\n",
        "  # We want the closest 50 that are not yet dead\n",
        "  ens_RULs = max_cycle_df.loc[n_neighbors+1] - lent\n",
        "\n",
        "  true_RUL = test_df.shape[0] - lent\n",
        "\n",
        "  m = ens_RULs[ens_RULs>-10]\n",
        "  m[m.isna()] = 0\n",
        "\n",
        "  est_RUL = m['max_cycle'].median()\n",
        "\n",
        "  return (est_RUL, true_RUL, (ens_RULs))\n",
        "  # return lent, residual, n_neighbors"
      ]
    },
    {
      "cell_type": "code",
      "source": [
        "def RUL_Estimator_coll(train_df, test_df, max_cycle_df, nearest, name):\n",
        "  # Instantiate pct list:\n",
        "  pct_list = [0.5,0.7,0.9]\n",
        "  # Val_data unique ID\n",
        "  inst_id = test_df['Unit_id'].unique()\n",
        "\n",
        "  # Create a results dictionary:\n",
        "  val_inst = {}\n",
        "  for i in inst_id:\n",
        "    val_inst[i] = {}\n",
        "    for j in [0.5, 0.7, 0.9]:\n",
        "      val_inst[i][j] = (0,0,())\n",
        "\n",
        "  # Loop through all val_instances\n",
        "  for k in inst_id:\n",
        "    # Working with a single test set:\n",
        "    for pct in [0.5, 0.7, 0.9]: \n",
        "      cur_val_df = test_df[test_df['Unit_id'] == k]\n",
        "      val_inst[k][pct] = RUL_estimator(train_df=train_df, test_df=cur_val_df, max_cycle_df=max_cycle_df, pct=pct, nearest=nearest, name=name)\n",
        "\n",
        "  return val_inst\n"
      ],
      "metadata": {
        "id": "QNsP0cc8s6DT"
      },
      "execution_count": null,
      "outputs": []
    },
    {
      "cell_type": "code",
      "source": [
        "def result_analysis(val_inst):\n",
        "  fif = []\n",
        "  sev = []\n",
        "  nine = []\n",
        "  EST_RUL_5 = []\n",
        "  TRUE_RUL_5 = []\n",
        "  ENS_RUL_5 = []\n",
        "  EST_RUL_7 = []\n",
        "  TRUE_RUL_7 = []\n",
        "  ENS_RUL_7 = []\n",
        "  EST_RUL_9 = []\n",
        "  TRUE_RUL_9 = []\n",
        "  ENS_RUL_9 = []\n",
        "  id_list = []\n",
        "  # loop through all instances:\n",
        "  for id,info in val_inst.items():\n",
        "    id_list.append(id)\n",
        "\n",
        "    EST_RUL_5.append(info[0.5][0])\n",
        "    TRUE_RUL_5.append(info[0.5][1])\n",
        "    ENS_RUL_5.append(info[0.5][2])\n",
        "\n",
        "    EST_RUL_7.append(info[0.7][0])\n",
        "    TRUE_RUL_7.append(info[0.7][1])\n",
        "    ENS_RUL_7.append(info[0.5][2])\n",
        "\n",
        "    EST_RUL_9.append(info[0.9][0])\n",
        "    TRUE_RUL_9.append(info[0.9][1])\n",
        "    ENS_RUL_9.append(info[0.5][2])\n",
        "\n",
        "  fif = [EST_RUL_5, TRUE_RUL_5, ENS_RUL_5]\n",
        "  sev = [EST_RUL_7, TRUE_RUL_7, ENS_RUL_7]\n",
        "  nine = [EST_RUL_9, TRUE_RUL_9, ENS_RUL_9]\n",
        "  \n",
        "  return fif, sev, nine\n",
        "  # Calculate RMSE\n",
        "\n"
      ],
      "metadata": {
        "id": "NBX6TJ5as6DT"
      },
      "execution_count": null,
      "outputs": []
    },
    {
      "cell_type": "code",
      "source": [
        "def score(errors):\n",
        "  a1=10\n",
        "  a2=13\n",
        "  s1=0\n",
        "  s2=0\n",
        "  for err in errors:\n",
        "    if err < 0:\n",
        "      s1 += (np.exp(-1*(err/a1))) - 1\n",
        "    if ((err > 0) or (err == 0)):\n",
        "      s2 += (np.exp(err/a2)) - 1\n",
        "  return [s1 , s2]"
      ],
      "metadata": {
        "id": "RAYN5kKLs6DU"
      },
      "execution_count": null,
      "outputs": []
    },
    {
      "cell_type": "code",
      "source": [
        "def RUL_metrics(a,b,c):\n",
        "  res_list = []\n",
        "  RMSE = []\n",
        "  MAE = []\n",
        "  SCORE = []\n",
        "\n",
        "  # Make an array for easy computation\n",
        "  for res in [a,b,c]:\n",
        "    res_list.append(np.array(res[:2]).T)\n",
        "  res_array = np.array(res_list)\n",
        "\n",
        "  for r in res_array:\n",
        "    errors = r[0]-r[1]\n",
        "    RMSE.append(mean_squared_error(r[0], r[1], squared=False))\n",
        "    MAE.append(mean_absolute_error(r[0],r[1]))\n",
        "    SCORE.append(score(errors))\n",
        "\n",
        "  return RMSE, MAE, SCORE\n"
      ],
      "metadata": {
        "id": "b9AG3vMbs6DU"
      },
      "execution_count": null,
      "outputs": []
    },
    {
      "cell_type": "code",
      "source": [
        "from numpy.linalg import norm"
      ],
      "metadata": {
        "id": "vQWDsorb0Ti9"
      },
      "execution_count": null,
      "outputs": []
    },
    {
      "cell_type": "code",
      "source": [
        "# This is the residual function we are using because the lent can be larger than some instance's maxcycles.....\n",
        "def residual_func(train_df, test_df, lent, name):\n",
        "  no_instances = train_df['Unit_id'].unique().shape[0]\n",
        "  res_mat = np.zeros((lent, no_instances))\n",
        "  cur_val = test_df[name][:lent]\n",
        "  for id in train_df['Unit_id'].unique():\n",
        "    # If it is already dead, then maybe you shouldn't be part of the computation OR add zeros below it\n",
        "    temp_df = train_df[train_df['Unit_id']==id]\n",
        "    if temp_df.shape[0] < lent:\n",
        "      diff_arr = np.zeros(lent- temp_df.shape[0])\n",
        "      cur_train = temp_df[name][:lent]\n",
        "      cur_train = np.concatenate((cur_train, diff_arr), axis=0)\n",
        "      res_mat[:,id-1] = cur_train\n",
        "    else:\n",
        "      temp_df = train_df[train_df['Unit_id']==id]\n",
        "      cur_train = temp_df[name][:lent]\n",
        "      res_mat[:,id-1] = cur_train\n",
        "\n",
        "  # Cos similarity\n",
        "  residuals_1 = []\n",
        "  for rr in res_mat.T:\n",
        "    A = rr\n",
        "    B = cur_val\n",
        "    residual_1 = np.dot(A,B)/(norm(A)*norm(B))\n",
        "    residuals_1.append(residual_1)\n",
        "  residual_cos = 1/np.array(residuals_1)  \n",
        "\n",
        "  # RMSE\n",
        "  l = res_mat - cur_val.to_numpy().reshape((-1,1))\n",
        "  residual_2 = 1/(np.sqrt(np.mean(l**2, axis=0)))\n",
        "\n",
        "  # Sum residuals\n",
        "  residual = residual_cos + residual_2\n",
        "\n",
        "  return residual"
      ],
      "metadata": {
        "id": "KSHCrZ-5s6DS"
      },
      "execution_count": null,
      "outputs": []
    },
    {
      "cell_type": "markdown",
      "source": [
        "MSE Metric"
      ],
      "metadata": {
        "id": "rEsieHYOtRLY"
      }
    },
    {
      "cell_type": "code",
      "source": [
        "# L is Full\n",
        "val_inst = RUL_Estimator_coll(train_df=HItrain_df, test_df=HIval_df, max_cycle_df=max_cycle_df, nearest=50, name='apprx_HI_ANN')\n",
        "a,b,c = result_analysis(val_inst)\n",
        "RMSE, MAE, SCORE = RUL_metrics(a,b,c)"
      ],
      "metadata": {
        "id": "G2_kMTVztX1F"
      },
      "execution_count": null,
      "outputs": []
    },
    {
      "cell_type": "code",
      "source": [
        "RMSE"
      ],
      "metadata": {
        "colab": {
          "base_uri": "https://localhost:8080/"
        },
        "outputId": "a93429e5-4c49-4b65-db7b-3fca3d2136a1",
        "id": "1zrxfKN1tX1F"
      },
      "execution_count": null,
      "outputs": [
        {
          "output_type": "execute_result",
          "data": {
            "text/plain": [
              "[17.804493814764857, 7.211102550927978, 4.242640687119285]"
            ]
          },
          "metadata": {},
          "execution_count": 287
        }
      ]
    },
    {
      "cell_type": "code",
      "source": [
        "MAE"
      ],
      "metadata": {
        "colab": {
          "base_uri": "https://localhost:8080/"
        },
        "outputId": "8579ae7c-c2d5-4c18-db1c-13cf5080757c",
        "id": "zxl9ZN4ytX1F"
      },
      "execution_count": null,
      "outputs": [
        {
          "output_type": "execute_result",
          "data": {
            "text/plain": [
              "[14.0, 6.0, 3.0]"
            ]
          },
          "metadata": {},
          "execution_count": 288
        }
      ]
    },
    {
      "cell_type": "code",
      "source": [
        "SCORE"
      ],
      "metadata": {
        "colab": {
          "base_uri": "https://localhost:8080/"
        },
        "outputId": "523d301d-e80b-44db-cd01-a2db7bc9de1d",
        "id": "w5twfpE5tX1G"
      },
      "execution_count": null,
      "outputs": [
        {
          "output_type": "execute_result",
          "data": {
            "text/plain": [
              "[[0.3498588075760032, 5.841978355514408],\n",
              " [0.22140275816016985, 1.1581055339484458],\n",
              " [0, 0.5865128974999683]]"
            ]
          },
          "metadata": {},
          "execution_count": 289
        }
      ]
    },
    {
      "cell_type": "markdown",
      "source": [
        "RMSE Metric"
      ],
      "metadata": {
        "id": "yIKteZGFttic"
      }
    },
    {
      "cell_type": "code",
      "source": [
        "# L is Full\n",
        "val_inst = RUL_Estimator_coll(train_df=HItrain_df, test_df=HIval_df, max_cycle_df=max_cycle_df, nearest=50, name='apprx_HI_ANN')\n",
        "a,b,c = result_analysis(val_inst)\n",
        "RMSE, MAE, SCORE = RUL_metrics(a,b,c)"
      ],
      "metadata": {
        "id": "n6tweNAattid"
      },
      "execution_count": null,
      "outputs": []
    },
    {
      "cell_type": "code",
      "source": [
        "RMSE"
      ],
      "metadata": {
        "colab": {
          "base_uri": "https://localhost:8080/"
        },
        "outputId": "f85ce045-cae5-4f71-9fc7-f7f6a74db4ae",
        "id": "DxU1jnnnttid"
      },
      "execution_count": null,
      "outputs": [
        {
          "output_type": "execute_result",
          "data": {
            "text/plain": [
              "[17.804493814764857, 7.211102550927978, 4.242640687119285]"
            ]
          },
          "metadata": {},
          "execution_count": 292
        }
      ]
    },
    {
      "cell_type": "code",
      "source": [
        "MAE"
      ],
      "metadata": {
        "colab": {
          "base_uri": "https://localhost:8080/"
        },
        "outputId": "4da0471c-3a2f-493e-b391-4cbb726392f1",
        "id": "FAx5msdQttid"
      },
      "execution_count": null,
      "outputs": [
        {
          "output_type": "execute_result",
          "data": {
            "text/plain": [
              "[14.0, 6.0, 3.0]"
            ]
          },
          "metadata": {},
          "execution_count": 293
        }
      ]
    },
    {
      "cell_type": "code",
      "source": [
        "SCORE"
      ],
      "metadata": {
        "colab": {
          "base_uri": "https://localhost:8080/"
        },
        "outputId": "3e38c4ed-7afc-4a14-8b78-c7cc9160171a",
        "id": "w_5eee0kttid"
      },
      "execution_count": null,
      "outputs": [
        {
          "output_type": "execute_result",
          "data": {
            "text/plain": [
              "[[0.3498588075760032, 5.841978355514408],\n",
              " [0.22140275816016985, 1.1581055339484458],\n",
              " [0, 0.5865128974999683]]"
            ]
          },
          "metadata": {},
          "execution_count": 294
        }
      ]
    },
    {
      "cell_type": "markdown",
      "source": [
        "MAE Metric"
      ],
      "metadata": {
        "id": "0p20zegZu_Xh"
      }
    },
    {
      "cell_type": "code",
      "source": [
        "# L is Full\n",
        "val_inst = RUL_Estimator_coll(train_df=HItrain_df, test_df=HIval_df, max_cycle_df=max_cycle_df, nearest=50, name='apprx_HI_ANN')\n",
        "a,b,c = result_analysis(val_inst)\n",
        "RMSE, MAE, SCORE = RUL_metrics(a,b,c)"
      ],
      "metadata": {
        "id": "hmV-gl3yu_Xh"
      },
      "execution_count": null,
      "outputs": []
    },
    {
      "cell_type": "code",
      "source": [
        "RMSE"
      ],
      "metadata": {
        "colab": {
          "base_uri": "https://localhost:8080/"
        },
        "outputId": "a31b6401-bf9d-4028-b098-ee1c6d13d9c9",
        "id": "3wczMAvTu_Xh"
      },
      "execution_count": null,
      "outputs": [
        {
          "output_type": "execute_result",
          "data": {
            "text/plain": [
              "[17.804493814764857, 11.40175425099138, 5.303300858899107]"
            ]
          },
          "metadata": {},
          "execution_count": 299
        }
      ]
    },
    {
      "cell_type": "code",
      "source": [
        "MAE"
      ],
      "metadata": {
        "colab": {
          "base_uri": "https://localhost:8080/"
        },
        "outputId": "c1611ceb-0425-4e8a-db08-55d73e72fc23",
        "id": "yjnz8ruDu_Xh"
      },
      "execution_count": null,
      "outputs": [
        {
          "output_type": "execute_result",
          "data": {
            "text/plain": [
              "[14.0, 9.0, 3.75]"
            ]
          },
          "metadata": {},
          "execution_count": 300
        }
      ]
    },
    {
      "cell_type": "code",
      "source": [
        "SCORE"
      ],
      "metadata": {
        "colab": {
          "base_uri": "https://localhost:8080/"
        },
        "outputId": "04d4f8eb-13bb-4b1b-9f2f-e5380b4834e4",
        "id": "yM5yqDU-u_Xh"
      },
      "execution_count": null,
      "outputs": [
        {
          "output_type": "execute_result",
          "data": {
            "text/plain": [
              "[[0.3498588075760032, 5.841978355514408],\n",
              " [0.22140275816016985, 2.4238622637752645],\n",
              " [0, 0.7805513738412788]]"
            ]
          },
          "metadata": {},
          "execution_count": 301
        }
      ]
    },
    {
      "cell_type": "markdown",
      "source": [
        "MAE degree/rate Metric"
      ],
      "metadata": {
        "id": "4CpL4jPuvyR8"
      }
    },
    {
      "cell_type": "code",
      "source": [
        "# L is Full\n",
        "val_inst = RUL_Estimator_coll(train_df=HItrain_df, test_df=HIval_df, max_cycle_df=max_cycle_df, nearest=50, name='apprx_HI_ANN')\n",
        "a,b,c = result_analysis(val_inst)\n",
        "RMSE, MAE, SCORE = RUL_metrics(a,b,c)"
      ],
      "metadata": {
        "id": "5XidRRtwvyR8"
      },
      "execution_count": null,
      "outputs": []
    },
    {
      "cell_type": "code",
      "source": [
        "RMSE"
      ],
      "metadata": {
        "colab": {
          "base_uri": "https://localhost:8080/"
        },
        "outputId": "1d381172-57b8-4f16-b0b4-63967cdd063a",
        "id": "7W_s_bARvyR9"
      },
      "execution_count": null,
      "outputs": [
        {
          "output_type": "execute_result",
          "data": {
            "text/plain": [
              "[17.804493814764857, 11.40175425099138, 5.303300858899107]"
            ]
          },
          "metadata": {},
          "execution_count": 310
        }
      ]
    },
    {
      "cell_type": "code",
      "source": [
        "MAE"
      ],
      "metadata": {
        "colab": {
          "base_uri": "https://localhost:8080/"
        },
        "outputId": "8c9644c7-0a16-4ce9-fb3c-62c2502a8112",
        "id": "q7xwxcSfvyR9"
      },
      "execution_count": null,
      "outputs": [
        {
          "output_type": "execute_result",
          "data": {
            "text/plain": [
              "[14.0, 9.0, 3.75]"
            ]
          },
          "metadata": {},
          "execution_count": 311
        }
      ]
    },
    {
      "cell_type": "code",
      "source": [
        "SCORE"
      ],
      "metadata": {
        "colab": {
          "base_uri": "https://localhost:8080/"
        },
        "outputId": "5ab8a9d4-bea4-43a7-9f10-84469695942b",
        "id": "NPKVOVZgvyR9"
      },
      "execution_count": null,
      "outputs": [
        {
          "output_type": "execute_result",
          "data": {
            "text/plain": [
              "[[0.3498588075760032, 5.841978355514408],\n",
              " [0.22140275816016985, 2.4238622637752645],\n",
              " [0, 0.7805513738412788]]"
            ]
          },
          "metadata": {},
          "execution_count": 312
        }
      ]
    },
    {
      "cell_type": "markdown",
      "source": [
        "RMSE and MSE degree/rate Metric"
      ],
      "metadata": {
        "id": "Wg4yW502xQRj"
      }
    },
    {
      "cell_type": "code",
      "source": [
        "# L is Full\n",
        "val_inst = RUL_Estimator_coll(train_df=HItrain_df, test_df=HIval_df, max_cycle_df=max_cycle_df, nearest=50, name='apprx_HI_ANN')\n",
        "a,b,c = result_analysis(val_inst)\n",
        "RMSE, MAE, SCORE = RUL_metrics(a,b,c)"
      ],
      "metadata": {
        "id": "vYTxV-osxQRk"
      },
      "execution_count": null,
      "outputs": []
    },
    {
      "cell_type": "code",
      "source": [
        "RMSE"
      ],
      "metadata": {
        "colab": {
          "base_uri": "https://localhost:8080/"
        },
        "outputId": "8b3bf930-a600-492f-fd1c-bf01a39fa41e",
        "id": "mFh2N1UNxQRk"
      },
      "execution_count": null,
      "outputs": [
        {
          "output_type": "execute_result",
          "data": {
            "text/plain": [
              "[17.804493814764857, 7.211102550927978, 4.242640687119285]"
            ]
          },
          "metadata": {},
          "execution_count": 315
        }
      ]
    },
    {
      "cell_type": "code",
      "source": [
        "MAE"
      ],
      "metadata": {
        "colab": {
          "base_uri": "https://localhost:8080/"
        },
        "outputId": "e1efd830-d0ad-460b-9ced-6218cf966c03",
        "id": "oU_G1EFdxQRk"
      },
      "execution_count": null,
      "outputs": [
        {
          "output_type": "execute_result",
          "data": {
            "text/plain": [
              "[14.0, 6.0, 3.0]"
            ]
          },
          "metadata": {},
          "execution_count": 316
        }
      ]
    },
    {
      "cell_type": "code",
      "source": [
        "SCORE"
      ],
      "metadata": {
        "colab": {
          "base_uri": "https://localhost:8080/"
        },
        "outputId": "485f61af-f8be-4f01-a9ca-51cb34eaad39",
        "id": "GRbThKY-xQRk"
      },
      "execution_count": null,
      "outputs": [
        {
          "output_type": "execute_result",
          "data": {
            "text/plain": [
              "[[0.3498588075760032, 5.841978355514408],\n",
              " [0.22140275816016985, 1.1581055339484458],\n",
              " [0, 0.5865128974999683]]"
            ]
          },
          "metadata": {},
          "execution_count": 317
        }
      ]
    },
    {
      "cell_type": "markdown",
      "source": [
        "Cos Similarity"
      ],
      "metadata": {
        "id": "Gz2Zkg_tyaHM"
      }
    },
    {
      "cell_type": "code",
      "source": [
        "# L is Full\n",
        "val_inst = RUL_Estimator_coll(train_df=HItrain_df, test_df=HIval_df, max_cycle_df=max_cycle_df, nearest=50, name='apprx_HI_ANN')\n",
        "a,b,c = result_analysis(val_inst)\n",
        "RMSE, MAE, SCORE = RUL_metrics(a,b,c)"
      ],
      "metadata": {
        "id": "RwesN0BMyaHN"
      },
      "execution_count": null,
      "outputs": []
    },
    {
      "cell_type": "code",
      "source": [
        "RMSE"
      ],
      "metadata": {
        "colab": {
          "base_uri": "https://localhost:8080/"
        },
        "outputId": "da216448-6806-4514-9a12-a33355727161",
        "id": "tpr1qG2TyaHN"
      },
      "execution_count": null,
      "outputs": [
        {
          "output_type": "execute_result",
          "data": {
            "text/plain": [
              "[17.804493814764857, 7.211102550927978, 1.0606601717798212]"
            ]
          },
          "metadata": {},
          "execution_count": 330
        }
      ]
    },
    {
      "cell_type": "code",
      "source": [
        "MAE"
      ],
      "metadata": {
        "colab": {
          "base_uri": "https://localhost:8080/"
        },
        "outputId": "40f0666c-ca3e-4918-806e-2ac5c614ebdd",
        "id": "SNMSLUd9yaHN"
      },
      "execution_count": null,
      "outputs": [
        {
          "output_type": "execute_result",
          "data": {
            "text/plain": [
              "[14.0, 6.0, 0.75]"
            ]
          },
          "metadata": {},
          "execution_count": 331
        }
      ]
    },
    {
      "cell_type": "code",
      "source": [
        "SCORE"
      ],
      "metadata": {
        "colab": {
          "base_uri": "https://localhost:8080/"
        },
        "outputId": "f999762b-82f4-4631-f28b-3366f049916d",
        "id": "F-c25vVQyaHN"
      },
      "execution_count": null,
      "outputs": [
        {
          "output_type": "execute_result",
          "data": {
            "text/plain": [
              "[[0.3498588075760032, 5.841978355514408],\n",
              " [0.22140275816016985, 1.1581055339484458],\n",
              " [0.16183424272828306, 0.0]]"
            ]
          },
          "metadata": {},
          "execution_count": 332
        }
      ]
    },
    {
      "cell_type": "markdown",
      "source": [
        "Cos Similarity and RMSE + Similarity Degrees."
      ],
      "metadata": {
        "id": "6PkDLcnU02g2"
      }
    },
    {
      "cell_type": "code",
      "source": [
        "# L is Full\n",
        "val_inst = RUL_Estimator_coll(train_df=HItrain_df, test_df=HIval_df, max_cycle_df=max_cycle_df, nearest=50, name='apprx_HI_ANN')\n",
        "a,b,c = result_analysis(val_inst)\n",
        "RMSE, MAE, SCORE = RUL_metrics(a,b,c)"
      ],
      "metadata": {
        "id": "Njws_7Pa02g2"
      },
      "execution_count": null,
      "outputs": []
    },
    {
      "cell_type": "code",
      "source": [
        "RMSE"
      ],
      "metadata": {
        "colab": {
          "base_uri": "https://localhost:8080/"
        },
        "outputId": "23753f1c-27a9-4fb1-88b9-43b30c03983d",
        "id": "UYFviVzD02g3"
      },
      "execution_count": null,
      "outputs": [
        {
          "output_type": "execute_result",
          "data": {
            "text/plain": [
              "[17.804493814764857, 7.211102550927978, 4.242640687119285]"
            ]
          },
          "metadata": {},
          "execution_count": 336
        }
      ]
    },
    {
      "cell_type": "code",
      "source": [
        "MAE"
      ],
      "metadata": {
        "colab": {
          "base_uri": "https://localhost:8080/"
        },
        "outputId": "9a5ec050-e46f-4f27-8dc6-8c272c3d058f",
        "id": "Rsd1c3Y902g3"
      },
      "execution_count": null,
      "outputs": [
        {
          "output_type": "execute_result",
          "data": {
            "text/plain": [
              "[14.0, 6.0, 3.0]"
            ]
          },
          "metadata": {},
          "execution_count": 337
        }
      ]
    },
    {
      "cell_type": "code",
      "source": [
        "SCORE"
      ],
      "metadata": {
        "colab": {
          "base_uri": "https://localhost:8080/"
        },
        "outputId": "70ecf92d-5e6a-42ce-ffb6-27d0e6c58098",
        "id": "zmZnxwOR02g3"
      },
      "execution_count": null,
      "outputs": [
        {
          "output_type": "execute_result",
          "data": {
            "text/plain": [
              "[[0.3498588075760032, 5.841978355514408],\n",
              " [0.22140275816016985, 1.1581055339484458],\n",
              " [0, 0.5865128974999683]]"
            ]
          },
          "metadata": {},
          "execution_count": 338
        }
      ]
    },
    {
      "cell_type": "markdown",
      "source": [
        "Comment: MSE and RMSE returns the same results; so does MSE/RMSE degrees.\n",
        "\n",
        "*   MAE does not perform as good as MSE/RMSE; as expected MAE and MAE degree gives the same result.\n",
        "\n",
        "*   Cosine similarity - This gave a better result at pct = 50%.\n",
        "\n",
        "*   RMSE + Cos + Similarity degree (paper 1): This does not do any better than the RMSE/MSE metric. Not even as good as cos similarity stand alone.\n",
        "\n",
        "*   Conclusion: Use RMSE or Cos similarity.\n",
        "\n",
        "\n",
        "\n",
        "\n"
      ],
      "metadata": {
        "id": "_XnQWjqVuMfi"
      }
    },
    {
      "cell_type": "markdown",
      "source": [
        "# Weighted RUL Experiment"
      ],
      "metadata": {
        "id": "M2KjLt6fCELt"
      }
    },
    {
      "cell_type": "markdown",
      "source": [
        "RUL = w(i) * RUL(i); w(i) = percentage (%) of similarity = 1/RMSE.\n",
        "We want the most similar neighbours to have more effect on the RUL estimation rather than all neighbors having the same weight.\n",
        "\n",
        "*   Note: The best neighbour size has been tuned in the \"A_Residual_Similarity_Based_Method_for_Remaining_Useful_Life_Prediction_Using_Degradation_Degree\" notebook, and 50 neighbours works well.\n",
        "\n"
      ],
      "metadata": {
        "id": "AWEFsc7MCLRo"
      }
    },
    {
      "cell_type": "markdown",
      "source": [
        "NOTE: The residual_func and RUL_estimator functions have been modified to show this effect."
      ],
      "metadata": {
        "id": "jgpq0wDxsvAA"
      }
    },
    {
      "cell_type": "code",
      "source": [
        "# This is the residual function we are using because the lent can be larger than some instance's maxcycles.....\n",
        "def residual_func(train_df, test_df, lent, name):\n",
        "  no_instances = train_df['Unit_id'].unique().shape[0]\n",
        "  res_mat = np.zeros((lent, no_instances))\n",
        "  cur_val = test_df[name][:lent]\n",
        "  for id in train_df['Unit_id'].unique():\n",
        "    # If it is already dead, then maybe you shouldn't be part of the computation OR add zeros below it\n",
        "    temp_df = train_df[train_df['Unit_id']==id]\n",
        "    if temp_df.shape[0] < lent:\n",
        "      diff_arr = np.zeros(lent- temp_df.shape[0])\n",
        "      cur_train = temp_df[name][:lent]\n",
        "      cur_train = np.concatenate((cur_train, diff_arr), axis=0)\n",
        "      res_mat[:,id-1] = cur_train\n",
        "    else:\n",
        "      temp_df = train_df[train_df['Unit_id']==id]\n",
        "      cur_train = temp_df[name][:lent]\n",
        "      res_mat[:,id-1] = cur_train\n",
        "\n",
        "  l = res_mat - cur_val.to_numpy().reshape((-1,1))\n",
        "  residual = np.sqrt(np.mean(l**2, axis=0))\n",
        "  res_deg = 1/(residual+1000)\n",
        "  return residual, res_deg"
      ],
      "metadata": {
        "id": "epdXUCbTDvWw"
      },
      "execution_count": null,
      "outputs": []
    },
    {
      "cell_type": "code",
      "source": [
        "def lenght(test_df, pct):\n",
        " lent = math.ceil(test_df.shape[0]*pct)\n",
        " return lent\n",
        "\n",
        "def neighbors(residual,nearest):\n",
        "  n_neighbors = np.argsort(residual)[:nearest]\n",
        "  return n_neighbors"
      ],
      "metadata": {
        "id": "A3FqexoBDvWw"
      },
      "execution_count": null,
      "outputs": []
    },
    {
      "cell_type": "code",
      "execution_count": null,
      "metadata": {
        "id": "lTRscjswDvWw"
      },
      "outputs": [],
      "source": [
        "#  The function for new data will be a little different from that of val data\n",
        "def RUL_estimator(train_df, test_df, max_cycle_df, pct, nearest, name):\n",
        "  # Call Lenght Function\n",
        "  lent = lenght(test_df,pct)\n",
        "\n",
        "  # Call Residual Function\n",
        "  residual, res_deg = residual_func(train_df, test_df, lent, name)\n",
        "\n",
        "  # Nearest neighbours function - where you can change the size of nearest neighbours\n",
        "  n_neighbors = neighbors(residual,nearest)\n",
        "\n",
        "  # RUL Estimation\n",
        "  # We want the closest 50 that are not yet dead\n",
        "  ens_RULs = max_cycle_df.loc[n_neighbors+1] - lent\n",
        "\n",
        "  true_RUL = test_df.shape[0] - lent\n",
        "\n",
        "  m = ens_RULs[ens_RULs>-10]\n",
        "  m[m.isna()] = 0\n",
        "\n",
        "  est_RUL = np.sum((np.multiply(m['max_cycle'], res_deg[:nearest])))\n",
        "\n",
        "  return (est_RUL, true_RUL, (ens_RULs))\n",
        "  # return lent, residual, n_neighbors"
      ]
    },
    {
      "cell_type": "code",
      "source": [
        "RUL_estimator(train_df=HItrain_df, test_df=HIval_df[HIval_df['Unit_id'] == 201], max_cycle_df=max_cycle_df, pct=0.7, nearest=50, name='ori_HI')"
      ],
      "metadata": {
        "id": "JY0nOutUNQnx"
      },
      "execution_count": null,
      "outputs": []
    },
    {
      "cell_type": "code",
      "source": [
        "def RUL_Estimator_coll(train_df, test_df, max_cycle_df, nearest, name):\n",
        "  # Instantiate pct list:\n",
        "  pct_list = [0.5,0.7,0.9]\n",
        "  # Val_data unique ID\n",
        "  inst_id = test_df['Unit_id'].unique()\n",
        "\n",
        "  # Create a results dictionary:\n",
        "  val_inst = {}\n",
        "  for i in inst_id:\n",
        "    val_inst[i] = {}\n",
        "    for j in [0.5, 0.7, 0.9]:\n",
        "      val_inst[i][j] = (0,0,())\n",
        "\n",
        "  # Loop through all val_instances\n",
        "  for k in inst_id:\n",
        "    # Working with a single test set:\n",
        "    for pct in [0.5, 0.7, 0.9]: \n",
        "      cur_val_df = test_df[test_df['Unit_id'] == k]\n",
        "      val_inst[k][pct] = RUL_estimator(train_df=train_df, test_df=cur_val_df, max_cycle_df=max_cycle_df, pct=pct, nearest=nearest, name=name)\n",
        "\n",
        "  return val_inst\n"
      ],
      "metadata": {
        "id": "5gXo81IlDvWw"
      },
      "execution_count": null,
      "outputs": []
    },
    {
      "cell_type": "code",
      "source": [
        "def result_analysis(val_inst):\n",
        "  fif = []\n",
        "  sev = []\n",
        "  nine = []\n",
        "  EST_RUL_5 = []\n",
        "  TRUE_RUL_5 = []\n",
        "  ENS_RUL_5 = []\n",
        "  EST_RUL_7 = []\n",
        "  TRUE_RUL_7 = []\n",
        "  ENS_RUL_7 = []\n",
        "  EST_RUL_9 = []\n",
        "  TRUE_RUL_9 = []\n",
        "  ENS_RUL_9 = []\n",
        "  id_list = []\n",
        "  # loop through all instances:\n",
        "  for id,info in val_inst.items():\n",
        "    id_list.append(id)\n",
        "\n",
        "    EST_RUL_5.append(info[0.5][0])\n",
        "    TRUE_RUL_5.append(info[0.5][1])\n",
        "    ENS_RUL_5.append(info[0.5][2])\n",
        "\n",
        "    EST_RUL_7.append(info[0.7][0])\n",
        "    TRUE_RUL_7.append(info[0.7][1])\n",
        "    ENS_RUL_7.append(info[0.5][2])\n",
        "\n",
        "    EST_RUL_9.append(info[0.9][0])\n",
        "    TRUE_RUL_9.append(info[0.9][1])\n",
        "    ENS_RUL_9.append(info[0.5][2])\n",
        "\n",
        "  fif = [EST_RUL_5, TRUE_RUL_5, ENS_RUL_5]\n",
        "  sev = [EST_RUL_7, TRUE_RUL_7, ENS_RUL_7]\n",
        "  nine = [EST_RUL_9, TRUE_RUL_9, ENS_RUL_9]\n",
        "  \n",
        "  return fif, sev, nine\n",
        "  # Calculate RMSE\n",
        "\n"
      ],
      "metadata": {
        "id": "9YR7ZVPKDvWw"
      },
      "execution_count": null,
      "outputs": []
    },
    {
      "cell_type": "code",
      "source": [
        "def score(errors):\n",
        "  a1=10\n",
        "  a2=13\n",
        "  s1=0\n",
        "  s2=0\n",
        "  for err in errors:\n",
        "    if err < 0:\n",
        "      s1 += (np.exp(-1*(err/a1))) - 1\n",
        "    if ((err > 0) or (err == 0)):\n",
        "      s2 += (np.exp(err/a2)) - 1\n",
        "  return [s1 , s2]"
      ],
      "metadata": {
        "id": "B8YrmGhMDvWx"
      },
      "execution_count": null,
      "outputs": []
    },
    {
      "cell_type": "code",
      "source": [
        "def RUL_metrics(a,b,c):\n",
        "  res_list = []\n",
        "  RMSE = []\n",
        "  MAE = []\n",
        "  SCORE = []\n",
        "\n",
        "  # Make an array for easy computation\n",
        "  for res in [a,b,c]:\n",
        "    res_list.append(np.array(res[:2]).T)\n",
        "  res_array = np.array(res_list)\n",
        "\n",
        "  for r in res_array:\n",
        "    errors = r[0]-r[1]\n",
        "    RMSE.append(mean_squared_error(r[0], r[1], squared=False))\n",
        "    MAE.append(mean_absolute_error(r[0],r[1]))\n",
        "    SCORE.append(score(errors))\n",
        "\n",
        "  return RMSE, MAE, SCORE\n"
      ],
      "metadata": {
        "id": "zQsppdJnDvWx"
      },
      "execution_count": null,
      "outputs": []
    },
    {
      "cell_type": "markdown",
      "source": [
        "HI Constructed with PCA "
      ],
      "metadata": {
        "id": "y6s46ERbKJA3"
      }
    },
    {
      "cell_type": "code",
      "source": [
        "# L is Full\n",
        "val_inst = RUL_Estimator_coll(train_df=HItrain_df, test_df=HIval_df, max_cycle_df=max_cycle_df, nearest=50, name='HI_PCA')\n",
        "a,b,c = result_analysis(val_inst)\n",
        "RMSE, MAE, SCORE = RUL_metrics(a,b,c)"
      ],
      "metadata": {
        "id": "Ce1jKTxgHVwW"
      },
      "execution_count": null,
      "outputs": []
    },
    {
      "cell_type": "code",
      "source": [
        "RMSE"
      ],
      "metadata": {
        "colab": {
          "base_uri": "https://localhost:8080/"
        },
        "outputId": "c71a1a59-4537-4edc-ba9d-36899f982c80",
        "id": "cp4FB9bmHVwW"
      },
      "execution_count": null,
      "outputs": [
        {
          "output_type": "execute_result",
          "data": {
            "text/plain": [
              "[43.606170140911864, 24.80266727204535, 7.664859454481117]"
            ]
          },
          "metadata": {},
          "execution_count": 418
        }
      ]
    },
    {
      "cell_type": "code",
      "source": [
        "MAE"
      ],
      "metadata": {
        "colab": {
          "base_uri": "https://localhost:8080/"
        },
        "outputId": "0979ce2b-f28e-42ec-8461-48ff9455d38e",
        "id": "TUza0UJXHVwW"
      },
      "execution_count": null,
      "outputs": [
        {
          "output_type": "execute_result",
          "data": {
            "text/plain": [
              "[32.29771155750175, 18.50960170603246, 5.419874097105419]"
            ]
          },
          "metadata": {},
          "execution_count": 419
        }
      ]
    },
    {
      "cell_type": "code",
      "source": [
        "SCORE"
      ],
      "metadata": {
        "colab": {
          "base_uri": "https://localhost:8080/"
        },
        "outputId": "9a19d7ca-1992-449b-f392-ba4e9d87f990",
        "id": "FLahD2YEHVwW"
      },
      "execution_count": null,
      "outputs": [
        {
          "output_type": "execute_result",
          "data": {
            "text/plain": [
              "[[0.3498588075760032, 113.21806480385763],\n",
              " [0.22140275816016985, 13.787539165435343],\n",
              " [0, 1.3021115895541668]]"
            ]
          },
          "metadata": {},
          "execution_count": 420
        }
      ]
    },
    {
      "cell_type": "markdown",
      "source": [
        "Original HI"
      ],
      "metadata": {
        "id": "v7nIIEzPKLu9"
      }
    },
    {
      "cell_type": "code",
      "source": [
        "# L is Full\n",
        "val_inst = RUL_Estimator_coll(train_df=HItrain_df, test_df=HIval_df, max_cycle_df=max_cycle_df, nearest=50, name='ori_HI')\n",
        "a,b,c = result_analysis(val_inst)\n",
        "RMSE, MAE, SCORE = RUL_metrics(a,b,c)"
      ],
      "metadata": {
        "id": "TDqj7WbCKHjH"
      },
      "execution_count": null,
      "outputs": []
    },
    {
      "cell_type": "code",
      "source": [
        "RMSE"
      ],
      "metadata": {
        "colab": {
          "base_uri": "https://localhost:8080/"
        },
        "outputId": "438fba2e-03b7-4a27-ad67-e491f3f953bc",
        "id": "SNoesXqHKHjH"
      },
      "execution_count": null,
      "outputs": [
        {
          "output_type": "execute_result",
          "data": {
            "text/plain": [
              "[2.1213212940395016, 1.414214160825573, 0.0001130875457130223]"
            ]
          },
          "metadata": {},
          "execution_count": 426
        }
      ]
    },
    {
      "cell_type": "code",
      "source": [
        "MAE"
      ],
      "metadata": {
        "colab": {
          "base_uri": "https://localhost:8080/"
        },
        "outputId": "9b6b4f8a-59e7-4769-9c89-c74f2d8e7f93",
        "id": "ev2VW0zTKHjH"
      },
      "execution_count": null,
      "outputs": [
        {
          "output_type": "execute_result",
          "data": {
            "text/plain": [
              "[1.5014199551798706, 1.000919967276443, 7.996497044142174e-05]"
            ]
          },
          "metadata": {},
          "execution_count": 427
        }
      ]
    },
    {
      "cell_type": "code",
      "source": [
        "SCORE"
      ],
      "metadata": {
        "colab": {
          "base_uri": "https://localhost:8080/"
        },
        "outputId": "77005816-e31c-4eaa-d5b8-3aa87c1ee2d8",
        "id": "Hg9tv6sfKHjH"
      },
      "execution_count": null,
      "outputs": [
        {
          "output_type": "execute_result",
          "data": {
            "text/plain": [
              "[[0.3501428389412491, 0], [0.2215867685432924, 0], [0, 1.2302378818551674e-05]]"
            ]
          },
          "metadata": {},
          "execution_count": 428
        }
      ]
    },
    {
      "cell_type": "markdown",
      "source": [
        "Comment: The weighted estimate just added more error to the estimation for PCA but does a good job for original HI.\n",
        "NOTE: This section needs to be modified....."
      ],
      "metadata": {
        "id": "TzpfD1CcKQUw"
      }
    },
    {
      "cell_type": "markdown",
      "source": [
        "Original HI + L (FULL) + Metric (RMSE) + Est_RUL (MEDIAN)"
      ],
      "metadata": {
        "id": "-SktxjHoLltN"
      }
    },
    {
      "cell_type": "code",
      "source": [
        "# L is Full\n",
        "val_inst = RUL_Estimator_coll(train_df=HItrain_df, test_df=HIval_df, max_cycle_df=max_cycle_df, nearest=50, name='ori_HI')\n",
        "a,b,c = result_analysis(val_inst)\n",
        "RMSE, MAE, SCORE = RUL_metrics(a,b,c)"
      ],
      "metadata": {
        "id": "ZhfKoBxSLltO"
      },
      "execution_count": null,
      "outputs": []
    },
    {
      "cell_type": "code",
      "source": [
        "RMSE"
      ],
      "metadata": {
        "colab": {
          "base_uri": "https://localhost:8080/"
        },
        "outputId": "e5633d86-d67e-48b9-9e94-d1b6ef012743",
        "id": "hlBlg1iNLltO"
      },
      "execution_count": null,
      "outputs": [
        {
          "output_type": "execute_result",
          "data": {
            "text/plain": [
              "[3.2596012026013246, 2.2638462845343543, 0.3535533905932738]"
            ]
          },
          "metadata": {},
          "execution_count": 437
        }
      ]
    },
    {
      "cell_type": "code",
      "source": [
        "MAE"
      ],
      "metadata": {
        "colab": {
          "base_uri": "https://localhost:8080/"
        },
        "outputId": "70a519d7-f4c3-4a92-f5da-38a938f74d71",
        "id": "VI97FjIeLltO"
      },
      "execution_count": null,
      "outputs": [
        {
          "output_type": "execute_result",
          "data": {
            "text/plain": [
              "[3.25, 2.25, 0.25]"
            ]
          },
          "metadata": {},
          "execution_count": 438
        }
      ]
    },
    {
      "cell_type": "code",
      "source": [
        "SCORE"
      ],
      "metadata": {
        "colab": {
          "base_uri": "https://localhost:8080/"
        },
        "outputId": "c1b7addd-7fd7-4886-dcc2-bacd006a2e4e",
        "id": "Mc-YQkezLltO"
      },
      "execution_count": null,
      "outputs": [
        {
          "output_type": "execute_result",
          "data": {
            "text/plain": [
              "[[0.7689263561692603, 0], [0.5054281748479112, 0], [0.05127109637602412, 0.0]]"
            ]
          },
          "metadata": {},
          "execution_count": 439
        }
      ]
    },
    {
      "cell_type": "code",
      "source": [],
      "metadata": {
        "id": "frWD9oL9PMu8"
      },
      "execution_count": null,
      "outputs": []
    },
    {
      "cell_type": "markdown",
      "source": [
        "Just manually examining what our chosen model is doing.\n",
        "\n",
        "\n",
        "*   f = estimated RUL\n",
        "*   f1 = True RUL\n",
        "\n"
      ],
      "metadata": {
        "id": "Lag02JK0PebZ"
      }
    },
    {
      "cell_type": "code",
      "source": [
        "(f,f1,f2) = RUL_estimator(train_df=HItrain_df, test_df=HIval_df[HIval_df['Unit_id'] == 201], max_cycle_df=max_cycle_df, pct=0.5, nearest=50, name='ori_HI')\n",
        "print(f,f1)"
      ],
      "metadata": {
        "colab": {
          "base_uri": "https://localhost:8080/"
        },
        "id": "ZhpZw31ZPNGN",
        "outputId": "74f617b7-14fb-4aef-b380-aaeca3212512"
      },
      "execution_count": null,
      "outputs": [
        {
          "output_type": "stream",
          "name": "stdout",
          "text": [
            "97.0 95\n"
          ]
        }
      ]
    },
    {
      "cell_type": "code",
      "source": [
        "(f,f1,f2) = RUL_estimator(train_df=HItrain_df, test_df=HIval_df[HIval_df['Unit_id'] == 201], max_cycle_df=max_cycle_df, pct=0.7, nearest=50, name='ori_HI')\n",
        "print(f,f1)"
      ],
      "metadata": {
        "colab": {
          "base_uri": "https://localhost:8080/"
        },
        "id": "b1DwMIpFPdx4",
        "outputId": "043b1852-ca3d-44ae-f69b-f9ea6b7c6b95"
      },
      "execution_count": null,
      "outputs": [
        {
          "output_type": "stream",
          "name": "stdout",
          "text": [
            "59.0 57\n"
          ]
        }
      ]
    },
    {
      "cell_type": "code",
      "source": [
        "(f,f1,f2) = RUL_estimator(train_df=HItrain_df, test_df=HIval_df[HIval_df['Unit_id'] == 201], max_cycle_df=max_cycle_df, pct=0.9, nearest=50, name='ori_HI')\n",
        "print(f,f1)"
      ],
      "metadata": {
        "colab": {
          "base_uri": "https://localhost:8080/"
        },
        "id": "kJ9jAeWlPx4G",
        "outputId": "2aa034d6-a629-411a-bd64-e9d38bef20d9"
      },
      "execution_count": null,
      "outputs": [
        {
          "output_type": "stream",
          "name": "stdout",
          "text": [
            "21.0 19\n"
          ]
        }
      ]
    },
    {
      "cell_type": "code",
      "source": [],
      "metadata": {
        "id": "G-UpzPjKP4cX"
      },
      "execution_count": null,
      "outputs": []
    },
    {
      "cell_type": "markdown",
      "source": [
        "For approximate HI we can see that the bound is getting tighter as we get more data. "
      ],
      "metadata": {
        "id": "fE8SWqs1QNVZ"
      }
    },
    {
      "cell_type": "code",
      "source": [
        "(f,f1,f2) = RUL_estimator(train_df=HItrain_df, test_df=HIval_df[HIval_df['Unit_id'] == 201], max_cycle_df=max_cycle_df, pct=0.5, nearest=50, name='apprx_HI_ANN')\n",
        "print(f,f1)"
      ],
      "metadata": {
        "colab": {
          "base_uri": "https://localhost:8080/"
        },
        "outputId": "4eadb41a-2d7a-4d55-9868-54b597169175",
        "id": "O-yOApb7P4iE"
      },
      "execution_count": null,
      "outputs": [
        {
          "output_type": "stream",
          "name": "stdout",
          "text": [
            "114.5 95\n"
          ]
        }
      ]
    },
    {
      "cell_type": "code",
      "source": [
        "(f,f1,f2) = RUL_estimator(train_df=HItrain_df, test_df=HIval_df[HIval_df['Unit_id'] == 201], max_cycle_df=max_cycle_df, pct=0.7, nearest=50, name='apprx_HI_ANN')\n",
        "print(f,f1)"
      ],
      "metadata": {
        "colab": {
          "base_uri": "https://localhost:8080/"
        },
        "outputId": "9d0054da-4036-47f1-f58c-5e4c3177b2d2",
        "id": "zcHIRgr6P4iE"
      },
      "execution_count": null,
      "outputs": [
        {
          "output_type": "stream",
          "name": "stdout",
          "text": [
            "61.5 57\n"
          ]
        }
      ]
    },
    {
      "cell_type": "code",
      "source": [
        "(f,f1,f2) = RUL_estimator(train_df=HItrain_df, test_df=HIval_df[HIval_df['Unit_id'] == 201], max_cycle_df=max_cycle_df, pct=0.9, nearest=50, name='apprx_HI_ANN')\n",
        "print(f,f1)"
      ],
      "metadata": {
        "outputId": "ab8b220f-549b-4201-f536-17f47fbd9bf2",
        "colab": {
          "base_uri": "https://localhost:8080/"
        },
        "id": "ukW3F832P4iE"
      },
      "execution_count": null,
      "outputs": [
        {
          "output_type": "stream",
          "name": "stdout",
          "text": [
            "16.5 19\n"
          ]
        }
      ]
    },
    {
      "cell_type": "markdown",
      "source": [
        "# Actual RUL Estimation Functions with no experiments."
      ],
      "metadata": {
        "id": "vMv87IM2m_b5"
      }
    },
    {
      "cell_type": "markdown",
      "source": [
        "See metrics on validation dataset using the best hyperparameters tuned above for every model."
      ],
      "metadata": {
        "id": "u5byMI2Br5Tu"
      }
    },
    {
      "cell_type": "code",
      "source": [
        "# This is the residual function we are using because the lent can be larger than some instance's maxcycles.....\n",
        "def residual_func(train_df, test_df, lent, name):\n",
        "  no_instances = train_df['Unit_id'].unique().shape[0]\n",
        "  res_mat = np.zeros((lent, no_instances))\n",
        "  cur_val = test_df[name][:lent]\n",
        "  for id in train_df['Unit_id'].unique():\n",
        "    # If it is already dead, then maybe you shouldn't be part of the computation OR add zeros below it\n",
        "    temp_df = train_df[train_df['Unit_id']==id]\n",
        "    if temp_df.shape[0] < lent:\n",
        "      diff_arr = np.zeros(lent- temp_df.shape[0])\n",
        "      cur_train = temp_df[name][:lent]\n",
        "      cur_train = np.concatenate((cur_train, diff_arr), axis=0)\n",
        "      res_mat[:,id-1] = cur_train\n",
        "    else:\n",
        "      temp_df = train_df[train_df['Unit_id']==id]\n",
        "      cur_train = temp_df[name][:lent]\n",
        "      res_mat[:,id-1] = cur_train\n",
        "\n",
        "  l = res_mat - cur_val.to_numpy().reshape((-1,1))\n",
        "  residual = np.sqrt(np.mean(l**2, axis=0))\n",
        "  return residual"
      ],
      "metadata": {
        "id": "fITNcQzjne76"
      },
      "execution_count": null,
      "outputs": []
    },
    {
      "cell_type": "code",
      "source": [
        "def lenght(test_df, pct):\n",
        " lent = math.ceil(test_df.shape[0]*pct)\n",
        " return lent\n",
        "\n",
        "def neighbors(residual,nearest):\n",
        "  n_neighbors = np.argsort(residual)[:nearest]\n",
        "  return n_neighbors"
      ],
      "metadata": {
        "id": "jI8Ppmmlne76"
      },
      "execution_count": null,
      "outputs": []
    },
    {
      "cell_type": "code",
      "execution_count": null,
      "metadata": {
        "id": "eW3ublyTne76"
      },
      "outputs": [],
      "source": [
        "#  The function for new data will be a little different from that of val data\n",
        "def RUL_estimator(train_df, test_df, max_cycle_df, pct, nearest, name):\n",
        "  # Call Lenght Function\n",
        "  lent = lenght(test_df,pct)\n",
        "\n",
        "  # Call Residual Function\n",
        "  residual = residual_func(train_df, test_df, lent, name)\n",
        "\n",
        "  # Nearest neighbours function - where you can change the size of nearest neighbours\n",
        "  n_neighbors = neighbors(residual,nearest)\n",
        "\n",
        "  # RUL Estimation\n",
        "  # We want the closest 50 that are not yet dead\n",
        "  ens_RULs = max_cycle_df.loc[n_neighbors+1] - lent\n",
        "\n",
        "  true_RUL = test_df.shape[0] - lent\n",
        "\n",
        "  m = ens_RULs[ens_RULs>-10]\n",
        "  m[m.isna()] = 0\n",
        "\n",
        "  est_RUL = m['max_cycle'].median()\n",
        "\n",
        "  return (est_RUL, true_RUL, (ens_RULs))\n",
        "  # return lent, residual, n_neighbors"
      ]
    },
    {
      "cell_type": "code",
      "source": [
        "def RUL_Estimator_coll(train_df, test_df, max_cycle_df, nearest, name):\n",
        "  # Instantiate pct list:\n",
        "  pct_list = [0.5,0.7,0.9]\n",
        "  # Val_data unique ID\n",
        "  inst_id = test_df['Unit_id'].unique()\n",
        "\n",
        "  # Create a results dictionary:\n",
        "  val_inst = {}\n",
        "  for i in inst_id:\n",
        "    val_inst[i] = {}\n",
        "    for j in [0.5, 0.7, 0.9]:\n",
        "      val_inst[i][j] = (0,0,())\n",
        "\n",
        "  # Loop through all val_instances\n",
        "  for k in inst_id:\n",
        "    # Working with a single test set:\n",
        "    for pct in [0.5, 0.7, 0.9]: \n",
        "      cur_val_df = test_df[test_df['Unit_id'] == k]\n",
        "      val_inst[k][pct] = RUL_estimator(train_df=train_df, test_df=cur_val_df, max_cycle_df=max_cycle_df, pct=pct, nearest=nearest, name=name)\n",
        "\n",
        "  return val_inst\n"
      ],
      "metadata": {
        "id": "myMmzUvSne77"
      },
      "execution_count": null,
      "outputs": []
    },
    {
      "cell_type": "code",
      "source": [
        "def result_analysis(val_inst):\n",
        "  fif = []\n",
        "  sev = []\n",
        "  nine = []\n",
        "  EST_RUL_5 = []\n",
        "  TRUE_RUL_5 = []\n",
        "  ENS_RUL_5 = []\n",
        "  EST_RUL_7 = []\n",
        "  TRUE_RUL_7 = []\n",
        "  ENS_RUL_7 = []\n",
        "  EST_RUL_9 = []\n",
        "  TRUE_RUL_9 = []\n",
        "  ENS_RUL_9 = []\n",
        "  id_list = []\n",
        "  # loop through all instances:\n",
        "  for id,info in val_inst.items():\n",
        "    id_list.append(id)\n",
        "\n",
        "    EST_RUL_5.append(info[0.5][0])\n",
        "    TRUE_RUL_5.append(info[0.5][1])\n",
        "    ENS_RUL_5.append(info[0.5][2])\n",
        "\n",
        "    EST_RUL_7.append(info[0.7][0])\n",
        "    TRUE_RUL_7.append(info[0.7][1])\n",
        "    ENS_RUL_7.append(info[0.5][2])\n",
        "\n",
        "    EST_RUL_9.append(info[0.9][0])\n",
        "    TRUE_RUL_9.append(info[0.9][1])\n",
        "    ENS_RUL_9.append(info[0.5][2])\n",
        "\n",
        "  fif = [EST_RUL_5, TRUE_RUL_5, ENS_RUL_5]\n",
        "  sev = [EST_RUL_7, TRUE_RUL_7, ENS_RUL_7]\n",
        "  nine = [EST_RUL_9, TRUE_RUL_9, ENS_RUL_9]\n",
        "  \n",
        "  return fif, sev, nine\n",
        "  # Calculate RMSE\n",
        "\n"
      ],
      "metadata": {
        "id": "ZvozRBJZne77"
      },
      "execution_count": null,
      "outputs": []
    },
    {
      "cell_type": "code",
      "source": [
        "def score(errors):\n",
        "  a1=10\n",
        "  a2=13\n",
        "  s1=0\n",
        "  s2=0\n",
        "  for err in errors:\n",
        "    if err < 0:\n",
        "      s1 += (np.exp(-1*(err/a1))) - 1\n",
        "    if ((err > 0) or (err == 0)):\n",
        "      s2 += (np.exp(err/a2)) - 1\n",
        "  return [s1 , s2]"
      ],
      "metadata": {
        "id": "b9uafycane77"
      },
      "execution_count": null,
      "outputs": []
    },
    {
      "cell_type": "code",
      "source": [
        "def RUL_metrics(a,b,c):\n",
        "  res_list = []\n",
        "  RMSE = []\n",
        "  MAE = []\n",
        "  SCORE = []\n",
        "\n",
        "  # Make an array for easy computation\n",
        "  for res in [a,b,c]:\n",
        "    res_list.append(np.array(res[:2]).T)\n",
        "  res_array = np.array(res_list)\n",
        "\n",
        "  for r in res_array:\n",
        "    errors = r[0]-r[1]\n",
        "    RMSE.append(mean_squared_error(r[0], r[1], squared=False))\n",
        "    MAE.append(mean_absolute_error(r[0],r[1]))\n",
        "    SCORE.append(score(errors))\n",
        "\n",
        "  return RMSE, MAE, SCORE\n"
      ],
      "metadata": {
        "id": "F5ksC0D9ne77"
      },
      "execution_count": null,
      "outputs": []
    },
    {
      "cell_type": "markdown",
      "source": [
        "This is an updated Health Index dataframe: See the \"Health Index Prediction Model\"  and \"Unsupervised Learning Health Index Construction Models\" to see how these health indices were constructed or estimated. Below experiment shows the RUL estimation scores at 50,70 and 90% of the lifetime of the validation dataset."
      ],
      "metadata": {
        "id": "tYf334_wvAB-"
      }
    },
    {
      "cell_type": "code",
      "source": [
        "HItrain_df.head()"
      ],
      "metadata": {
        "colab": {
          "base_uri": "https://localhost:8080/",
          "height": 206
        },
        "id": "RR2iJRzjoCHf",
        "outputId": "bd64d429-7584-4008-c00a-f9c24987045a"
      },
      "execution_count": null,
      "outputs": [
        {
          "output_type": "execute_result",
          "data": {
            "text/plain": [
              "   Unit_id  Time    ori_HI  Maxcycle  RUL    new_HI  apprx_HI    HI_PCA  \\\n",
              "0        1     1  1.000000       149  148  0.582822  0.546977 -0.859024   \n",
              "1        1     2  0.993243       149  147  0.582912  0.581504 -0.628524   \n",
              "2        1     3  0.986486       149  146  0.582965  0.601732 -0.404679   \n",
              "3        1     4  0.979730       149  145  0.583290  0.726264 -1.859147   \n",
              "4        1     5  0.972973       149  144  0.582879  0.568990 -0.310075   \n",
              "\n",
              "   new_HI_PCA  HI_PCA_L  HI_PCA_Lz  \n",
              "0   -1.192820 -0.794293   0.187668  \n",
              "1   -1.197747 -0.701790   0.197499  \n",
              "2   -1.202504 -0.405560   0.228983  \n",
              "3   -1.171129 -1.376195   0.125823  \n",
              "4   -1.204507 -0.534039   0.215328  "
            ],
            "text/html": [
              "\n",
              "  <div id=\"df-06668608-c0e6-420b-92ca-6f8e34b29d60\">\n",
              "    <div class=\"colab-df-container\">\n",
              "      <div>\n",
              "<style scoped>\n",
              "    .dataframe tbody tr th:only-of-type {\n",
              "        vertical-align: middle;\n",
              "    }\n",
              "\n",
              "    .dataframe tbody tr th {\n",
              "        vertical-align: top;\n",
              "    }\n",
              "\n",
              "    .dataframe thead th {\n",
              "        text-align: right;\n",
              "    }\n",
              "</style>\n",
              "<table border=\"1\" class=\"dataframe\">\n",
              "  <thead>\n",
              "    <tr style=\"text-align: right;\">\n",
              "      <th></th>\n",
              "      <th>Unit_id</th>\n",
              "      <th>Time</th>\n",
              "      <th>ori_HI</th>\n",
              "      <th>Maxcycle</th>\n",
              "      <th>RUL</th>\n",
              "      <th>new_HI</th>\n",
              "      <th>apprx_HI</th>\n",
              "      <th>HI_PCA</th>\n",
              "      <th>new_HI_PCA</th>\n",
              "      <th>HI_PCA_L</th>\n",
              "      <th>HI_PCA_Lz</th>\n",
              "    </tr>\n",
              "  </thead>\n",
              "  <tbody>\n",
              "    <tr>\n",
              "      <th>0</th>\n",
              "      <td>1</td>\n",
              "      <td>1</td>\n",
              "      <td>1.000000</td>\n",
              "      <td>149</td>\n",
              "      <td>148</td>\n",
              "      <td>0.582822</td>\n",
              "      <td>0.546977</td>\n",
              "      <td>-0.859024</td>\n",
              "      <td>-1.192820</td>\n",
              "      <td>-0.794293</td>\n",
              "      <td>0.187668</td>\n",
              "    </tr>\n",
              "    <tr>\n",
              "      <th>1</th>\n",
              "      <td>1</td>\n",
              "      <td>2</td>\n",
              "      <td>0.993243</td>\n",
              "      <td>149</td>\n",
              "      <td>147</td>\n",
              "      <td>0.582912</td>\n",
              "      <td>0.581504</td>\n",
              "      <td>-0.628524</td>\n",
              "      <td>-1.197747</td>\n",
              "      <td>-0.701790</td>\n",
              "      <td>0.197499</td>\n",
              "    </tr>\n",
              "    <tr>\n",
              "      <th>2</th>\n",
              "      <td>1</td>\n",
              "      <td>3</td>\n",
              "      <td>0.986486</td>\n",
              "      <td>149</td>\n",
              "      <td>146</td>\n",
              "      <td>0.582965</td>\n",
              "      <td>0.601732</td>\n",
              "      <td>-0.404679</td>\n",
              "      <td>-1.202504</td>\n",
              "      <td>-0.405560</td>\n",
              "      <td>0.228983</td>\n",
              "    </tr>\n",
              "    <tr>\n",
              "      <th>3</th>\n",
              "      <td>1</td>\n",
              "      <td>4</td>\n",
              "      <td>0.979730</td>\n",
              "      <td>149</td>\n",
              "      <td>145</td>\n",
              "      <td>0.583290</td>\n",
              "      <td>0.726264</td>\n",
              "      <td>-1.859147</td>\n",
              "      <td>-1.171129</td>\n",
              "      <td>-1.376195</td>\n",
              "      <td>0.125823</td>\n",
              "    </tr>\n",
              "    <tr>\n",
              "      <th>4</th>\n",
              "      <td>1</td>\n",
              "      <td>5</td>\n",
              "      <td>0.972973</td>\n",
              "      <td>149</td>\n",
              "      <td>144</td>\n",
              "      <td>0.582879</td>\n",
              "      <td>0.568990</td>\n",
              "      <td>-0.310075</td>\n",
              "      <td>-1.204507</td>\n",
              "      <td>-0.534039</td>\n",
              "      <td>0.215328</td>\n",
              "    </tr>\n",
              "  </tbody>\n",
              "</table>\n",
              "</div>\n",
              "      <button class=\"colab-df-convert\" onclick=\"convertToInteractive('df-06668608-c0e6-420b-92ca-6f8e34b29d60')\"\n",
              "              title=\"Convert this dataframe to an interactive table.\"\n",
              "              style=\"display:none;\">\n",
              "        \n",
              "  <svg xmlns=\"http://www.w3.org/2000/svg\" height=\"24px\"viewBox=\"0 0 24 24\"\n",
              "       width=\"24px\">\n",
              "    <path d=\"M0 0h24v24H0V0z\" fill=\"none\"/>\n",
              "    <path d=\"M18.56 5.44l.94 2.06.94-2.06 2.06-.94-2.06-.94-.94-2.06-.94 2.06-2.06.94zm-11 1L8.5 8.5l.94-2.06 2.06-.94-2.06-.94L8.5 2.5l-.94 2.06-2.06.94zm10 10l.94 2.06.94-2.06 2.06-.94-2.06-.94-.94-2.06-.94 2.06-2.06.94z\"/><path d=\"M17.41 7.96l-1.37-1.37c-.4-.4-.92-.59-1.43-.59-.52 0-1.04.2-1.43.59L10.3 9.45l-7.72 7.72c-.78.78-.78 2.05 0 2.83L4 21.41c.39.39.9.59 1.41.59.51 0 1.02-.2 1.41-.59l7.78-7.78 2.81-2.81c.8-.78.8-2.07 0-2.86zM5.41 20L4 18.59l7.72-7.72 1.47 1.35L5.41 20z\"/>\n",
              "  </svg>\n",
              "      </button>\n",
              "      \n",
              "  <style>\n",
              "    .colab-df-container {\n",
              "      display:flex;\n",
              "      flex-wrap:wrap;\n",
              "      gap: 12px;\n",
              "    }\n",
              "\n",
              "    .colab-df-convert {\n",
              "      background-color: #E8F0FE;\n",
              "      border: none;\n",
              "      border-radius: 50%;\n",
              "      cursor: pointer;\n",
              "      display: none;\n",
              "      fill: #1967D2;\n",
              "      height: 32px;\n",
              "      padding: 0 0 0 0;\n",
              "      width: 32px;\n",
              "    }\n",
              "\n",
              "    .colab-df-convert:hover {\n",
              "      background-color: #E2EBFA;\n",
              "      box-shadow: 0px 1px 2px rgba(60, 64, 67, 0.3), 0px 1px 3px 1px rgba(60, 64, 67, 0.15);\n",
              "      fill: #174EA6;\n",
              "    }\n",
              "\n",
              "    [theme=dark] .colab-df-convert {\n",
              "      background-color: #3B4455;\n",
              "      fill: #D2E3FC;\n",
              "    }\n",
              "\n",
              "    [theme=dark] .colab-df-convert:hover {\n",
              "      background-color: #434B5C;\n",
              "      box-shadow: 0px 1px 3px 1px rgba(0, 0, 0, 0.15);\n",
              "      filter: drop-shadow(0px 1px 2px rgba(0, 0, 0, 0.3));\n",
              "      fill: #FFFFFF;\n",
              "    }\n",
              "  </style>\n",
              "\n",
              "      <script>\n",
              "        const buttonEl =\n",
              "          document.querySelector('#df-06668608-c0e6-420b-92ca-6f8e34b29d60 button.colab-df-convert');\n",
              "        buttonEl.style.display =\n",
              "          google.colab.kernel.accessAllowed ? 'block' : 'none';\n",
              "\n",
              "        async function convertToInteractive(key) {\n",
              "          const element = document.querySelector('#df-06668608-c0e6-420b-92ca-6f8e34b29d60');\n",
              "          const dataTable =\n",
              "            await google.colab.kernel.invokeFunction('convertToInteractive',\n",
              "                                                     [key], {});\n",
              "          if (!dataTable) return;\n",
              "\n",
              "          const docLinkHtml = 'Like what you see? Visit the ' +\n",
              "            '<a target=\"_blank\" href=https://colab.research.google.com/notebooks/data_table.ipynb>data table notebook</a>'\n",
              "            + ' to learn more about interactive tables.';\n",
              "          element.innerHTML = '';\n",
              "          dataTable['output_type'] = 'display_data';\n",
              "          await google.colab.output.renderOutput(dataTable, element);\n",
              "          const docLink = document.createElement('div');\n",
              "          docLink.innerHTML = docLinkHtml;\n",
              "          element.appendChild(docLink);\n",
              "        }\n",
              "      </script>\n",
              "    </div>\n",
              "  </div>\n",
              "  "
            ]
          },
          "metadata": {},
          "execution_count": 99
        }
      ]
    },
    {
      "cell_type": "code",
      "source": [
        "# L is Full\n",
        "val_inst = RUL_Estimator_coll(train_df=HItrain_df, test_df=HIval_df, max_cycle_df=max_cycle_df, nearest=50, name='ori_HI')\n",
        "a,b,c = result_analysis(val_inst)\n",
        "RMSE, MAE, SCORE = RUL_metrics(a,b,c)"
      ],
      "metadata": {
        "id": "wxlkuqoHnuLM"
      },
      "execution_count": null,
      "outputs": []
    },
    {
      "cell_type": "code",
      "source": [
        "print(RMSE,MAE,SCORE)"
      ],
      "metadata": {
        "colab": {
          "base_uri": "https://localhost:8080/"
        },
        "id": "Y7U5ZiXlorUK",
        "outputId": "fd2ab59d-d1e7-43d9-ecac-cad4322379f8"
      },
      "execution_count": null,
      "outputs": [
        {
          "output_type": "stream",
          "name": "stdout",
          "text": [
            "[3.2596012026013246, 2.2638462845343543, 0.3535533905932738] [3.25, 2.25, 0.25] [[0.7689263561692603, 0], [0.5054281748479112, 0], [0.05127109637602412, 0.0]]\n"
          ]
        }
      ]
    },
    {
      "cell_type": "code",
      "source": [
        "# L is Full\n",
        "val_inst = RUL_Estimator_coll(train_df=HItrain_df, test_df=HIval_df, max_cycle_df=max_cycle_df, nearest=50, name='apprx_HI')\n",
        "a,b,c = result_analysis(val_inst)\n",
        "RMSE, MAE, SCORE = RUL_metrics(a,b,c)"
      ],
      "metadata": {
        "id": "L6ZkviDCn0dw"
      },
      "execution_count": null,
      "outputs": []
    },
    {
      "cell_type": "code",
      "source": [
        "print(RMSE,MAE,SCORE)"
      ],
      "metadata": {
        "colab": {
          "base_uri": "https://localhost:8080/"
        },
        "outputId": "6d81e2fb-925a-42dc-af1f-634520f4452e",
        "id": "vcEtT0gro077"
      },
      "execution_count": null,
      "outputs": [
        {
          "output_type": "stream",
          "name": "stdout",
          "text": [
            "[12.55487952948972, 15.972632844963288, 11.667261889578034] [10.25, 12.25, 8.25] [[0.3498588075760032, 2.8426177733663716], [0.22140275816016985, 4.644994542233771], [0, 2.5581144982364594]]\n"
          ]
        }
      ]
    },
    {
      "cell_type": "code",
      "source": [
        "# L is Full\n",
        "val_inst = RUL_Estimator_coll(train_df=HItrain_df, test_df=HIval_df, max_cycle_df=max_cycle_df, nearest=50, name='HI_PCA')\n",
        "a,b,c = result_analysis(val_inst)\n",
        "RMSE, MAE, SCORE = RUL_metrics(a,b,c)"
      ],
      "metadata": {
        "id": "hEyILV20n9tP"
      },
      "execution_count": null,
      "outputs": []
    },
    {
      "cell_type": "code",
      "source": [
        "print(RMSE,MAE,SCORE)"
      ],
      "metadata": {
        "colab": {
          "base_uri": "https://localhost:8080/"
        },
        "outputId": "1114c8fa-7bd4-470d-fa66-6e3cca44c272",
        "id": "yJ0RJvf2o5j6"
      },
      "execution_count": null,
      "outputs": [
        {
          "output_type": "stream",
          "name": "stdout",
          "text": [
            "[18.85802216564611, 14.564511663629508, 10.253048327204938] [14.75, 11.25, 7.25] [[0.3498588075760032, 6.678786589066299], [0.22140275816016985, 3.840040444150536], [0, 2.0507413156095278]]\n"
          ]
        }
      ]
    },
    {
      "cell_type": "code",
      "source": [
        "# L is Full, k_components = 3\n",
        "val_inst = RUL_Estimator_coll(train_df=HItrain_df, test_df=HIval_df, max_cycle_df=max_cycle_df, nearest=50, name='HI_PCA_L')\n",
        "a,b,c = result_analysis(val_inst)\n",
        "RMSE, MAE, SCORE = RUL_metrics(a,b,c)"
      ],
      "metadata": {
        "id": "IZdcU1NRoWEp"
      },
      "execution_count": null,
      "outputs": []
    },
    {
      "cell_type": "code",
      "source": [
        "print(RMSE,MAE,SCORE)"
      ],
      "metadata": {
        "colab": {
          "base_uri": "https://localhost:8080/"
        },
        "outputId": "730e0deb-163f-4d03-a07a-8727b874c70c",
        "id": "TJfMO_Fmo7_W"
      },
      "execution_count": null,
      "outputs": [
        {
          "output_type": "stream",
          "name": "stdout",
          "text": [
            "[20.967236346261757, 12.103718436910205, 3.5355339059327378] [16.25, 9.5, 2.5] [[0.3498588075760032, 8.671957984132842], [0.22140275816016985, 2.6976308645666607], [0, 0.46904919384901667]]\n"
          ]
        }
      ]
    },
    {
      "cell_type": "code",
      "source": [
        "# L is Full, k_components = 8\n",
        "val_inst = RUL_Estimator_coll(train_df=HItrain_df, test_df=HIval_df, max_cycle_df=max_cycle_df, nearest=50, name='HI_PCA_L')\n",
        "a,b,c = result_analysis(val_inst)\n",
        "RMSE, MAE, SCORE = RUL_metrics(a,b,c)"
      ],
      "metadata": {
        "id": "2VJaE-OSswtL"
      },
      "execution_count": null,
      "outputs": []
    },
    {
      "cell_type": "code",
      "source": [
        "print(RMSE,MAE,SCORE)"
      ],
      "metadata": {
        "colab": {
          "base_uri": "https://localhost:8080/"
        },
        "outputId": "29bf930e-1862-47ae-946c-d81ffe099160",
        "id": "H1tInZm4swtL"
      },
      "execution_count": null,
      "outputs": [
        {
          "output_type": "stream",
          "name": "stdout",
          "text": [
            "[20.967236346261757, 14.212670403551895, 3.5355339059327378] [16.25, 11.0, 2.5] [[0.3498588075760032, 8.671957984132842], [0.22140275816016985, 3.657419495658906], [0, 0.46904919384901667]]\n"
          ]
        }
      ]
    },
    {
      "cell_type": "code",
      "source": [
        "# L is Full, k_components = 5\n",
        "val_inst = RUL_Estimator_coll(train_df=HItrain_df, test_df=HIval_df, max_cycle_df=max_cycle_df, nearest=50, name='HI_PCA_L')\n",
        "a,b,c = result_analysis(val_inst)\n",
        "RMSE, MAE, SCORE = RUL_metrics(a,b,c)"
      ],
      "metadata": {
        "id": "ubUSe0QHtEIO"
      },
      "execution_count": null,
      "outputs": []
    },
    {
      "cell_type": "code",
      "source": [
        "print(RMSE,MAE,SCORE)"
      ],
      "metadata": {
        "colab": {
          "base_uri": "https://localhost:8080/"
        },
        "outputId": "4a148564-be11-47e4-9c75-a7103211f928",
        "id": "O9SDMz-FtEIO"
      },
      "execution_count": null,
      "outputs": [
        {
          "output_type": "stream",
          "name": "stdout",
          "text": [
            "[20.967236346261757, 14.212670403551895, 3.5355339059327378] [16.25, 11.0, 2.5] [[0.3498588075760032, 8.671957984132842], [0.22140275816016985, 3.657419495658906], [0, 0.46904919384901667]]\n"
          ]
        }
      ]
    },
    {
      "cell_type": "code",
      "source": [
        "# L is Full, k_components = 2\n",
        "val_inst = RUL_Estimator_coll(train_df=HItrain_df, test_df=HIval_df, max_cycle_df=max_cycle_df, nearest=50, name='HI_PCA_L')\n",
        "a,b,c = result_analysis(val_inst)\n",
        "RMSE, MAE, SCORE = RUL_metrics(a,b,c)"
      ],
      "metadata": {
        "id": "Yp95avdlt8Za"
      },
      "execution_count": null,
      "outputs": []
    },
    {
      "cell_type": "code",
      "source": [
        "print(RMSE,MAE,SCORE)"
      ],
      "metadata": {
        "colab": {
          "base_uri": "https://localhost:8080/"
        },
        "outputId": "d1eb6f91-7b90-4788-93d9-851850c70b99",
        "id": "2vWZucA0t8Zb"
      },
      "execution_count": null,
      "outputs": [
        {
          "output_type": "stream",
          "name": "stdout",
          "text": [
            "[20.967236346261757, 14.212670403551895, 3.8890872965260113] [16.25, 11.0, 2.75] [[0.3498588075760032, 8.671957984132842], [0.22140275816016985, 3.657419495658906], [0, 0.5266517261980206]]\n"
          ]
        }
      ]
    },
    {
      "cell_type": "code",
      "source": [
        "# L is Full\n",
        "val_inst = RUL_Estimator_coll(train_df=HItrain_df, test_df=HIval_df, max_cycle_df=max_cycle_df, nearest=50, name='HI_PCA_Lz')\n",
        "a,b,c = result_analysis(val_inst)\n",
        "RMSE, MAE, SCORE = RUL_metrics(a,b,c)"
      ],
      "metadata": {
        "id": "KD04YyeJoWru"
      },
      "execution_count": null,
      "outputs": []
    },
    {
      "cell_type": "code",
      "source": [
        "print(RMSE,MAE,SCORE)"
      ],
      "metadata": {
        "colab": {
          "base_uri": "https://localhost:8080/"
        },
        "outputId": "1d87cb32-bc7a-452d-87d0-936996d79272",
        "id": "oxNyoJaqo_oE"
      },
      "execution_count": null,
      "outputs": [
        {
          "output_type": "stream",
          "name": "stdout",
          "text": [
            "[23.430749027719962, 19.144189719076646, 9.192388155425117] [18.0, 14.5, 6.5] [[0.3498588075760032, 11.660178782560491], [0.22140275816016985, 6.979877631319886], [0, 1.718281828459045]]\n"
          ]
        }
      ]
    }
  ]
}