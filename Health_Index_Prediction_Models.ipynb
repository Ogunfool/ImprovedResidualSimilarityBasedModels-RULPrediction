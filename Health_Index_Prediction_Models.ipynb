{
  "nbformat": 4,
  "nbformat_minor": 0,
  "metadata": {
    "colab": {
      "provenance": [],
      "authorship_tag": "ABX9TyMcgX8wE+hMvT40QoeWVzkI",
      "include_colab_link": true
    },
    "kernelspec": {
      "name": "python3",
      "display_name": "Python 3"
    },
    "language_info": {
      "name": "python"
    },
    "gpuClass": "standard"
  },
  "cells": [
    {
      "cell_type": "markdown",
      "metadata": {
        "id": "view-in-github",
        "colab_type": "text"
      },
      "source": [
        "<a href=\"https://colab.research.google.com/github/Ogunfool/Prognostics-Strategies-An-Aero-engine-Use-case/blob/main/Health_Index_Prediction_Models.ipynb\" target=\"_parent\"><img src=\"https://colab.research.google.com/assets/colab-badge.svg\" alt=\"Open In Colab\"/></a>"
      ]
    },
    {
      "cell_type": "markdown",
      "source": [
        "In the \"A_Residual_Similarity_Based_Method_for_Remaining_Useful_Life_Prediction_Using_Degradation_Degree\" notebook, we showed that a more sophisticated model can be used to improve the accuracy of the RUL estimator model. So in this notebook, different deep learning models are used for the HI prediction with the aim of achieving better results."
      ],
      "metadata": {
        "id": "HIpSYAKHW5o9"
      }
    },
    {
      "cell_type": "code",
      "source": [
        "import numpy as np\n",
        "import pandas as pd\n",
        "import matplotlib.pyplot as plt\n",
        "import scipy\n",
        "import math\n",
        "from sklearn.cluster import KMeans\n",
        "from sklearn.model_selection import train_test_split \n",
        "from sklearn.metrics import mean_absolute_error, mean_squared_error, r2_score"
      ],
      "metadata": {
        "id": "L51gDtlPowvB"
      },
      "execution_count": null,
      "outputs": []
    },
    {
      "cell_type": "code",
      "execution_count": null,
      "metadata": {
        "id": "vmW7SgcfzLO8"
      },
      "outputs": [],
      "source": [
        "import tensorflow as tf\n",
        "from tensorflow import keras\n",
        "from keras.models import Model, Sequential\n",
        "from keras import losses, optimizers, layers, activations, regularizers\n",
        "from keras.layers import Dense, Conv1D, LSTM, GRU, Input, Concatenate, MaxPool1D, Flatten, GlobalMaxPool1D\n",
        "from keras.losses import SparseCategoricalCrossentropy, categorical_crossentropy, mean_squared_error"
      ]
    },
    {
      "cell_type": "code",
      "source": [
        "from tensorflow.keras.optimizers import Adam, RMSprop, Adagrad, SGD\n",
        "from keras.metrics import Accuracy, Recall, MeanSquaredError, MeanAbsolutePercentageError\n",
        "from keras.callbacks import ModelCheckpoint, EarlyStopping"
      ],
      "metadata": {
        "id": "tZfcDDB12DDs"
      },
      "execution_count": null,
      "outputs": []
    },
    {
      "cell_type": "code",
      "execution_count": null,
      "metadata": {
        "id": "qjThQcYqA6zN",
        "colab": {
          "base_uri": "https://localhost:8080/"
        },
        "outputId": "2efd8562-2d98-46b7-fa17-352bd807ec4d"
      },
      "outputs": [
        {
          "output_type": "stream",
          "name": "stdout",
          "text": [
            "\u001b[?25l     \u001b[90m━━━━━━━━━━━━━━━━━━━━━━━━━━━━━━━━━━━━━━━━\u001b[0m \u001b[32m0.0/172.2 kB\u001b[0m \u001b[31m?\u001b[0m eta \u001b[36m-:--:--\u001b[0m\r\u001b[2K     \u001b[90m━━━━━━━━━━━━━━━━━━━━━━━━━━━━━━━━━━━━━━━\u001b[0m \u001b[32m172.2/172.2 kB\u001b[0m \u001b[31m5.0 MB/s\u001b[0m eta \u001b[36m0:00:00\u001b[0m\n",
            "\u001b[?25h"
          ]
        }
      ],
      "source": [
        "!pip install -q -U keras-tuner\n",
        "import keras_tuner as kt"
      ]
    },
    {
      "cell_type": "code",
      "source": [
        "!pip install git+https://github.com/tensorflow/docs"
      ],
      "metadata": {
        "id": "kMRjc0UJo_iI"
      },
      "execution_count": null,
      "outputs": []
    },
    {
      "cell_type": "code",
      "source": [
        "import tensorflow_docs as tfdocs\n",
        "import tensorflow_docs.modeling\n",
        "import tensorflow_docs.plots"
      ],
      "metadata": {
        "id": "OshwNxI8pGLE"
      },
      "execution_count": null,
      "outputs": []
    },
    {
      "cell_type": "code",
      "source": [
        "# Next, we'll confirm that we can connect to the GPU with tensorflow:\n",
        "device_name = tf.test.gpu_device_name()\n",
        "if device_name != '/device:GPU:0':\n",
        "  raise SystemError('GPU device not found')\n",
        "print('Found GPU at: {}'.format(device_name))"
      ],
      "metadata": {
        "colab": {
          "base_uri": "https://localhost:8080/"
        },
        "id": "2GTXIN1z12VY",
        "outputId": "f70947fd-27b9-46e4-cbac-46fe485b7484"
      },
      "execution_count": null,
      "outputs": [
        {
          "output_type": "stream",
          "name": "stdout",
          "text": [
            "Found GPU at: /device:GPU:0\n"
          ]
        }
      ]
    },
    {
      "cell_type": "markdown",
      "source": [
        "Helper Functions\n"
      ],
      "metadata": {
        "id": "NvaPKlxHmUA0"
      }
    },
    {
      "cell_type": "code",
      "source": [
        "np.set_printoptions(suppress=True, linewidth=100, precision=2)"
      ],
      "metadata": {
        "id": "MnQh6z29olxC"
      },
      "execution_count": null,
      "outputs": []
    },
    {
      "cell_type": "code",
      "source": [
        "# Checkpoints - List and npy files\n",
        "# np.save() - Saves a single array in a binary numpy format\n",
        "def checkpoints(filename, checkpoint_data):\n",
        "  np.save(filename, checkpoint_data)\n",
        "  checkpoint_variable = np.load(filename + '.npy') #Load so that we always have an on-hand version of the checkpoint\n",
        "  return(checkpoint_variable)\n",
        "\n",
        "# List Checkpoint\n",
        "def list_checkpoints(filename, checkpoint_data):\n",
        "  np.save(filename, checkpoint_data, allow_pickle=True)\n",
        "  checkpoint_variable = np.load(filename + '.npy', allow_pickle=True) #Load so that we always have an on-hand version of the checkpoint\n",
        "  return(checkpoint_variable)"
      ],
      "metadata": {
        "id": "n7i_27BpmXIF"
      },
      "execution_count": null,
      "outputs": []
    },
    {
      "cell_type": "markdown",
      "source": [
        "Load Data"
      ],
      "metadata": {
        "id": "SSTXqbBZ8KZr"
      }
    },
    {
      "cell_type": "code",
      "source": [
        "# Load normalized_train_data_list and normalized_unwrap_train_data\n",
        "from google.colab import files\n",
        "uploaded = files.upload()"
      ],
      "metadata": {
        "colab": {
          "base_uri": "https://localhost:8080/",
          "height": 107
        },
        "id": "SyEdrqlI90r0",
        "outputId": "17c5e887-64e5-4425-92ac-4b357873bfd8"
      },
      "execution_count": null,
      "outputs": [
        {
          "output_type": "display_data",
          "data": {
            "text/plain": [
              "<IPython.core.display.HTML object>"
            ],
            "text/html": [
              "\n",
              "     <input type=\"file\" id=\"files-48452f3d-1bd7-4453-9624-ff2f05444a70\" name=\"files[]\" multiple disabled\n",
              "        style=\"border:none\" />\n",
              "     <output id=\"result-48452f3d-1bd7-4453-9624-ff2f05444a70\">\n",
              "      Upload widget is only available when the cell has been executed in the\n",
              "      current browser session. Please rerun this cell to enable.\n",
              "      </output>\n",
              "      <script>// Copyright 2017 Google LLC\n",
              "//\n",
              "// Licensed under the Apache License, Version 2.0 (the \"License\");\n",
              "// you may not use this file except in compliance with the License.\n",
              "// You may obtain a copy of the License at\n",
              "//\n",
              "//      http://www.apache.org/licenses/LICENSE-2.0\n",
              "//\n",
              "// Unless required by applicable law or agreed to in writing, software\n",
              "// distributed under the License is distributed on an \"AS IS\" BASIS,\n",
              "// WITHOUT WARRANTIES OR CONDITIONS OF ANY KIND, either express or implied.\n",
              "// See the License for the specific language governing permissions and\n",
              "// limitations under the License.\n",
              "\n",
              "/**\n",
              " * @fileoverview Helpers for google.colab Python module.\n",
              " */\n",
              "(function(scope) {\n",
              "function span(text, styleAttributes = {}) {\n",
              "  const element = document.createElement('span');\n",
              "  element.textContent = text;\n",
              "  for (const key of Object.keys(styleAttributes)) {\n",
              "    element.style[key] = styleAttributes[key];\n",
              "  }\n",
              "  return element;\n",
              "}\n",
              "\n",
              "// Max number of bytes which will be uploaded at a time.\n",
              "const MAX_PAYLOAD_SIZE = 100 * 1024;\n",
              "\n",
              "function _uploadFiles(inputId, outputId) {\n",
              "  const steps = uploadFilesStep(inputId, outputId);\n",
              "  const outputElement = document.getElementById(outputId);\n",
              "  // Cache steps on the outputElement to make it available for the next call\n",
              "  // to uploadFilesContinue from Python.\n",
              "  outputElement.steps = steps;\n",
              "\n",
              "  return _uploadFilesContinue(outputId);\n",
              "}\n",
              "\n",
              "// This is roughly an async generator (not supported in the browser yet),\n",
              "// where there are multiple asynchronous steps and the Python side is going\n",
              "// to poll for completion of each step.\n",
              "// This uses a Promise to block the python side on completion of each step,\n",
              "// then passes the result of the previous step as the input to the next step.\n",
              "function _uploadFilesContinue(outputId) {\n",
              "  const outputElement = document.getElementById(outputId);\n",
              "  const steps = outputElement.steps;\n",
              "\n",
              "  const next = steps.next(outputElement.lastPromiseValue);\n",
              "  return Promise.resolve(next.value.promise).then((value) => {\n",
              "    // Cache the last promise value to make it available to the next\n",
              "    // step of the generator.\n",
              "    outputElement.lastPromiseValue = value;\n",
              "    return next.value.response;\n",
              "  });\n",
              "}\n",
              "\n",
              "/**\n",
              " * Generator function which is called between each async step of the upload\n",
              " * process.\n",
              " * @param {string} inputId Element ID of the input file picker element.\n",
              " * @param {string} outputId Element ID of the output display.\n",
              " * @return {!Iterable<!Object>} Iterable of next steps.\n",
              " */\n",
              "function* uploadFilesStep(inputId, outputId) {\n",
              "  const inputElement = document.getElementById(inputId);\n",
              "  inputElement.disabled = false;\n",
              "\n",
              "  const outputElement = document.getElementById(outputId);\n",
              "  outputElement.innerHTML = '';\n",
              "\n",
              "  const pickedPromise = new Promise((resolve) => {\n",
              "    inputElement.addEventListener('change', (e) => {\n",
              "      resolve(e.target.files);\n",
              "    });\n",
              "  });\n",
              "\n",
              "  const cancel = document.createElement('button');\n",
              "  inputElement.parentElement.appendChild(cancel);\n",
              "  cancel.textContent = 'Cancel upload';\n",
              "  const cancelPromise = new Promise((resolve) => {\n",
              "    cancel.onclick = () => {\n",
              "      resolve(null);\n",
              "    };\n",
              "  });\n",
              "\n",
              "  // Wait for the user to pick the files.\n",
              "  const files = yield {\n",
              "    promise: Promise.race([pickedPromise, cancelPromise]),\n",
              "    response: {\n",
              "      action: 'starting',\n",
              "    }\n",
              "  };\n",
              "\n",
              "  cancel.remove();\n",
              "\n",
              "  // Disable the input element since further picks are not allowed.\n",
              "  inputElement.disabled = true;\n",
              "\n",
              "  if (!files) {\n",
              "    return {\n",
              "      response: {\n",
              "        action: 'complete',\n",
              "      }\n",
              "    };\n",
              "  }\n",
              "\n",
              "  for (const file of files) {\n",
              "    const li = document.createElement('li');\n",
              "    li.append(span(file.name, {fontWeight: 'bold'}));\n",
              "    li.append(span(\n",
              "        `(${file.type || 'n/a'}) - ${file.size} bytes, ` +\n",
              "        `last modified: ${\n",
              "            file.lastModifiedDate ? file.lastModifiedDate.toLocaleDateString() :\n",
              "                                    'n/a'} - `));\n",
              "    const percent = span('0% done');\n",
              "    li.appendChild(percent);\n",
              "\n",
              "    outputElement.appendChild(li);\n",
              "\n",
              "    const fileDataPromise = new Promise((resolve) => {\n",
              "      const reader = new FileReader();\n",
              "      reader.onload = (e) => {\n",
              "        resolve(e.target.result);\n",
              "      };\n",
              "      reader.readAsArrayBuffer(file);\n",
              "    });\n",
              "    // Wait for the data to be ready.\n",
              "    let fileData = yield {\n",
              "      promise: fileDataPromise,\n",
              "      response: {\n",
              "        action: 'continue',\n",
              "      }\n",
              "    };\n",
              "\n",
              "    // Use a chunked sending to avoid message size limits. See b/62115660.\n",
              "    let position = 0;\n",
              "    do {\n",
              "      const length = Math.min(fileData.byteLength - position, MAX_PAYLOAD_SIZE);\n",
              "      const chunk = new Uint8Array(fileData, position, length);\n",
              "      position += length;\n",
              "\n",
              "      const base64 = btoa(String.fromCharCode.apply(null, chunk));\n",
              "      yield {\n",
              "        response: {\n",
              "          action: 'append',\n",
              "          file: file.name,\n",
              "          data: base64,\n",
              "        },\n",
              "      };\n",
              "\n",
              "      let percentDone = fileData.byteLength === 0 ?\n",
              "          100 :\n",
              "          Math.round((position / fileData.byteLength) * 100);\n",
              "      percent.textContent = `${percentDone}% done`;\n",
              "\n",
              "    } while (position < fileData.byteLength);\n",
              "  }\n",
              "\n",
              "  // All done.\n",
              "  yield {\n",
              "    response: {\n",
              "      action: 'complete',\n",
              "    }\n",
              "  };\n",
              "}\n",
              "\n",
              "scope.google = scope.google || {};\n",
              "scope.google.colab = scope.google.colab || {};\n",
              "scope.google.colab._files = {\n",
              "  _uploadFiles,\n",
              "  _uploadFilesContinue,\n",
              "};\n",
              "})(self);\n",
              "</script> "
            ]
          },
          "metadata": {}
        },
        {
          "output_type": "stream",
          "name": "stdout",
          "text": [
            "Saving HIval-dfr to HIval-dfr\n",
            "Saving HItrain-dfr to HItrain-dfr\n"
          ]
        }
      ]
    },
    {
      "cell_type": "code",
      "source": [
        "new_model = tf.keras.models.load_model('/content/best_model_CNN.h5')"
      ],
      "metadata": {
        "id": "7iwGFU_gQRon"
      },
      "execution_count": null,
      "outputs": []
    },
    {
      "cell_type": "code",
      "source": [
        "x_train = np.load('/content/x-train.npy')\n",
        "y_train = np.load('/content/y-train.npy')\n",
        "x_val = np.load('/content/x-val.npy')\n",
        "y_val = np.load('/content/y-val.npy')"
      ],
      "metadata": {
        "id": "2H9qv7wv8Ji6"
      },
      "execution_count": null,
      "outputs": []
    },
    {
      "cell_type": "markdown",
      "source": [
        "# Data Preparation."
      ],
      "metadata": {
        "id": "IfMBgMnKXk8H"
      }
    },
    {
      "cell_type": "markdown",
      "source": [
        "Use a moving window to convert 2d data to 3D to capture the local relationship or auto-correlation in timeseries data."
      ],
      "metadata": {
        "id": "A2TEC_AHX0vm"
      }
    },
    {
      "cell_type": "code",
      "source": [
        "T = 5\n",
        "new_len = x_train.shape[0] - (T-1)\n",
        "fake_col = np.zeros((new_len,T))  # Not the same lenght as the actual data\n",
        "# make single output supervised dataset\n",
        "for d in range(x_train.shape[1]):\n",
        "  X = []\n",
        "  series = x_train[:,d]\n",
        "  for t in range(len(series) - T + 1):\n",
        "    x = series[t:t+T]\n",
        "    X.append(x)\n",
        "\n",
        "  X = np.array(X).reshape(-1, T)\n",
        "\n",
        "  # Concatenate Features (TD)\n",
        "  new_data = np.concatenate((fake_col, X), axis=1)\n",
        "  fake_col = new_data\n",
        "\n",
        "X.shape"
      ],
      "metadata": {
        "colab": {
          "base_uri": "https://localhost:8080/"
        },
        "id": "lfoKgt6k_N9T",
        "outputId": "8b025340-b515-4ac4-ea5b-e06f614fe0f2"
      },
      "execution_count": null,
      "outputs": [
        {
          "output_type": "execute_result",
          "data": {
            "text/plain": [
              "(41452, 5)"
            ]
          },
          "metadata": {},
          "execution_count": 21
        }
      ]
    },
    {
      "cell_type": "code",
      "source": [
        "NT_X_train = new_data[:,T:]\n",
        "NT_Y_train = y_train[-new_len:]\n",
        "print(NT_X_train.shape, NT_Y_train.shape)"
      ],
      "metadata": {
        "colab": {
          "base_uri": "https://localhost:8080/"
        },
        "id": "LA1lXC7qLEoC",
        "outputId": "a308f105-c5dc-45f2-96dc-9ff4e252558b"
      },
      "execution_count": null,
      "outputs": [
        {
          "output_type": "stream",
          "name": "stdout",
          "text": [
            "(41452, 40) (41452,)\n"
          ]
        }
      ]
    },
    {
      "cell_type": "code",
      "source": [
        "NT_X_val = new_data[:,T:]\n",
        "NT_Y_val = y_val[-new_len:]\n",
        "print(NT_X_val.shape, NT_Y_val.shape)"
      ],
      "metadata": {
        "colab": {
          "base_uri": "https://localhost:8080/"
        },
        "id": "sTAtl0ikKM4T",
        "outputId": "013c8237-1078-4e23-8ac3-dce9df8261c5"
      },
      "execution_count": null,
      "outputs": [
        {
          "output_type": "stream",
          "name": "stdout",
          "text": [
            "(12299, 40) (12299,)\n"
          ]
        }
      ]
    },
    {
      "cell_type": "code",
      "source": [
        "# Checkpoints\n",
        "# Save new x-train, y-train, x-val, y-val\n",
        "checkpoint_NT_X_train = checkpoints('NT-X-train', NT_X_train)\n",
        "checkpoint_NT_Y_train = checkpoints('NT-Y-train', NT_Y_train)\n",
        "checkpoint_NT_X_val = checkpoints('NT-X-val', NT_X_val)\n",
        "checkpoint_NT_Y_val = checkpoints('NT-Y-val', NT_Y_val)"
      ],
      "metadata": {
        "id": "4FIH9MtmLYtw"
      },
      "execution_count": null,
      "outputs": []
    },
    {
      "cell_type": "markdown",
      "source": [
        "Prepare data as NxTxD"
      ],
      "metadata": {
        "id": "nrSHSBntLSb9"
      }
    },
    {
      "cell_type": "code",
      "source": [
        "array_list = []\n",
        "for dt in NT_X_val:  # Loop through datapoints\n",
        "  data_list = []\n",
        "  for i in range(8):   # Loop through feature size\n",
        "    data = dt[(i*T):(i*T+T)]\n",
        "    data_list.append(data)\n",
        "  one_dpoint = np.array(list(zip(data_list)))\n",
        "  array_list.append(one_dpoint.reshape(-1,T).T)\n",
        "\n",
        "len(array_list)"
      ],
      "metadata": {
        "colab": {
          "base_uri": "https://localhost:8080/"
        },
        "id": "9E74UY2_KtC6",
        "outputId": "262494b4-f224-405e-c784-ae49ad1d124f"
      },
      "execution_count": null,
      "outputs": [
        {
          "output_type": "execute_result",
          "data": {
            "text/plain": [
              "12299"
            ]
          },
          "metadata": {},
          "execution_count": 26
        }
      ]
    },
    {
      "cell_type": "code",
      "source": [
        "NTD_X_train = np.array(array_list)"
      ],
      "metadata": {
        "id": "AY1ABGK9RrgM"
      },
      "execution_count": null,
      "outputs": []
    },
    {
      "cell_type": "code",
      "source": [
        "NTD_X_val = np.array(array_list)"
      ],
      "metadata": {
        "id": "swIv5juSVe5J"
      },
      "execution_count": null,
      "outputs": []
    },
    {
      "cell_type": "code",
      "source": [
        "NTD_X_train_list = array_list"
      ],
      "metadata": {
        "id": "kUcVRdhgeJb3"
      },
      "execution_count": null,
      "outputs": []
    },
    {
      "cell_type": "code",
      "source": [
        "NTD_X_val_list = array_list"
      ],
      "metadata": {
        "id": "pE-o3auaeSey"
      },
      "execution_count": null,
      "outputs": []
    },
    {
      "cell_type": "code",
      "source": [
        "# Checkpoints\n",
        "checkpoint_NTD_X_train = checkpoints('NTD-X-train', NTD_X_train)\n",
        "checkpoint_NTD_X_val = checkpoints('NTD-X-val', NTD_X_val)"
      ],
      "metadata": {
        "id": "EHrNu_uISM3n"
      },
      "execution_count": null,
      "outputs": []
    },
    {
      "cell_type": "code",
      "source": [
        "# Use lists checkpoint instead\n",
        "checkpoint_NTD_X_train_list = list_checkpoints('NTD-X-train-list', NTD_X_train_list)\n",
        "checkpoint_NTD_X_val_list = list_checkpoints('NTD-X-val-list', NTD_X_val_list)"
      ],
      "metadata": {
        "id": "Oqia9peJd67R"
      },
      "execution_count": null,
      "outputs": []
    },
    {
      "cell_type": "code",
      "source": [
        "print(NT_X_train.shape, NT_Y_train.shape, NT_X_val.shape, NT_Y_val.shape, NTD_X_train.shape, NTD_X_val.shape)"
      ],
      "metadata": {
        "colab": {
          "base_uri": "https://localhost:8080/"
        },
        "id": "7FaXVADvcN6m",
        "outputId": "075e0de5-4758-45c8-b8f8-e5ab223eca09"
      },
      "execution_count": null,
      "outputs": [
        {
          "output_type": "stream",
          "name": "stdout",
          "text": [
            "(41452, 40) (41452,) (12299, 40) (12299,) (41452, 5, 8) (12299, 5, 8)\n"
          ]
        }
      ]
    },
    {
      "cell_type": "code",
      "source": [
        "# Save files as csv\n",
        "np.savetxt('NT-X-train.csv', NT_X_train, fmt='%.18e', delimiter=',')\n",
        "np.savetxt('NT-X-val.csv', NT_X_val, fmt='%.18e', delimiter=',')\n",
        "np.savetxt('NT-Y-train.csv', NT_Y_train, fmt='%.18e', delimiter=',')\n",
        "np.savetxt('NT-Y-val.csv', NT_Y_val, fmt='%.18e', delimiter=',')"
      ],
      "metadata": {
        "id": "kuHl9YJMawQM"
      },
      "execution_count": null,
      "outputs": []
    },
    {
      "cell_type": "markdown",
      "source": [
        "Model Building Helper Functions."
      ],
      "metadata": {
        "id": "FO3hG2cXgXGX"
      }
    },
    {
      "cell_type": "code",
      "source": [
        "# Let's create some helper functions for the training process (We are trying to select a model so, many models will be trained and they have similar execution configurations)\n",
        "# Learning Rate Scheduler:\n",
        "def lr_scheduler(STEPS_PER_EPOCH):\n",
        "  lr_schedule = tf.keras.optimizers.schedules.InverseTimeDecay(\n",
        "    0.001,\n",
        "    decay_steps=STEPS_PER_EPOCH*1000,\n",
        "    decay_rate=1,\n",
        "    staircase=False)\n",
        "  return lr_schedule\n",
        "\n",
        "def get_optimizer(scheduler=None):\n",
        "  if scheduler is None:\n",
        "    return tf.keras.optimizers.Adam(learning_rate=0.001)\n",
        "  return tf.keras.optimizers.Adam(lr_scheduler())\n",
        "\n",
        "# Compile and fit\n",
        "def compile(model, optimizer=None, scheduler=None,  loss=None, max_epochs=1000, STEPS_PER_EPOCH=1000):\n",
        "  if optimizer is None:    # that is, i want to set Adam optimizer & learning rate to 0.001 by default or use a lr_scheduler function\n",
        "    optimizer = get_optimizer()\n",
        "  else:\n",
        "    optimizer = optimizer\n",
        "\n",
        "  if loss is None:\n",
        "    loss = 'mse'\n",
        "  else:\n",
        "    loss = loss\n",
        "\n",
        "  model.compile(optimizer=optimizer, loss=loss)\n",
        "\n",
        "  return model\n"
      ],
      "metadata": {
        "id": "Ua9TtOxUkKS5"
      },
      "execution_count": null,
      "outputs": []
    },
    {
      "cell_type": "markdown",
      "source": [
        "Plots Helper Functions"
      ],
      "metadata": {
        "id": "dJc5tkZYvX_d"
      }
    },
    {
      "cell_type": "code",
      "source": [
        "# Helper function that plots, saves and shows plots\n",
        "def plot_loss_accuracy(filename):\n",
        "  loss = history.history['loss']\n",
        "  val_loss = history.history['val_loss']\n",
        "\n",
        "  epochs = range(len(loss))\n",
        "\n",
        "  plt.plot(epochs, loss, 'r', label='Training loss')\n",
        "  plt.plot(epochs, val_loss, 'b', label='Validation loss')\n",
        "  plt.title('Training and validation accuracy')\n",
        "  plt.legend(loc=0)\n",
        "  plt.figure()\n",
        "\n",
        "  plt.savefig(filename + '.png')\n",
        "  plt.show()"
      ],
      "metadata": {
        "id": "8NAScmNHg70e"
      },
      "execution_count": null,
      "outputs": []
    },
    {
      "cell_type": "markdown",
      "source": [
        "# Finding the baseline model."
      ],
      "metadata": {
        "id": "82oBs8kAP-3N"
      }
    },
    {
      "cell_type": "markdown",
      "source": [
        "A baseline model is a good starting point. Based on the data shapes, different models were tried and are still been tried to achieve very high results. The models used can be grouped based on the data shape.\n",
        "\n",
        "1. Model 1: A classic feedforward network with NxD data.\n",
        "2. NxTD data: Feedforward NN, Multi-tail ANN, CNN and LSTM.\n",
        "1. NxTxD (3D) data: CNN, LSTM.\n",
        "1. Window sizes [3,5,10] were tried. window size 5 had gave best results.\n",
        "2. Note: These models were implemented quickly (i.e. so much attention wasn't paid to tuning the hyperparameters at first) because the aim is to find a good enoug model that will ten be throughly tuned. Different data shapes were also tried to do a quick exhaustive search and analysis to make informed decisions. \n",
        "\n",
        "\n",
        "\n"
      ],
      "metadata": {
        "id": "pjpH4u_NZRzL"
      }
    },
    {
      "cell_type": "code",
      "source": [
        "T = 5\n",
        "D = 8\n",
        "K = 1"
      ],
      "metadata": {
        "id": "Gn7xodKdiWup"
      },
      "execution_count": null,
      "outputs": []
    },
    {
      "cell_type": "markdown",
      "source": [
        "Fully Connected ANN Model with NxD dataset."
      ],
      "metadata": {
        "id": "0_n8ZGpYfefD"
      }
    },
    {
      "cell_type": "code",
      "source": [
        "tf.keras.backend.clear_session()"
      ],
      "metadata": {
        "id": "5QbesSu1VFIV"
      },
      "execution_count": null,
      "outputs": []
    },
    {
      "cell_type": "code",
      "source": [
        "# Fully Connected NN\n",
        "FC_ANN = tf.keras.models.Sequential([\n",
        "    tf.keras.layers.Dense(32, activation='relu', input_shape=(D,)),\n",
        "    tf.keras.layers.Dense(16, activation='relu'),\n",
        "    tf.keras.layers.Dense(K)\n",
        "])"
      ],
      "metadata": {
        "id": "RLKRE1H4l82s"
      },
      "execution_count": null,
      "outputs": []
    },
    {
      "cell_type": "code",
      "source": [
        "FC_ANN.summary()"
      ],
      "metadata": {
        "id": "bBCw-FkE78_o",
        "colab": {
          "base_uri": "https://localhost:8080/"
        },
        "outputId": "0c90b0fe-48f9-4f85-83c9-a95672549f35"
      },
      "execution_count": null,
      "outputs": [
        {
          "output_type": "stream",
          "name": "stdout",
          "text": [
            "Model: \"sequential\"\n",
            "_________________________________________________________________\n",
            "Layer (type)                 Output Shape              Param #   \n",
            "=================================================================\n",
            "dense (Dense)                (None, 32)                288       \n",
            "_________________________________________________________________\n",
            "dense_1 (Dense)              (None, 16)                528       \n",
            "_________________________________________________________________\n",
            "dense_2 (Dense)              (None, 1)                 17        \n",
            "=================================================================\n",
            "Total params: 833\n",
            "Trainable params: 833\n",
            "Non-trainable params: 0\n",
            "_________________________________________________________________\n"
          ]
        }
      ]
    },
    {
      "cell_type": "code",
      "source": [
        "tf.keras.backend.clear_session()\n",
        "\n",
        "model = FC_ANN\n",
        "model = compile(model)\n",
        "check_point = ModelCheckpoint(\n",
        "    'best_model_FC_ANN_NR.h5', monitor='val_loss', save_best_only=True)\n",
        "early_stopping = EarlyStopping(monitor='val_loss', patience=200)\n",
        "\n",
        "history = model.fit(x_train, y_train, epochs=1000, \n",
        "                    validation_data=(x_val, y_val),\n",
        "                    callbacks=[check_point, early_stopping],\n",
        "                    verbose=2)\n",
        "\n",
        "# Load best model\n",
        "best_model = tf.keras.models.load_model('best_model_FC_ANN.h5')\n",
        "\n",
        "# Make predictions with best model \n",
        "y_pred = best_model.predict(x_val)\n",
        "\n",
        "# Evaluate with best model\n",
        "val_loss = best_model.evaluate(x_val, y_val)"
      ],
      "metadata": {
        "id": "DOFOKocRxBbV"
      },
      "execution_count": null,
      "outputs": []
    },
    {
      "cell_type": "code",
      "source": [
        "best_model.evaluate(x_val, y_val)"
      ],
      "metadata": {
        "colab": {
          "base_uri": "https://localhost:8080/"
        },
        "id": "aSYj-lQgCPEz",
        "outputId": "a84b8dea-62e1-40e5-d55e-ab1b5e51afea"
      },
      "execution_count": null,
      "outputs": [
        {
          "output_type": "stream",
          "name": "stdout",
          "text": [
            "385/385 [==============================] - 1s 2ms/step - loss: 0.0231\n"
          ]
        },
        {
          "output_type": "execute_result",
          "data": {
            "text/plain": [
              "0.023127106949687004"
            ]
          },
          "metadata": {},
          "execution_count": 20
        }
      ]
    },
    {
      "cell_type": "code",
      "source": [
        "plot_loss_accuracy(filename='ANN for health index prediction')"
      ],
      "metadata": {
        "id": "26tOUO684XvH",
        "colab": {
          "base_uri": "https://localhost:8080/",
          "height": 469
        },
        "outputId": "bc11d4bd-8a03-4b90-e701-11eb663b8f80"
      },
      "execution_count": null,
      "outputs": [
        {
          "output_type": "display_data",
          "data": {
            "text/plain": [
              "<Figure size 640x480 with 1 Axes>"
            ],
            "image/png": "[encoded data removed]"
          },
          "metadata": {}
        },
        {
          "output_type": "display_data",
          "data": {
            "text/plain": [
              "<Figure size 640x480 with 0 Axes>"
            ]
          },
          "metadata": {}
        }
      ]
    },
    {
      "cell_type": "code",
      "source": [
        "plt.plot(y_pred.flatten()[:1000]);"
      ],
      "metadata": {
        "colab": {
          "base_uri": "https://localhost:8080/",
          "height": 430
        },
        "id": "Ictp2y-q9wGI",
        "outputId": "fbc42cbb-9b72-4a45-da30-c46ebbca76c7"
      },
      "execution_count": null,
      "outputs": [
        {
          "output_type": "display_data",
          "data": {
            "text/plain": [
              "<Figure size 640x480 with 1 Axes>"
            ],
            "image/png": "[encoded data removed]"
          },
          "metadata": {}
        }
      ]
    },
    {
      "cell_type": "code",
      "source": [
        "# Check R2-score\n",
        "r2_score(y_val, y_pred)"
      ],
      "metadata": {
        "colab": {
          "base_uri": "https://localhost:8080/"
        },
        "id": "grMkesMXTku2",
        "outputId": "af0a5476-5370-41d7-bc86-59f7884b3d77"
      },
      "execution_count": null,
      "outputs": [
        {
          "output_type": "execute_result",
          "data": {
            "text/plain": [
              "0.7251691563138285"
            ]
          },
          "metadata": {},
          "execution_count": 25
        }
      ]
    },
    {
      "cell_type": "code",
      "source": [
        "y_train_pred = best_model.predict(x_train)"
      ],
      "metadata": {
        "id": "SZVtS6xo0kYu"
      },
      "execution_count": null,
      "outputs": []
    },
    {
      "cell_type": "markdown",
      "source": [
        "Nx(TD) for fully connected NN."
      ],
      "metadata": {
        "id": "WHBm4luJraCu"
      }
    },
    {
      "cell_type": "code",
      "source": [
        "tf.keras.backend.clear_session()"
      ],
      "metadata": {
        "id": "S-CGO6naXoDu"
      },
      "execution_count": null,
      "outputs": []
    },
    {
      "cell_type": "code",
      "source": [
        "# FC_ANN\n",
        "model_FCN = tf.keras.models.Sequential([\n",
        "    tf.keras.layers.Dense(16, activation='relu', input_shape=(T*D,)),\n",
        "    tf.keras.layers.Dense(8, activation='relu'),\n",
        "    tf.keras.layers.Dense(K)\n",
        "])"
      ],
      "metadata": {
        "id": "I-74CwmNrWxM"
      },
      "execution_count": null,
      "outputs": []
    },
    {
      "cell_type": "code",
      "source": [
        "model_FCN.summary()"
      ],
      "metadata": {
        "colab": {
          "base_uri": "https://localhost:8080/"
        },
        "id": "bNGGrY4mZjIZ",
        "outputId": "52ab81aa-8c3a-491a-bdb7-633c0e19622e"
      },
      "execution_count": null,
      "outputs": [
        {
          "output_type": "stream",
          "name": "stdout",
          "text": [
            "Model: \"sequential\"\n",
            "_________________________________________________________________\n",
            "Layer (type)                 Output Shape              Param #   \n",
            "=================================================================\n",
            "dense (Dense)                (None, 16)                1296      \n",
            "_________________________________________________________________\n",
            "dense_1 (Dense)              (None, 8)                 136       \n",
            "_________________________________________________________________\n",
            "dense_2 (Dense)              (None, 1)                 9         \n",
            "=================================================================\n",
            "Total params: 1,441\n",
            "Trainable params: 1,441\n",
            "Non-trainable params: 0\n",
            "_________________________________________________________________\n"
          ]
        }
      ]
    },
    {
      "cell_type": "code",
      "source": [
        "model = model_FCN\n",
        "model = compile(model)\n",
        "check_point = ModelCheckpoint(\n",
        "    'best_model_FCN.h5', monitor='val_loss', save_best_only=True)\n",
        "early_stopping = EarlyStopping(monitor='val_loss', patience=200)\n",
        "\n",
        "history = model.fit(NT_x_train, NT_y_train, epochs=1000, \n",
        "                    validation_data=(NT_x_val, NT_y_val),\n",
        "                    callbacks=[check_point, early_stopping],\n",
        "                    verbose=2)\n",
        "\n",
        "# Load best model\n",
        "best_model = tf.keras.models.load_model('best_model_FCN.h5')\n",
        "\n",
        "# Make predictions with best model \n",
        "y_pred = best_model.predict(NT_x_val)\n",
        "\n",
        "# Evaluate with best model\n",
        "val_loss = best_model.evaluate(NT_x_val, NT_y_val)"
      ],
      "metadata": {
        "id": "uP9xHiBIPJas"
      },
      "execution_count": null,
      "outputs": []
    },
    {
      "cell_type": "code",
      "source": [
        "val_loss"
      ],
      "metadata": {
        "colab": {
          "base_uri": "https://localhost:8080/"
        },
        "id": "Z9c1nxc1UflL",
        "outputId": "fa0c4d7a-7cc7-4e73-b160-64055ca6d9dd"
      },
      "execution_count": null,
      "outputs": [
        {
          "output_type": "execute_result",
          "data": {
            "text/plain": [
              "0.14104200899600983"
            ]
          },
          "metadata": {},
          "execution_count": 81
        }
      ]
    },
    {
      "cell_type": "code",
      "source": [
        "plot_loss_accuracy(filename='ANN for health index prediction')"
      ],
      "metadata": {
        "colab": {
          "base_uri": "https://localhost:8080/",
          "height": 469
        },
        "id": "xe90jAwEUWZc",
        "outputId": "a21bd8ce-8348-46c5-9ef0-b389a4839b05"
      },
      "execution_count": null,
      "outputs": [
        {
          "output_type": "display_data",
          "data": {
            "text/plain": [
              "<Figure size 640x480 with 1 Axes>"
            ],
            "image/png": "[encoded data removed]"
          },
          "metadata": {}
        },
        {
          "output_type": "display_data",
          "data": {
            "text/plain": [
              "<Figure size 640x480 with 0 Axes>"
            ]
          },
          "metadata": {}
        }
      ]
    },
    {
      "cell_type": "markdown",
      "source": [
        "Comment: Observation from this method shows the effect of too many features influenced majorly by the dimensions of the input data and the model type. Fully connected NN's don't have the weight sharing capability like CNNs and RNNs so they can easily overfit. "
      ],
      "metadata": {
        "id": "CtfsJF9CaxeG"
      }
    },
    {
      "cell_type": "markdown",
      "source": [
        "# Use Prepared dataset NxTxD to train Multi-tail-ANN, CNN and LSTM networks"
      ],
      "metadata": {
        "id": "GT4UEkNzeZxY"
      }
    },
    {
      "cell_type": "code",
      "source": [
        "T = 10\n",
        "D = 8\n",
        "K = 1"
      ],
      "metadata": {
        "id": "uvchDKYLpw3J"
      },
      "execution_count": null,
      "outputs": []
    },
    {
      "cell_type": "code",
      "source": [
        "tf.keras.backend.clear_session()"
      ],
      "metadata": {
        "id": "C_tyftX2ZO66"
      },
      "execution_count": null,
      "outputs": []
    },
    {
      "cell_type": "code",
      "source": [
        "# The ANN Model development - Multi-Input/Multi-tail ANN\n",
        "# You have to keep track of the input and the output of the model\n",
        "inputs = []\n",
        "features = []\n",
        "\n",
        "# Build a dense ANN model for each feature - \n",
        "# If you use the input layers in a for loop, different unique instances of the symbolic tensors are automatically created - So they can have their unique function flow\n",
        "for _ in range(D):\n",
        "  i = Input(shape=(T,))\n",
        "  x = Dense(5, activation='relu')(i)\n",
        "  inputs.append(i)\n",
        "  features.append(x)\n",
        "\n",
        "# recall, we want to concatenate the outputs of the multi-unit ANN models\n",
        "# N x (FxD)\n",
        "x = Concatenate()(features)\n",
        "# Now start working on this\n",
        "x = Dense(16, activation='relu')(x)\n",
        "x = Dense(K)(x)\n",
        "\n",
        "# Instantiate Model\n",
        "model_ANN = Model(inputs, x)"
      ],
      "metadata": {
        "id": "aFOi_DIZpqch"
      },
      "execution_count": null,
      "outputs": []
    },
    {
      "cell_type": "code",
      "source": [
        "x_trains = []\n",
        "for k in range(D):\n",
        "  l = NT_x_train[:,k*10:k*10+10]\n",
        "  x_trains.append(l)\n",
        "len(x_trains)"
      ],
      "metadata": {
        "colab": {
          "base_uri": "https://localhost:8080/"
        },
        "id": "0sdM9aXLdDnr",
        "outputId": "c6d7b0e3-9610-4575-8ac7-381239ab063e"
      },
      "execution_count": null,
      "outputs": [
        {
          "output_type": "execute_result",
          "data": {
            "text/plain": [
              "8"
            ]
          },
          "metadata": {},
          "execution_count": 92
        }
      ]
    },
    {
      "cell_type": "code",
      "source": [
        "x_trains[0].shape"
      ],
      "metadata": {
        "colab": {
          "base_uri": "https://localhost:8080/"
        },
        "id": "-Z8wAXjle5hk",
        "outputId": "1aace639-cb6f-4e46-def6-603b0f1e58f5"
      },
      "execution_count": null,
      "outputs": [
        {
          "output_type": "execute_result",
          "data": {
            "text/plain": [
              "(41447, 10)"
            ]
          },
          "metadata": {},
          "execution_count": 94
        }
      ]
    },
    {
      "cell_type": "code",
      "source": [
        "x_vals = []\n",
        "for k in range(D):\n",
        "  l = NT_x_val[:,k*10:k*10+10]\n",
        "  x_vals.append(l)\n",
        "len(x_vals)"
      ],
      "metadata": {
        "colab": {
          "base_uri": "https://localhost:8080/"
        },
        "id": "qdC2-zRnekLC",
        "outputId": "905bf581-56a1-42a6-d679-ca9f86299c23"
      },
      "execution_count": null,
      "outputs": [
        {
          "output_type": "execute_result",
          "data": {
            "text/plain": [
              "8"
            ]
          },
          "metadata": {},
          "execution_count": 95
        }
      ]
    },
    {
      "cell_type": "code",
      "source": [
        "x_vals[0].shape"
      ],
      "metadata": {
        "colab": {
          "base_uri": "https://localhost:8080/"
        },
        "id": "uPFmKuarfWRp",
        "outputId": "00d7a25f-a7c5-4bcd-8551-818be806682a"
      },
      "execution_count": null,
      "outputs": [
        {
          "output_type": "execute_result",
          "data": {
            "text/plain": [
              "(12294, 10)"
            ]
          },
          "metadata": {},
          "execution_count": 96
        }
      ]
    },
    {
      "cell_type": "code",
      "source": [
        "model = model_ANN\n",
        "model = compile(model)\n",
        "check_point = ModelCheckpoint(\n",
        "    'best_model_ANN.h5', monitor='val_loss', save_best_only=True)\n",
        "early_stopping = EarlyStopping(monitor='val_loss', patience=200)\n",
        "\n",
        "history = model.fit(x_trains, NT_y_train, epochs=1000, \n",
        "                    validation_data=(x_vals, NT_y_val),\n",
        "                    callbacks=[check_point, early_stopping],\n",
        "                    verbose=2)\n",
        "\n",
        "# Load best model\n",
        "best_model = tf.keras.models.load_model('best_model_ANN.h5')\n",
        "\n",
        "# Make predictions with best model \n",
        "y_pred = best_model.predict(x_vals)\n",
        "\n",
        "# Evaluate with best model\n",
        "val_loss = best_model.evaluate(x_vals, y_val)"
      ],
      "metadata": {
        "id": "O2sPE1Uvf1Y4"
      },
      "execution_count": null,
      "outputs": []
    },
    {
      "cell_type": "code",
      "source": [
        "val_loss"
      ],
      "metadata": {
        "colab": {
          "base_uri": "https://localhost:8080/"
        },
        "outputId": "9b551091-195a-4f60-b145-90e76247fe4f",
        "id": "ZX96kdYSlNuO"
      },
      "execution_count": null,
      "outputs": [
        {
          "output_type": "execute_result",
          "data": {
            "text/plain": [
              "0.14104200899600983"
            ]
          },
          "metadata": {},
          "execution_count": 102
        }
      ]
    },
    {
      "cell_type": "code",
      "source": [
        "plot_loss_accuracy(filename='ANN for health index prediction')"
      ],
      "metadata": {
        "colab": {
          "base_uri": "https://localhost:8080/",
          "height": 469
        },
        "outputId": "a7a3d204-afc6-404a-fda8-739ffb074330",
        "id": "MD40yV9OlNuO"
      },
      "execution_count": null,
      "outputs": [
        {
          "output_type": "display_data",
          "data": {
            "text/plain": [
              "<Figure size 640x480 with 1 Axes>"
            ],
            "image/png": "[encoded data removed]"
          },
          "metadata": {}
        },
        {
          "output_type": "display_data",
          "data": {
            "text/plain": [
              "<Figure size 640x480 with 0 Axes>"
            ]
          },
          "metadata": {}
        }
      ]
    },
    {
      "cell_type": "markdown",
      "source": [
        "Build CNN and LSTM Models"
      ],
      "metadata": {
        "id": "NNweQjPlf5GW"
      }
    },
    {
      "cell_type": "code",
      "source": [
        "# CNN Model - 1D Convnet\n",
        "model_CNN = tf.keras.Sequential([\n",
        "  tf.keras.layers.Conv1D(32, 3, activation='relu', padding='same', input_shape=(T,D)),\n",
        "  tf.keras.layers.MaxPooling1D(),\n",
        "  tf.keras.layers.Conv1D(64, 3, activation='relu', padding='same'),\n",
        "  tf.keras.layers.MaxPooling1D(),\n",
        "  tf.keras.layers.Conv1D(128, 3, activation='relu', padding='same'),\n",
        "  tf.keras.layers.MaxPooling1D(),\n",
        "  tf.keras.layers.Flatten(),  \n",
        "  tf.keras.layers.Dense(16, activation='relu'),\n",
        "  tf.keras.layers.Dense(K)\n",
        "])\n",
        "\n",
        "# LSTM Model\n",
        "model_LSTM = tf.keras.Sequential([\n",
        "  tf.keras.layers.LSTM(32, return_sequences=True, input_shape=(T,D)),\n",
        "  tf.keras.layers.LSTM(24, return_sequences=True),\n",
        "  tf.keras.layers.LSTM(16),\n",
        "  tf.keras.layers.Dense(K)  \n",
        "])"
      ],
      "metadata": {
        "id": "LJwMOqWXUgZg"
      },
      "execution_count": null,
      "outputs": []
    },
    {
      "cell_type": "code",
      "source": [
        "model_CNN.summary()"
      ],
      "metadata": {
        "colab": {
          "base_uri": "https://localhost:8080/"
        },
        "id": "mdzjkbbQoBqE",
        "outputId": "6bc04441-470e-44e4-dcb5-85a3ca65d722"
      },
      "execution_count": null,
      "outputs": [
        {
          "output_type": "stream",
          "name": "stdout",
          "text": [
            "Model: \"sequential_2\"\n",
            "_________________________________________________________________\n",
            "Layer (type)                 Output Shape              Param #   \n",
            "=================================================================\n",
            "conv1d_6 (Conv1D)            (None, 10, 32)            800       \n",
            "_________________________________________________________________\n",
            "max_pooling1d_6 (MaxPooling1 (None, 5, 32)             0         \n",
            "_________________________________________________________________\n",
            "conv1d_7 (Conv1D)            (None, 5, 64)             6208      \n",
            "_________________________________________________________________\n",
            "max_pooling1d_7 (MaxPooling1 (None, 2, 64)             0         \n",
            "_________________________________________________________________\n",
            "conv1d_8 (Conv1D)            (None, 2, 128)            24704     \n",
            "_________________________________________________________________\n",
            "max_pooling1d_8 (MaxPooling1 (None, 1, 128)            0         \n",
            "_________________________________________________________________\n",
            "flatten_2 (Flatten)          (None, 128)               0         \n",
            "_________________________________________________________________\n",
            "dense_14 (Dense)             (None, 16)                2064      \n",
            "_________________________________________________________________\n",
            "dense_15 (Dense)             (None, 1)                 17        \n",
            "=================================================================\n",
            "Total params: 33,793\n",
            "Trainable params: 33,793\n",
            "Non-trainable params: 0\n",
            "_________________________________________________________________\n"
          ]
        }
      ]
    },
    {
      "cell_type": "markdown",
      "source": [
        "Compile, Fit, Plot costs and Evaluate models."
      ],
      "metadata": {
        "id": "T4Czfd9Lt9Fe"
      }
    },
    {
      "cell_type": "code",
      "source": [
        "# CNN and LSTM train\n",
        "history = {}\n",
        "y_preds = []\n",
        "val_losses = []\n",
        "models = [model_CNN, model_LSTM]\n",
        "names = ['CNN','LSTM']\n",
        "\n",
        "for idx, name in enumerate(names):\n",
        "  # instantiate call backs\n",
        "  check_point = ModelCheckpoint('best_model_'+name+'.h5', monitor='val_loss', save_best_only=True)\n",
        "  early_stopping = EarlyStopping(monitor='val_loss', patience=10)\n",
        "\n",
        "  # Compile Model\n",
        "  model = compile(models[idx])\n",
        "\n",
        "  # Fit Model\n",
        "  history[name] = model.fit(NTD_x_train, NT_y_train, epochs=30, \n",
        "                      validation_data=(NTD_x_val, NT_y_val),\n",
        "                      callbacks=[check_point, early_stopping],\n",
        "                      verbose=2)\n",
        "  \n",
        "  # Get best model from current model\n",
        "  best_model = tf.keras.models.load_model('best_model_'+name+'.h5')\n",
        "\n",
        "  # Make predictions with best model \n",
        "  y_pred = best_model.predict(NTD_x_val)\n",
        "  y_preds.append(y_pred)\n",
        "\n",
        "  # Evaluate with best model\n",
        "  val_loss = best_model.evaluate(NTD_x_val, NT_y_val)\n",
        "  val_losses.append(val_loss)\n",
        "\n",
        "  tf.keras.backend.clear_session()\n",
        "\n",
        "# Plot metric\n",
        "plotter = tfdocs.plots.HistoryPlotter(metric = 'loss', smoothing_std=10)\n",
        "plotter.plot(history)\n"
      ],
      "metadata": {
        "colab": {
          "base_uri": "https://localhost:8080/",
          "height": 1000
        },
        "id": "22sH9Ga2unP5",
        "outputId": "ab242be7-5b4f-4a53-d41e-7a62d2a738ea"
      },
      "execution_count": null,
      "outputs": [
        {
          "output_type": "stream",
          "name": "stdout",
          "text": [
            "Epoch 1/30\n",
            "1296/1296 - 7s - loss: 0.0014 - val_loss: 0.1594\n",
            "Epoch 2/30\n",
            "1296/1296 - 5s - loss: 0.0014 - val_loss: 0.1615\n",
            "Epoch 3/30\n",
            "1296/1296 - 5s - loss: 0.0013 - val_loss: 0.1597\n",
            "Epoch 4/30\n",
            "1296/1296 - 6s - loss: 0.0014 - val_loss: 0.1641\n",
            "Epoch 5/30\n",
            "1296/1296 - 6s - loss: 0.0013 - val_loss: 0.1628\n",
            "Epoch 6/30\n",
            "1296/1296 - 6s - loss: 0.0013 - val_loss: 0.1628\n",
            "Epoch 7/30\n",
            "1296/1296 - 6s - loss: 0.0013 - val_loss: 0.1668\n",
            "Epoch 8/30\n",
            "1296/1296 - 6s - loss: 0.0013 - val_loss: 0.1584\n",
            "Epoch 9/30\n",
            "1296/1296 - 6s - loss: 0.0013 - val_loss: 0.1641\n",
            "Epoch 10/30\n",
            "1296/1296 - 6s - loss: 0.0013 - val_loss: 0.1590\n",
            "Epoch 11/30\n",
            "1296/1296 - 6s - loss: 0.0013 - val_loss: 0.1626\n",
            "Epoch 12/30\n",
            "1296/1296 - 6s - loss: 0.0013 - val_loss: 0.1587\n",
            "Epoch 13/30\n",
            "1296/1296 - 6s - loss: 0.0013 - val_loss: 0.1585\n",
            "Epoch 14/30\n",
            "1296/1296 - 6s - loss: 0.0013 - val_loss: 0.1645\n",
            "Epoch 15/30\n",
            "1296/1296 - 6s - loss: 0.0013 - val_loss: 0.1582\n",
            "Epoch 16/30\n",
            "1296/1296 - 6s - loss: 0.0013 - val_loss: 0.1622\n",
            "Epoch 17/30\n",
            "1296/1296 - 6s - loss: 0.0013 - val_loss: 0.1641\n",
            "Epoch 18/30\n",
            "1296/1296 - 6s - loss: 0.0013 - val_loss: 0.1599\n",
            "Epoch 19/30\n",
            "1296/1296 - 6s - loss: 0.0013 - val_loss: 0.1605\n",
            "Epoch 20/30\n",
            "1296/1296 - 6s - loss: 0.0012 - val_loss: 0.1611\n",
            "Epoch 21/30\n",
            "1296/1296 - 6s - loss: 0.0012 - val_loss: 0.1587\n",
            "Epoch 22/30\n",
            "1296/1296 - 6s - loss: 0.0013 - val_loss: 0.1605\n",
            "Epoch 23/30\n",
            "1296/1296 - 6s - loss: 0.0012 - val_loss: 0.1595\n",
            "Epoch 24/30\n",
            "1296/1296 - 6s - loss: 0.0012 - val_loss: 0.1636\n",
            "Epoch 25/30\n",
            "1296/1296 - 6s - loss: 0.0012 - val_loss: 0.1626\n",
            "385/385 [==============================] - 1s 2ms/step - loss: 0.1582\n",
            "Epoch 1/30\n",
            "1296/1296 - 14s - loss: 0.0222 - val_loss: 0.1457\n",
            "Epoch 2/30\n",
            "1296/1296 - 12s - loss: 0.0169 - val_loss: 0.1489\n",
            "Epoch 3/30\n",
            "1296/1296 - 12s - loss: 0.0163 - val_loss: 0.1507\n",
            "Epoch 4/30\n",
            "1296/1296 - 12s - loss: 0.0161 - val_loss: 0.1459\n",
            "Epoch 5/30\n",
            "1296/1296 - 12s - loss: 0.0158 - val_loss: 0.1500\n",
            "Epoch 6/30\n",
            "1296/1296 - 12s - loss: 0.0157 - val_loss: 0.1590\n",
            "Epoch 7/30\n",
            "1296/1296 - 12s - loss: 0.0155 - val_loss: 0.1475\n",
            "Epoch 8/30\n",
            "1296/1296 - 12s - loss: 0.0153 - val_loss: 0.1494\n",
            "Epoch 9/30\n",
            "1296/1296 - 12s - loss: 0.0151 - val_loss: 0.1499\n",
            "Epoch 10/30\n",
            "1296/1296 - 12s - loss: 0.0148 - val_loss: 0.1528\n",
            "Epoch 11/30\n",
            "1296/1296 - 12s - loss: 0.0146 - val_loss: 0.1512\n",
            "385/385 [==============================] - 2s 5ms/step - loss: 0.1457\n"
          ]
        },
        {
          "output_type": "display_data",
          "data": {
            "text/plain": [
              "<Figure size 640x480 with 1 Axes>"
            ],
            "image/png": "[encoded data removed]"
          },
          "metadata": {}
        }
      ]
    },
    {
      "cell_type": "code",
      "source": [
        "val_losses"
      ],
      "metadata": {
        "colab": {
          "base_uri": "https://localhost:8080/"
        },
        "id": "vPJepIhPHvnF",
        "outputId": "1b5a8b44-6234-4b8b-acb5-af1b7fd5c383"
      },
      "execution_count": null,
      "outputs": [
        {
          "output_type": "execute_result",
          "data": {
            "text/plain": [
              "[0.15819191932678223, 0.14574983716011047]"
            ]
          },
          "metadata": {},
          "execution_count": 111
        }
      ]
    },
    {
      "cell_type": "code",
      "source": [
        "y_preds[0].shape"
      ],
      "metadata": {
        "colab": {
          "base_uri": "https://localhost:8080/"
        },
        "id": "-BqvTzSZHx0l",
        "outputId": "d22342cd-0df3-4224-9c5b-06ce95d53663"
      },
      "execution_count": null,
      "outputs": [
        {
          "output_type": "execute_result",
          "data": {
            "text/plain": [
              "(12294, 1)"
            ]
          },
          "metadata": {},
          "execution_count": 112
        }
      ]
    },
    {
      "cell_type": "markdown",
      "source": [
        "Thoughts and comments on above models.\n",
        "\n",
        "\n",
        "*   ANN + orig_data: This had the best result initially but after much tuning, it shows that there is so much the fully connected ANN can do with this problem. Increasing the layers will just result in more overfitting but not enable the network to learn better. The drastic drop in loss within very few epochs also shows this.\n",
        "\n",
        "*   ANN + NT_Data: Just as expected, there is so much an ANN can do for this problem and we have too many parameters so the overfit was terrible.\n",
        "*  Multi-tail ANN + NTD_Data: Acted just like the ANN + NT_Data model.\n",
        "\n",
        "*   CNN + NTD_Data: This is particularly interesting, eventhough there was tremendous overfitting due to too many parameters, the train loss was much lower than we got with ANN and multi-tail ANN. This shows than CNN has the capacity to extract better features from the data if it is trained and finetuned properly.\n",
        "\n",
        "\n",
        "*   LSTM + NTD_Data: Surprisingly, LSTM doesn't do much better than ANN.\n",
        "\n",
        "\n",
        "\n"
      ],
      "metadata": {
        "id": "dh7w1RukznTr"
      }
    },
    {
      "cell_type": "markdown",
      "source": [
        "# Training and Finetuning Selected Baseline Models for better performance. "
      ],
      "metadata": {
        "id": "OmK3xvO2TD-2"
      }
    },
    {
      "cell_type": "markdown",
      "source": [
        "Fully Connected ANN Model with NxD dataset - Add regularization and use keras tuner to tune learning rate, No of activation units and regularization parameter."
      ],
      "metadata": {
        "id": "cGL3ijDQS_CK"
      }
    },
    {
      "cell_type": "markdown",
      "source": [
        "Prepare datasets for use in tensorflow - Build data input pipeline.\n",
        "\n",
        "\n",
        "* If all of your input data fits in memory, the simplest way to create a Dataset from numpy arrays is to convert them to tf.Tensor objects and use Dataset.from_tensor_slices. This returns a tf.data.Dataset that can slice up the dictionary of features. You can iterate over a tf.data.Dataset like any other python iterable.\n",
        "\n",
        "*   Batch and configure data - Do not shuffle the dataset.\n",
        "For timeseries data, we want to mantain the order of the data when feeding it to the network.\n",
        "\n"
      ],
      "metadata": {
        "id": "Rya1wrYQX_xu"
      }
    },
    {
      "cell_type": "code",
      "source": [
        "# Create a tf Dataset for numpy array and batch\n",
        "BATCH_SIZE = 64\n",
        "train_dataset = tf.data.Dataset.from_tensor_slices((x_train,y_train)).batch(BATCH_SIZE) \n",
        "val_dataset = tf.data.Dataset.from_tensor_slices((x_val,y_val)).batch(BATCH_SIZE) "
      ],
      "metadata": {
        "id": "V2eqLOC8ZSKS"
      },
      "execution_count": null,
      "outputs": []
    },
    {
      "cell_type": "code",
      "source": [
        "# ANN Model\n",
        "def model_builder(hp):\n",
        "  FC_ANN_R = tf.keras.models.Sequential([\n",
        "      \n",
        "      tf.keras.layers.Dense(units=hp.Choice('neurons_1', values=[32, 64, 96]), activation='relu', kernel_initializer='he_uniform',\n",
        "                            kernel_regularizer=regularizers.L2(hp.Choice('reg_rate1', values=[0.00 , 1e-2 , 3e-3 , 1e-3])), input_shape=(D,)),\n",
        "      tf.keras.layers.Dense(units=hp.Choice('neurons_2', values=[32, 64, 96]), activation='relu', kernel_initializer='he_uniform',\n",
        "                            kernel_regularizer=regularizers.L2(hp.Choice('reg_rate2', values=[0.00 , 1e-2 , 3e-3 , 1e-3]))),\n",
        "      tf.keras.layers.Dense(K)\n",
        "  ])\n",
        "  # Tune the learning rate for the optimizer\n",
        "  # Choose an optimal value from 0.01, 0.001, or 0.0001\n",
        "  hp_learning_rate = hp.Choice('learning_rate', values=[1e-2, 3e-2, 1e-3, 3e-3])\n",
        "\n",
        "  model.compile(optimizer=keras.optimizers.Adam(learning_rate=hp_learning_rate),\n",
        "                loss='mse')\n",
        "  return model"
      ],
      "metadata": {
        "id": "qw8WamSdS_CL"
      },
      "execution_count": null,
      "outputs": []
    },
    {
      "cell_type": "code",
      "source": [
        "# Use the hyperband tuner\n",
        "tuner_ANN = kt.Hyperband(model_builder,\n",
        "                    objective='val_loss',\n",
        "                    max_epochs=100,\n",
        "                    factor=3,\n",
        "                    directory='FC_ANN_R',\n",
        "                    project_name='NASA_HI'\n",
        "                    )\n",
        "tuner_ANN.search_space_summary()"
      ],
      "metadata": {
        "colab": {
          "base_uri": "https://localhost:8080/"
        },
        "id": "cBe3NHyYfPhC",
        "outputId": "bfaf30b0-8bd5-45d1-88ee-295c10d3db80"
      },
      "execution_count": null,
      "outputs": [
        {
          "output_type": "stream",
          "name": "stdout",
          "text": [
            "INFO:tensorflow:Reloading Tuner from FC_ANN_R\\NASA_HI\\tuner0.json\n",
            "Search space summary\n",
            "Default search space size: 5\n",
            "neurons_1 (Choice)\n",
            "{'default': 32, 'conditions': [], 'values': [32, 64, 96], 'ordered': True}\n",
            "reg_rate1 (Choice)\n",
            "{'default': 0.0, 'conditions': [], 'values': [0.0, 0.01, 0.003, 0.001], 'ordered': True}\n",
            "neurons_2 (Choice)\n",
            "{'default': 32, 'conditions': [], 'values': [32, 64, 96], 'ordered': True}\n",
            "reg_rate2 (Choice)\n",
            "{'default': 0.0, 'conditions': [], 'values': [0.0, 0.01, 0.003, 0.001], 'ordered': True}\n",
            "learning_rate (Choice)\n",
            "{'default': 0.01, 'conditions': [], 'values': [0.01, 0.03, 0.001, 0.003], 'ordered': True}\n"
          ]
        }
      ]
    },
    {
      "cell_type": "code",
      "source": [
        "# Instantiate callbacks\n",
        "early_stopping = EarlyStopping(monitor='val_loss', patience=50)\n",
        "\n",
        "# Search - Takes in the same hyperparameters as fit\n",
        "tuner_ANN.search(train_dataset, epochs=100, validation_data=val_dataset,\n",
        "                 callbacks=[early_stopping] )"
      ],
      "metadata": {
        "colab": {
          "base_uri": "https://localhost:8080/"
        },
        "id": "TBjFXqbYhm6N",
        "outputId": "12a0532e-fde6-429f-e4a8-644a7c9c5f85"
      },
      "execution_count": null,
      "outputs": [
        {
          "output_type": "stream",
          "name": "stdout",
          "text": [
            "Trial 246 Complete [00h 01m 45s]\n",
            "val_loss: 0.038887787610292435\n",
            "\n",
            "Best val_loss So Far: 0.02269602008163929\n",
            "Total elapsed time: 01h 14m 49s\n",
            "INFO:tensorflow:Oracle triggered exit\n"
          ]
        }
      ]
    },
    {
      "cell_type": "code",
      "source": [
        "# Shows the 10 best trials\n",
        "tuner_ANN.results_summary()"
      ],
      "metadata": {
        "id": "fu5xcDPYjp8Y"
      },
      "execution_count": null,
      "outputs": []
    },
    {
      "cell_type": "code",
      "source": [
        "best_hps = tuner_ANN.get_best_hyperparameters(num_trials = 1)[0]"
      ],
      "metadata": {
        "id": "HwwMZHVDjdko"
      },
      "execution_count": null,
      "outputs": []
    },
    {
      "cell_type": "code",
      "source": [
        "best_hps['reg_rate2']"
      ],
      "metadata": {
        "colab": {
          "base_uri": "https://localhost:8080/"
        },
        "id": "Ub5p4jjLjfJ8",
        "outputId": "362460a0-6fa9-4de0-9cd2-e70c3e0a0941"
      },
      "execution_count": null,
      "outputs": [
        {
          "output_type": "execute_result",
          "data": {
            "text/plain": [
              "0.003"
            ]
          },
          "metadata": {},
          "execution_count": 44
        }
      ]
    },
    {
      "cell_type": "code",
      "source": [
        "model_ANN = tuner_ANN.hypermodel.build(best_hps)\n",
        "# Retrain the model\n",
        "history =  model_ANN.fit(train_dataset, epochs=100, validation_data=val_dataset, callbacks=[early_stopping])"
      ],
      "metadata": {
        "id": "Zs8RCuBkjvoA"
      },
      "execution_count": null,
      "outputs": []
    },
    {
      "cell_type": "code",
      "source": [
        "# Compile, fit and plot\n",
        "# history = compile_and_fit(model, optimizer=None, max_epochs=70)\n",
        "plot_loss_accuracy(filename='ANN + Orig_data')\n"
      ],
      "metadata": {
        "colab": {
          "base_uri": "https://localhost:8080/",
          "height": 469
        },
        "id": "uz85Vfgsj4UL",
        "outputId": "9b9c84bb-86c3-4ced-c074-524a92321cf5"
      },
      "execution_count": null,
      "outputs": [
        {
          "output_type": "display_data",
          "data": {
            "text/plain": [
              "<Figure size 640x480 with 1 Axes>"
            ],
            "image/png": "[encoded data removed]"
          },
          "metadata": {}
        },
        {
          "output_type": "display_data",
          "data": {
            "text/plain": [
              "<Figure size 640x480 with 0 Axes>"
            ]
          },
          "metadata": {}
        }
      ]
    },
    {
      "cell_type": "code",
      "source": [
        "# Make predictions with best model \n",
        "y_pred = model_ANN.predict(val_dataset)\n",
        "\n",
        "# Check R2-score on validation set\n",
        "r2_score(y_val, y_pred)"
      ],
      "metadata": {
        "id": "6JtHRNrRj4vP",
        "colab": {
          "base_uri": "https://localhost:8080/"
        },
        "outputId": "14719c02-c4af-4f20-f3cd-23700a832f71"
      },
      "execution_count": null,
      "outputs": [
        {
          "output_type": "execute_result",
          "data": {
            "text/plain": [
              "0.7205925175441565"
            ]
          },
          "metadata": {},
          "execution_count": 55
        }
      ]
    },
    {
      "cell_type": "markdown",
      "source": [
        "Comment: It can only fit the data to an r2-score of about 73% and we need something as good as 90-95%."
      ],
      "metadata": {
        "id": "qLDkZDnI348s"
      }
    },
    {
      "cell_type": "markdown",
      "source": [
        "# CNN + NTD_Data."
      ],
      "metadata": {
        "id": "PRnNxTr459ht"
      }
    },
    {
      "cell_type": "code",
      "source": [
        "T = 5\n",
        "D = 8\n",
        "K = 1"
      ],
      "metadata": {
        "id": "Uxu2QWrvCK_E"
      },
      "execution_count": null,
      "outputs": []
    },
    {
      "cell_type": "code",
      "source": [
        "# CNN Model - 1D Convnet\n",
        "model_CNN = tf.keras.Sequential([\n",
        "  tf.keras.layers.Conv1D(32, 3, activation='relu', padding='same', input_shape=(T,D)),\n",
        "  tf.keras.layers.MaxPooling1D(),\n",
        "  tf.keras.layers.Conv1D(64, 3, activation='relu', padding='same'),\n",
        "  tf.keras.layers.MaxPooling1D(),\n",
        "  # tf.keras.layers.Conv1D(128, 3, activation='relu', padding='same'),\n",
        "  # tf.keras.layers.MaxPooling1D(),\n",
        "  tf.keras.layers.Flatten(),  \n",
        "  tf.keras.layers.Dense(16, activation='relu'),\n",
        "  tf.keras.layers.Dense(K)\n",
        "])\n",
        "  "
      ],
      "metadata": {
        "id": "AIgkQzmw7QsC"
      },
      "execution_count": null,
      "outputs": []
    },
    {
      "cell_type": "code",
      "source": [
        "# CNN and LSTM train\n",
        "history = {}\n",
        "y_preds = []\n",
        "val_losses = []\n",
        "models = [model_CNN]\n",
        "names = ['CNN']\n",
        "\n",
        "for idx, name in enumerate(names):\n",
        "  # instantiate call backs\n",
        "  check_point = ModelCheckpoint('best_model_'+name+'.h5', monitor='val_loss', save_best_only=True)\n",
        "  early_stopping = EarlyStopping(monitor='val_loss', patience=10)\n",
        "\n",
        "  # Compile Model\n",
        "  model = compile(models[idx])\n",
        "\n",
        "  # Fit Model\n",
        "  history[name] = model.fit(NTD_x_train, NT_y_train, epochs=30, \n",
        "                      validation_data=(NTD_x_val, NT_y_val),\n",
        "                      callbacks=[check_point, early_stopping],\n",
        "                      verbose=2)\n",
        "  \n",
        "  # Get best model from current model\n",
        "  best_model = tf.keras.models.load_model('best_model_'+name+'.h5')\n",
        "\n",
        "  # Make predictions with best model \n",
        "  y_pred = best_model.predict(NTD_x_val)\n",
        "  y_preds.append(y_pred)\n",
        "\n",
        "  # Evaluate with best model\n",
        "  val_loss = best_model.evaluate(NTD_x_val, NT_y_val)\n",
        "  val_losses.append(val_loss)\n",
        "\n",
        "  tf.keras.backend.clear_session()\n",
        "\n",
        "# Plot metric\n",
        "plotter = tfdocs.plots.HistoryPlotter(metric = 'loss', smoothing_std=10)\n",
        "plotter.plot(history)\n"
      ],
      "metadata": {
        "colab": {
          "base_uri": "https://localhost:8080/",
          "height": 990
        },
        "outputId": "acdeada5-509b-4bcc-e082-b7220b0c2fb9",
        "id": "4yzWAMVaA2Qu"
      },
      "execution_count": null,
      "outputs": [
        {
          "output_type": "stream",
          "name": "stdout",
          "text": [
            "Epoch 1/30\n",
            "1296/1296 - 10s - loss: 0.0248 - val_loss: 0.0205\n",
            "Epoch 2/30\n",
            "1296/1296 - 5s - loss: 0.0197 - val_loss: 0.0201\n",
            "Epoch 3/30\n",
            "1296/1296 - 5s - loss: 0.0188 - val_loss: 0.0209\n",
            "Epoch 4/30\n",
            "1296/1296 - 5s - loss: 0.0184 - val_loss: 0.0195\n",
            "Epoch 5/30\n",
            "1296/1296 - 5s - loss: 0.0181 - val_loss: 0.0195\n",
            "Epoch 6/30\n",
            "1296/1296 - 5s - loss: 0.0177 - val_loss: 0.0199\n",
            "Epoch 7/30\n",
            "1296/1296 - 5s - loss: 0.0175 - val_loss: 0.0201\n",
            "Epoch 8/30\n",
            "1296/1296 - 5s - loss: 0.0173 - val_loss: 0.0196\n",
            "Epoch 9/30\n",
            "1296/1296 - 5s - loss: 0.0170 - val_loss: 0.0209\n",
            "Epoch 10/30\n",
            "1296/1296 - 5s - loss: 0.0168 - val_loss: 0.0206\n",
            "Epoch 11/30\n",
            "1296/1296 - 5s - loss: 0.0166 - val_loss: 0.0206\n",
            "Epoch 12/30\n",
            "1296/1296 - 5s - loss: 0.0163 - val_loss: 0.0210\n",
            "Epoch 13/30\n",
            "1296/1296 - 5s - loss: 0.0160 - val_loss: 0.0207\n",
            "Epoch 14/30\n",
            "1296/1296 - 5s - loss: 0.0157 - val_loss: 0.0211\n",
            "Epoch 15/30\n",
            "1296/1296 - 5s - loss: 0.0157 - val_loss: 0.0221\n",
            "385/385 [==============================] - 1s 2ms/step - loss: 0.0195\n"
          ]
        },
        {
          "output_type": "display_data",
          "data": {
            "text/plain": [
              "<Figure size 640x480 with 1 Axes>"
            ],
            "image/png": "[encoded data removed]"
          },
          "metadata": {}
        }
      ]
    },
    {
      "cell_type": "code",
      "source": [
        "# Check R2-score\n",
        "r2_score(NT_y_val, y_pred)"
      ],
      "metadata": {
        "colab": {
          "base_uri": "https://localhost:8080/"
        },
        "outputId": "84351ab9-7b10-4234-952f-d524698d2510",
        "id": "fCZRio2VT_lq"
      },
      "execution_count": null,
      "outputs": [
        {
          "output_type": "execute_result",
          "data": {
            "text/plain": [
              "0.7685044265852198"
            ]
          },
          "metadata": {},
          "execution_count": 68
        }
      ]
    },
    {
      "cell_type": "markdown",
      "source": [
        "This model ordinarily results in a better improvement than ANN and  CNN when T = 5. So let's finetue this model further."
      ],
      "metadata": {
        "id": "3_2RpJ90DndB"
      }
    },
    {
      "cell_type": "code",
      "source": [
        "# CNN Model - 1D Convnet\n",
        "model_CNN = tf.keras.Sequential([\n",
        "  tf.keras.layers.Conv1D(32, 3, activation='relu', padding='same', input_shape=(T,D), kernel_initializer='he_uniform'),\n",
        "  tf.keras.layers.BatchNormalization(),\n",
        "  tf.keras.layers.MaxPooling1D(),\n",
        "  tf.keras.layers.Dropout(0.4),\n",
        "\n",
        "  tf.keras.layers.Conv1D(64, 3, activation='relu', padding='same', kernel_initializer='he_uniform'),\n",
        "  tf.keras.layers.BatchNormalization(),\n",
        "  tf.keras.layers.MaxPooling1D(),\n",
        "  tf.keras.layers.Dropout(0.4),\n",
        "\n",
        "  # tf.keras.layers.Conv1D(64, 3, activation='relu', padding='same', kernel_initializer='he_uniform'),\n",
        "  # tf.keras.layers.BatchNormalization(),\n",
        "  # tf.keras.layers.MaxPooling1D(),\n",
        "  # tf.keras.layers.Dropout(0.2),\n",
        "\n",
        "  tf.keras.layers.Flatten(),  \n",
        "  tf.keras.layers.Dense(16, activation='relu'),\n",
        "  tf.keras.layers.BatchNormalization(),\n",
        "  tf.keras.layers.Dropout(0.2),\n",
        "\n",
        "  # output layer\n",
        "  tf.keras.layers.Dense(K)\n",
        "])\n",
        "  "
      ],
      "metadata": {
        "id": "6GXqKy-sEHcM"
      },
      "execution_count": null,
      "outputs": []
    },
    {
      "cell_type": "code",
      "source": [
        "# CNN and LSTM train\n",
        "history = {}\n",
        "y_preds = []\n",
        "val_losses = []\n",
        "models = [model_CNN]\n",
        "names = ['CNN']\n",
        "\n",
        "for idx, name in enumerate(names):\n",
        "  # instantiate call backs\n",
        "  check_point = ModelCheckpoint('best_model_'+name+'.h5', monitor='val_loss', save_best_only=True)\n",
        "  early_stopping = EarlyStopping(monitor='val_loss', patience=10)\n",
        "\n",
        "  # Compile Model\n",
        "  model = compile(models[idx])\n",
        "\n",
        "  # Fit Model\n",
        "  history[name] = model.fit(NTD_x_train, NT_y_train, epochs=30, \n",
        "                      validation_data=(NTD_x_val, NT_y_val),\n",
        "                      callbacks=[check_point, early_stopping],\n",
        "                      verbose=2)\n",
        "  \n",
        "  # Get best model from current model\n",
        "  best_model = tf.keras.models.load_model('best_model_'+name+'.h5')\n",
        "\n",
        "  # Make predictions with best model \n",
        "  y_pred = best_model.predict(NTD_x_val)\n",
        "  y_preds.append(y_pred)\n",
        "\n",
        "  # Evaluate with best model\n",
        "  val_loss = best_model.evaluate(NTD_x_val, NT_y_val)\n",
        "  val_losses.append(val_loss)\n",
        "\n",
        "  tf.keras.backend.clear_session()\n",
        "\n",
        "# Plot metric\n",
        "plotter = tfdocs.plots.HistoryPlotter(metric = 'loss', smoothing_std=10)\n",
        "plotter.plot(history)\n"
      ],
      "metadata": {
        "colab": {
          "base_uri": "https://localhost:8080/",
          "height": 1000
        },
        "outputId": "690decb3-3278-446e-ae08-0e1ea8a4d35d",
        "id": "CuzWQDAQEHcN"
      },
      "execution_count": null,
      "outputs": [
        {
          "output_type": "stream",
          "name": "stdout",
          "text": [
            "Epoch 1/30\n",
            "1296/1296 - 13s - loss: 0.2111 - val_loss: 0.0367\n",
            "Epoch 2/30\n",
            "1296/1296 - 12s - loss: 0.0425 - val_loss: 0.0328\n",
            "Epoch 3/30\n",
            "1296/1296 - 12s - loss: 0.0342 - val_loss: 0.0251\n",
            "Epoch 4/30\n",
            "1296/1296 - 11s - loss: 0.0308 - val_loss: 0.0236\n",
            "Epoch 5/30\n",
            "1296/1296 - 13s - loss: 0.0289 - val_loss: 0.0225\n",
            "Epoch 6/30\n",
            "1296/1296 - 13s - loss: 0.0273 - val_loss: 0.0210\n",
            "Epoch 7/30\n",
            "1296/1296 - 12s - loss: 0.0264 - val_loss: 0.0212\n",
            "Epoch 8/30\n",
            "1296/1296 - 12s - loss: 0.0256 - val_loss: 0.0219\n",
            "Epoch 9/30\n",
            "1296/1296 - 12s - loss: 0.0252 - val_loss: 0.0208\n",
            "Epoch 10/30\n",
            "1296/1296 - 13s - loss: 0.0250 - val_loss: 0.0202\n",
            "Epoch 11/30\n",
            "1296/1296 - 13s - loss: 0.0244 - val_loss: 0.0197\n",
            "Epoch 12/30\n",
            "1296/1296 - 13s - loss: 0.0243 - val_loss: 0.0204\n",
            "Epoch 13/30\n",
            "1296/1296 - 13s - loss: 0.0240 - val_loss: 0.0195\n",
            "Epoch 14/30\n",
            "1296/1296 - 13s - loss: 0.0239 - val_loss: 0.0190\n",
            "Epoch 15/30\n",
            "1296/1296 - 12s - loss: 0.0241 - val_loss: 0.0202\n",
            "Epoch 16/30\n",
            "1296/1296 - 11s - loss: 0.0241 - val_loss: 0.0194\n",
            "Epoch 17/30\n",
            "1296/1296 - 12s - loss: 0.0237 - val_loss: 0.0190\n",
            "Epoch 18/30\n",
            "1296/1296 - 12s - loss: 0.0237 - val_loss: 0.0202\n",
            "Epoch 19/30\n",
            "1296/1296 - 12s - loss: 0.0237 - val_loss: 0.0195\n",
            "Epoch 20/30\n",
            "1296/1296 - 12s - loss: 0.0237 - val_loss: 0.0194\n",
            "Epoch 21/30\n",
            "1296/1296 - 12s - loss: 0.0236 - val_loss: 0.0195\n",
            "Epoch 22/30\n",
            "1296/1296 - 12s - loss: 0.0235 - val_loss: 0.0202\n",
            "Epoch 23/30\n",
            "1296/1296 - 12s - loss: 0.0234 - val_loss: 0.0196\n",
            "Epoch 24/30\n",
            "1296/1296 - 12s - loss: 0.0232 - val_loss: 0.0195\n",
            "385/385 [==============================] - 1s 3ms/step - loss: 0.0190\n"
          ]
        },
        {
          "output_type": "display_data",
          "data": {
            "text/plain": [
              "<Figure size 640x480 with 1 Axes>"
            ],
            "image/png": "[encoded data removed]"
          },
          "metadata": {}
        }
      ]
    },
    {
      "cell_type": "code",
      "source": [
        "# Check R2-score\n",
        "r2_score(NT_y_val, y_pred)"
      ],
      "metadata": {
        "colab": {
          "base_uri": "https://localhost:8080/"
        },
        "outputId": "b45cee87-aeaf-4ea7-c706-6f790d2a3cf3",
        "id": "_6hw4JO-EHcN"
      },
      "execution_count": null,
      "outputs": [
        {
          "output_type": "execute_result",
          "data": {
            "text/plain": [
              "0.7741314861535076"
            ]
          },
          "metadata": {},
          "execution_count": 83
        }
      ]
    },
    {
      "cell_type": "markdown",
      "source": [
        "Tune CNN Model"
      ],
      "metadata": {
        "id": "C9INK1gcML9c"
      }
    },
    {
      "cell_type": "code",
      "source": [
        "# Create a tf Dataset for numpy array and batch\n",
        "BATCH_SIZE = 64\n",
        "train_dataset = tf.data.Dataset.from_tensor_slices((NTD_x_train,NT_y_train))\n",
        "val_dataset = tf.data.Dataset.from_tensor_slices((NTD_x_val,NT_y_val))"
      ],
      "metadata": {
        "id": "_d409Q95PYrZ"
      },
      "execution_count": null,
      "outputs": []
    },
    {
      "cell_type": "code",
      "source": [
        "# CNN Model - 1D Convnet\n",
        "def model_builder(hp):\n",
        "  model_CNN = tf.keras.Sequential([\n",
        "    tf.keras.layers.Conv1D(filters=(hp.Choice('filters1', values=[16,32,64,96,128])), kernel_size=3, activation='relu', padding='same', \n",
        "                           input_shape=(T,D,), kernel_initializer='he_uniform'),\n",
        "    # tf.keras.layers.BatchNormalization(),\n",
        "    tf.keras.layers.MaxPooling1D(),\n",
        "    tf.keras.layers.Dropout(hp.Choice('drop_rate1', values=[0.00 , 0.2 , 0.4 , 0.6, 0.8])),\n",
        "\n",
        "    tf.keras.layers.Conv1D(filters=(hp.Choice('filters2', values=[16,32,64,96,128])), kernel_size=3, activation='relu', padding='same', \n",
        "                           kernel_initializer='he_uniform'),\n",
        "    # tf.keras.layers.BatchNormalization(),\n",
        "    tf.keras.layers.MaxPooling1D(),\n",
        "    tf.keras.layers.Dropout(hp.Choice('drop_rate2', values=[0.00 , 0.2 , 0.4 , 0.6, 0.8])),\n",
        "\n",
        "    # tf.keras.layers.Conv1D(64, 3, activation='relu', padding='same', kernel_initializer='he_uniform'),\n",
        "    # tf.keras.layers.BatchNormalization(),\n",
        "    # tf.keras.layers.MaxPooling1D(),\n",
        "    # tf.keras.layers.Dropout(0.2),\n",
        "\n",
        "    tf.keras.layers.Flatten(),  \n",
        "    tf.keras.layers.Dense(units=(hp.Choice('units1', values=[16,32,64,96,128])), activation='relu'),\n",
        "    # tf.keras.layers.BatchNormalization(),\n",
        "    tf.keras.layers.Dropout(hp.Choice('drop_rate2', values=[0.00 , 0.2 , 0.4 , 0.6, 0.8])),\n",
        "\n",
        "    # output layer\n",
        "    tf.keras.layers.Dense(K)\n",
        "  ])\n",
        "\n",
        "  model.compile(optimizer=keras.optimizers.Adam(learning_rate=0.01),\n",
        "              loss='mse')\n",
        "\n",
        "  return model\n",
        "    "
      ],
      "metadata": {
        "id": "aa2A21XUMOeV"
      },
      "execution_count": null,
      "outputs": []
    },
    {
      "cell_type": "code",
      "source": [
        "# Use the hyperband tuner\n",
        "tuner_CNN = kt.Hyperband(model_builder,\n",
        "                    objective='val_loss',\n",
        "                    max_epochs=100,\n",
        "                    factor=3,\n",
        "                    directory='CNN',\n",
        "                    project_name='NASA_HI'\n",
        "                    )\n",
        "tuner_CNN.search_space_summary()"
      ],
      "metadata": {
        "colab": {
          "base_uri": "https://localhost:8080/"
        },
        "outputId": "e7e4c21a-c542-4799-aa7f-4c4fd732a18a",
        "id": "PvpTarCOMW8L"
      },
      "execution_count": null,
      "outputs": [
        {
          "output_type": "stream",
          "name": "stdout",
          "text": [
            "INFO:tensorflow:Reloading Tuner from CNN\\NASA_HI\\tuner0.json\n",
            "Search space summary\n",
            "Default search space size: 5\n",
            "filters1 (Choice)\n",
            "{'default': 16, 'conditions': [], 'values': [16, 32, 64, 96, 128], 'ordered': True}\n",
            "drop_rate1 (Choice)\n",
            "{'default': 0.0, 'conditions': [], 'values': [0.0, 0.2, 0.4, 0.6, 0.8], 'ordered': True}\n",
            "filters2 (Choice)\n",
            "{'default': 16, 'conditions': [], 'values': [16, 32, 64, 96, 128], 'ordered': True}\n",
            "drop_rate2 (Choice)\n",
            "{'default': 0.0, 'conditions': [], 'values': [0.0, 0.2, 0.4, 0.6, 0.8], 'ordered': True}\n",
            "units1 (Choice)\n",
            "{'default': 16, 'conditions': [], 'values': [16, 32, 64, 96, 128], 'ordered': True}\n"
          ]
        }
      ]
    },
    {
      "cell_type": "code",
      "source": [
        "# Instantiate callbacks\n",
        "early_stopping = EarlyStopping(monitor='val_loss', patience=50)\n",
        "\n",
        "# Search - Takes in the same hyperparameters as fit\n",
        "tuner_CNN.search(NTD_x_train, NT_y_train, epochs=100, validation_data=(NTD_x_val, NT_y_val),\n",
        "                 callbacks=[early_stopping] )"
      ],
      "metadata": {
        "id": "_Vr0g3FCMW8L"
      },
      "execution_count": null,
      "outputs": []
    },
    {
      "cell_type": "code",
      "source": [
        "# Shows the 10 best trials\n",
        "tuner_CNN.results_summary()"
      ],
      "metadata": {
        "id": "9Ubzt24QMW8L"
      },
      "execution_count": null,
      "outputs": []
    },
    {
      "cell_type": "code",
      "source": [
        "best_hps = tuner_CNN.get_best_hyperparameters(num_trials = 1)[0]"
      ],
      "metadata": {
        "id": "boY5F8svMW8L"
      },
      "execution_count": null,
      "outputs": []
    },
    {
      "cell_type": "code",
      "source": [
        "best_hps['reg_rate2']"
      ],
      "metadata": {
        "id": "EeQh8teUMW8L"
      },
      "execution_count": null,
      "outputs": []
    },
    {
      "cell_type": "code",
      "source": [
        "model_ANN = tuner_CNN.hypermodel.build(best_hps)\n",
        "# Retrain the model\n",
        "history =  model_CNN.fit(train_dataset, epochs=100, validation_data=val_dataset, callbacks=[early_stopping])"
      ],
      "metadata": {
        "id": "SKqbyS3CMW8L"
      },
      "execution_count": null,
      "outputs": []
    },
    {
      "cell_type": "code",
      "source": [
        "# Compile, fit and plot\n",
        "# history = compile_and_fit(model, optimizer=None, max_epochs=70)\n",
        "plot_loss_accuracy(filename='CNN + Orig_data')\n"
      ],
      "metadata": {
        "id": "NoVAx39KMW8M"
      },
      "execution_count": null,
      "outputs": []
    },
    {
      "cell_type": "code",
      "source": [
        "# Make predictions with best model \n",
        "y_pred = model_CNN.predict(val_dataset)\n",
        "\n",
        "# Check R2-score on validation set\n",
        "r2_score(y_val, y_pred)"
      ],
      "metadata": {
        "id": "UTRWiUtjMW8M"
      },
      "execution_count": null,
      "outputs": []
    },
    {
      "cell_type": "markdown",
      "source": [
        "Comments:\n",
        "\n",
        "\n",
        "*   Note: the keras tuner took about 3 hrs to train, this is a very long time but it was done to be able to see the best result we can get from the CNN model with the 3d data for this dataset. This shows that more sophisticted models is required for this dataset.\n",
        "*   Keras tuner results are: [filters1, drop_rate1, filters2, drop_rate2, units1] = [16, 32, 64, 0.4, 0.4]"
      ],
      "metadata": {
        "id": "lwk8TLB5lZf6"
      }
    },
    {
      "cell_type": "markdown",
      "source": [
        "Put Best Model Predictions in dataframe and save."
      ],
      "metadata": {
        "id": "GY1r57hnAArQ"
      }
    },
    {
      "cell_type": "code",
      "source": [
        "best_model = tf.keras.models.load_model('/content/best_model_CNN.h5')"
      ],
      "metadata": {
        "id": "M2hWbLSc_e6I"
      },
      "execution_count": null,
      "outputs": []
    },
    {
      "cell_type": "code",
      "source": [
        "# Make predictions with best model \n",
        "y_pred = best_model.predict(NTD_x_val)"
      ],
      "metadata": {
        "id": "367w1Tg5_mnC",
        "colab": {
          "base_uri": "https://localhost:8080/"
        },
        "outputId": "4fa24d98-52ff-4d08-a98b-759d0758b39f"
      },
      "execution_count": null,
      "outputs": [
        {
          "output_type": "stream",
          "name": "stdout",
          "text": [
            "385/385 [==============================] - 9s 2ms/step\n"
          ]
        }
      ]
    },
    {
      "cell_type": "code",
      "source": [
        "# Check R2-score\n",
        "r2_score(NT_y_val, y_pred)"
      ],
      "metadata": {
        "colab": {
          "base_uri": "https://localhost:8080/"
        },
        "id": "uLMrm2qu_rjq",
        "outputId": "345bf5e8-159f-4c9e-986f-7acec9adc847"
      },
      "execution_count": null,
      "outputs": [
        {
          "output_type": "execute_result",
          "data": {
            "text/plain": [
              "0.7741304390759769"
            ]
          },
          "metadata": {},
          "execution_count": 20
        }
      ]
    },
    {
      "cell_type": "code",
      "source": [
        "y_pred = best_model.predict(NTD_x_val)\n",
        "y_train_pred = best_model.predict(NTD_x_train)"
      ],
      "metadata": {
        "colab": {
          "base_uri": "https://localhost:8080/"
        },
        "id": "hJdJSUvMAGCM",
        "outputId": "042f64a3-2658-49a8-f065-5fb7be3cc42c"
      },
      "execution_count": null,
      "outputs": [
        {
          "output_type": "stream",
          "name": "stdout",
          "text": [
            "385/385 [==============================] - 1s 2ms/step\n",
            "1296/1296 [==============================] - 2s 2ms/step\n"
          ]
        }
      ]
    },
    {
      "cell_type": "code",
      "source": [
        "HItrain_df = pd.read_csv('/content/HItrain-dfr')\n",
        "HItrain_df.head()"
      ],
      "metadata": {
        "colab": {
          "base_uri": "https://localhost:8080/",
          "height": 206
        },
        "id": "TEVied5jCeJ3",
        "outputId": "8f5e3daf-aafd-46b4-8a1b-cf282c5fda64"
      },
      "execution_count": null,
      "outputs": [
        {
          "output_type": "execute_result",
          "data": {
            "text/plain": [
              "   Unit_id  Time    ori_HI  Maxcycle  RUL    new_HI  apprx_HI  apprx_HI_ANN  \\\n",
              "0        1     1  1.000000       149  148  0.582822  0.546977      0.631525   \n",
              "1        1     2  0.993243       149  147  0.582912  0.581504      0.724908   \n",
              "2        1     3  0.986486       149  146  0.582965  0.601732      0.767940   \n",
              "3        1     4  0.979730       149  145  0.583290  0.726264      0.847148   \n",
              "4        1     5  0.972973       149  144  0.582879  0.568990      0.711482   \n",
              "\n",
              "     HI_PCA  new_HI_PCA  \n",
              "0 -0.859024   -1.192820  \n",
              "1 -0.628524   -1.197747  \n",
              "2 -0.404679   -1.202504  \n",
              "3 -1.859147   -1.171129  \n",
              "4 -0.310075   -1.204507  "
            ],
            "text/html": [
              "\n",
              "  <div id=\"df-6e622ceb-0dbb-4061-8d67-39bddc85cd7e\">\n",
              "    <div class=\"colab-df-container\">\n",
              "      <div>\n",
              "<style scoped>\n",
              "    .dataframe tbody tr th:only-of-type {\n",
              "        vertical-align: middle;\n",
              "    }\n",
              "\n",
              "    .dataframe tbody tr th {\n",
              "        vertical-align: top;\n",
              "    }\n",
              "\n",
              "    .dataframe thead th {\n",
              "        text-align: right;\n",
              "    }\n",
              "</style>\n",
              "<table border=\"1\" class=\"dataframe\">\n",
              "  <thead>\n",
              "    <tr style=\"text-align: right;\">\n",
              "      <th></th>\n",
              "      <th>Unit_id</th>\n",
              "      <th>Time</th>\n",
              "      <th>ori_HI</th>\n",
              "      <th>Maxcycle</th>\n",
              "      <th>RUL</th>\n",
              "      <th>new_HI</th>\n",
              "      <th>apprx_HI</th>\n",
              "      <th>apprx_HI_ANN</th>\n",
              "      <th>HI_PCA</th>\n",
              "      <th>new_HI_PCA</th>\n",
              "    </tr>\n",
              "  </thead>\n",
              "  <tbody>\n",
              "    <tr>\n",
              "      <th>0</th>\n",
              "      <td>1</td>\n",
              "      <td>1</td>\n",
              "      <td>1.000000</td>\n",
              "      <td>149</td>\n",
              "      <td>148</td>\n",
              "      <td>0.582822</td>\n",
              "      <td>0.546977</td>\n",
              "      <td>0.631525</td>\n",
              "      <td>-0.859024</td>\n",
              "      <td>-1.192820</td>\n",
              "    </tr>\n",
              "    <tr>\n",
              "      <th>1</th>\n",
              "      <td>1</td>\n",
              "      <td>2</td>\n",
              "      <td>0.993243</td>\n",
              "      <td>149</td>\n",
              "      <td>147</td>\n",
              "      <td>0.582912</td>\n",
              "      <td>0.581504</td>\n",
              "      <td>0.724908</td>\n",
              "      <td>-0.628524</td>\n",
              "      <td>-1.197747</td>\n",
              "    </tr>\n",
              "    <tr>\n",
              "      <th>2</th>\n",
              "      <td>1</td>\n",
              "      <td>3</td>\n",
              "      <td>0.986486</td>\n",
              "      <td>149</td>\n",
              "      <td>146</td>\n",
              "      <td>0.582965</td>\n",
              "      <td>0.601732</td>\n",
              "      <td>0.767940</td>\n",
              "      <td>-0.404679</td>\n",
              "      <td>-1.202504</td>\n",
              "    </tr>\n",
              "    <tr>\n",
              "      <th>3</th>\n",
              "      <td>1</td>\n",
              "      <td>4</td>\n",
              "      <td>0.979730</td>\n",
              "      <td>149</td>\n",
              "      <td>145</td>\n",
              "      <td>0.583290</td>\n",
              "      <td>0.726264</td>\n",
              "      <td>0.847148</td>\n",
              "      <td>-1.859147</td>\n",
              "      <td>-1.171129</td>\n",
              "    </tr>\n",
              "    <tr>\n",
              "      <th>4</th>\n",
              "      <td>1</td>\n",
              "      <td>5</td>\n",
              "      <td>0.972973</td>\n",
              "      <td>149</td>\n",
              "      <td>144</td>\n",
              "      <td>0.582879</td>\n",
              "      <td>0.568990</td>\n",
              "      <td>0.711482</td>\n",
              "      <td>-0.310075</td>\n",
              "      <td>-1.204507</td>\n",
              "    </tr>\n",
              "  </tbody>\n",
              "</table>\n",
              "</div>\n",
              "      <button class=\"colab-df-convert\" onclick=\"convertToInteractive('df-6e622ceb-0dbb-4061-8d67-39bddc85cd7e')\"\n",
              "              title=\"Convert this dataframe to an interactive table.\"\n",
              "              style=\"display:none;\">\n",
              "        \n",
              "  <svg xmlns=\"http://www.w3.org/2000/svg\" height=\"24px\"viewBox=\"0 0 24 24\"\n",
              "       width=\"24px\">\n",
              "    <path d=\"M0 0h24v24H0V0z\" fill=\"none\"/>\n",
              "    <path d=\"M18.56 5.44l.94 2.06.94-2.06 2.06-.94-2.06-.94-.94-2.06-.94 2.06-2.06.94zm-11 1L8.5 8.5l.94-2.06 2.06-.94-2.06-.94L8.5 2.5l-.94 2.06-2.06.94zm10 10l.94 2.06.94-2.06 2.06-.94-2.06-.94-.94-2.06-.94 2.06-2.06.94z\"/><path d=\"M17.41 7.96l-1.37-1.37c-.4-.4-.92-.59-1.43-.59-.52 0-1.04.2-1.43.59L10.3 9.45l-7.72 7.72c-.78.78-.78 2.05 0 2.83L4 21.41c.39.39.9.59 1.41.59.51 0 1.02-.2 1.41-.59l7.78-7.78 2.81-2.81c.8-.78.8-2.07 0-2.86zM5.41 20L4 18.59l7.72-7.72 1.47 1.35L5.41 20z\"/>\n",
              "  </svg>\n",
              "      </button>\n",
              "      \n",
              "  <style>\n",
              "    .colab-df-container {\n",
              "      display:flex;\n",
              "      flex-wrap:wrap;\n",
              "      gap: 12px;\n",
              "    }\n",
              "\n",
              "    .colab-df-convert {\n",
              "      background-color: #E8F0FE;\n",
              "      border: none;\n",
              "      border-radius: 50%;\n",
              "      cursor: pointer;\n",
              "      display: none;\n",
              "      fill: #1967D2;\n",
              "      height: 32px;\n",
              "      padding: 0 0 0 0;\n",
              "      width: 32px;\n",
              "    }\n",
              "\n",
              "    .colab-df-convert:hover {\n",
              "      background-color: #E2EBFA;\n",
              "      box-shadow: 0px 1px 2px rgba(60, 64, 67, 0.3), 0px 1px 3px 1px rgba(60, 64, 67, 0.15);\n",
              "      fill: #174EA6;\n",
              "    }\n",
              "\n",
              "    [theme=dark] .colab-df-convert {\n",
              "      background-color: #3B4455;\n",
              "      fill: #D2E3FC;\n",
              "    }\n",
              "\n",
              "    [theme=dark] .colab-df-convert:hover {\n",
              "      background-color: #434B5C;\n",
              "      box-shadow: 0px 1px 3px 1px rgba(0, 0, 0, 0.15);\n",
              "      filter: drop-shadow(0px 1px 2px rgba(0, 0, 0, 0.3));\n",
              "      fill: #FFFFFF;\n",
              "    }\n",
              "  </style>\n",
              "\n",
              "      <script>\n",
              "        const buttonEl =\n",
              "          document.querySelector('#df-6e622ceb-0dbb-4061-8d67-39bddc85cd7e button.colab-df-convert');\n",
              "        buttonEl.style.display =\n",
              "          google.colab.kernel.accessAllowed ? 'block' : 'none';\n",
              "\n",
              "        async function convertToInteractive(key) {\n",
              "          const element = document.querySelector('#df-6e622ceb-0dbb-4061-8d67-39bddc85cd7e');\n",
              "          const dataTable =\n",
              "            await google.colab.kernel.invokeFunction('convertToInteractive',\n",
              "                                                     [key], {});\n",
              "          if (!dataTable) return;\n",
              "\n",
              "          const docLinkHtml = 'Like what you see? Visit the ' +\n",
              "            '<a target=\"_blank\" href=https://colab.research.google.com/notebooks/data_table.ipynb>data table notebook</a>'\n",
              "            + ' to learn more about interactive tables.';\n",
              "          element.innerHTML = '';\n",
              "          dataTable['output_type'] = 'display_data';\n",
              "          await google.colab.output.renderOutput(dataTable, element);\n",
              "          const docLink = document.createElement('div');\n",
              "          docLink.innerHTML = docLinkHtml;\n",
              "          element.appendChild(docLink);\n",
              "        }\n",
              "      </script>\n",
              "    </div>\n",
              "  </div>\n",
              "  "
            ]
          },
          "metadata": {},
          "execution_count": 22
        }
      ]
    },
    {
      "cell_type": "code",
      "source": [
        "HIval_df = pd.read_csv('/content/HIval-dfr')\n",
        "HIval_df.head()"
      ],
      "metadata": {
        "colab": {
          "base_uri": "https://localhost:8080/",
          "height": 206
        },
        "id": "E19aWe81EFvH",
        "outputId": "365573f2-d72a-4d90-dd33-b82f84bd7292"
      },
      "execution_count": null,
      "outputs": [
        {
          "output_type": "execute_result",
          "data": {
            "text/plain": [
              "   Unit_id  Time    ori_HI  Maxcycle  RUL  apprx_HI  apprx_HI_ANN    HI_PCA  \\\n",
              "0      201     1  1.000000       191  190  0.933014      0.898250 -3.938672   \n",
              "1      201     2  0.994737       191  189  0.763932      0.781614 -2.332807   \n",
              "2      201     3  0.989474       191  188  0.797754      0.796511 -2.512478   \n",
              "3      201     4  0.984211       191  187  0.739501      0.775219 -2.180602   \n",
              "4      201     5  0.978947       191  186  0.817956      0.820120 -3.277371   \n",
              "\n",
              "   new_HI_PCA  \n",
              "0   -1.124376  \n",
              "1   -1.160676  \n",
              "2   -1.156681  \n",
              "3   -1.164047  \n",
              "4   -1.139486  "
            ],
            "text/html": [
              "\n",
              "  <div id=\"df-51fc6379-3575-4ba7-b51e-790eb54ed394\">\n",
              "    <div class=\"colab-df-container\">\n",
              "      <div>\n",
              "<style scoped>\n",
              "    .dataframe tbody tr th:only-of-type {\n",
              "        vertical-align: middle;\n",
              "    }\n",
              "\n",
              "    .dataframe tbody tr th {\n",
              "        vertical-align: top;\n",
              "    }\n",
              "\n",
              "    .dataframe thead th {\n",
              "        text-align: right;\n",
              "    }\n",
              "</style>\n",
              "<table border=\"1\" class=\"dataframe\">\n",
              "  <thead>\n",
              "    <tr style=\"text-align: right;\">\n",
              "      <th></th>\n",
              "      <th>Unit_id</th>\n",
              "      <th>Time</th>\n",
              "      <th>ori_HI</th>\n",
              "      <th>Maxcycle</th>\n",
              "      <th>RUL</th>\n",
              "      <th>apprx_HI</th>\n",
              "      <th>apprx_HI_ANN</th>\n",
              "      <th>HI_PCA</th>\n",
              "      <th>new_HI_PCA</th>\n",
              "    </tr>\n",
              "  </thead>\n",
              "  <tbody>\n",
              "    <tr>\n",
              "      <th>0</th>\n",
              "      <td>201</td>\n",
              "      <td>1</td>\n",
              "      <td>1.000000</td>\n",
              "      <td>191</td>\n",
              "      <td>190</td>\n",
              "      <td>0.933014</td>\n",
              "      <td>0.898250</td>\n",
              "      <td>-3.938672</td>\n",
              "      <td>-1.124376</td>\n",
              "    </tr>\n",
              "    <tr>\n",
              "      <th>1</th>\n",
              "      <td>201</td>\n",
              "      <td>2</td>\n",
              "      <td>0.994737</td>\n",
              "      <td>191</td>\n",
              "      <td>189</td>\n",
              "      <td>0.763932</td>\n",
              "      <td>0.781614</td>\n",
              "      <td>-2.332807</td>\n",
              "      <td>-1.160676</td>\n",
              "    </tr>\n",
              "    <tr>\n",
              "      <th>2</th>\n",
              "      <td>201</td>\n",
              "      <td>3</td>\n",
              "      <td>0.989474</td>\n",
              "      <td>191</td>\n",
              "      <td>188</td>\n",
              "      <td>0.797754</td>\n",
              "      <td>0.796511</td>\n",
              "      <td>-2.512478</td>\n",
              "      <td>-1.156681</td>\n",
              "    </tr>\n",
              "    <tr>\n",
              "      <th>3</th>\n",
              "      <td>201</td>\n",
              "      <td>4</td>\n",
              "      <td>0.984211</td>\n",
              "      <td>191</td>\n",
              "      <td>187</td>\n",
              "      <td>0.739501</td>\n",
              "      <td>0.775219</td>\n",
              "      <td>-2.180602</td>\n",
              "      <td>-1.164047</td>\n",
              "    </tr>\n",
              "    <tr>\n",
              "      <th>4</th>\n",
              "      <td>201</td>\n",
              "      <td>5</td>\n",
              "      <td>0.978947</td>\n",
              "      <td>191</td>\n",
              "      <td>186</td>\n",
              "      <td>0.817956</td>\n",
              "      <td>0.820120</td>\n",
              "      <td>-3.277371</td>\n",
              "      <td>-1.139486</td>\n",
              "    </tr>\n",
              "  </tbody>\n",
              "</table>\n",
              "</div>\n",
              "      <button class=\"colab-df-convert\" onclick=\"convertToInteractive('df-51fc6379-3575-4ba7-b51e-790eb54ed394')\"\n",
              "              title=\"Convert this dataframe to an interactive table.\"\n",
              "              style=\"display:none;\">\n",
              "        \n",
              "  <svg xmlns=\"http://www.w3.org/2000/svg\" height=\"24px\"viewBox=\"0 0 24 24\"\n",
              "       width=\"24px\">\n",
              "    <path d=\"M0 0h24v24H0V0z\" fill=\"none\"/>\n",
              "    <path d=\"M18.56 5.44l.94 2.06.94-2.06 2.06-.94-2.06-.94-.94-2.06-.94 2.06-2.06.94zm-11 1L8.5 8.5l.94-2.06 2.06-.94-2.06-.94L8.5 2.5l-.94 2.06-2.06.94zm10 10l.94 2.06.94-2.06 2.06-.94-2.06-.94-.94-2.06-.94 2.06-2.06.94z\"/><path d=\"M17.41 7.96l-1.37-1.37c-.4-.4-.92-.59-1.43-.59-.52 0-1.04.2-1.43.59L10.3 9.45l-7.72 7.72c-.78.78-.78 2.05 0 2.83L4 21.41c.39.39.9.59 1.41.59.51 0 1.02-.2 1.41-.59l7.78-7.78 2.81-2.81c.8-.78.8-2.07 0-2.86zM5.41 20L4 18.59l7.72-7.72 1.47 1.35L5.41 20z\"/>\n",
              "  </svg>\n",
              "      </button>\n",
              "      \n",
              "  <style>\n",
              "    .colab-df-container {\n",
              "      display:flex;\n",
              "      flex-wrap:wrap;\n",
              "      gap: 12px;\n",
              "    }\n",
              "\n",
              "    .colab-df-convert {\n",
              "      background-color: #E8F0FE;\n",
              "      border: none;\n",
              "      border-radius: 50%;\n",
              "      cursor: pointer;\n",
              "      display: none;\n",
              "      fill: #1967D2;\n",
              "      height: 32px;\n",
              "      padding: 0 0 0 0;\n",
              "      width: 32px;\n",
              "    }\n",
              "\n",
              "    .colab-df-convert:hover {\n",
              "      background-color: #E2EBFA;\n",
              "      box-shadow: 0px 1px 2px rgba(60, 64, 67, 0.3), 0px 1px 3px 1px rgba(60, 64, 67, 0.15);\n",
              "      fill: #174EA6;\n",
              "    }\n",
              "\n",
              "    [theme=dark] .colab-df-convert {\n",
              "      background-color: #3B4455;\n",
              "      fill: #D2E3FC;\n",
              "    }\n",
              "\n",
              "    [theme=dark] .colab-df-convert:hover {\n",
              "      background-color: #434B5C;\n",
              "      box-shadow: 0px 1px 3px 1px rgba(0, 0, 0, 0.15);\n",
              "      filter: drop-shadow(0px 1px 2px rgba(0, 0, 0, 0.3));\n",
              "      fill: #FFFFFF;\n",
              "    }\n",
              "  </style>\n",
              "\n",
              "      <script>\n",
              "        const buttonEl =\n",
              "          document.querySelector('#df-51fc6379-3575-4ba7-b51e-790eb54ed394 button.colab-df-convert');\n",
              "        buttonEl.style.display =\n",
              "          google.colab.kernel.accessAllowed ? 'block' : 'none';\n",
              "\n",
              "        async function convertToInteractive(key) {\n",
              "          const element = document.querySelector('#df-51fc6379-3575-4ba7-b51e-790eb54ed394');\n",
              "          const dataTable =\n",
              "            await google.colab.kernel.invokeFunction('convertToInteractive',\n",
              "                                                     [key], {});\n",
              "          if (!dataTable) return;\n",
              "\n",
              "          const docLinkHtml = 'Like what you see? Visit the ' +\n",
              "            '<a target=\"_blank\" href=https://colab.research.google.com/notebooks/data_table.ipynb>data table notebook</a>'\n",
              "            + ' to learn more about interactive tables.';\n",
              "          element.innerHTML = '';\n",
              "          dataTable['output_type'] = 'display_data';\n",
              "          await google.colab.output.renderOutput(dataTable, element);\n",
              "          const docLink = document.createElement('div');\n",
              "          docLink.innerHTML = docLinkHtml;\n",
              "          element.appendChild(docLink);\n",
              "        }\n",
              "      </script>\n",
              "    </div>\n",
              "  </div>\n",
              "  "
            ]
          },
          "metadata": {},
          "execution_count": 23
        }
      ]
    },
    {
      "cell_type": "code",
      "source": [
        "plt.plot(y_pred.flatten()[:1000]);"
      ],
      "metadata": {
        "colab": {
          "base_uri": "https://localhost:8080/",
          "height": 430
        },
        "id": "O-glNrLbEIjh",
        "outputId": "3adc8007-f3a0-43cd-95a5-6f8b5d3de997"
      },
      "execution_count": null,
      "outputs": [
        {
          "output_type": "display_data",
          "data": {
            "text/plain": [
              "<Figure size 640x480 with 1 Axes>"
            ],
            "image/png": "[encoded data removed]"
          },
          "metadata": {}
        }
      ]
    },
    {
      "cell_type": "code",
      "source": [
        "y_train_pred = y_train_pred.flatten()\n",
        "y_pred = y_pred.flatten()"
      ],
      "metadata": {
        "id": "V88gJGGKFSBB"
      },
      "execution_count": null,
      "outputs": []
    },
    {
      "cell_type": "code",
      "source": [
        "ze = np.zeros(4,)\n",
        "y_train_pred = np.concatenate((ze,y_train_pred), axis=0)\n",
        "y_train_pred.shape"
      ],
      "metadata": {
        "colab": {
          "base_uri": "https://localhost:8080/"
        },
        "id": "PD8iiUjeGFO8",
        "outputId": "3958e863-61ea-4450-ef4f-056462965a9c"
      },
      "execution_count": null,
      "outputs": [
        {
          "output_type": "execute_result",
          "data": {
            "text/plain": [
              "(41456,)"
            ]
          },
          "metadata": {},
          "execution_count": 26
        }
      ]
    },
    {
      "cell_type": "code",
      "source": [
        "ze = np.zeros(4,)\n",
        "y_pred = np.concatenate((ze,y_pred), axis=0)\n",
        "y_pred.shape"
      ],
      "metadata": {
        "colab": {
          "base_uri": "https://localhost:8080/"
        },
        "id": "3tWT93MzGk_X",
        "outputId": "de27407f-bddb-4af9-8c7b-3382ce08aef7"
      },
      "execution_count": null,
      "outputs": [
        {
          "output_type": "execute_result",
          "data": {
            "text/plain": [
              "(12303,)"
            ]
          },
          "metadata": {},
          "execution_count": 27
        }
      ]
    },
    {
      "cell_type": "code",
      "source": [
        "HItrain_df['apprx_HI_CNN'] = y_train_pred\n",
        "HIval_df['apprx_HI_CNN'] = y_pred"
      ],
      "metadata": {
        "id": "nXd1KNZrExv2"
      },
      "execution_count": null,
      "outputs": []
    },
    {
      "cell_type": "code",
      "source": [
        "HItrain_df.to_csv('HItrain_df')\n",
        "HIval_df.to_csv('HIval_df')"
      ],
      "metadata": {
        "id": "Fy4Z6eHUHFj9"
      },
      "execution_count": null,
      "outputs": []
    },
    {
      "cell_type": "markdown",
      "source": [
        "Comment: With the CNN, time window of 5 we were able to reduce the error from 0.23 to 0.0190. I almost missed it,and the rscore from 0.72 to 0.77. But we still need more, we need a rscore of around 90% so more sophisticated models will be used next."
      ],
      "metadata": {
        "id": "cTT2wagG_w3_"
      }
    },
    {
      "cell_type": "code",
      "source": [],
      "metadata": {
        "id": "XdjaVdXIxaKz"
      },
      "execution_count": null,
      "outputs": []
    },
    {
      "cell_type": "markdown",
      "source": [
        "# Attention Network."
      ],
      "metadata": {
        "id": "U7XgG9tEpDTn"
      }
    }
  ]
}